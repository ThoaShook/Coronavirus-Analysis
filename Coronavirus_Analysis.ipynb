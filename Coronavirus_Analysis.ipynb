{
 "cells": [
  {
   "cell_type": "markdown",
   "metadata": {},
   "source": [
    "##### Objective:\n",
    "* COVID-19 has profound disruptive effects on the global ecconmy.It reduces number of workers in the workforce,and therefore reduces the global supply of goods. Travel was banned. Schools have been closed. Stock market has been cracked. People are panic. \n",
    "\n",
    "* This study uses datasets from Kaggal, working in hope it can shed light into answer some questions. How it starts; when it happened, who are affected. Which country got worse, which age groups are vulnerable to the disease. Who are suceptible to the disease: men or women?...etc, its trending on China, and other countries such as Italy, South Korea, Spain, and the USA."
   ]
  },
  {
   "cell_type": "markdown",
   "metadata": {},
   "source": [
    "##### Import library packages and upload the files"
   ]
  },
  {
   "cell_type": "code",
   "execution_count": 1,
   "metadata": {},
   "outputs": [],
   "source": [
    "import pandas as pd\n",
    "import numpy as np\n",
    "import matplotlib.pyplot as plt\n",
    "%matplotlib inline\n",
    "import seaborn as sns\n",
    "sns.set(style='darkgrid')"
   ]
  },
  {
   "cell_type": "markdown",
   "metadata": {},
   "source": [
    "##### Upload files + verify columns + clean data"
   ]
  },
  {
   "cell_type": "code",
   "execution_count": 2,
   "metadata": {
    "scrolled": true
   },
   "outputs": [
    {
     "data": {
      "text/html": [
       "<div>\n",
       "<style scoped>\n",
       "    .dataframe tbody tr th:only-of-type {\n",
       "        vertical-align: middle;\n",
       "    }\n",
       "\n",
       "    .dataframe tbody tr th {\n",
       "        vertical-align: top;\n",
       "    }\n",
       "\n",
       "    .dataframe thead th {\n",
       "        text-align: right;\n",
       "    }\n",
       "</style>\n",
       "<table border=\"1\" class=\"dataframe\">\n",
       "  <thead>\n",
       "    <tr style=\"text-align: right;\">\n",
       "      <th></th>\n",
       "      <th>id</th>\n",
       "      <th>case_in_country</th>\n",
       "      <th>reporting date</th>\n",
       "      <th>Unnamed: 3</th>\n",
       "      <th>summary</th>\n",
       "      <th>location</th>\n",
       "      <th>country</th>\n",
       "      <th>gender</th>\n",
       "      <th>age</th>\n",
       "      <th>symptom_onset</th>\n",
       "      <th>...</th>\n",
       "      <th>recovered</th>\n",
       "      <th>symptom</th>\n",
       "      <th>source</th>\n",
       "      <th>link</th>\n",
       "      <th>Unnamed: 21</th>\n",
       "      <th>Unnamed: 22</th>\n",
       "      <th>Unnamed: 23</th>\n",
       "      <th>Unnamed: 24</th>\n",
       "      <th>Unnamed: 25</th>\n",
       "      <th>Unnamed: 26</th>\n",
       "    </tr>\n",
       "  </thead>\n",
       "  <tbody>\n",
       "    <tr>\n",
       "      <td>0</td>\n",
       "      <td>1</td>\n",
       "      <td>NaN</td>\n",
       "      <td>1/20/2020</td>\n",
       "      <td>NaN</td>\n",
       "      <td>First confirmed imported COVID-19 pneumonia pa...</td>\n",
       "      <td>Shenzhen, Guangdong</td>\n",
       "      <td>China</td>\n",
       "      <td>male</td>\n",
       "      <td>66.0</td>\n",
       "      <td>01/03/20</td>\n",
       "      <td>...</td>\n",
       "      <td>0</td>\n",
       "      <td>NaN</td>\n",
       "      <td>Shenzhen Municipal Health Commission</td>\n",
       "      <td>http://wjw.sz.gov.cn/wzx/202001/t20200120_1898...</td>\n",
       "      <td>NaN</td>\n",
       "      <td>NaN</td>\n",
       "      <td>NaN</td>\n",
       "      <td>NaN</td>\n",
       "      <td>NaN</td>\n",
       "      <td>NaN</td>\n",
       "    </tr>\n",
       "    <tr>\n",
       "      <td>1</td>\n",
       "      <td>2</td>\n",
       "      <td>NaN</td>\n",
       "      <td>1/20/2020</td>\n",
       "      <td>NaN</td>\n",
       "      <td>First confirmed imported COVID-19 pneumonia pa...</td>\n",
       "      <td>Shanghai</td>\n",
       "      <td>China</td>\n",
       "      <td>female</td>\n",
       "      <td>56.0</td>\n",
       "      <td>1/15/2020</td>\n",
       "      <td>...</td>\n",
       "      <td>0</td>\n",
       "      <td>NaN</td>\n",
       "      <td>Official Weibo of Shanghai Municipal Health Co...</td>\n",
       "      <td>https://www.weibo.com/2372649470/IqogQhgfa?fro...</td>\n",
       "      <td>NaN</td>\n",
       "      <td>NaN</td>\n",
       "      <td>NaN</td>\n",
       "      <td>NaN</td>\n",
       "      <td>NaN</td>\n",
       "      <td>NaN</td>\n",
       "    </tr>\n",
       "  </tbody>\n",
       "</table>\n",
       "<p>2 rows × 27 columns</p>\n",
       "</div>"
      ],
      "text/plain": [
       "   id  case_in_country reporting date  Unnamed: 3  \\\n",
       "0   1              NaN      1/20/2020         NaN   \n",
       "1   2              NaN      1/20/2020         NaN   \n",
       "\n",
       "                                             summary             location  \\\n",
       "0  First confirmed imported COVID-19 pneumonia pa...  Shenzhen, Guangdong   \n",
       "1  First confirmed imported COVID-19 pneumonia pa...             Shanghai   \n",
       "\n",
       "  country  gender   age symptom_onset  ...  recovered symptom  \\\n",
       "0   China    male  66.0      01/03/20  ...          0     NaN   \n",
       "1   China  female  56.0     1/15/2020  ...          0     NaN   \n",
       "\n",
       "                                              source  \\\n",
       "0               Shenzhen Municipal Health Commission   \n",
       "1  Official Weibo of Shanghai Municipal Health Co...   \n",
       "\n",
       "                                                link  Unnamed: 21  \\\n",
       "0  http://wjw.sz.gov.cn/wzx/202001/t20200120_1898...          NaN   \n",
       "1  https://www.weibo.com/2372649470/IqogQhgfa?fro...          NaN   \n",
       "\n",
       "   Unnamed: 22 Unnamed: 23 Unnamed: 24 Unnamed: 25 Unnamed: 26  \n",
       "0          NaN         NaN         NaN         NaN         NaN  \n",
       "1          NaN         NaN         NaN         NaN         NaN  \n",
       "\n",
       "[2 rows x 27 columns]"
      ]
     },
     "execution_count": 2,
     "metadata": {},
     "output_type": "execute_result"
    }
   ],
   "source": [
    "df = pd.read_csv('COVID19_line_list_data.csv')\n",
    "df.head(2)"
   ]
  },
  {
   "cell_type": "code",
   "execution_count": 3,
   "metadata": {},
   "outputs": [],
   "source": [
    "# Drop meaningless/unneeded columns\n",
    "df.drop(['Unnamed: 3','Unnamed: 21','Unnamed: 22','Unnamed: 23', \n",
    "                 'Unnamed: 24','Unnamed: 25','Unnamed: 26'], axis=1,inplace = True)"
   ]
  },
  {
   "cell_type": "code",
   "execution_count": 4,
   "metadata": {
    "scrolled": true
   },
   "outputs": [
    {
     "data": {
      "text/html": [
       "<div>\n",
       "<style scoped>\n",
       "    .dataframe tbody tr th:only-of-type {\n",
       "        vertical-align: middle;\n",
       "    }\n",
       "\n",
       "    .dataframe tbody tr th {\n",
       "        vertical-align: top;\n",
       "    }\n",
       "\n",
       "    .dataframe thead th {\n",
       "        text-align: right;\n",
       "    }\n",
       "</style>\n",
       "<table border=\"1\" class=\"dataframe\">\n",
       "  <thead>\n",
       "    <tr style=\"text-align: right;\">\n",
       "      <th></th>\n",
       "      <th>id</th>\n",
       "      <th>case_in_country</th>\n",
       "      <th>reporting date</th>\n",
       "      <th>summary</th>\n",
       "      <th>location</th>\n",
       "      <th>country</th>\n",
       "      <th>gender</th>\n",
       "      <th>age</th>\n",
       "      <th>symptom_onset</th>\n",
       "      <th>If_onset_approximated</th>\n",
       "      <th>hosp_visit_date</th>\n",
       "      <th>exposure_start</th>\n",
       "      <th>exposure_end</th>\n",
       "      <th>visiting Wuhan</th>\n",
       "      <th>from Wuhan</th>\n",
       "      <th>death</th>\n",
       "      <th>recovered</th>\n",
       "      <th>symptom</th>\n",
       "      <th>source</th>\n",
       "      <th>link</th>\n",
       "    </tr>\n",
       "  </thead>\n",
       "  <tbody>\n",
       "    <tr>\n",
       "      <td>0</td>\n",
       "      <td>1</td>\n",
       "      <td>NaN</td>\n",
       "      <td>1/20/2020</td>\n",
       "      <td>First confirmed imported COVID-19 pneumonia pa...</td>\n",
       "      <td>Shenzhen, Guangdong</td>\n",
       "      <td>China</td>\n",
       "      <td>male</td>\n",
       "      <td>66.0</td>\n",
       "      <td>01/03/20</td>\n",
       "      <td>0.0</td>\n",
       "      <td>01/11/20</td>\n",
       "      <td>12/29/2019</td>\n",
       "      <td>01/04/20</td>\n",
       "      <td>1</td>\n",
       "      <td>0.0</td>\n",
       "      <td>0</td>\n",
       "      <td>0</td>\n",
       "      <td>NaN</td>\n",
       "      <td>Shenzhen Municipal Health Commission</td>\n",
       "      <td>http://wjw.sz.gov.cn/wzx/202001/t20200120_1898...</td>\n",
       "    </tr>\n",
       "    <tr>\n",
       "      <td>1</td>\n",
       "      <td>2</td>\n",
       "      <td>NaN</td>\n",
       "      <td>1/20/2020</td>\n",
       "      <td>First confirmed imported COVID-19 pneumonia pa...</td>\n",
       "      <td>Shanghai</td>\n",
       "      <td>China</td>\n",
       "      <td>female</td>\n",
       "      <td>56.0</td>\n",
       "      <td>1/15/2020</td>\n",
       "      <td>0.0</td>\n",
       "      <td>1/15/2020</td>\n",
       "      <td>NaN</td>\n",
       "      <td>01/12/20</td>\n",
       "      <td>0</td>\n",
       "      <td>1.0</td>\n",
       "      <td>0</td>\n",
       "      <td>0</td>\n",
       "      <td>NaN</td>\n",
       "      <td>Official Weibo of Shanghai Municipal Health Co...</td>\n",
       "      <td>https://www.weibo.com/2372649470/IqogQhgfa?fro...</td>\n",
       "    </tr>\n",
       "  </tbody>\n",
       "</table>\n",
       "</div>"
      ],
      "text/plain": [
       "   id  case_in_country reporting date  \\\n",
       "0   1              NaN      1/20/2020   \n",
       "1   2              NaN      1/20/2020   \n",
       "\n",
       "                                             summary             location  \\\n",
       "0  First confirmed imported COVID-19 pneumonia pa...  Shenzhen, Guangdong   \n",
       "1  First confirmed imported COVID-19 pneumonia pa...             Shanghai   \n",
       "\n",
       "  country  gender   age symptom_onset  If_onset_approximated hosp_visit_date  \\\n",
       "0   China    male  66.0      01/03/20                    0.0        01/11/20   \n",
       "1   China  female  56.0     1/15/2020                    0.0       1/15/2020   \n",
       "\n",
       "  exposure_start exposure_end  visiting Wuhan  from Wuhan death recovered  \\\n",
       "0     12/29/2019     01/04/20               1         0.0     0         0   \n",
       "1            NaN     01/12/20               0         1.0     0         0   \n",
       "\n",
       "  symptom                                             source  \\\n",
       "0     NaN               Shenzhen Municipal Health Commission   \n",
       "1     NaN  Official Weibo of Shanghai Municipal Health Co...   \n",
       "\n",
       "                                                link  \n",
       "0  http://wjw.sz.gov.cn/wzx/202001/t20200120_1898...  \n",
       "1  https://www.weibo.com/2372649470/IqogQhgfa?fro...  "
      ]
     },
     "execution_count": 4,
     "metadata": {},
     "output_type": "execute_result"
    }
   ],
   "source": [
    "df.head(2)"
   ]
  },
  {
   "cell_type": "code",
   "execution_count": 5,
   "metadata": {},
   "outputs": [
    {
     "data": {
      "text/html": [
       "<div>\n",
       "<style scoped>\n",
       "    .dataframe tbody tr th:only-of-type {\n",
       "        vertical-align: middle;\n",
       "    }\n",
       "\n",
       "    .dataframe tbody tr th {\n",
       "        vertical-align: top;\n",
       "    }\n",
       "\n",
       "    .dataframe thead th {\n",
       "        text-align: right;\n",
       "    }\n",
       "</style>\n",
       "<table border=\"1\" class=\"dataframe\">\n",
       "  <thead>\n",
       "    <tr style=\"text-align: right;\">\n",
       "      <th></th>\n",
       "      <th>id</th>\n",
       "      <th>case_in_country</th>\n",
       "      <th>reporting date</th>\n",
       "      <th>summary</th>\n",
       "      <th>location</th>\n",
       "      <th>country</th>\n",
       "      <th>gender</th>\n",
       "      <th>age</th>\n",
       "      <th>symptom_onset</th>\n",
       "      <th>If_onset_approximated</th>\n",
       "      <th>hosp_visit_date</th>\n",
       "      <th>exposure_start</th>\n",
       "      <th>exposure_end</th>\n",
       "      <th>visiting Wuhan</th>\n",
       "      <th>from Wuhan</th>\n",
       "      <th>death</th>\n",
       "      <th>recovered</th>\n",
       "      <th>symptom</th>\n",
       "      <th>source</th>\n",
       "      <th>link</th>\n",
       "    </tr>\n",
       "  </thead>\n",
       "  <tbody>\n",
       "    <tr>\n",
       "      <td>241</td>\n",
       "      <td>242</td>\n",
       "      <td>6.0</td>\n",
       "      <td>1/28/2020</td>\n",
       "      <td>new confirmed COVID-19 patient in Japan: 1/28-...</td>\n",
       "      <td>Nara Prefecture</td>\n",
       "      <td>Japan</td>\n",
       "      <td>male</td>\n",
       "      <td>65.0</td>\n",
       "      <td>1/14/2020</td>\n",
       "      <td>0.0</td>\n",
       "      <td>1/17/2020</td>\n",
       "      <td>01/08/20</td>\n",
       "      <td>1/16/2020</td>\n",
       "      <td>0</td>\n",
       "      <td>0.0</td>\n",
       "      <td>0</td>\n",
       "      <td>0</td>\n",
       "      <td>cough, chills, joint pain</td>\n",
       "      <td>Kyodo News</td>\n",
       "      <td>https://english.kyodonews.net/news/2020/01/e8f...</td>\n",
       "    </tr>\n",
       "    <tr>\n",
       "      <td>243</td>\n",
       "      <td>244</td>\n",
       "      <td>8.0</td>\n",
       "      <td>1/29/2020</td>\n",
       "      <td>new confirmed COVID-19 patient in Japan: femal...</td>\n",
       "      <td>Osaka Prefecture</td>\n",
       "      <td>Japan</td>\n",
       "      <td>female</td>\n",
       "      <td>45.0</td>\n",
       "      <td>1/20/2020</td>\n",
       "      <td>0.0</td>\n",
       "      <td>1/20/2020</td>\n",
       "      <td>01/12/20</td>\n",
       "      <td>1/17/2020</td>\n",
       "      <td>0</td>\n",
       "      <td>0.0</td>\n",
       "      <td>0</td>\n",
       "      <td>0</td>\n",
       "      <td>fever, cough</td>\n",
       "      <td>NHK World-Japan</td>\n",
       "      <td>https://www3.nhk.or.jp/nhkworld/en/news/202001...</td>\n",
       "    </tr>\n",
       "  </tbody>\n",
       "</table>\n",
       "</div>"
      ],
      "text/plain": [
       "      id  case_in_country reporting date  \\\n",
       "241  242              6.0      1/28/2020   \n",
       "243  244              8.0      1/29/2020   \n",
       "\n",
       "                                               summary          location  \\\n",
       "241  new confirmed COVID-19 patient in Japan: 1/28-...   Nara Prefecture   \n",
       "243  new confirmed COVID-19 patient in Japan: femal...  Osaka Prefecture   \n",
       "\n",
       "    country  gender   age symptom_onset  If_onset_approximated  \\\n",
       "241   Japan    male  65.0     1/14/2020                    0.0   \n",
       "243   Japan  female  45.0     1/20/2020                    0.0   \n",
       "\n",
       "    hosp_visit_date exposure_start exposure_end  visiting Wuhan  from Wuhan  \\\n",
       "241       1/17/2020       01/08/20    1/16/2020               0         0.0   \n",
       "243       1/20/2020       01/12/20    1/17/2020               0         0.0   \n",
       "\n",
       "    death recovered                    symptom           source  \\\n",
       "241     0         0  cough, chills, joint pain       Kyodo News   \n",
       "243     0         0               fever, cough  NHK World-Japan   \n",
       "\n",
       "                                                  link  \n",
       "241  https://english.kyodonews.net/news/2020/01/e8f...  \n",
       "243  https://www3.nhk.or.jp/nhkworld/en/news/202001...  "
      ]
     },
     "execution_count": 5,
     "metadata": {},
     "output_type": "execute_result"
    }
   ],
   "source": [
    "df.dropna().head(2)"
   ]
  },
  {
   "cell_type": "code",
   "execution_count": 6,
   "metadata": {
    "scrolled": true
   },
   "outputs": [
    {
     "data": {
      "text/plain": [
       "Text(0.5, 1.0, 'Age Distribution in Covid-19 Patients')"
      ]
     },
     "execution_count": 6,
     "metadata": {},
     "output_type": "execute_result"
    },
    {
     "data": {
      "image/png": "[encoded data removed]",
      "text/plain": [
       "<Figure size 432x288 with 1 Axes>"
      ]
     },
     "metadata": {
      "needs_background": "light"
     },
     "output_type": "display_data"
    }
   ],
   "source": [
    "# Plot age distribution in patients with coronavirus\n",
    "df['age'].hist(bins=100)\n",
    "plt.xlabel('Age')\n",
    "plt.ylabel('Counts')\n",
    "plt.title('Age Distribution in Covid-19 Patients')"
   ]
  },
  {
   "cell_type": "code",
   "execution_count": 7,
   "metadata": {
    "scrolled": true
   },
   "outputs": [
    {
     "name": "stdout",
     "output_type": "stream",
     "text": [
      " The average age of patients with Coronavirus is 49 years old\n",
      " The median age of patients with Coronavirus is 51 years old\n",
      " The youngest  patients with Coronavirus is 0 years old\n",
      " The oldest patients with Coronavirus is 96 years old\n"
     ]
    }
   ],
   "source": [
    "print(f\" The average age of patients with Coronavirus is {round(df['age'].mean())} years old\")\n",
    "print(f\" The median age of patients with Coronavirus is {round(df['age'].median())} years old\")\n",
    "print(f\" The youngest  patients with Coronavirus is {round(df['age'].min())} years old\")\n",
    "print(f\" The oldest patients with Coronavirus is {round(df['age'].max())} years old\")"
   ]
  },
  {
   "cell_type": "markdown",
   "metadata": {},
   "source": [
    "##### Key Takeaways:\n",
    "* The average age of patients with Coronavirus is 49 years old.\n",
    "\n",
    "* The youngest patient(s) with Coronavirus are infant(s) - o years old\n",
    "\n",
    "* The oldest patient(s) are 96 years old"
   ]
  },
  {
   "cell_type": "code",
   "execution_count": 8,
   "metadata": {},
   "outputs": [
    {
     "data": {
      "text/plain": [
       "Text(0.5, 1.0, 'Gender vs Covid-19')"
      ]
     },
     "execution_count": 8,
     "metadata": {},
     "output_type": "execute_result"
    },
    {
     "data": {
      "image/png": "[encoded data removed]",
      "text/plain": [
       "<Figure size 432x288 with 1 Axes>"
      ]
     },
     "metadata": {
      "needs_background": "light"
     },
     "output_type": "display_data"
    }
   ],
   "source": [
    "# plot gender distribution between gender\n",
    "df['gender'].value_counts().plot(kind='bar')\n",
    "plt.xlabel('Gender')\n",
    "plt.ylabel('Counts')\n",
    "plt.title('Gender vs Covid-19')"
   ]
  },
  {
   "cell_type": "markdown",
   "metadata": {},
   "source": [
    "##### Note: Men are more succeptible to Covid-19 than women"
   ]
  },
  {
   "cell_type": "code",
   "execution_count": 9,
   "metadata": {},
   "outputs": [
    {
     "data": {
      "image/png": "[encoded data removed]",
      "text/plain": [
       "<Figure size 720x432 with 1 Axes>"
      ]
     },
     "metadata": {
      "needs_background": "light"
     },
     "output_type": "display_data"
    }
   ],
   "source": [
    "from os import path\n",
    "import matplotlib.pyplot as plt\n",
    "from wordcloud import WordCloud\n",
    "\n",
    "text = df['symptom'].value_counts() \n",
    "plt.figure(figsize=(10,6))\n",
    "wordcloud=WordCloud(background_color='black',mode=\"RGB\", width=600 , height=300).generate(str(text))\n",
    "plt.title(\"Covid-19 Symptom\")\n",
    "plt.imshow(wordcloud)\n",
    "plt.axis(\"off\")\n",
    "plt.show()"
   ]
  },
  {
   "cell_type": "markdown",
   "metadata": {},
   "source": [
    "##### Coronavirus Symptom:\n",
    "    * Cough\n",
    "    * Fever\n",
    "    * Sore throat\n",
    "    * Vomiting\n",
    "    * Diarrhea\n",
    "    * Chills\n",
    "    * Fatigue\n",
    "    * Sputum\n",
    "    * Myalgias Muscle\n",
    "    * Pain"
   ]
  },
  {
   "cell_type": "code",
   "execution_count": 11,
   "metadata": {
    "scrolled": false
   },
   "outputs": [
    {
     "data": {
      "text/html": [
       "<div>\n",
       "<style scoped>\n",
       "    .dataframe tbody tr th:only-of-type {\n",
       "        vertical-align: middle;\n",
       "    }\n",
       "\n",
       "    .dataframe tbody tr th {\n",
       "        vertical-align: top;\n",
       "    }\n",
       "\n",
       "    .dataframe thead th {\n",
       "        text-align: right;\n",
       "    }\n",
       "</style>\n",
       "<table border=\"1\" class=\"dataframe\">\n",
       "  <thead>\n",
       "    <tr style=\"text-align: right;\">\n",
       "      <th></th>\n",
       "      <th>SNo</th>\n",
       "      <th>ObservationDate</th>\n",
       "      <th>Province/State</th>\n",
       "      <th>Country/Region</th>\n",
       "      <th>Last Update</th>\n",
       "      <th>Confirmed</th>\n",
       "      <th>Deaths</th>\n",
       "      <th>Recovered</th>\n",
       "    </tr>\n",
       "  </thead>\n",
       "  <tbody>\n",
       "    <tr>\n",
       "      <td>0</td>\n",
       "      <td>1</td>\n",
       "      <td>01/22/2020</td>\n",
       "      <td>Anhui</td>\n",
       "      <td>Mainland China</td>\n",
       "      <td>1/22/2020 17:00</td>\n",
       "      <td>1.0</td>\n",
       "      <td>0.0</td>\n",
       "      <td>0.0</td>\n",
       "    </tr>\n",
       "    <tr>\n",
       "      <td>1</td>\n",
       "      <td>2</td>\n",
       "      <td>01/22/2020</td>\n",
       "      <td>Beijing</td>\n",
       "      <td>Mainland China</td>\n",
       "      <td>1/22/2020 17:00</td>\n",
       "      <td>14.0</td>\n",
       "      <td>0.0</td>\n",
       "      <td>0.0</td>\n",
       "    </tr>\n",
       "  </tbody>\n",
       "</table>\n",
       "</div>"
      ],
      "text/plain": [
       "   SNo ObservationDate Province/State  Country/Region      Last Update  \\\n",
       "0    1      01/22/2020          Anhui  Mainland China  1/22/2020 17:00   \n",
       "1    2      01/22/2020        Beijing  Mainland China  1/22/2020 17:00   \n",
       "\n",
       "   Confirmed  Deaths  Recovered  \n",
       "0        1.0     0.0        0.0  \n",
       "1       14.0     0.0        0.0  "
      ]
     },
     "execution_count": 11,
     "metadata": {},
     "output_type": "execute_result"
    }
   ],
   "source": [
    "df2 = pd.read_csv('covid_19_data.csv')\n",
    "df2.head(2)"
   ]
  },
  {
   "cell_type": "code",
   "execution_count": 12,
   "metadata": {
    "scrolled": false
   },
   "outputs": [
    {
     "data": {
      "text/html": [
       "<div>\n",
       "<style scoped>\n",
       "    .dataframe tbody tr th:only-of-type {\n",
       "        vertical-align: middle;\n",
       "    }\n",
       "\n",
       "    .dataframe tbody tr th {\n",
       "        vertical-align: top;\n",
       "    }\n",
       "\n",
       "    .dataframe thead th {\n",
       "        text-align: right;\n",
       "    }\n",
       "</style>\n",
       "<table border=\"1\" class=\"dataframe\">\n",
       "  <thead>\n",
       "    <tr style=\"text-align: right;\">\n",
       "      <th></th>\n",
       "      <th>SNo</th>\n",
       "      <th>ObservationDate</th>\n",
       "      <th>Province/State</th>\n",
       "      <th>Country/Region</th>\n",
       "      <th>Last Update</th>\n",
       "      <th>Confirmed</th>\n",
       "      <th>Deaths</th>\n",
       "      <th>Recovered</th>\n",
       "      <th>Active</th>\n",
       "    </tr>\n",
       "  </thead>\n",
       "  <tbody>\n",
       "    <tr>\n",
       "      <td>0</td>\n",
       "      <td>1</td>\n",
       "      <td>01/22/2020</td>\n",
       "      <td>Anhui</td>\n",
       "      <td>Mainland China</td>\n",
       "      <td>1/22/2020 17:00</td>\n",
       "      <td>1.0</td>\n",
       "      <td>0.0</td>\n",
       "      <td>0.0</td>\n",
       "      <td>1.0</td>\n",
       "    </tr>\n",
       "    <tr>\n",
       "      <td>1</td>\n",
       "      <td>2</td>\n",
       "      <td>01/22/2020</td>\n",
       "      <td>Beijing</td>\n",
       "      <td>Mainland China</td>\n",
       "      <td>1/22/2020 17:00</td>\n",
       "      <td>14.0</td>\n",
       "      <td>0.0</td>\n",
       "      <td>0.0</td>\n",
       "      <td>14.0</td>\n",
       "    </tr>\n",
       "  </tbody>\n",
       "</table>\n",
       "</div>"
      ],
      "text/plain": [
       "   SNo ObservationDate Province/State  Country/Region      Last Update  \\\n",
       "0    1      01/22/2020          Anhui  Mainland China  1/22/2020 17:00   \n",
       "1    2      01/22/2020        Beijing  Mainland China  1/22/2020 17:00   \n",
       "\n",
       "   Confirmed  Deaths  Recovered  Active  \n",
       "0        1.0     0.0        0.0     1.0  \n",
       "1       14.0     0.0        0.0    14.0  "
      ]
     },
     "execution_count": 12,
     "metadata": {},
     "output_type": "execute_result"
    }
   ],
   "source": [
    "### Create 'Active' column by subtract 'Deaths' and 'Recovered' from 'Confirmed'\n",
    "df2['Active'] = df2['Confirmed'] - df2['Deaths'] - df2['Recovered']\n",
    "df2.head(2)"
   ]
  },
  {
   "cell_type": "code",
   "execution_count": 13,
   "metadata": {},
   "outputs": [
    {
     "data": {
      "text/html": [
       "        <script type=\"text/javascript\">\n",
       "        window.PlotlyConfig = {MathJaxConfig: 'local'};\n",
       "        if (window.MathJax) {MathJax.Hub.Config({SVG: {font: \"STIX-Web\"}});}\n",
       "        if (typeof require !== 'undefined') {\n",
       "        require.undef(\"plotly\");\n",
       "        requirejs.config({\n",
       "            paths: {\n",
       "                'plotly': ['https://cdn.plot.ly/plotly-latest.min']\n",
       "            }\n",
       "        });\n",
       "        require(['plotly'], function(Plotly) {\n",
       "            window._Plotly = Plotly;\n",
       "        });\n",
       "        }\n",
       "        </script>\n",
       "        "
      ]
     },
     "metadata": {},
     "output_type": "display_data"
    },
    {
     "data": {
      "application/vnd.plotly.v1+json": {
       "config": {
        "linkText": "Export to plot.ly",
        "plotlyServerURL": "https://plot.ly",
        "showLink": false
       },
       "data": [
        {
         "colorbar": {
          "autotick": false,
          "tickprefix": "",
          "title": "Number of Cases"
         },
         "colorscale": [
          [
           0,
           "rgb(255, 120, 120)"
          ],
          [
           1,
           "rgb(255, 180, 240)"
          ]
         ],
         "locationmode": "country names",
         "locations": [
          "Mainland China",
          "Italy",
          "US",
          "Spain",
          "Germany",
          "Iran",
          "France",
          "South Korea",
          "UK",
          "Switzerland",
          "Netherlands",
          "Belgium",
          "Austria",
          "Turkey",
          "Canada",
          "Norway",
          "Portugal",
          "Sweden",
          "Brazil",
          "Australia",
          "Israel",
          "Denmark",
          "Japan",
          "Malaysia",
          "Czech Republic",
          "Ireland",
          "Others",
          "Chile",
          "Luxembourg",
          "Ecuador",
          "Poland",
          "Pakistan",
          "Romania",
          "Thailand",
          "Russia",
          "Finland",
          "Greece",
          "Singapore",
          "Saudi Arabia",
          "Philippines",
          "Indonesia",
          "Iceland",
          "India",
          "South Africa",
          "Qatar",
          "Hong Kong",
          "Slovenia",
          "Peru",
          "Bahrain",
          "Panama",
          "Mexico",
          "Estonia",
          "Egypt",
          "Argentina",
          "Dominican Republic",
          "Croatia",
          "Colombia",
          "Iraq",
          "Serbia",
          "United Arab Emirates",
          "Diamond Princess",
          "Algeria",
          "Lebanon",
          "Taiwan",
          "Armenia",
          "Kuwait",
          "Morocco",
          "New Zealand",
          "Lithuania",
          "Hungary",
          "Bulgaria",
          "Ukraine",
          "Slovakia",
          "Latvia",
          "San Marino",
          "Costa Rica",
          "Bosnia and Herzegovina",
          "Andorra",
          "Vietnam",
          "Uruguay",
          "Tunisia",
          "North Macedonia",
          "Moldova",
          "Jordan",
          "Albania",
          "Cyprus",
          "Kazakhstan",
          "Azerbaijan",
          "Burkina Faso",
          "Oman",
          "Malta",
          "Brunei",
          "Sri Lanka",
          "Senegal",
          "Belarus",
          "Afghanistan",
          "Venezuela",
          "Georgia",
          "Cambodia",
          "Ghana",
          "Cameroon",
          "Uzbekistan",
          "Ivory Coast",
          "Cuba",
          "Nigeria",
          "Mauritius",
          "Honduras",
          "Macau",
          "Trinidad and Tobago",
          "Montenegro",
          "Bolivia",
          "Liechtenstein",
          "Congo (Kinshasa)",
          "West Bank and Gaza",
          "Kyrgyzstan",
          "Kosovo",
          "Rwanda",
          "Paraguay",
          "Bangladesh",
          "Monaco",
          "Kenya",
          "Jamaica",
          "Guatemala",
          "Madagascar",
          "Togo",
          "Maldives",
          "Barbados",
          "Uganda",
          "Ethiopia",
          "Zambia",
          "Niger",
          "El Salvador",
          "Guadeloupe",
          "Tanzania",
          "Martinique",
          "Mongolia",
          "Guyana",
          "Djibouti",
          "Equatorial Guinea",
          "Mali",
          "Reunion",
          "Guinea",
          "Seychelles",
          "French Guiana",
          "Congo (Brazzaville)",
          "Haiti",
          "Namibia",
          "Bahamas",
          "Gabon",
          "Suriname",
          "Nepal",
          "Dominica",
          "Palestine",
          "Eswatini",
          "Benin",
          "Eritrea",
          "Saint Lucia",
          "Burma",
          "Antigua and Barbuda",
          "Mozambique",
          "Syria",
          "Grenada",
          "Zimbabwe",
          "Laos",
          "Holy See",
          "Sudan",
          "Angola",
          "Cabo Verde",
          "Mauritania",
          "Fiji",
          "Bhutan",
          "Liberia",
          "Central African Republic",
          "Libya",
          "Chad",
          "Nicaragua",
          "Guinea-Bissau",
          "Somalia",
          "Gambia",
          "Saint Kitts and Nevis",
          "occupied Palestinian territory",
          "Belize",
          "Mayotte",
          "Republic of Ireland",
          "Aruba",
          "Saint Vincent and the Grenadines",
          "Saint Barthelemy",
          "MS Zaandam",
          "Papua New Guinea",
          "Botswana",
          "Timor-Leste",
          "Faroe Islands",
          "Bahamas, The",
          "Gibraltar",
          "Guam",
          "Jersey",
          "Gambia, The",
          "Vatican City",
          "Burundi",
          "Puerto Rico",
          "Sierra Leone",
          "The Bahamas",
          "Guernsey",
          "Greenland",
          "Cayman Islands",
          "Curacao",
          "('St. Martin',)",
          "St. Martin",
          "The Gambia",
          "Cape Verde",
          "North Ireland",
          "Republic of the Congo",
          "East Timor",
          "Channel Islands",
          " Azerbaijan"
         ],
         "marker": {
          "line": {
           "width": 0.7
          }
         },
         "reversescale": true,
         "text": [
          "Mainland China",
          "Italy",
          "US",
          "Spain",
          "Germany",
          "Iran",
          "France",
          "South Korea",
          "UK",
          "Switzerland",
          "Netherlands",
          "Belgium",
          "Austria",
          "Turkey",
          "Canada",
          "Norway",
          "Portugal",
          "Sweden",
          "Brazil",
          "Australia",
          "Israel",
          "Denmark",
          "Japan",
          "Malaysia",
          "Czech Republic",
          "Ireland",
          "Others",
          "Chile",
          "Luxembourg",
          "Ecuador",
          "Poland",
          "Pakistan",
          "Romania",
          "Thailand",
          "Russia",
          "Finland",
          "Greece",
          "Singapore",
          "Saudi Arabia",
          "Philippines",
          "Indonesia",
          "Iceland",
          "India",
          "South Africa",
          "Qatar",
          "Hong Kong",
          "Slovenia",
          "Peru",
          "Bahrain",
          "Panama",
          "Mexico",
          "Estonia",
          "Egypt",
          "Argentina",
          "Dominican Republic",
          "Croatia",
          "Colombia",
          "Iraq",
          "Serbia",
          "United Arab Emirates",
          "Diamond Princess",
          "Algeria",
          "Lebanon",
          "Taiwan",
          "Armenia",
          "Kuwait",
          "Morocco",
          "New Zealand",
          "Lithuania",
          "Hungary",
          "Bulgaria",
          "Ukraine",
          "Slovakia",
          "Latvia",
          "San Marino",
          "Costa Rica",
          "Bosnia and Herzegovina",
          "Andorra",
          "Vietnam",
          "Uruguay",
          "Tunisia",
          "North Macedonia",
          "Moldova",
          "Jordan",
          "Albania",
          "Cyprus",
          "Kazakhstan",
          "Azerbaijan",
          "Burkina Faso",
          "Oman",
          "Malta",
          "Brunei",
          "Sri Lanka",
          "Senegal",
          "Belarus",
          "Afghanistan",
          "Venezuela",
          "Georgia",
          "Cambodia",
          "Ghana",
          "Cameroon",
          "Uzbekistan",
          "Ivory Coast",
          "Cuba",
          "Nigeria",
          "Mauritius",
          "Honduras",
          "Macau",
          "Trinidad and Tobago",
          "Montenegro",
          "Bolivia",
          "Liechtenstein",
          "Congo (Kinshasa)",
          "West Bank and Gaza",
          "Kyrgyzstan",
          "Kosovo",
          "Rwanda",
          "Paraguay",
          "Bangladesh",
          "Monaco",
          "Kenya",
          "Jamaica",
          "Guatemala",
          "Madagascar",
          "Togo",
          "Maldives",
          "Barbados",
          "Uganda",
          "Ethiopia",
          "Zambia",
          "Niger",
          "El Salvador",
          "Guadeloupe",
          "Tanzania",
          "Martinique",
          "Mongolia",
          "Guyana",
          "Djibouti",
          "Equatorial Guinea",
          "Mali",
          "Reunion",
          "Guinea",
          "Seychelles",
          "French Guiana",
          "Congo (Brazzaville)",
          "Haiti",
          "Namibia",
          "Bahamas",
          "Gabon",
          "Suriname",
          "Nepal",
          "Dominica",
          "Palestine",
          "Eswatini",
          "Benin",
          "Eritrea",
          "Saint Lucia",
          "Burma",
          "Antigua and Barbuda",
          "Mozambique",
          "Syria",
          "Grenada",
          "Zimbabwe",
          "Laos",
          "Holy See",
          "Sudan",
          "Angola",
          "Cabo Verde",
          "Mauritania",
          "Fiji",
          "Bhutan",
          "Liberia",
          "Central African Republic",
          "Libya",
          "Chad",
          "Nicaragua",
          "Guinea-Bissau",
          "Somalia",
          "Gambia",
          "Saint Kitts and Nevis",
          "occupied Palestinian territory",
          "Belize",
          "Mayotte",
          "Republic of Ireland",
          "Aruba",
          "Saint Vincent and the Grenadines",
          "Saint Barthelemy",
          "MS Zaandam",
          "Papua New Guinea",
          "Botswana",
          "Timor-Leste",
          "Faroe Islands",
          "Bahamas, The",
          "Gibraltar",
          "Guam",
          "Jersey",
          "Gambia, The",
          "Vatican City",
          "Burundi",
          "Puerto Rico",
          "Sierra Leone",
          "The Bahamas",
          "Guernsey",
          "Greenland",
          "Cayman Islands",
          "Curacao",
          "('St. Martin',)",
          "St. Martin",
          "The Gambia",
          "Cape Verde",
          "North Ireland",
          "Republic of the Congo",
          "East Timor",
          "Channel Islands",
          " Azerbaijan"
         ],
         "type": "choropleth",
         "z": [
          4257799,
          1321663,
          1300824,
          846650,
          666629,
          575157,
          467914,
          266905,
          195591,
          172905,
          115697,
          102999,
          95530,
          74455,
          61818,
          56212,
          55170,
          48865,
          43968,
          41009,
          40948,
          36004,
          32603,
          31111,
          29492,
          26756,
          26228,
          20694,
          19529,
          19217,
          18778,
          17705,
          17202,
          16277,
          15051,
          14865,
          14824,
          14124,
          13986,
          13846,
          13648,
          12520,
          12336,
          11553,
          11128,
          10391,
          9450,
          9025,
          8495,
          8466,
          8141,
          8132,
          7935,
          7548,
          7424,
          7385,
          7197,
          7097,
          6925,
          6609,
          5696,
          5675,
          5660,
          4874,
          4670,
          4642,
          4412,
          4347,
          4192,
          4037,
          3998,
          3858,
          3840,
          3723,
          3700,
          3362,
          3281,
          3177,
          3148,
          3041,
          2899,
          2827,
          2751,
          2699,
          2491,
          2409,
          2315,
          2274,
          2183,
          1932,
          1895,
          1819,
          1651,
          1634,
          1630,
          1462,
          1439,
          1377,
          1368,
          1341,
          1300,
          1243,
          1242,
          1232,
          1019,
          1002,
          990,
          926,
          847,
          824,
          797,
          762,
          751,
          751,
          698,
          687,
          661,
          615,
          600,
          489,
          451,
          426,
          372,
          328,
          314,
          308,
          289,
          255,
          232,
          230,
          193,
          188,
          187,
          183,
          172,
          164,
          159,
          158,
          145,
          137,
          137,
          134,
          121,
          117,
          116,
          112,
          111,
          107,
          104,
          98,
          97,
          91,
          86,
          84,
          81,
          80,
          79,
          70,
          68,
          66,
          62,
          61,
          61,
          60,
          60,
          60,
          56,
          55,
          52,
          52,
          50,
          47,
          44,
          43,
          42,
          38,
          35,
          34,
          34,
          33,
          25,
          21,
          21,
          21,
          19,
          19,
          17,
          17,
          13,
          11,
          11,
          10,
          10,
          7,
          6,
          6,
          4,
          4,
          4,
          3,
          3,
          3,
          3,
          3,
          3,
          2,
          2,
          2,
          1,
          1,
          1,
          1,
          1,
          1,
          1
         ]
        }
       ],
       "layout": {
        "geo": {
         "projection": {
          "type": "Mercator"
         },
         "showcoastlines": true,
         "showframe": false
        },
        "margin": {
         "b": 30,
         "l": 10,
         "r": 10,
         "t": 50
        },
        "title": "Countries with COVID-19"
       }
      },
      "text/html": [
       "<div>\n",
       "        \n",
       "        \n",
       "            <div id=\"2421139f-d179-4ea1-89fe-582021d3330b\" class=\"plotly-graph-div\" style=\"height:525px; width:100%;\"></div>\n",
       "            <script type=\"text/javascript\">\n",
       "                require([\"plotly\"], function(Plotly) {\n",
       "                    window.PLOTLYENV=window.PLOTLYENV || {};\n",
       "                    \n",
       "                if (document.getElementById(\"2421139f-d179-4ea1-89fe-582021d3330b\")) {\n",
       "                    Plotly.newPlot(\n",
       "                        '2421139f-d179-4ea1-89fe-582021d3330b',\n",
       "                        [{\"colorbar\": {\"autotick\": false, \"tickprefix\": \"\", \"title\": \"Number of Cases\"}, \"colorscale\": [[0, \"rgb(255, 120, 120)\"], [1, \"rgb(255, 180, 240)\"]], \"locationmode\": \"country names\", \"locations\": [\"Mainland China\", \"Italy\", \"US\", \"Spain\", \"Germany\", \"Iran\", \"France\", \"South Korea\", \"UK\", \"Switzerland\", \"Netherlands\", \"Belgium\", \"Austria\", \"Turkey\", \"Canada\", \"Norway\", \"Portugal\", \"Sweden\", \"Brazil\", \"Australia\", \"Israel\", \"Denmark\", \"Japan\", \"Malaysia\", \"Czech Republic\", \"Ireland\", \"Others\", \"Chile\", \"Luxembourg\", \"Ecuador\", \"Poland\", \"Pakistan\", \"Romania\", \"Thailand\", \"Russia\", \"Finland\", \"Greece\", \"Singapore\", \"Saudi Arabia\", \"Philippines\", \"Indonesia\", \"Iceland\", \"India\", \"South Africa\", \"Qatar\", \"Hong Kong\", \"Slovenia\", \"Peru\", \"Bahrain\", \"Panama\", \"Mexico\", \"Estonia\", \"Egypt\", \"Argentina\", \"Dominican Republic\", \"Croatia\", \"Colombia\", \"Iraq\", \"Serbia\", \"United Arab Emirates\", \"Diamond Princess\", \"Algeria\", \"Lebanon\", \"Taiwan\", \"Armenia\", \"Kuwait\", \"Morocco\", \"New Zealand\", \"Lithuania\", \"Hungary\", \"Bulgaria\", \"Ukraine\", \"Slovakia\", \"Latvia\", \"San Marino\", \"Costa Rica\", \"Bosnia and Herzegovina\", \"Andorra\", \"Vietnam\", \"Uruguay\", \"Tunisia\", \"North Macedonia\", \"Moldova\", \"Jordan\", \"Albania\", \"Cyprus\", \"Kazakhstan\", \"Azerbaijan\", \"Burkina Faso\", \"Oman\", \"Malta\", \"Brunei\", \"Sri Lanka\", \"Senegal\", \"Belarus\", \"Afghanistan\", \"Venezuela\", \"Georgia\", \"Cambodia\", \"Ghana\", \"Cameroon\", \"Uzbekistan\", \"Ivory Coast\", \"Cuba\", \"Nigeria\", \"Mauritius\", \"Honduras\", \"Macau\", \"Trinidad and Tobago\", \"Montenegro\", \"Bolivia\", \"Liechtenstein\", \"Congo (Kinshasa)\", \"West Bank and Gaza\", \"Kyrgyzstan\", \"Kosovo\", \"Rwanda\", \"Paraguay\", \"Bangladesh\", \"Monaco\", \"Kenya\", \"Jamaica\", \"Guatemala\", \"Madagascar\", \"Togo\", \"Maldives\", \"Barbados\", \"Uganda\", \"Ethiopia\", \"Zambia\", \"Niger\", \"El Salvador\", \"Guadeloupe\", \"Tanzania\", \"Martinique\", \"Mongolia\", \"Guyana\", \"Djibouti\", \"Equatorial Guinea\", \"Mali\", \"Reunion\", \"Guinea\", \"Seychelles\", \"French Guiana\", \"Congo (Brazzaville)\", \"Haiti\", \"Namibia\", \"Bahamas\", \"Gabon\", \"Suriname\", \"Nepal\", \"Dominica\", \"Palestine\", \"Eswatini\", \"Benin\", \"Eritrea\", \"Saint Lucia\", \"Burma\", \"Antigua and Barbuda\", \"Mozambique\", \"Syria\", \"Grenada\", \"Zimbabwe\", \"Laos\", \"Holy See\", \"Sudan\", \"Angola\", \"Cabo Verde\", \"Mauritania\", \"Fiji\", \"Bhutan\", \"Liberia\", \"Central African Republic\", \"Libya\", \"Chad\", \"Nicaragua\", \"Guinea-Bissau\", \"Somalia\", \"Gambia\", \"Saint Kitts and Nevis\", \"occupied Palestinian territory\", \"Belize\", \"Mayotte\", \"Republic of Ireland\", \"Aruba\", \"Saint Vincent and the Grenadines\", \"Saint Barthelemy\", \"MS Zaandam\", \"Papua New Guinea\", \"Botswana\", \"Timor-Leste\", \"Faroe Islands\", \"Bahamas, The\", \"Gibraltar\", \"Guam\", \"Jersey\", \"Gambia, The\", \"Vatican City\", \"Burundi\", \"Puerto Rico\", \"Sierra Leone\", \"The Bahamas\", \"Guernsey\", \"Greenland\", \"Cayman Islands\", \"Curacao\", \"('St. Martin',)\", \"St. Martin\", \"The Gambia\", \"Cape Verde\", \"North Ireland\", \"Republic of the Congo\", \"East Timor\", \"Channel Islands\", \" Azerbaijan\"], \"marker\": {\"line\": {\"width\": 0.7}}, \"reversescale\": true, \"text\": [\"Mainland China\", \"Italy\", \"US\", \"Spain\", \"Germany\", \"Iran\", \"France\", \"South Korea\", \"UK\", \"Switzerland\", \"Netherlands\", \"Belgium\", \"Austria\", \"Turkey\", \"Canada\", \"Norway\", \"Portugal\", \"Sweden\", \"Brazil\", \"Australia\", \"Israel\", \"Denmark\", \"Japan\", \"Malaysia\", \"Czech Republic\", \"Ireland\", \"Others\", \"Chile\", \"Luxembourg\", \"Ecuador\", \"Poland\", \"Pakistan\", \"Romania\", \"Thailand\", \"Russia\", \"Finland\", \"Greece\", \"Singapore\", \"Saudi Arabia\", \"Philippines\", \"Indonesia\", \"Iceland\", \"India\", \"South Africa\", \"Qatar\", \"Hong Kong\", \"Slovenia\", \"Peru\", \"Bahrain\", \"Panama\", \"Mexico\", \"Estonia\", \"Egypt\", \"Argentina\", \"Dominican Republic\", \"Croatia\", \"Colombia\", \"Iraq\", \"Serbia\", \"United Arab Emirates\", \"Diamond Princess\", \"Algeria\", \"Lebanon\", \"Taiwan\", \"Armenia\", \"Kuwait\", \"Morocco\", \"New Zealand\", \"Lithuania\", \"Hungary\", \"Bulgaria\", \"Ukraine\", \"Slovakia\", \"Latvia\", \"San Marino\", \"Costa Rica\", \"Bosnia and Herzegovina\", \"Andorra\", \"Vietnam\", \"Uruguay\", \"Tunisia\", \"North Macedonia\", \"Moldova\", \"Jordan\", \"Albania\", \"Cyprus\", \"Kazakhstan\", \"Azerbaijan\", \"Burkina Faso\", \"Oman\", \"Malta\", \"Brunei\", \"Sri Lanka\", \"Senegal\", \"Belarus\", \"Afghanistan\", \"Venezuela\", \"Georgia\", \"Cambodia\", \"Ghana\", \"Cameroon\", \"Uzbekistan\", \"Ivory Coast\", \"Cuba\", \"Nigeria\", \"Mauritius\", \"Honduras\", \"Macau\", \"Trinidad and Tobago\", \"Montenegro\", \"Bolivia\", \"Liechtenstein\", \"Congo (Kinshasa)\", \"West Bank and Gaza\", \"Kyrgyzstan\", \"Kosovo\", \"Rwanda\", \"Paraguay\", \"Bangladesh\", \"Monaco\", \"Kenya\", \"Jamaica\", \"Guatemala\", \"Madagascar\", \"Togo\", \"Maldives\", \"Barbados\", \"Uganda\", \"Ethiopia\", \"Zambia\", \"Niger\", \"El Salvador\", \"Guadeloupe\", \"Tanzania\", \"Martinique\", \"Mongolia\", \"Guyana\", \"Djibouti\", \"Equatorial Guinea\", \"Mali\", \"Reunion\", \"Guinea\", \"Seychelles\", \"French Guiana\", \"Congo (Brazzaville)\", \"Haiti\", \"Namibia\", \"Bahamas\", \"Gabon\", \"Suriname\", \"Nepal\", \"Dominica\", \"Palestine\", \"Eswatini\", \"Benin\", \"Eritrea\", \"Saint Lucia\", \"Burma\", \"Antigua and Barbuda\", \"Mozambique\", \"Syria\", \"Grenada\", \"Zimbabwe\", \"Laos\", \"Holy See\", \"Sudan\", \"Angola\", \"Cabo Verde\", \"Mauritania\", \"Fiji\", \"Bhutan\", \"Liberia\", \"Central African Republic\", \"Libya\", \"Chad\", \"Nicaragua\", \"Guinea-Bissau\", \"Somalia\", \"Gambia\", \"Saint Kitts and Nevis\", \"occupied Palestinian territory\", \"Belize\", \"Mayotte\", \"Republic of Ireland\", \"Aruba\", \"Saint Vincent and the Grenadines\", \"Saint Barthelemy\", \"MS Zaandam\", \"Papua New Guinea\", \"Botswana\", \"Timor-Leste\", \"Faroe Islands\", \"Bahamas, The\", \"Gibraltar\", \"Guam\", \"Jersey\", \"Gambia, The\", \"Vatican City\", \"Burundi\", \"Puerto Rico\", \"Sierra Leone\", \"The Bahamas\", \"Guernsey\", \"Greenland\", \"Cayman Islands\", \"Curacao\", \"('St. Martin',)\", \"St. Martin\", \"The Gambia\", \"Cape Verde\", \"North Ireland\", \"Republic of the Congo\", \"East Timor\", \"Channel Islands\", \" Azerbaijan\"], \"type\": \"choropleth\", \"z\": [4257799.0, 1321663.0, 1300824.0, 846650.0, 666629.0, 575157.0, 467914.0, 266905.0, 195591.0, 172905.0, 115697.0, 102999.0, 95530.0, 74455.0, 61818.0, 56212.0, 55170.0, 48865.0, 43968.0, 41009.0, 40948.0, 36004.0, 32603.0, 31111.0, 29492.0, 26756.0, 26228.0, 20694.0, 19529.0, 19217.0, 18778.0, 17705.0, 17202.0, 16277.0, 15051.0, 14865.0, 14824.0, 14124.0, 13986.0, 13846.0, 13648.0, 12520.0, 12336.0, 11553.0, 11128.0, 10391.0, 9450.0, 9025.0, 8495.0, 8466.0, 8141.0, 8132.0, 7935.0, 7548.0, 7424.0, 7385.0, 7197.0, 7097.0, 6925.0, 6609.0, 5696.0, 5675.0, 5660.0, 4874.0, 4670.0, 4642.0, 4412.0, 4347.0, 4192.0, 4037.0, 3998.0, 3858.0, 3840.0, 3723.0, 3700.0, 3362.0, 3281.0, 3177.0, 3148.0, 3041.0, 2899.0, 2827.0, 2751.0, 2699.0, 2491.0, 2409.0, 2315.0, 2274.0, 2183.0, 1932.0, 1895.0, 1819.0, 1651.0, 1634.0, 1630.0, 1462.0, 1439.0, 1377.0, 1368.0, 1341.0, 1300.0, 1243.0, 1242.0, 1232.0, 1019.0, 1002.0, 990.0, 926.0, 847.0, 824.0, 797.0, 762.0, 751.0, 751.0, 698.0, 687.0, 661.0, 615.0, 600.0, 489.0, 451.0, 426.0, 372.0, 328.0, 314.0, 308.0, 289.0, 255.0, 232.0, 230.0, 193.0, 188.0, 187.0, 183.0, 172.0, 164.0, 159.0, 158.0, 145.0, 137.0, 137.0, 134.0, 121.0, 117.0, 116.0, 112.0, 111.0, 107.0, 104.0, 98.0, 97.0, 91.0, 86.0, 84.0, 81.0, 80.0, 79.0, 70.0, 68.0, 66.0, 62.0, 61.0, 61.0, 60.0, 60.0, 60.0, 56.0, 55.0, 52.0, 52.0, 50.0, 47.0, 44.0, 43.0, 42.0, 38.0, 35.0, 34.0, 34.0, 33.0, 25.0, 21.0, 21.0, 21.0, 19.0, 19.0, 17.0, 17.0, 13.0, 11.0, 11.0, 10.0, 10.0, 7.0, 6.0, 6.0, 4.0, 4.0, 4.0, 3.0, 3.0, 3.0, 3.0, 3.0, 3.0, 2.0, 2.0, 2.0, 1.0, 1.0, 1.0, 1.0, 1.0, 1.0, 1.0]}],\n",
       "                        {\"geo\": {\"projection\": {\"type\": \"Mercator\"}, \"showcoastlines\": true, \"showframe\": false}, \"margin\": {\"b\": 30, \"l\": 10, \"r\": 10, \"t\": 50}, \"title\": \"Countries with COVID-19\"},\n",
       "                        {\"responsive\": true}\n",
       "                    ).then(function(){\n",
       "                            \n",
       "var gd = document.getElementById('2421139f-d179-4ea1-89fe-582021d3330b');\n",
       "var x = new MutationObserver(function (mutations, observer) {{\n",
       "        var display = window.getComputedStyle(gd).display;\n",
       "        if (!display || display === 'none') {{\n",
       "            console.log([gd, 'removed!']);\n",
       "            Plotly.purge(gd);\n",
       "            observer.disconnect();\n",
       "        }}\n",
       "}});\n",
       "\n",
       "// Listen for the removal of the full notebook cells\n",
       "var notebookContainer = gd.closest('#notebook-container');\n",
       "if (notebookContainer) {{\n",
       "    x.observe(notebookContainer, {childList: true});\n",
       "}}\n",
       "\n",
       "// Listen for the clearing of the current output cell\n",
       "var outputEl = gd.closest('.output');\n",
       "if (outputEl) {{\n",
       "    x.observe(outputEl, {childList: true});\n",
       "}}\n",
       "\n",
       "                        })\n",
       "                };\n",
       "                });\n",
       "            </script>\n",
       "        </div>"
      ]
     },
     "metadata": {},
     "output_type": "display_data"
    }
   ],
   "source": [
    "import plotly.figure_factory as ff\n",
    "from plotly.offline import download_plotlyjs, init_notebook_mode, plot, iplot\n",
    "init_notebook_mode(connected=True)\n",
    "\n",
    "confirmed_country = df2.groupby('Country/Region').sum()['Confirmed'].sort_values(ascending = False)\n",
    "data = [dict(\n",
    "        type='choropleth',\n",
    "        locations= confirmed_country.index,\n",
    "        locationmode='country names',\n",
    "        z=confirmed_country.values,\n",
    "        text=confirmed_country.index,\n",
    "        colorscale = [[0,'rgb(255, 120, 120)'],[1,'rgb(255, 180, 240)']],\n",
    "        reversescale=True,\n",
    "        marker=dict(line=dict(width=0.7)),\n",
    "        colorbar=dict(autotick=False, tickprefix='', title='Number of Cases'),\n",
    ")]\n",
    "layout = dict(title = 'Countries with COVID-19', \n",
    "        geo = dict(\n",
    "            showframe = False, \n",
    "            showcoastlines = True, \n",
    "            projection = dict(type = 'Mercator')),\n",
    "            margin = dict(t=50, b=30, l=10, r=10))\n",
    "fig = dict(data=data, layout=layout)\n",
    "iplot(fig, validate=False, filename='Coronavirus-19')\n"
   ]
  },
  {
   "cell_type": "markdown",
   "metadata": {},
   "source": [
    "#### Look for a Trend in various situations: Confirmed, Deaths, Recovered, ActiveCases"
   ]
  },
  {
   "cell_type": "code",
   "execution_count": 14,
   "metadata": {},
   "outputs": [
    {
     "data": {
      "image/png": "[encoded data removed]",
      "text/plain": [
       "<Figure size 432x288 with 1 Axes>"
      ]
     },
     "metadata": {
      "needs_background": "light"
     },
     "output_type": "display_data"
    }
   ],
   "source": [
    "df2.plot(kind='line',x='ObservationDate',\n",
    "              y=['Confirmed','Deaths','Recovered','Active'],\n",
    "              color = ['blue','black','green','red'])\n",
    "plt.title('Covid-19 World Trends')\n",
    "plt.ylabel('Number of Observations')\n",
    "plt.show()"
   ]
  },
  {
   "cell_type": "code",
   "execution_count": 15,
   "metadata": {},
   "outputs": [
    {
     "data": {
      "text/plain": [
       "215"
      ]
     },
     "execution_count": 15,
     "metadata": {},
     "output_type": "execute_result"
    }
   ],
   "source": [
    "len(df2['Country/Region'].value_counts())"
   ]
  },
  {
   "cell_type": "code",
   "execution_count": 16,
   "metadata": {},
   "outputs": [
    {
     "name": "stdout",
     "output_type": "stream",
     "text": [
      "01/22/2020 is the beginning and 04/01/2020 is the latest date for this data set\n"
     ]
    }
   ],
   "source": [
    "start_date = df2.iloc[df2.first_valid_index()]['ObservationDate']\n",
    "end_date = df2.iloc[df2.last_valid_index()]['ObservationDate']\n",
    "print(f\"{start_date} is the beginning and {end_date} is the latest date for this data set\")"
   ]
  },
  {
   "cell_type": "markdown",
   "metadata": {},
   "source": [
    "##### Key Takeaways:\n",
    "* There are 156 countries that are affected by Covid-19\n",
    "* The start date and end date for this dataset are from 1/22/20 - 3/14/20 respectively (7 weeks)\n",
    "* Confirmed cases start very low at the beginning of Feb,and increase sharply thereafter. It levels off on the beginning of March\n",
    "* Active cases follow a bell shape with its peak on mid Feb suggesting an increasing in recovered cases from that date\n",
    "* Very few cases are recovered at the start, but the recovered rate increase steadily. Whatever solutions here work!\n",
    "* Death rate is increasing\n",
    "* Will analyze countries with the highest confirmation cases on the list\n"
   ]
  },
  {
   "cell_type": "code",
   "execution_count": 46,
   "metadata": {
    "scrolled": true
   },
   "outputs": [
    {
     "name": "stdout",
     "output_type": "stream",
     "text": [
      "Number of records for China are (2199, 9)\n"
     ]
    },
    {
     "data": {
      "text/html": [
       "<div>\n",
       "<style scoped>\n",
       "    .dataframe tbody tr th:only-of-type {\n",
       "        vertical-align: middle;\n",
       "    }\n",
       "\n",
       "    .dataframe tbody tr th {\n",
       "        vertical-align: top;\n",
       "    }\n",
       "\n",
       "    .dataframe thead th {\n",
       "        text-align: right;\n",
       "    }\n",
       "</style>\n",
       "<table border=\"1\" class=\"dataframe\">\n",
       "  <thead>\n",
       "    <tr style=\"text-align: right;\">\n",
       "      <th></th>\n",
       "      <th>ObservationDate</th>\n",
       "      <th>SNo</th>\n",
       "      <th>Confirmed</th>\n",
       "      <th>Deaths</th>\n",
       "      <th>Recovered</th>\n",
       "      <th>Active</th>\n",
       "    </tr>\n",
       "  </thead>\n",
       "  <tbody>\n",
       "    <tr>\n",
       "      <td>0</td>\n",
       "      <td>01/22/2020</td>\n",
       "      <td>535</td>\n",
       "      <td>547.0</td>\n",
       "      <td>17.0</td>\n",
       "      <td>28.0</td>\n",
       "      <td>502.0</td>\n",
       "    </tr>\n",
       "    <tr>\n",
       "      <td>1</td>\n",
       "      <td>01/23/2020</td>\n",
       "      <td>1713</td>\n",
       "      <td>639.0</td>\n",
       "      <td>18.0</td>\n",
       "      <td>30.0</td>\n",
       "      <td>591.0</td>\n",
       "    </tr>\n",
       "    <tr>\n",
       "      <td>2</td>\n",
       "      <td>01/24/2020</td>\n",
       "      <td>3004</td>\n",
       "      <td>916.0</td>\n",
       "      <td>26.0</td>\n",
       "      <td>36.0</td>\n",
       "      <td>854.0</td>\n",
       "    </tr>\n",
       "    <tr>\n",
       "      <td>3</td>\n",
       "      <td>01/25/2020</td>\n",
       "      <td>4224</td>\n",
       "      <td>1399.0</td>\n",
       "      <td>42.0</td>\n",
       "      <td>39.0</td>\n",
       "      <td>1318.0</td>\n",
       "    </tr>\n",
       "    <tr>\n",
       "      <td>4</td>\n",
       "      <td>01/26/2020</td>\n",
       "      <td>5548</td>\n",
       "      <td>2062.0</td>\n",
       "      <td>56.0</td>\n",
       "      <td>49.0</td>\n",
       "      <td>1957.0</td>\n",
       "    </tr>\n",
       "  </tbody>\n",
       "</table>\n",
       "</div>"
      ],
      "text/plain": [
       "  ObservationDate   SNo  Confirmed  Deaths  Recovered  Active\n",
       "0      01/22/2020   535      547.0    17.0       28.0   502.0\n",
       "1      01/23/2020  1713      639.0    18.0       30.0   591.0\n",
       "2      01/24/2020  3004      916.0    26.0       36.0   854.0\n",
       "3      01/25/2020  4224     1399.0    42.0       39.0  1318.0\n",
       "4      01/26/2020  5548     2062.0    56.0       49.0  1957.0"
      ]
     },
     "execution_count": 46,
     "metadata": {},
     "output_type": "execute_result"
    }
   ],
   "source": [
    "df_china = df2[df2['Country/Region'] == 'Mainland China']\n",
    "print(f\"Number of records for China are {df_china.shape}\")\n",
    "df_china = df_china.groupby(['ObservationDate']).sum().reset_index()\n",
    "df_china.head()"
   ]
  },
  {
   "cell_type": "code",
   "execution_count": 18,
   "metadata": {},
   "outputs": [
    {
     "data": {
      "image/png": "[encoded data removed]",
      "text/plain": [
       "<Figure size 432x288 with 1 Axes>"
      ]
     },
     "metadata": {
      "needs_background": "light"
     },
     "output_type": "display_data"
    }
   ],
   "source": [
    "df_china.plot(kind='line',x='ObservationDate',\n",
    "              y=['Confirmed','Deaths','Recovered','Active'],\n",
    "              color = ['blue','black','green','red'])\n",
    "\n",
    "plt.title('Covid-19 Trend in China')\n",
    "plt.ylabel('Number of Observations')\n",
    "plt.show()"
   ]
  },
  {
   "cell_type": "code",
   "execution_count": 19,
   "metadata": {
    "scrolled": true
   },
   "outputs": [
    {
     "name": "stdout",
     "output_type": "stream",
     "text": [
      "In China, since 03/05/20, Active Cases and Recovery Percentage is 38.75%, 57.76% respectively and Death Rate is 3.5%.\n"
     ]
    }
   ],
   "source": [
    "# Calculating Death, Active, and Recovery Percentage for China\n",
    "active_percentage = round((df_china['Active'].sum())/(df_china['Confirmed'].sum())* 100,2)\n",
    "recovery_percentage = round((df_china['Recovered'].sum())/(df_china['Confirmed'].sum())* 100,2)\n",
    "death_percentage = round((df_china['Deaths'].sum())/(df_china['Confirmed'].sum())* 100,2)\n",
    "print(f\"In China, since 03/05/20, Active Cases and Recovery Percentage is {active_percentage}%, {recovery_percentage}% respectively and Death Rate is {death_percentage}%.\")"
   ]
  },
  {
   "cell_type": "markdown",
   "metadata": {},
   "source": [
    "##### Key Takeaways:\n",
    "*  Number of confirmed cases continues to grow sharply from 01/22/20 to the end for Feburary.It then starts    level off the first week of March\n",
    "*  Number of Deaths are steadily increasing from 1/22/20 - 3/14/20. It continues increading even when the confirmed cases are stablized. It can be inferred that the previous confirmed cases were not be able to recovered.\n",
    "*  The recovery rate in the first 10 days is zero.But after that it increase sharply, and continue to grow. China did very well in fighting the virus\n",
    "*  Active cases went down sharply from 2/21 - 3/05/20.This is very easy to explain. Since the confirmed cases are stable, the recovery rate is increase sharply; therefore active cases drop dramatically.\n",
    "* China did very good job in handling the pandemic. Since the first week of March, confirmed cases are stablized, recovered rate are shot up, active cases drop sharply. The other countries should learn the ways China handles the crisis."
   ]
  },
  {
   "cell_type": "code",
   "execution_count": 20,
   "metadata": {},
   "outputs": [
    {
     "name": "stdout",
     "output_type": "stream",
     "text": [
      "Number of records for South Korea are (71, 9)\n"
     ]
    },
    {
     "data": {
      "text/html": [
       "<div>\n",
       "<style scoped>\n",
       "    .dataframe tbody tr th:only-of-type {\n",
       "        vertical-align: middle;\n",
       "    }\n",
       "\n",
       "    .dataframe tbody tr th {\n",
       "        vertical-align: top;\n",
       "    }\n",
       "\n",
       "    .dataframe thead th {\n",
       "        text-align: right;\n",
       "    }\n",
       "</style>\n",
       "<table border=\"1\" class=\"dataframe\">\n",
       "  <thead>\n",
       "    <tr style=\"text-align: right;\">\n",
       "      <th></th>\n",
       "      <th>ObservationDate</th>\n",
       "      <th>SNo</th>\n",
       "      <th>Confirmed</th>\n",
       "      <th>Deaths</th>\n",
       "      <th>Recovered</th>\n",
       "      <th>Active</th>\n",
       "    </tr>\n",
       "  </thead>\n",
       "  <tbody>\n",
       "    <tr>\n",
       "      <td>0</td>\n",
       "      <td>01/22/2020</td>\n",
       "      <td>38</td>\n",
       "      <td>1.0</td>\n",
       "      <td>0.0</td>\n",
       "      <td>0.0</td>\n",
       "      <td>1.0</td>\n",
       "    </tr>\n",
       "    <tr>\n",
       "      <td>1</td>\n",
       "      <td>01/23/2020</td>\n",
       "      <td>76</td>\n",
       "      <td>1.0</td>\n",
       "      <td>0.0</td>\n",
       "      <td>0.0</td>\n",
       "      <td>1.0</td>\n",
       "    </tr>\n",
       "    <tr>\n",
       "      <td>2</td>\n",
       "      <td>01/24/2020</td>\n",
       "      <td>122</td>\n",
       "      <td>2.0</td>\n",
       "      <td>0.0</td>\n",
       "      <td>0.0</td>\n",
       "      <td>2.0</td>\n",
       "    </tr>\n",
       "    <tr>\n",
       "      <td>3</td>\n",
       "      <td>01/25/2020</td>\n",
       "      <td>163</td>\n",
       "      <td>2.0</td>\n",
       "      <td>0.0</td>\n",
       "      <td>0.0</td>\n",
       "      <td>2.0</td>\n",
       "    </tr>\n",
       "    <tr>\n",
       "      <td>4</td>\n",
       "      <td>01/26/2020</td>\n",
       "      <td>209</td>\n",
       "      <td>3.0</td>\n",
       "      <td>0.0</td>\n",
       "      <td>0.0</td>\n",
       "      <td>3.0</td>\n",
       "    </tr>\n",
       "  </tbody>\n",
       "</table>\n",
       "</div>"
      ],
      "text/plain": [
       "  ObservationDate  SNo  Confirmed  Deaths  Recovered  Active\n",
       "0      01/22/2020   38        1.0     0.0        0.0     1.0\n",
       "1      01/23/2020   76        1.0     0.0        0.0     1.0\n",
       "2      01/24/2020  122        2.0     0.0        0.0     2.0\n",
       "3      01/25/2020  163        2.0     0.0        0.0     2.0\n",
       "4      01/26/2020  209        3.0     0.0        0.0     3.0"
      ]
     },
     "execution_count": 20,
     "metadata": {},
     "output_type": "execute_result"
    }
   ],
   "source": [
    "df_sKorea = df2[df2['Country/Region'] == 'South Korea']\n",
    "print(f\"Number of records for South Korea are {df_sKorea.shape}\")\n",
    "df_sKorea = df_sKorea.groupby(['ObservationDate']).sum().reset_index()\n",
    "df_sKorea.head()"
   ]
  },
  {
   "cell_type": "code",
   "execution_count": 21,
   "metadata": {},
   "outputs": [
    {
     "data": {
      "image/png": "[encoded data removed]",
      "text/plain": [
       "<Figure size 432x288 with 1 Axes>"
      ]
     },
     "metadata": {
      "needs_background": "light"
     },
     "output_type": "display_data"
    }
   ],
   "source": [
    "df_sKorea.plot(kind='line',x='ObservationDate',\n",
    "              y=['Confirmed','Deaths','Recovered','Active'],\n",
    "              color = ['blue','black','green','red'])\n",
    "plt.title('Covid-19 Trend in South Korea')\n",
    "plt.ylabel('Number of Observations')\n",
    "plt.show()"
   ]
  },
  {
   "cell_type": "code",
   "execution_count": 22,
   "metadata": {},
   "outputs": [
    {
     "name": "stdout",
     "output_type": "stream",
     "text": [
      "In South Korea Active Cases and Recovery Percentage is 76.42%, 22.52% respectively and Death Rate is 1.07%.\n"
     ]
    }
   ],
   "source": [
    "# Calculating Death, Active, and Recovery Percentage in South Korea\n",
    "\n",
    "active_percentage = round((df_sKorea['Active'].sum())/(df_sKorea['Confirmed'].sum())* 100,2)\n",
    "recovery_percentage = round((df_sKorea['Recovered'].sum())/(df_sKorea['Confirmed'].sum())* 100,2)\n",
    "death_percentage = round((df_sKorea['Deaths'].sum())/(df_sKorea['Confirmed'].sum())* 100,2)\n",
    "print(f\"In South Korea Active Cases and Recovery Percentage is {active_percentage}%, {recovery_percentage}% respectively and Death Rate is {death_percentage}%.\")"
   ]
  },
  {
   "cell_type": "markdown",
   "metadata": {},
   "source": [
    "##### Key Takeaways:\n",
    "* There is a sudden surge in confirmed and active cases starts on 2/21/20 in South Korea\n",
    "* The confirmed and active cases are almost identical\n",
    "* However, death and recovered rate are flat - zero\n",
    "* Death rate is 0.7 % compares to 3.86% in China\n",
    "* South Korea has been well prepared for the pandemic !"
   ]
  },
  {
   "cell_type": "code",
   "execution_count": 23,
   "metadata": {},
   "outputs": [
    {
     "name": "stdout",
     "output_type": "stream",
     "text": [
      "Number of records for Italy are (62, 9)\n"
     ]
    },
    {
     "data": {
      "text/html": [
       "<div>\n",
       "<style scoped>\n",
       "    .dataframe tbody tr th:only-of-type {\n",
       "        vertical-align: middle;\n",
       "    }\n",
       "\n",
       "    .dataframe tbody tr th {\n",
       "        vertical-align: top;\n",
       "    }\n",
       "\n",
       "    .dataframe thead th {\n",
       "        text-align: right;\n",
       "    }\n",
       "</style>\n",
       "<table border=\"1\" class=\"dataframe\">\n",
       "  <thead>\n",
       "    <tr style=\"text-align: right;\">\n",
       "      <th></th>\n",
       "      <th>ObservationDate</th>\n",
       "      <th>SNo</th>\n",
       "      <th>Confirmed</th>\n",
       "      <th>Deaths</th>\n",
       "      <th>Recovered</th>\n",
       "      <th>Active</th>\n",
       "    </tr>\n",
       "  </thead>\n",
       "  <tbody>\n",
       "    <tr>\n",
       "      <td>0</td>\n",
       "      <td>01/31/2020</td>\n",
       "      <td>481</td>\n",
       "      <td>2.0</td>\n",
       "      <td>0.0</td>\n",
       "      <td>0.0</td>\n",
       "      <td>2.0</td>\n",
       "    </tr>\n",
       "    <tr>\n",
       "      <td>1</td>\n",
       "      <td>02/01/2020</td>\n",
       "      <td>540</td>\n",
       "      <td>2.0</td>\n",
       "      <td>0.0</td>\n",
       "      <td>0.0</td>\n",
       "      <td>2.0</td>\n",
       "    </tr>\n",
       "    <tr>\n",
       "      <td>2</td>\n",
       "      <td>02/02/2020</td>\n",
       "      <td>609</td>\n",
       "      <td>2.0</td>\n",
       "      <td>0.0</td>\n",
       "      <td>0.0</td>\n",
       "      <td>2.0</td>\n",
       "    </tr>\n",
       "    <tr>\n",
       "      <td>3</td>\n",
       "      <td>02/03/2020</td>\n",
       "      <td>676</td>\n",
       "      <td>2.0</td>\n",
       "      <td>0.0</td>\n",
       "      <td>0.0</td>\n",
       "      <td>2.0</td>\n",
       "    </tr>\n",
       "    <tr>\n",
       "      <td>4</td>\n",
       "      <td>02/04/2020</td>\n",
       "      <td>744</td>\n",
       "      <td>2.0</td>\n",
       "      <td>0.0</td>\n",
       "      <td>0.0</td>\n",
       "      <td>2.0</td>\n",
       "    </tr>\n",
       "  </tbody>\n",
       "</table>\n",
       "</div>"
      ],
      "text/plain": [
       "  ObservationDate  SNo  Confirmed  Deaths  Recovered  Active\n",
       "0      01/31/2020  481        2.0     0.0        0.0     2.0\n",
       "1      02/01/2020  540        2.0     0.0        0.0     2.0\n",
       "2      02/02/2020  609        2.0     0.0        0.0     2.0\n",
       "3      02/03/2020  676        2.0     0.0        0.0     2.0\n",
       "4      02/04/2020  744        2.0     0.0        0.0     2.0"
      ]
     },
     "execution_count": 23,
     "metadata": {},
     "output_type": "execute_result"
    }
   ],
   "source": [
    "df_italy = df2[df2['Country/Region'] == 'Italy']\n",
    "print(f\"Number of records for Italy are {df_italy.shape}\")\n",
    "df_italy = df_italy.groupby(['ObservationDate']).sum().reset_index()\n",
    "#df_italy['Week'] = pd.to_datetime(df_italy['ObservationDate'],errors = 'coerce').dt.week\n",
    "df_italy.head()"
   ]
  },
  {
   "cell_type": "code",
   "execution_count": 24,
   "metadata": {},
   "outputs": [
    {
     "data": {
      "image/png": "[encoded data removed]",
      "text/plain": [
       "<Figure size 432x288 with 1 Axes>"
      ]
     },
     "metadata": {
      "needs_background": "light"
     },
     "output_type": "display_data"
    }
   ],
   "source": [
    "df_italy.plot(kind='line',x='ObservationDate',\n",
    "              y=['Confirmed','Deaths','Recovered','Active'],\n",
    "              color = ['blue','black','green','red'])\n",
    "plt.title('Covid-19 Trend in Italy')\n",
    "plt.ylabel('Number of Observations')\n",
    "plt.show()"
   ]
  },
  {
   "cell_type": "code",
   "execution_count": 25,
   "metadata": {},
   "outputs": [
    {
     "name": "stdout",
     "output_type": "stream",
     "text": [
      "In Italy, Active Cases and Recovery Percentage is 77.86%, 12.33% respectively and Death Rate is 9.81%.\n"
     ]
    }
   ],
   "source": [
    "# Calculating Death, Active, and Recovery Percentage in Italy\n",
    "\n",
    "active_percentage = round((df_italy['Active'].sum())/(df_italy['Confirmed'].sum())* 100,2)\n",
    "recovery_percentage = round((df_italy['Recovered'].sum())/(df_italy['Confirmed'].sum())* 100,2)\n",
    "death_percentage = round((df_italy['Deaths'].sum())/(df_italy['Confirmed'].sum())* 100,2)\n",
    "print(f\"In Italy, Active Cases and Recovery Percentage is {active_percentage}%, {recovery_percentage}% respectively and Death Rate is {death_percentage}%.\")"
   ]
  },
  {
   "cell_type": "markdown",
   "metadata": {},
   "source": [
    "##### Key Takeaways:\n",
    "* In Italy,there isn't any report cases from 1/31/20 to 2/15/20\n",
    "* There is a sudden surge for all status: confirmed,active deatth and recovery cases\n",
    "* Death rate and recovery rate are almost identical: 6.11% & 8.67% respectively. An alarming rate !\n",
    "* Trending is different than China"
   ]
  },
  {
   "cell_type": "code",
   "execution_count": 26,
   "metadata": {},
   "outputs": [
    {
     "name": "stdout",
     "output_type": "stream",
     "text": [
      "Number of records for USA are (2208, 9)\n"
     ]
    },
    {
     "data": {
      "text/html": [
       "<div>\n",
       "<style scoped>\n",
       "    .dataframe tbody tr th:only-of-type {\n",
       "        vertical-align: middle;\n",
       "    }\n",
       "\n",
       "    .dataframe tbody tr th {\n",
       "        vertical-align: top;\n",
       "    }\n",
       "\n",
       "    .dataframe thead th {\n",
       "        text-align: right;\n",
       "    }\n",
       "</style>\n",
       "<table border=\"1\" class=\"dataframe\">\n",
       "  <thead>\n",
       "    <tr style=\"text-align: right;\">\n",
       "      <th></th>\n",
       "      <th>ObservationDate</th>\n",
       "      <th>SNo</th>\n",
       "      <th>Confirmed</th>\n",
       "      <th>Deaths</th>\n",
       "      <th>Recovered</th>\n",
       "      <th>Active</th>\n",
       "    </tr>\n",
       "  </thead>\n",
       "  <tbody>\n",
       "    <tr>\n",
       "      <td>0</td>\n",
       "      <td>01/22/2020</td>\n",
       "      <td>32</td>\n",
       "      <td>1.0</td>\n",
       "      <td>0.0</td>\n",
       "      <td>0.0</td>\n",
       "      <td>1.0</td>\n",
       "    </tr>\n",
       "    <tr>\n",
       "      <td>1</td>\n",
       "      <td>01/23/2020</td>\n",
       "      <td>70</td>\n",
       "      <td>1.0</td>\n",
       "      <td>0.0</td>\n",
       "      <td>0.0</td>\n",
       "      <td>1.0</td>\n",
       "    </tr>\n",
       "    <tr>\n",
       "      <td>2</td>\n",
       "      <td>01/24/2020</td>\n",
       "      <td>237</td>\n",
       "      <td>2.0</td>\n",
       "      <td>0.0</td>\n",
       "      <td>0.0</td>\n",
       "      <td>2.0</td>\n",
       "    </tr>\n",
       "    <tr>\n",
       "      <td>3</td>\n",
       "      <td>01/25/2020</td>\n",
       "      <td>319</td>\n",
       "      <td>2.0</td>\n",
       "      <td>0.0</td>\n",
       "      <td>0.0</td>\n",
       "      <td>2.0</td>\n",
       "    </tr>\n",
       "    <tr>\n",
       "      <td>4</td>\n",
       "      <td>01/26/2020</td>\n",
       "      <td>818</td>\n",
       "      <td>5.0</td>\n",
       "      <td>0.0</td>\n",
       "      <td>0.0</td>\n",
       "      <td>5.0</td>\n",
       "    </tr>\n",
       "  </tbody>\n",
       "</table>\n",
       "</div>"
      ],
      "text/plain": [
       "  ObservationDate  SNo  Confirmed  Deaths  Recovered  Active\n",
       "0      01/22/2020   32        1.0     0.0        0.0     1.0\n",
       "1      01/23/2020   70        1.0     0.0        0.0     1.0\n",
       "2      01/24/2020  237        2.0     0.0        0.0     2.0\n",
       "3      01/25/2020  319        2.0     0.0        0.0     2.0\n",
       "4      01/26/2020  818        5.0     0.0        0.0     5.0"
      ]
     },
     "execution_count": 26,
     "metadata": {},
     "output_type": "execute_result"
    }
   ],
   "source": [
    "df_USA = df2[df2['Country/Region'] == 'US']\n",
    "print(f\"Number of records for USA are {df_USA.shape}\")\n",
    "df_USA = df_USA.groupby(['ObservationDate']).sum().reset_index()\n",
    "df_USA.head()"
   ]
  },
  {
   "cell_type": "code",
   "execution_count": 27,
   "metadata": {},
   "outputs": [
    {
     "data": {
      "image/png": "[encoded data removed]",
      "text/plain": [
       "<Figure size 432x288 with 1 Axes>"
      ]
     },
     "metadata": {
      "needs_background": "light"
     },
     "output_type": "display_data"
    }
   ],
   "source": [
    "df_USA.plot(kind='line',x='ObservationDate',\n",
    "              y=['Confirmed','Deaths','Recovered','Active'],\n",
    "              color = ['blue','black','green','red'])\n",
    "plt.title('Covid-19 Trend in USA')\n",
    "plt.ylabel('Number of Observations')\n",
    "plt.show()"
   ]
  },
  {
   "cell_type": "code",
   "execution_count": 28,
   "metadata": {},
   "outputs": [
    {
     "name": "stdout",
     "output_type": "stream",
     "text": [
      "In the USA, since 02/21/20, Active Cases and Recovery Percentage is 96.09%, 2.15% respectively and Death Rate is 1.77%.\n"
     ]
    }
   ],
   "source": [
    "# Calculating Death, Active, and Recovery Percentage in the USA\n",
    "\n",
    "active_percentage = round((df_USA['Active'].sum())/(df_USA['Confirmed'].sum())* 100,2)\n",
    "recovery_percentage = round((df_USA['Recovered'].sum())/(df_USA['Confirmed'].sum())* 100,2)\n",
    "death_percentage = round((df_USA['Deaths'].sum())/(df_USA['Confirmed'].sum())* 100,2)\n",
    "print(f\"In the USA Active Cases and Recovery Percentage is {active_percentage}%, {recovery_percentage}% respectively and Death Rate is {death_percentage}%.\")"
   ]
  },
  {
   "cell_type": "markdown",
   "metadata": {},
   "source": [
    "##### Key Takeaways:\n",
    "* There aren't any report about the outbreak until 2/21/20\n",
    "* There is a huge surge in confirmed cases and active cases starting at the beginning of March\n",
    "* Confirmed and active cases are almost identical\n",
    "* There is a subtle increase in death rate compare to recovered rate on 3/12/20\n",
    "* Actice cases are huge, recovered less than deaths. USA must do something to control the situation"
   ]
  },
  {
   "cell_type": "code",
   "execution_count": 29,
   "metadata": {},
   "outputs": [
    {
     "name": "stdout",
     "output_type": "stream",
     "text": [
      "Number of records in Spain are (61, 9)\n"
     ]
    },
    {
     "data": {
      "text/html": [
       "<div>\n",
       "<style scoped>\n",
       "    .dataframe tbody tr th:only-of-type {\n",
       "        vertical-align: middle;\n",
       "    }\n",
       "\n",
       "    .dataframe tbody tr th {\n",
       "        vertical-align: top;\n",
       "    }\n",
       "\n",
       "    .dataframe thead th {\n",
       "        text-align: right;\n",
       "    }\n",
       "</style>\n",
       "<table border=\"1\" class=\"dataframe\">\n",
       "  <thead>\n",
       "    <tr style=\"text-align: right;\">\n",
       "      <th></th>\n",
       "      <th>ObservationDate</th>\n",
       "      <th>SNo</th>\n",
       "      <th>Confirmed</th>\n",
       "      <th>Deaths</th>\n",
       "      <th>Recovered</th>\n",
       "      <th>Active</th>\n",
       "    </tr>\n",
       "  </thead>\n",
       "  <tbody>\n",
       "    <tr>\n",
       "      <td>0</td>\n",
       "      <td>02/01/2020</td>\n",
       "      <td>552</td>\n",
       "      <td>1.0</td>\n",
       "      <td>0.0</td>\n",
       "      <td>0.0</td>\n",
       "      <td>1.0</td>\n",
       "    </tr>\n",
       "    <tr>\n",
       "      <td>1</td>\n",
       "      <td>02/02/2020</td>\n",
       "      <td>619</td>\n",
       "      <td>1.0</td>\n",
       "      <td>0.0</td>\n",
       "      <td>0.0</td>\n",
       "      <td>1.0</td>\n",
       "    </tr>\n",
       "    <tr>\n",
       "      <td>2</td>\n",
       "      <td>02/03/2020</td>\n",
       "      <td>688</td>\n",
       "      <td>1.0</td>\n",
       "      <td>0.0</td>\n",
       "      <td>0.0</td>\n",
       "      <td>1.0</td>\n",
       "    </tr>\n",
       "    <tr>\n",
       "      <td>3</td>\n",
       "      <td>02/04/2020</td>\n",
       "      <td>758</td>\n",
       "      <td>1.0</td>\n",
       "      <td>0.0</td>\n",
       "      <td>0.0</td>\n",
       "      <td>1.0</td>\n",
       "    </tr>\n",
       "    <tr>\n",
       "      <td>4</td>\n",
       "      <td>02/05/2020</td>\n",
       "      <td>828</td>\n",
       "      <td>1.0</td>\n",
       "      <td>0.0</td>\n",
       "      <td>0.0</td>\n",
       "      <td>1.0</td>\n",
       "    </tr>\n",
       "  </tbody>\n",
       "</table>\n",
       "</div>"
      ],
      "text/plain": [
       "  ObservationDate  SNo  Confirmed  Deaths  Recovered  Active\n",
       "0      02/01/2020  552        1.0     0.0        0.0     1.0\n",
       "1      02/02/2020  619        1.0     0.0        0.0     1.0\n",
       "2      02/03/2020  688        1.0     0.0        0.0     1.0\n",
       "3      02/04/2020  758        1.0     0.0        0.0     1.0\n",
       "4      02/05/2020  828        1.0     0.0        0.0     1.0"
      ]
     },
     "execution_count": 29,
     "metadata": {},
     "output_type": "execute_result"
    }
   ],
   "source": [
    "df_Spain = df2[df2['Country/Region'] == 'Spain']\n",
    "print(f\"Number of records in Spain are {df_Spain.shape}\")\n",
    "df_Spain = df_Spain.groupby(['ObservationDate']).sum().reset_index()\n",
    "#df_italy['Week'] = pd.to_datetime(df_italy['ObservationDate'],errors = 'coerce').dt.week\n",
    "df_Spain.head()"
   ]
  },
  {
   "cell_type": "code",
   "execution_count": 30,
   "metadata": {
    "scrolled": true
   },
   "outputs": [
    {
     "data": {
      "image/png": "[encoded data removed]",
      "text/plain": [
       "<Figure size 432x288 with 1 Axes>"
      ]
     },
     "metadata": {
      "needs_background": "light"
     },
     "output_type": "display_data"
    }
   ],
   "source": [
    "df_Spain.plot(kind='line',x='ObservationDate',\n",
    "              y=['Confirmed','Deaths','Recovered','Active'],\n",
    "              color = ['blue','black','green','red'])\n",
    "plt.title('Covid-19 Trend in Spain')\n",
    "plt.ylabel('Number of Observations')\n",
    "plt.show()"
   ]
  },
  {
   "cell_type": "code",
   "execution_count": 31,
   "metadata": {},
   "outputs": [
    {
     "name": "stdout",
     "output_type": "stream",
     "text": [
      "In Spain, since 02/21/20, Active Cases and Recovery Percentage is 77.58%, 14.87% respectively and Death Rate is 7.55%.\n"
     ]
    }
   ],
   "source": [
    "# Calculating Death, Active, and Recovery Percentage in the Spain\n",
    "\n",
    "active_percentage = round((df_Spain['Active'].sum())/(df_Spain['Confirmed'].sum())* 100,2)\n",
    "recovery_percentage = round((df_Spain['Recovered'].sum())/(df_Spain['Confirmed'].sum())* 100,2)\n",
    "death_percentage = round((df_Spain['Deaths'].sum())/(df_Spain['Confirmed'].sum())* 100,2)\n",
    "print(f\"In Spain, since 02/21/20, Active Cases and Recovery Percentage is {active_percentage}%, {recovery_percentage}% respectively and Death Rate is {death_percentage}%.\")"
   ]
  },
  {
   "cell_type": "markdown",
   "metadata": {},
   "source": [
    "##### Key Takeaways:\n",
    "* There is a straight up surge in confirmed and active cases in Spain beginging on 3/12/20\n",
    "* Confirmed cases and active cases are almost the same, meaning much less recovered cases\n",
    "* Deaths rate and recovered rate both increase at the beginning of the second week in March"
   ]
  },
  {
   "cell_type": "code",
   "execution_count": 51,
   "metadata": {},
   "outputs": [
    {
     "data": {
      "application/vnd.plotly.v1+json": {
       "config": {
        "plotlyServerURL": "https://plot.ly"
       },
       "data": [
        {
         "mode": "lines+markers",
         "name": "China",
         "type": "scatter",
         "x": [
          "01/22/2020",
          "01/23/2020",
          "01/24/2020",
          "01/25/2020",
          "01/26/2020",
          "01/27/2020",
          "01/28/2020",
          "01/29/2020",
          "01/30/2020",
          "01/31/2020",
          "02/01/2020",
          "02/02/2020",
          "02/03/2020",
          "02/04/2020",
          "02/05/2020",
          "02/06/2020",
          "02/07/2020",
          "02/08/2020",
          "02/09/2020",
          "02/10/2020",
          "02/11/2020",
          "02/12/2020",
          "02/13/2020",
          "02/14/2020",
          "02/15/2020",
          "02/16/2020",
          "02/17/2020",
          "02/18/2020",
          "02/19/2020",
          "02/20/2020",
          "02/21/2020",
          "02/22/2020",
          "02/23/2020",
          "02/24/2020",
          "02/25/2020",
          "02/26/2020",
          "02/27/2020",
          "02/28/2020",
          "02/29/2020",
          "03/01/2020",
          "03/02/2020",
          "03/03/2020",
          "03/04/2020",
          "03/05/2020",
          "03/06/2020",
          "03/07/2020",
          "03/08/2020",
          "03/09/2020",
          "03/10/2020",
          "03/11/2020",
          "03/12/2020",
          "03/13/2020",
          "03/14/2020",
          "03/15/2020",
          "03/16/2020",
          "03/17/2020",
          "03/18/2020",
          "03/19/2020",
          "03/20/2020",
          "03/21/2020",
          "03/22/2020",
          "03/23/2020",
          "03/24/2020",
          "03/25/2020",
          "03/26/2020",
          "03/27/2020",
          "03/28/2020",
          "03/29/2020",
          "03/30/2020",
          "03/31/2020",
          "04/01/2020"
         ],
         "y": [
          547,
          639,
          916,
          1399,
          2062,
          2863,
          5494,
          6070,
          8124,
          9783,
          11871,
          16607,
          19693,
          23680,
          27409,
          30553,
          34075,
          36778,
          39790,
          42306,
          44327,
          44699,
          59832,
          66292,
          68347,
          70446,
          72364,
          74139,
          74546,
          74999,
          75472,
          76922,
          76938,
          77152,
          77660,
          78065,
          78498,
          78824,
          79251,
          79826,
          80026,
          80151,
          80271,
          80422,
          80573,
          80652,
          80699,
          80735,
          80757,
          80785,
          80793,
          80801,
          80827,
          80848,
          80867,
          80884,
          80906,
          80931,
          80977,
          81014,
          81060,
          81116,
          81180,
          81221,
          81298,
          81345,
          81401,
          81444,
          81478,
          81524,
          81555
         ]
        },
        {
         "mode": "lines+markers",
         "name": "South Korea",
         "type": "scatter",
         "x": [
          "2020-01-22T00:00:00",
          "2020-01-23T00:00:00",
          "2020-01-24T00:00:00",
          "2020-01-25T00:00:00",
          "2020-01-26T00:00:00",
          "2020-01-27T00:00:00",
          "2020-01-28T00:00:00",
          "2020-01-29T00:00:00",
          "2020-01-30T00:00:00",
          "2020-01-31T00:00:00",
          "2020-02-01T00:00:00",
          "2020-02-02T00:00:00",
          "2020-02-03T00:00:00",
          "2020-02-04T00:00:00",
          "2020-02-05T00:00:00",
          "2020-02-06T00:00:00",
          "2020-02-07T00:00:00",
          "2020-02-08T00:00:00",
          "2020-02-09T00:00:00",
          "2020-02-10T00:00:00",
          "2020-02-11T00:00:00",
          "2020-02-12T00:00:00",
          "2020-02-13T00:00:00",
          "2020-02-14T00:00:00",
          "2020-02-15T00:00:00",
          "2020-02-16T00:00:00",
          "2020-02-17T00:00:00",
          "2020-02-18T00:00:00",
          "2020-02-19T00:00:00",
          "2020-02-20T00:00:00",
          "2020-02-21T00:00:00",
          "2020-02-22T00:00:00",
          "2020-02-23T00:00:00",
          "2020-02-24T00:00:00",
          "2020-02-25T00:00:00",
          "2020-02-26T00:00:00",
          "2020-02-27T00:00:00",
          "2020-02-28T00:00:00",
          "2020-02-29T00:00:00",
          "2020-03-01T00:00:00",
          "2020-03-02T00:00:00",
          "2020-03-03T00:00:00",
          "2020-03-04T00:00:00",
          "2020-03-05T00:00:00",
          "2020-03-06T00:00:00",
          "2020-03-07T00:00:00",
          "2020-03-08T00:00:00",
          "2020-03-09T00:00:00",
          "2020-03-10T00:00:00",
          "2020-03-11T00:00:00",
          "2020-03-12T00:00:00",
          "2020-03-13T00:00:00",
          "2020-03-14T00:00:00",
          "2020-03-15T00:00:00",
          "2020-03-16T00:00:00",
          "2020-03-17T00:00:00",
          "2020-03-18T00:00:00",
          "2020-03-19T00:00:00",
          "2020-03-20T00:00:00",
          "2020-03-21T00:00:00",
          "2020-03-22T00:00:00",
          "2020-03-23T00:00:00",
          "2020-03-24T00:00:00",
          "2020-03-25T00:00:00",
          "2020-03-26T00:00:00",
          "2020-03-27T00:00:00",
          "2020-03-28T00:00:00",
          "2020-03-29T00:00:00",
          "2020-03-30T00:00:00",
          "2020-03-31T00:00:00",
          "2020-04-01T00:00:00"
         ],
         "y": [
          1,
          1,
          2,
          2,
          3,
          4,
          4,
          4,
          4,
          11,
          12,
          15,
          15,
          16,
          19,
          23,
          24,
          24,
          25,
          27,
          28,
          28,
          28,
          28,
          28,
          29,
          30,
          31,
          31,
          104,
          204,
          433,
          602,
          833,
          977,
          1261,
          1766,
          2337,
          3150,
          3736,
          4335,
          5186,
          5621,
          6088,
          6593,
          7041,
          7314,
          7478,
          7513,
          7755,
          7869,
          7979,
          8086,
          8162,
          8236,
          8320,
          8413,
          8565,
          8652,
          8799,
          8897,
          8961,
          9037,
          9137,
          9241,
          9332,
          9478,
          9583,
          9661,
          9786,
          9887
         ]
        },
        {
         "mode": "lines+markers",
         "name": "Italy",
         "type": "scatter",
         "x": [
          "2020-01-31T00:00:00",
          "2020-02-01T00:00:00",
          "2020-02-02T00:00:00",
          "2020-02-03T00:00:00",
          "2020-02-04T00:00:00",
          "2020-02-05T00:00:00",
          "2020-02-06T00:00:00",
          "2020-02-07T00:00:00",
          "2020-02-08T00:00:00",
          "2020-02-09T00:00:00",
          "2020-02-10T00:00:00",
          "2020-02-11T00:00:00",
          "2020-02-12T00:00:00",
          "2020-02-13T00:00:00",
          "2020-02-14T00:00:00",
          "2020-02-15T00:00:00",
          "2020-02-16T00:00:00",
          "2020-02-17T00:00:00",
          "2020-02-18T00:00:00",
          "2020-02-19T00:00:00",
          "2020-02-20T00:00:00",
          "2020-02-21T00:00:00",
          "2020-02-22T00:00:00",
          "2020-02-23T00:00:00",
          "2020-02-24T00:00:00",
          "2020-02-25T00:00:00",
          "2020-02-26T00:00:00",
          "2020-02-27T00:00:00",
          "2020-02-28T00:00:00",
          "2020-02-29T00:00:00",
          "2020-03-01T00:00:00",
          "2020-03-02T00:00:00",
          "2020-03-03T00:00:00",
          "2020-03-04T00:00:00",
          "2020-03-05T00:00:00",
          "2020-03-06T00:00:00",
          "2020-03-07T00:00:00",
          "2020-03-08T00:00:00",
          "2020-03-09T00:00:00",
          "2020-03-10T00:00:00",
          "2020-03-11T00:00:00",
          "2020-03-12T00:00:00",
          "2020-03-13T00:00:00",
          "2020-03-14T00:00:00",
          "2020-03-15T00:00:00",
          "2020-03-16T00:00:00",
          "2020-03-17T00:00:00",
          "2020-03-18T00:00:00",
          "2020-03-19T00:00:00",
          "2020-03-20T00:00:00",
          "2020-03-21T00:00:00",
          "2020-03-22T00:00:00",
          "2020-03-23T00:00:00",
          "2020-03-24T00:00:00",
          "2020-03-25T00:00:00",
          "2020-03-26T00:00:00",
          "2020-03-27T00:00:00",
          "2020-03-28T00:00:00",
          "2020-03-29T00:00:00",
          "2020-03-30T00:00:00",
          "2020-03-31T00:00:00",
          "2020-04-01T00:00:00"
         ],
         "y": [
          2,
          2,
          2,
          2,
          2,
          2,
          2,
          3,
          3,
          3,
          3,
          3,
          3,
          3,
          3,
          3,
          3,
          3,
          3,
          3,
          3,
          20,
          62,
          155,
          229,
          322,
          453,
          655,
          888,
          1128,
          1694,
          2036,
          2502,
          3089,
          3858,
          4636,
          5883,
          7375,
          9172,
          10149,
          12462,
          12462,
          17660,
          21157,
          24747,
          27980,
          31506,
          35713,
          41035,
          47021,
          53578,
          59138,
          63927,
          69176,
          74386,
          80589,
          86498,
          92472,
          97689,
          101739,
          105792,
          110574
         ]
        },
        {
         "mode": "lines+markers",
         "name": "USA",
         "type": "scatter",
         "x": [
          "2020-01-22T00:00:00",
          "2020-01-23T00:00:00",
          "2020-01-24T00:00:00",
          "2020-01-25T00:00:00",
          "2020-01-26T00:00:00",
          "2020-01-27T00:00:00",
          "2020-01-28T00:00:00",
          "2020-01-29T00:00:00",
          "2020-01-30T00:00:00",
          "2020-01-31T00:00:00",
          "2020-02-01T00:00:00",
          "2020-02-02T00:00:00",
          "2020-02-03T00:00:00",
          "2020-02-04T00:00:00",
          "2020-02-05T00:00:00",
          "2020-02-06T00:00:00",
          "2020-02-07T00:00:00",
          "2020-02-08T00:00:00",
          "2020-02-09T00:00:00",
          "2020-02-10T00:00:00",
          "2020-02-11T00:00:00",
          "2020-02-12T00:00:00",
          "2020-02-13T00:00:00",
          "2020-02-14T00:00:00",
          "2020-02-15T00:00:00",
          "2020-02-16T00:00:00",
          "2020-02-17T00:00:00",
          "2020-02-18T00:00:00",
          "2020-02-19T00:00:00",
          "2020-02-20T00:00:00",
          "2020-02-21T00:00:00",
          "2020-02-22T00:00:00",
          "2020-02-23T00:00:00",
          "2020-02-24T00:00:00",
          "2020-02-25T00:00:00",
          "2020-02-26T00:00:00",
          "2020-02-27T00:00:00",
          "2020-02-28T00:00:00",
          "2020-02-29T00:00:00",
          "2020-03-01T00:00:00",
          "2020-03-02T00:00:00",
          "2020-03-03T00:00:00",
          "2020-03-04T00:00:00",
          "2020-03-05T00:00:00",
          "2020-03-06T00:00:00",
          "2020-03-07T00:00:00",
          "2020-03-08T00:00:00",
          "2020-03-09T00:00:00",
          "2020-03-10T00:00:00",
          "2020-03-11T00:00:00",
          "2020-03-12T00:00:00",
          "2020-03-13T00:00:00",
          "2020-03-14T00:00:00",
          "2020-03-15T00:00:00",
          "2020-03-16T00:00:00",
          "2020-03-17T00:00:00",
          "2020-03-18T00:00:00",
          "2020-03-19T00:00:00",
          "2020-03-20T00:00:00",
          "2020-03-21T00:00:00",
          "2020-03-22T00:00:00",
          "2020-03-23T00:00:00",
          "2020-03-24T00:00:00",
          "2020-03-25T00:00:00",
          "2020-03-26T00:00:00",
          "2020-03-27T00:00:00",
          "2020-03-28T00:00:00",
          "2020-03-29T00:00:00",
          "2020-03-30T00:00:00",
          "2020-03-31T00:00:00",
          "2020-04-01T00:00:00"
         ],
         "y": [
          1,
          1,
          2,
          2,
          5,
          5,
          5,
          5,
          5,
          6,
          8,
          8,
          11,
          11,
          12,
          12,
          12,
          12,
          12,
          12,
          13,
          13,
          15,
          15,
          15,
          15,
          15,
          15,
          15,
          15,
          35,
          35,
          35,
          53,
          53,
          59,
          60,
          62,
          70,
          76,
          101,
          122,
          153,
          221,
          278,
          417,
          537,
          605,
          959,
          1281,
          1663,
          2179,
          2726,
          3499,
          4632,
          6421,
          7786,
          13680,
          19101,
          25493,
          33746,
          43667,
          53740,
          65778,
          83836,
          101657,
          121478,
          140886,
          161807,
          188172,
          213372
         ]
        },
        {
         "mode": "lines+markers",
         "name": "Spain",
         "type": "scatter",
         "x": [
          "2020-02-01T00:00:00",
          "2020-02-02T00:00:00",
          "2020-02-03T00:00:00",
          "2020-02-04T00:00:00",
          "2020-02-05T00:00:00",
          "2020-02-06T00:00:00",
          "2020-02-07T00:00:00",
          "2020-02-08T00:00:00",
          "2020-02-09T00:00:00",
          "2020-02-10T00:00:00",
          "2020-02-11T00:00:00",
          "2020-02-12T00:00:00",
          "2020-02-13T00:00:00",
          "2020-02-14T00:00:00",
          "2020-02-15T00:00:00",
          "2020-02-16T00:00:00",
          "2020-02-17T00:00:00",
          "2020-02-18T00:00:00",
          "2020-02-19T00:00:00",
          "2020-02-20T00:00:00",
          "2020-02-21T00:00:00",
          "2020-02-22T00:00:00",
          "2020-02-23T00:00:00",
          "2020-02-24T00:00:00",
          "2020-02-25T00:00:00",
          "2020-02-26T00:00:00",
          "2020-02-27T00:00:00",
          "2020-02-28T00:00:00",
          "2020-02-29T00:00:00",
          "2020-03-01T00:00:00",
          "2020-03-02T00:00:00",
          "2020-03-03T00:00:00",
          "2020-03-04T00:00:00",
          "2020-03-05T00:00:00",
          "2020-03-06T00:00:00",
          "2020-03-07T00:00:00",
          "2020-03-08T00:00:00",
          "2020-03-09T00:00:00",
          "2020-03-10T00:00:00",
          "2020-03-11T00:00:00",
          "2020-03-12T00:00:00",
          "2020-03-13T00:00:00",
          "2020-03-14T00:00:00",
          "2020-03-15T00:00:00",
          "2020-03-16T00:00:00",
          "2020-03-17T00:00:00",
          "2020-03-18T00:00:00",
          "2020-03-19T00:00:00",
          "2020-03-20T00:00:00",
          "2020-03-21T00:00:00",
          "2020-03-22T00:00:00",
          "2020-03-23T00:00:00",
          "2020-03-24T00:00:00",
          "2020-03-25T00:00:00",
          "2020-03-26T00:00:00",
          "2020-03-27T00:00:00",
          "2020-03-28T00:00:00",
          "2020-03-29T00:00:00",
          "2020-03-30T00:00:00",
          "2020-03-31T00:00:00",
          "2020-04-01T00:00:00"
         ],
         "y": [
          1,
          1,
          1,
          1,
          1,
          1,
          1,
          1,
          2,
          2,
          2,
          2,
          2,
          2,
          2,
          2,
          2,
          2,
          2,
          2,
          2,
          2,
          2,
          2,
          6,
          13,
          15,
          32,
          45,
          84,
          120,
          165,
          222,
          259,
          400,
          500,
          673,
          1073,
          1695,
          2277,
          2277,
          5232,
          6391,
          7798,
          9942,
          11748,
          13910,
          17963,
          20410,
          25374,
          28603,
          35136,
          39885,
          49515,
          57786,
          65719,
          73235,
          80110,
          87956,
          95923,
          104118
         ]
        }
       ],
       "layout": {
        "font": {
         "family": "Courier New, monospace",
         "size": 18
        },
        "plot_bgcolor": "rgb(250, 242, 242)",
        "template": {
         "data": {
          "bar": [
           {
            "error_x": {
             "color": "#2a3f5f"
            },
            "error_y": {
             "color": "#2a3f5f"
            },
            "marker": {
             "line": {
              "color": "#E5ECF6",
              "width": 0.5
             }
            },
            "type": "bar"
           }
          ],
          "barpolar": [
           {
            "marker": {
             "line": {
              "color": "#E5ECF6",
              "width": 0.5
             }
            },
            "type": "barpolar"
           }
          ],
          "carpet": [
           {
            "aaxis": {
             "endlinecolor": "#2a3f5f",
             "gridcolor": "white",
             "linecolor": "white",
             "minorgridcolor": "white",
             "startlinecolor": "#2a3f5f"
            },
            "baxis": {
             "endlinecolor": "#2a3f5f",
             "gridcolor": "white",
             "linecolor": "white",
             "minorgridcolor": "white",
             "startlinecolor": "#2a3f5f"
            },
            "type": "carpet"
           }
          ],
          "choropleth": [
           {
            "colorbar": {
             "outlinewidth": 0,
             "ticks": ""
            },
            "type": "choropleth"
           }
          ],
          "contour": [
           {
            "colorbar": {
             "outlinewidth": 0,
             "ticks": ""
            },
            "colorscale": [
             [
              0,
              "#0d0887"
             ],
             [
              0.1111111111111111,
              "#46039f"
             ],
             [
              0.2222222222222222,
              "#7201a8"
             ],
             [
              0.3333333333333333,
              "#9c179e"
             ],
             [
              0.4444444444444444,
              "#bd3786"
             ],
             [
              0.5555555555555556,
              "#d8576b"
             ],
             [
              0.6666666666666666,
              "#ed7953"
             ],
             [
              0.7777777777777778,
              "#fb9f3a"
             ],
             [
              0.8888888888888888,
              "#fdca26"
             ],
             [
              1,
              "#f0f921"
             ]
            ],
            "type": "contour"
           }
          ],
          "contourcarpet": [
           {
            "colorbar": {
             "outlinewidth": 0,
             "ticks": ""
            },
            "type": "contourcarpet"
           }
          ],
          "heatmap": [
           {
            "colorbar": {
             "outlinewidth": 0,
             "ticks": ""
            },
            "colorscale": [
             [
              0,
              "#0d0887"
             ],
             [
              0.1111111111111111,
              "#46039f"
             ],
             [
              0.2222222222222222,
              "#7201a8"
             ],
             [
              0.3333333333333333,
              "#9c179e"
             ],
             [
              0.4444444444444444,
              "#bd3786"
             ],
             [
              0.5555555555555556,
              "#d8576b"
             ],
             [
              0.6666666666666666,
              "#ed7953"
             ],
             [
              0.7777777777777778,
              "#fb9f3a"
             ],
             [
              0.8888888888888888,
              "#fdca26"
             ],
             [
              1,
              "#f0f921"
             ]
            ],
            "type": "heatmap"
           }
          ],
          "heatmapgl": [
           {
            "colorbar": {
             "outlinewidth": 0,
             "ticks": ""
            },
            "colorscale": [
             [
              0,
              "#0d0887"
             ],
             [
              0.1111111111111111,
              "#46039f"
             ],
             [
              0.2222222222222222,
              "#7201a8"
             ],
             [
              0.3333333333333333,
              "#9c179e"
             ],
             [
              0.4444444444444444,
              "#bd3786"
             ],
             [
              0.5555555555555556,
              "#d8576b"
             ],
             [
              0.6666666666666666,
              "#ed7953"
             ],
             [
              0.7777777777777778,
              "#fb9f3a"
             ],
             [
              0.8888888888888888,
              "#fdca26"
             ],
             [
              1,
              "#f0f921"
             ]
            ],
            "type": "heatmapgl"
           }
          ],
          "histogram": [
           {
            "marker": {
             "colorbar": {
              "outlinewidth": 0,
              "ticks": ""
             }
            },
            "type": "histogram"
           }
          ],
          "histogram2d": [
           {
            "colorbar": {
             "outlinewidth": 0,
             "ticks": ""
            },
            "colorscale": [
             [
              0,
              "#0d0887"
             ],
             [
              0.1111111111111111,
              "#46039f"
             ],
             [
              0.2222222222222222,
              "#7201a8"
             ],
             [
              0.3333333333333333,
              "#9c179e"
             ],
             [
              0.4444444444444444,
              "#bd3786"
             ],
             [
              0.5555555555555556,
              "#d8576b"
             ],
             [
              0.6666666666666666,
              "#ed7953"
             ],
             [
              0.7777777777777778,
              "#fb9f3a"
             ],
             [
              0.8888888888888888,
              "#fdca26"
             ],
             [
              1,
              "#f0f921"
             ]
            ],
            "type": "histogram2d"
           }
          ],
          "histogram2dcontour": [
           {
            "colorbar": {
             "outlinewidth": 0,
             "ticks": ""
            },
            "colorscale": [
             [
              0,
              "#0d0887"
             ],
             [
              0.1111111111111111,
              "#46039f"
             ],
             [
              0.2222222222222222,
              "#7201a8"
             ],
             [
              0.3333333333333333,
              "#9c179e"
             ],
             [
              0.4444444444444444,
              "#bd3786"
             ],
             [
              0.5555555555555556,
              "#d8576b"
             ],
             [
              0.6666666666666666,
              "#ed7953"
             ],
             [
              0.7777777777777778,
              "#fb9f3a"
             ],
             [
              0.8888888888888888,
              "#fdca26"
             ],
             [
              1,
              "#f0f921"
             ]
            ],
            "type": "histogram2dcontour"
           }
          ],
          "mesh3d": [
           {
            "colorbar": {
             "outlinewidth": 0,
             "ticks": ""
            },
            "type": "mesh3d"
           }
          ],
          "parcoords": [
           {
            "line": {
             "colorbar": {
              "outlinewidth": 0,
              "ticks": ""
             }
            },
            "type": "parcoords"
           }
          ],
          "pie": [
           {
            "automargin": true,
            "type": "pie"
           }
          ],
          "scatter": [
           {
            "marker": {
             "colorbar": {
              "outlinewidth": 0,
              "ticks": ""
             }
            },
            "type": "scatter"
           }
          ],
          "scatter3d": [
           {
            "line": {
             "colorbar": {
              "outlinewidth": 0,
              "ticks": ""
             }
            },
            "marker": {
             "colorbar": {
              "outlinewidth": 0,
              "ticks": ""
             }
            },
            "type": "scatter3d"
           }
          ],
          "scattercarpet": [
           {
            "marker": {
             "colorbar": {
              "outlinewidth": 0,
              "ticks": ""
             }
            },
            "type": "scattercarpet"
           }
          ],
          "scattergeo": [
           {
            "marker": {
             "colorbar": {
              "outlinewidth": 0,
              "ticks": ""
             }
            },
            "type": "scattergeo"
           }
          ],
          "scattergl": [
           {
            "marker": {
             "colorbar": {
              "outlinewidth": 0,
              "ticks": ""
             }
            },
            "type": "scattergl"
           }
          ],
          "scattermapbox": [
           {
            "marker": {
             "colorbar": {
              "outlinewidth": 0,
              "ticks": ""
             }
            },
            "type": "scattermapbox"
           }
          ],
          "scatterpolar": [
           {
            "marker": {
             "colorbar": {
              "outlinewidth": 0,
              "ticks": ""
             }
            },
            "type": "scatterpolar"
           }
          ],
          "scatterpolargl": [
           {
            "marker": {
             "colorbar": {
              "outlinewidth": 0,
              "ticks": ""
             }
            },
            "type": "scatterpolargl"
           }
          ],
          "scatterternary": [
           {
            "marker": {
             "colorbar": {
              "outlinewidth": 0,
              "ticks": ""
             }
            },
            "type": "scatterternary"
           }
          ],
          "surface": [
           {
            "colorbar": {
             "outlinewidth": 0,
             "ticks": ""
            },
            "colorscale": [
             [
              0,
              "#0d0887"
             ],
             [
              0.1111111111111111,
              "#46039f"
             ],
             [
              0.2222222222222222,
              "#7201a8"
             ],
             [
              0.3333333333333333,
              "#9c179e"
             ],
             [
              0.4444444444444444,
              "#bd3786"
             ],
             [
              0.5555555555555556,
              "#d8576b"
             ],
             [
              0.6666666666666666,
              "#ed7953"
             ],
             [
              0.7777777777777778,
              "#fb9f3a"
             ],
             [
              0.8888888888888888,
              "#fdca26"
             ],
             [
              1,
              "#f0f921"
             ]
            ],
            "type": "surface"
           }
          ],
          "table": [
           {
            "cells": {
             "fill": {
              "color": "#EBF0F8"
             },
             "line": {
              "color": "white"
             }
            },
            "header": {
             "fill": {
              "color": "#C8D4E3"
             },
             "line": {
              "color": "white"
             }
            },
            "type": "table"
           }
          ]
         },
         "layout": {
          "annotationdefaults": {
           "arrowcolor": "#2a3f5f",
           "arrowhead": 0,
           "arrowwidth": 1
          },
          "coloraxis": {
           "colorbar": {
            "outlinewidth": 0,
            "ticks": ""
           }
          },
          "colorscale": {
           "diverging": [
            [
             0,
             "#8e0152"
            ],
            [
             0.1,
             "#c51b7d"
            ],
            [
             0.2,
             "#de77ae"
            ],
            [
             0.3,
             "#f1b6da"
            ],
            [
             0.4,
             "#fde0ef"
            ],
            [
             0.5,
             "#f7f7f7"
            ],
            [
             0.6,
             "#e6f5d0"
            ],
            [
             0.7,
             "#b8e186"
            ],
            [
             0.8,
             "#7fbc41"
            ],
            [
             0.9,
             "#4d9221"
            ],
            [
             1,
             "#276419"
            ]
           ],
           "sequential": [
            [
             0,
             "#0d0887"
            ],
            [
             0.1111111111111111,
             "#46039f"
            ],
            [
             0.2222222222222222,
             "#7201a8"
            ],
            [
             0.3333333333333333,
             "#9c179e"
            ],
            [
             0.4444444444444444,
             "#bd3786"
            ],
            [
             0.5555555555555556,
             "#d8576b"
            ],
            [
             0.6666666666666666,
             "#ed7953"
            ],
            [
             0.7777777777777778,
             "#fb9f3a"
            ],
            [
             0.8888888888888888,
             "#fdca26"
            ],
            [
             1,
             "#f0f921"
            ]
           ],
           "sequentialminus": [
            [
             0,
             "#0d0887"
            ],
            [
             0.1111111111111111,
             "#46039f"
            ],
            [
             0.2222222222222222,
             "#7201a8"
            ],
            [
             0.3333333333333333,
             "#9c179e"
            ],
            [
             0.4444444444444444,
             "#bd3786"
            ],
            [
             0.5555555555555556,
             "#d8576b"
            ],
            [
             0.6666666666666666,
             "#ed7953"
            ],
            [
             0.7777777777777778,
             "#fb9f3a"
            ],
            [
             0.8888888888888888,
             "#fdca26"
            ],
            [
             1,
             "#f0f921"
            ]
           ]
          },
          "colorway": [
           "#636efa",
           "#EF553B",
           "#00cc96",
           "#ab63fa",
           "#FFA15A",
           "#19d3f3",
           "#FF6692",
           "#B6E880",
           "#FF97FF",
           "#FECB52"
          ],
          "font": {
           "color": "#2a3f5f"
          },
          "geo": {
           "bgcolor": "white",
           "lakecolor": "white",
           "landcolor": "#E5ECF6",
           "showlakes": true,
           "showland": true,
           "subunitcolor": "white"
          },
          "hoverlabel": {
           "align": "left"
          },
          "hovermode": "closest",
          "mapbox": {
           "style": "light"
          },
          "paper_bgcolor": "white",
          "plot_bgcolor": "#E5ECF6",
          "polar": {
           "angularaxis": {
            "gridcolor": "white",
            "linecolor": "white",
            "ticks": ""
           },
           "bgcolor": "#E5ECF6",
           "radialaxis": {
            "gridcolor": "white",
            "linecolor": "white",
            "ticks": ""
           }
          },
          "scene": {
           "xaxis": {
            "backgroundcolor": "#E5ECF6",
            "gridcolor": "white",
            "gridwidth": 2,
            "linecolor": "white",
            "showbackground": true,
            "ticks": "",
            "zerolinecolor": "white"
           },
           "yaxis": {
            "backgroundcolor": "#E5ECF6",
            "gridcolor": "white",
            "gridwidth": 2,
            "linecolor": "white",
            "showbackground": true,
            "ticks": "",
            "zerolinecolor": "white"
           },
           "zaxis": {
            "backgroundcolor": "#E5ECF6",
            "gridcolor": "white",
            "gridwidth": 2,
            "linecolor": "white",
            "showbackground": true,
            "ticks": "",
            "zerolinecolor": "white"
           }
          },
          "shapedefaults": {
           "line": {
            "color": "#2a3f5f"
           }
          },
          "ternary": {
           "aaxis": {
            "gridcolor": "white",
            "linecolor": "white",
            "ticks": ""
           },
           "baxis": {
            "gridcolor": "white",
            "linecolor": "white",
            "ticks": ""
           },
           "bgcolor": "#E5ECF6",
           "caxis": {
            "gridcolor": "white",
            "linecolor": "white",
            "ticks": ""
           }
          },
          "title": {
           "x": 0.05
          },
          "xaxis": {
           "automargin": true,
           "gridcolor": "white",
           "linecolor": "white",
           "ticks": "",
           "title": {
            "standoff": 15
           },
           "zerolinecolor": "white",
           "zerolinewidth": 2
          },
          "yaxis": {
           "automargin": true,
           "gridcolor": "white",
           "linecolor": "white",
           "ticks": "",
           "title": {
            "standoff": 15
           },
           "zerolinecolor": "white",
           "zerolinewidth": 2
          }
         }
        },
        "title": {
         "text": "Confirmed Cases Across Countries"
        },
        "xaxis": {
         "title": {
          "text": "Date"
         }
        },
        "yaxis": {
         "title": {
          "text": "Number of Cases"
         }
        }
       }
      },
      "text/html": [
       "<div>\n",
       "        \n",
       "        \n",
       "            <div id=\"45675312-65ff-4106-9a6c-0b2a48b8fc7e\" class=\"plotly-graph-div\" style=\"height:525px; width:100%;\"></div>\n",
       "            <script type=\"text/javascript\">\n",
       "                require([\"plotly\"], function(Plotly) {\n",
       "                    window.PLOTLYENV=window.PLOTLYENV || {};\n",
       "                    \n",
       "                if (document.getElementById(\"45675312-65ff-4106-9a6c-0b2a48b8fc7e\")) {\n",
       "                    Plotly.newPlot(\n",
       "                        '45675312-65ff-4106-9a6c-0b2a48b8fc7e',\n",
       "                        [{\"mode\": \"lines+markers\", \"name\": \"China\", \"type\": \"scatter\", \"x\": [\"01/22/2020\", \"01/23/2020\", \"01/24/2020\", \"01/25/2020\", \"01/26/2020\", \"01/27/2020\", \"01/28/2020\", \"01/29/2020\", \"01/30/2020\", \"01/31/2020\", \"02/01/2020\", \"02/02/2020\", \"02/03/2020\", \"02/04/2020\", \"02/05/2020\", \"02/06/2020\", \"02/07/2020\", \"02/08/2020\", \"02/09/2020\", \"02/10/2020\", \"02/11/2020\", \"02/12/2020\", \"02/13/2020\", \"02/14/2020\", \"02/15/2020\", \"02/16/2020\", \"02/17/2020\", \"02/18/2020\", \"02/19/2020\", \"02/20/2020\", \"02/21/2020\", \"02/22/2020\", \"02/23/2020\", \"02/24/2020\", \"02/25/2020\", \"02/26/2020\", \"02/27/2020\", \"02/28/2020\", \"02/29/2020\", \"03/01/2020\", \"03/02/2020\", \"03/03/2020\", \"03/04/2020\", \"03/05/2020\", \"03/06/2020\", \"03/07/2020\", \"03/08/2020\", \"03/09/2020\", \"03/10/2020\", \"03/11/2020\", \"03/12/2020\", \"03/13/2020\", \"03/14/2020\", \"03/15/2020\", \"03/16/2020\", \"03/17/2020\", \"03/18/2020\", \"03/19/2020\", \"03/20/2020\", \"03/21/2020\", \"03/22/2020\", \"03/23/2020\", \"03/24/2020\", \"03/25/2020\", \"03/26/2020\", \"03/27/2020\", \"03/28/2020\", \"03/29/2020\", \"03/30/2020\", \"03/31/2020\", \"04/01/2020\"], \"y\": [547.0, 639.0, 916.0, 1399.0, 2062.0, 2863.0, 5494.0, 6070.0, 8124.0, 9783.0, 11871.0, 16607.0, 19693.0, 23680.0, 27409.0, 30553.0, 34075.0, 36778.0, 39790.0, 42306.0, 44327.0, 44699.0, 59832.0, 66292.0, 68347.0, 70446.0, 72364.0, 74139.0, 74546.0, 74999.0, 75472.0, 76922.0, 76938.0, 77152.0, 77660.0, 78065.0, 78498.0, 78824.0, 79251.0, 79826.0, 80026.0, 80151.0, 80271.0, 80422.0, 80573.0, 80652.0, 80699.0, 80735.0, 80757.0, 80785.0, 80793.0, 80801.0, 80827.0, 80848.0, 80867.0, 80884.0, 80906.0, 80931.0, 80977.0, 81014.0, 81060.0, 81116.0, 81180.0, 81221.0, 81298.0, 81345.0, 81401.0, 81444.0, 81478.0, 81524.0, 81555.0]}, {\"mode\": \"lines+markers\", \"name\": \"South Korea\", \"type\": \"scatter\", \"x\": [\"2020-01-22T00:00:00\", \"2020-01-23T00:00:00\", \"2020-01-24T00:00:00\", \"2020-01-25T00:00:00\", \"2020-01-26T00:00:00\", \"2020-01-27T00:00:00\", \"2020-01-28T00:00:00\", \"2020-01-29T00:00:00\", \"2020-01-30T00:00:00\", \"2020-01-31T00:00:00\", \"2020-02-01T00:00:00\", \"2020-02-02T00:00:00\", \"2020-02-03T00:00:00\", \"2020-02-04T00:00:00\", \"2020-02-05T00:00:00\", \"2020-02-06T00:00:00\", \"2020-02-07T00:00:00\", \"2020-02-08T00:00:00\", \"2020-02-09T00:00:00\", \"2020-02-10T00:00:00\", \"2020-02-11T00:00:00\", \"2020-02-12T00:00:00\", \"2020-02-13T00:00:00\", \"2020-02-14T00:00:00\", \"2020-02-15T00:00:00\", \"2020-02-16T00:00:00\", \"2020-02-17T00:00:00\", \"2020-02-18T00:00:00\", \"2020-02-19T00:00:00\", \"2020-02-20T00:00:00\", \"2020-02-21T00:00:00\", \"2020-02-22T00:00:00\", \"2020-02-23T00:00:00\", \"2020-02-24T00:00:00\", \"2020-02-25T00:00:00\", \"2020-02-26T00:00:00\", \"2020-02-27T00:00:00\", \"2020-02-28T00:00:00\", \"2020-02-29T00:00:00\", \"2020-03-01T00:00:00\", \"2020-03-02T00:00:00\", \"2020-03-03T00:00:00\", \"2020-03-04T00:00:00\", \"2020-03-05T00:00:00\", \"2020-03-06T00:00:00\", \"2020-03-07T00:00:00\", \"2020-03-08T00:00:00\", \"2020-03-09T00:00:00\", \"2020-03-10T00:00:00\", \"2020-03-11T00:00:00\", \"2020-03-12T00:00:00\", \"2020-03-13T00:00:00\", \"2020-03-14T00:00:00\", \"2020-03-15T00:00:00\", \"2020-03-16T00:00:00\", \"2020-03-17T00:00:00\", \"2020-03-18T00:00:00\", \"2020-03-19T00:00:00\", \"2020-03-20T00:00:00\", \"2020-03-21T00:00:00\", \"2020-03-22T00:00:00\", \"2020-03-23T00:00:00\", \"2020-03-24T00:00:00\", \"2020-03-25T00:00:00\", \"2020-03-26T00:00:00\", \"2020-03-27T00:00:00\", \"2020-03-28T00:00:00\", \"2020-03-29T00:00:00\", \"2020-03-30T00:00:00\", \"2020-03-31T00:00:00\", \"2020-04-01T00:00:00\"], \"y\": [1.0, 1.0, 2.0, 2.0, 3.0, 4.0, 4.0, 4.0, 4.0, 11.0, 12.0, 15.0, 15.0, 16.0, 19.0, 23.0, 24.0, 24.0, 25.0, 27.0, 28.0, 28.0, 28.0, 28.0, 28.0, 29.0, 30.0, 31.0, 31.0, 104.0, 204.0, 433.0, 602.0, 833.0, 977.0, 1261.0, 1766.0, 2337.0, 3150.0, 3736.0, 4335.0, 5186.0, 5621.0, 6088.0, 6593.0, 7041.0, 7314.0, 7478.0, 7513.0, 7755.0, 7869.0, 7979.0, 8086.0, 8162.0, 8236.0, 8320.0, 8413.0, 8565.0, 8652.0, 8799.0, 8897.0, 8961.0, 9037.0, 9137.0, 9241.0, 9332.0, 9478.0, 9583.0, 9661.0, 9786.0, 9887.0]}, {\"mode\": \"lines+markers\", \"name\": \"Italy\", \"type\": \"scatter\", \"x\": [\"2020-01-31T00:00:00\", \"2020-02-01T00:00:00\", \"2020-02-02T00:00:00\", \"2020-02-03T00:00:00\", \"2020-02-04T00:00:00\", \"2020-02-05T00:00:00\", \"2020-02-06T00:00:00\", \"2020-02-07T00:00:00\", \"2020-02-08T00:00:00\", \"2020-02-09T00:00:00\", \"2020-02-10T00:00:00\", \"2020-02-11T00:00:00\", \"2020-02-12T00:00:00\", \"2020-02-13T00:00:00\", \"2020-02-14T00:00:00\", \"2020-02-15T00:00:00\", \"2020-02-16T00:00:00\", \"2020-02-17T00:00:00\", \"2020-02-18T00:00:00\", \"2020-02-19T00:00:00\", \"2020-02-20T00:00:00\", \"2020-02-21T00:00:00\", \"2020-02-22T00:00:00\", \"2020-02-23T00:00:00\", \"2020-02-24T00:00:00\", \"2020-02-25T00:00:00\", \"2020-02-26T00:00:00\", \"2020-02-27T00:00:00\", \"2020-02-28T00:00:00\", \"2020-02-29T00:00:00\", \"2020-03-01T00:00:00\", \"2020-03-02T00:00:00\", \"2020-03-03T00:00:00\", \"2020-03-04T00:00:00\", \"2020-03-05T00:00:00\", \"2020-03-06T00:00:00\", \"2020-03-07T00:00:00\", \"2020-03-08T00:00:00\", \"2020-03-09T00:00:00\", \"2020-03-10T00:00:00\", \"2020-03-11T00:00:00\", \"2020-03-12T00:00:00\", \"2020-03-13T00:00:00\", \"2020-03-14T00:00:00\", \"2020-03-15T00:00:00\", \"2020-03-16T00:00:00\", \"2020-03-17T00:00:00\", \"2020-03-18T00:00:00\", \"2020-03-19T00:00:00\", \"2020-03-20T00:00:00\", \"2020-03-21T00:00:00\", \"2020-03-22T00:00:00\", \"2020-03-23T00:00:00\", \"2020-03-24T00:00:00\", \"2020-03-25T00:00:00\", \"2020-03-26T00:00:00\", \"2020-03-27T00:00:00\", \"2020-03-28T00:00:00\", \"2020-03-29T00:00:00\", \"2020-03-30T00:00:00\", \"2020-03-31T00:00:00\", \"2020-04-01T00:00:00\"], \"y\": [2.0, 2.0, 2.0, 2.0, 2.0, 2.0, 2.0, 3.0, 3.0, 3.0, 3.0, 3.0, 3.0, 3.0, 3.0, 3.0, 3.0, 3.0, 3.0, 3.0, 3.0, 20.0, 62.0, 155.0, 229.0, 322.0, 453.0, 655.0, 888.0, 1128.0, 1694.0, 2036.0, 2502.0, 3089.0, 3858.0, 4636.0, 5883.0, 7375.0, 9172.0, 10149.0, 12462.0, 12462.0, 17660.0, 21157.0, 24747.0, 27980.0, 31506.0, 35713.0, 41035.0, 47021.0, 53578.0, 59138.0, 63927.0, 69176.0, 74386.0, 80589.0, 86498.0, 92472.0, 97689.0, 101739.0, 105792.0, 110574.0]}, {\"mode\": \"lines+markers\", \"name\": \"USA\", \"type\": \"scatter\", \"x\": [\"2020-01-22T00:00:00\", \"2020-01-23T00:00:00\", \"2020-01-24T00:00:00\", \"2020-01-25T00:00:00\", \"2020-01-26T00:00:00\", \"2020-01-27T00:00:00\", \"2020-01-28T00:00:00\", \"2020-01-29T00:00:00\", \"2020-01-30T00:00:00\", \"2020-01-31T00:00:00\", \"2020-02-01T00:00:00\", \"2020-02-02T00:00:00\", \"2020-02-03T00:00:00\", \"2020-02-04T00:00:00\", \"2020-02-05T00:00:00\", \"2020-02-06T00:00:00\", \"2020-02-07T00:00:00\", \"2020-02-08T00:00:00\", \"2020-02-09T00:00:00\", \"2020-02-10T00:00:00\", \"2020-02-11T00:00:00\", \"2020-02-12T00:00:00\", \"2020-02-13T00:00:00\", \"2020-02-14T00:00:00\", \"2020-02-15T00:00:00\", \"2020-02-16T00:00:00\", \"2020-02-17T00:00:00\", \"2020-02-18T00:00:00\", \"2020-02-19T00:00:00\", \"2020-02-20T00:00:00\", \"2020-02-21T00:00:00\", \"2020-02-22T00:00:00\", \"2020-02-23T00:00:00\", \"2020-02-24T00:00:00\", \"2020-02-25T00:00:00\", \"2020-02-26T00:00:00\", \"2020-02-27T00:00:00\", \"2020-02-28T00:00:00\", \"2020-02-29T00:00:00\", \"2020-03-01T00:00:00\", \"2020-03-02T00:00:00\", \"2020-03-03T00:00:00\", \"2020-03-04T00:00:00\", \"2020-03-05T00:00:00\", \"2020-03-06T00:00:00\", \"2020-03-07T00:00:00\", \"2020-03-08T00:00:00\", \"2020-03-09T00:00:00\", \"2020-03-10T00:00:00\", \"2020-03-11T00:00:00\", \"2020-03-12T00:00:00\", \"2020-03-13T00:00:00\", \"2020-03-14T00:00:00\", \"2020-03-15T00:00:00\", \"2020-03-16T00:00:00\", \"2020-03-17T00:00:00\", \"2020-03-18T00:00:00\", \"2020-03-19T00:00:00\", \"2020-03-20T00:00:00\", \"2020-03-21T00:00:00\", \"2020-03-22T00:00:00\", \"2020-03-23T00:00:00\", \"2020-03-24T00:00:00\", \"2020-03-25T00:00:00\", \"2020-03-26T00:00:00\", \"2020-03-27T00:00:00\", \"2020-03-28T00:00:00\", \"2020-03-29T00:00:00\", \"2020-03-30T00:00:00\", \"2020-03-31T00:00:00\", \"2020-04-01T00:00:00\"], \"y\": [1.0, 1.0, 2.0, 2.0, 5.0, 5.0, 5.0, 5.0, 5.0, 6.0, 8.0, 8.0, 11.0, 11.0, 12.0, 12.0, 12.0, 12.0, 12.0, 12.0, 13.0, 13.0, 15.0, 15.0, 15.0, 15.0, 15.0, 15.0, 15.0, 15.0, 35.0, 35.0, 35.0, 53.0, 53.0, 59.0, 60.0, 62.0, 70.0, 76.0, 101.0, 122.0, 153.0, 221.0, 278.0, 417.0, 537.0, 605.0, 959.0, 1281.0, 1663.0, 2179.0, 2726.0, 3499.0, 4632.0, 6421.0, 7786.0, 13680.0, 19101.0, 25493.0, 33746.0, 43667.0, 53740.0, 65778.0, 83836.0, 101657.0, 121478.0, 140886.0, 161807.0, 188172.0, 213372.0]}, {\"mode\": \"lines+markers\", \"name\": \"Spain\", \"type\": \"scatter\", \"x\": [\"2020-02-01T00:00:00\", \"2020-02-02T00:00:00\", \"2020-02-03T00:00:00\", \"2020-02-04T00:00:00\", \"2020-02-05T00:00:00\", \"2020-02-06T00:00:00\", \"2020-02-07T00:00:00\", \"2020-02-08T00:00:00\", \"2020-02-09T00:00:00\", \"2020-02-10T00:00:00\", \"2020-02-11T00:00:00\", \"2020-02-12T00:00:00\", \"2020-02-13T00:00:00\", \"2020-02-14T00:00:00\", \"2020-02-15T00:00:00\", \"2020-02-16T00:00:00\", \"2020-02-17T00:00:00\", \"2020-02-18T00:00:00\", \"2020-02-19T00:00:00\", \"2020-02-20T00:00:00\", \"2020-02-21T00:00:00\", \"2020-02-22T00:00:00\", \"2020-02-23T00:00:00\", \"2020-02-24T00:00:00\", \"2020-02-25T00:00:00\", \"2020-02-26T00:00:00\", \"2020-02-27T00:00:00\", \"2020-02-28T00:00:00\", \"2020-02-29T00:00:00\", \"2020-03-01T00:00:00\", \"2020-03-02T00:00:00\", \"2020-03-03T00:00:00\", \"2020-03-04T00:00:00\", \"2020-03-05T00:00:00\", \"2020-03-06T00:00:00\", \"2020-03-07T00:00:00\", \"2020-03-08T00:00:00\", \"2020-03-09T00:00:00\", \"2020-03-10T00:00:00\", \"2020-03-11T00:00:00\", \"2020-03-12T00:00:00\", \"2020-03-13T00:00:00\", \"2020-03-14T00:00:00\", \"2020-03-15T00:00:00\", \"2020-03-16T00:00:00\", \"2020-03-17T00:00:00\", \"2020-03-18T00:00:00\", \"2020-03-19T00:00:00\", \"2020-03-20T00:00:00\", \"2020-03-21T00:00:00\", \"2020-03-22T00:00:00\", \"2020-03-23T00:00:00\", \"2020-03-24T00:00:00\", \"2020-03-25T00:00:00\", \"2020-03-26T00:00:00\", \"2020-03-27T00:00:00\", \"2020-03-28T00:00:00\", \"2020-03-29T00:00:00\", \"2020-03-30T00:00:00\", \"2020-03-31T00:00:00\", \"2020-04-01T00:00:00\"], \"y\": [1.0, 1.0, 1.0, 1.0, 1.0, 1.0, 1.0, 1.0, 2.0, 2.0, 2.0, 2.0, 2.0, 2.0, 2.0, 2.0, 2.0, 2.0, 2.0, 2.0, 2.0, 2.0, 2.0, 2.0, 6.0, 13.0, 15.0, 32.0, 45.0, 84.0, 120.0, 165.0, 222.0, 259.0, 400.0, 500.0, 673.0, 1073.0, 1695.0, 2277.0, 2277.0, 5232.0, 6391.0, 7798.0, 9942.0, 11748.0, 13910.0, 17963.0, 20410.0, 25374.0, 28603.0, 35136.0, 39885.0, 49515.0, 57786.0, 65719.0, 73235.0, 80110.0, 87956.0, 95923.0, 104118.0]}],\n",
       "                        {\"font\": {\"family\": \"Courier New, monospace\", \"size\": 18}, \"plot_bgcolor\": \"rgb(250, 242, 242)\", \"template\": {\"data\": {\"bar\": [{\"error_x\": {\"color\": \"#2a3f5f\"}, \"error_y\": {\"color\": \"#2a3f5f\"}, \"marker\": {\"line\": {\"color\": \"#E5ECF6\", \"width\": 0.5}}, \"type\": \"bar\"}], \"barpolar\": [{\"marker\": {\"line\": {\"color\": \"#E5ECF6\", \"width\": 0.5}}, \"type\": \"barpolar\"}], \"carpet\": [{\"aaxis\": {\"endlinecolor\": \"#2a3f5f\", \"gridcolor\": \"white\", \"linecolor\": \"white\", \"minorgridcolor\": \"white\", \"startlinecolor\": \"#2a3f5f\"}, \"baxis\": {\"endlinecolor\": \"#2a3f5f\", \"gridcolor\": \"white\", \"linecolor\": \"white\", \"minorgridcolor\": \"white\", \"startlinecolor\": \"#2a3f5f\"}, \"type\": \"carpet\"}], \"choropleth\": [{\"colorbar\": {\"outlinewidth\": 0, \"ticks\": \"\"}, \"type\": \"choropleth\"}], \"contour\": [{\"colorbar\": {\"outlinewidth\": 0, \"ticks\": \"\"}, \"colorscale\": [[0.0, \"#0d0887\"], [0.1111111111111111, \"#46039f\"], [0.2222222222222222, \"#7201a8\"], [0.3333333333333333, \"#9c179e\"], [0.4444444444444444, \"#bd3786\"], [0.5555555555555556, \"#d8576b\"], [0.6666666666666666, \"#ed7953\"], [0.7777777777777778, \"#fb9f3a\"], [0.8888888888888888, \"#fdca26\"], [1.0, \"#f0f921\"]], \"type\": \"contour\"}], \"contourcarpet\": [{\"colorbar\": {\"outlinewidth\": 0, \"ticks\": \"\"}, \"type\": \"contourcarpet\"}], \"heatmap\": [{\"colorbar\": {\"outlinewidth\": 0, \"ticks\": \"\"}, \"colorscale\": [[0.0, \"#0d0887\"], [0.1111111111111111, \"#46039f\"], [0.2222222222222222, \"#7201a8\"], [0.3333333333333333, \"#9c179e\"], [0.4444444444444444, \"#bd3786\"], [0.5555555555555556, \"#d8576b\"], [0.6666666666666666, \"#ed7953\"], [0.7777777777777778, \"#fb9f3a\"], [0.8888888888888888, \"#fdca26\"], [1.0, \"#f0f921\"]], \"type\": \"heatmap\"}], \"heatmapgl\": [{\"colorbar\": {\"outlinewidth\": 0, \"ticks\": \"\"}, \"colorscale\": [[0.0, \"#0d0887\"], [0.1111111111111111, \"#46039f\"], [0.2222222222222222, \"#7201a8\"], [0.3333333333333333, \"#9c179e\"], [0.4444444444444444, \"#bd3786\"], [0.5555555555555556, \"#d8576b\"], [0.6666666666666666, \"#ed7953\"], [0.7777777777777778, \"#fb9f3a\"], [0.8888888888888888, \"#fdca26\"], [1.0, \"#f0f921\"]], \"type\": \"heatmapgl\"}], \"histogram\": [{\"marker\": {\"colorbar\": {\"outlinewidth\": 0, \"ticks\": \"\"}}, \"type\": \"histogram\"}], \"histogram2d\": [{\"colorbar\": {\"outlinewidth\": 0, \"ticks\": \"\"}, \"colorscale\": [[0.0, \"#0d0887\"], [0.1111111111111111, \"#46039f\"], [0.2222222222222222, \"#7201a8\"], [0.3333333333333333, \"#9c179e\"], [0.4444444444444444, \"#bd3786\"], [0.5555555555555556, \"#d8576b\"], [0.6666666666666666, \"#ed7953\"], [0.7777777777777778, \"#fb9f3a\"], [0.8888888888888888, \"#fdca26\"], [1.0, \"#f0f921\"]], \"type\": \"histogram2d\"}], \"histogram2dcontour\": [{\"colorbar\": {\"outlinewidth\": 0, \"ticks\": \"\"}, \"colorscale\": [[0.0, \"#0d0887\"], [0.1111111111111111, \"#46039f\"], [0.2222222222222222, \"#7201a8\"], [0.3333333333333333, \"#9c179e\"], [0.4444444444444444, \"#bd3786\"], [0.5555555555555556, \"#d8576b\"], [0.6666666666666666, \"#ed7953\"], [0.7777777777777778, \"#fb9f3a\"], [0.8888888888888888, \"#fdca26\"], [1.0, \"#f0f921\"]], \"type\": \"histogram2dcontour\"}], \"mesh3d\": [{\"colorbar\": {\"outlinewidth\": 0, \"ticks\": \"\"}, \"type\": \"mesh3d\"}], \"parcoords\": [{\"line\": {\"colorbar\": {\"outlinewidth\": 0, \"ticks\": \"\"}}, \"type\": \"parcoords\"}], \"pie\": [{\"automargin\": true, \"type\": \"pie\"}], \"scatter\": [{\"marker\": {\"colorbar\": {\"outlinewidth\": 0, \"ticks\": \"\"}}, \"type\": \"scatter\"}], \"scatter3d\": [{\"line\": {\"colorbar\": {\"outlinewidth\": 0, \"ticks\": \"\"}}, \"marker\": {\"colorbar\": {\"outlinewidth\": 0, \"ticks\": \"\"}}, \"type\": \"scatter3d\"}], \"scattercarpet\": [{\"marker\": {\"colorbar\": {\"outlinewidth\": 0, \"ticks\": \"\"}}, \"type\": \"scattercarpet\"}], \"scattergeo\": [{\"marker\": {\"colorbar\": {\"outlinewidth\": 0, \"ticks\": \"\"}}, \"type\": \"scattergeo\"}], \"scattergl\": [{\"marker\": {\"colorbar\": {\"outlinewidth\": 0, \"ticks\": \"\"}}, \"type\": \"scattergl\"}], \"scattermapbox\": [{\"marker\": {\"colorbar\": {\"outlinewidth\": 0, \"ticks\": \"\"}}, \"type\": \"scattermapbox\"}], \"scatterpolar\": [{\"marker\": {\"colorbar\": {\"outlinewidth\": 0, \"ticks\": \"\"}}, \"type\": \"scatterpolar\"}], \"scatterpolargl\": [{\"marker\": {\"colorbar\": {\"outlinewidth\": 0, \"ticks\": \"\"}}, \"type\": \"scatterpolargl\"}], \"scatterternary\": [{\"marker\": {\"colorbar\": {\"outlinewidth\": 0, \"ticks\": \"\"}}, \"type\": \"scatterternary\"}], \"surface\": [{\"colorbar\": {\"outlinewidth\": 0, \"ticks\": \"\"}, \"colorscale\": [[0.0, \"#0d0887\"], [0.1111111111111111, \"#46039f\"], [0.2222222222222222, \"#7201a8\"], [0.3333333333333333, \"#9c179e\"], [0.4444444444444444, \"#bd3786\"], [0.5555555555555556, \"#d8576b\"], [0.6666666666666666, \"#ed7953\"], [0.7777777777777778, \"#fb9f3a\"], [0.8888888888888888, \"#fdca26\"], [1.0, \"#f0f921\"]], \"type\": \"surface\"}], \"table\": [{\"cells\": {\"fill\": {\"color\": \"#EBF0F8\"}, \"line\": {\"color\": \"white\"}}, \"header\": {\"fill\": {\"color\": \"#C8D4E3\"}, \"line\": {\"color\": \"white\"}}, \"type\": \"table\"}]}, \"layout\": {\"annotationdefaults\": {\"arrowcolor\": \"#2a3f5f\", \"arrowhead\": 0, \"arrowwidth\": 1}, \"coloraxis\": {\"colorbar\": {\"outlinewidth\": 0, \"ticks\": \"\"}}, \"colorscale\": {\"diverging\": [[0, \"#8e0152\"], [0.1, \"#c51b7d\"], [0.2, \"#de77ae\"], [0.3, \"#f1b6da\"], [0.4, \"#fde0ef\"], [0.5, \"#f7f7f7\"], [0.6, \"#e6f5d0\"], [0.7, \"#b8e186\"], [0.8, \"#7fbc41\"], [0.9, \"#4d9221\"], [1, \"#276419\"]], \"sequential\": [[0.0, \"#0d0887\"], [0.1111111111111111, \"#46039f\"], [0.2222222222222222, \"#7201a8\"], [0.3333333333333333, \"#9c179e\"], [0.4444444444444444, \"#bd3786\"], [0.5555555555555556, \"#d8576b\"], [0.6666666666666666, \"#ed7953\"], [0.7777777777777778, \"#fb9f3a\"], [0.8888888888888888, \"#fdca26\"], [1.0, \"#f0f921\"]], \"sequentialminus\": [[0.0, \"#0d0887\"], [0.1111111111111111, \"#46039f\"], [0.2222222222222222, \"#7201a8\"], [0.3333333333333333, \"#9c179e\"], [0.4444444444444444, \"#bd3786\"], [0.5555555555555556, \"#d8576b\"], [0.6666666666666666, \"#ed7953\"], [0.7777777777777778, \"#fb9f3a\"], [0.8888888888888888, \"#fdca26\"], [1.0, \"#f0f921\"]]}, \"colorway\": [\"#636efa\", \"#EF553B\", \"#00cc96\", \"#ab63fa\", \"#FFA15A\", \"#19d3f3\", \"#FF6692\", \"#B6E880\", \"#FF97FF\", \"#FECB52\"], \"font\": {\"color\": \"#2a3f5f\"}, \"geo\": {\"bgcolor\": \"white\", \"lakecolor\": \"white\", \"landcolor\": \"#E5ECF6\", \"showlakes\": true, \"showland\": true, \"subunitcolor\": \"white\"}, \"hoverlabel\": {\"align\": \"left\"}, \"hovermode\": \"closest\", \"mapbox\": {\"style\": \"light\"}, \"paper_bgcolor\": \"white\", \"plot_bgcolor\": \"#E5ECF6\", \"polar\": {\"angularaxis\": {\"gridcolor\": \"white\", \"linecolor\": \"white\", \"ticks\": \"\"}, \"bgcolor\": \"#E5ECF6\", \"radialaxis\": {\"gridcolor\": \"white\", \"linecolor\": \"white\", \"ticks\": \"\"}}, \"scene\": {\"xaxis\": {\"backgroundcolor\": \"#E5ECF6\", \"gridcolor\": \"white\", \"gridwidth\": 2, \"linecolor\": \"white\", \"showbackground\": true, \"ticks\": \"\", \"zerolinecolor\": \"white\"}, \"yaxis\": {\"backgroundcolor\": \"#E5ECF6\", \"gridcolor\": \"white\", \"gridwidth\": 2, \"linecolor\": \"white\", \"showbackground\": true, \"ticks\": \"\", \"zerolinecolor\": \"white\"}, \"zaxis\": {\"backgroundcolor\": \"#E5ECF6\", \"gridcolor\": \"white\", \"gridwidth\": 2, \"linecolor\": \"white\", \"showbackground\": true, \"ticks\": \"\", \"zerolinecolor\": \"white\"}}, \"shapedefaults\": {\"line\": {\"color\": \"#2a3f5f\"}}, \"ternary\": {\"aaxis\": {\"gridcolor\": \"white\", \"linecolor\": \"white\", \"ticks\": \"\"}, \"baxis\": {\"gridcolor\": \"white\", \"linecolor\": \"white\", \"ticks\": \"\"}, \"bgcolor\": \"#E5ECF6\", \"caxis\": {\"gridcolor\": \"white\", \"linecolor\": \"white\", \"ticks\": \"\"}}, \"title\": {\"x\": 0.05}, \"xaxis\": {\"automargin\": true, \"gridcolor\": \"white\", \"linecolor\": \"white\", \"ticks\": \"\", \"title\": {\"standoff\": 15}, \"zerolinecolor\": \"white\", \"zerolinewidth\": 2}, \"yaxis\": {\"automargin\": true, \"gridcolor\": \"white\", \"linecolor\": \"white\", \"ticks\": \"\", \"title\": {\"standoff\": 15}, \"zerolinecolor\": \"white\", \"zerolinewidth\": 2}}}, \"title\": {\"text\": \"Confirmed Cases Across Countries\"}, \"xaxis\": {\"title\": {\"text\": \"Date\"}}, \"yaxis\": {\"title\": {\"text\": \"Number of Cases\"}}},\n",
       "                        {\"responsive\": true}\n",
       "                    ).then(function(){\n",
       "                            \n",
       "var gd = document.getElementById('45675312-65ff-4106-9a6c-0b2a48b8fc7e');\n",
       "var x = new MutationObserver(function (mutations, observer) {{\n",
       "        var display = window.getComputedStyle(gd).display;\n",
       "        if (!display || display === 'none') {{\n",
       "            console.log([gd, 'removed!']);\n",
       "            Plotly.purge(gd);\n",
       "            observer.disconnect();\n",
       "        }}\n",
       "}});\n",
       "\n",
       "// Listen for the removal of the full notebook cells\n",
       "var notebookContainer = gd.closest('#notebook-container');\n",
       "if (notebookContainer) {{\n",
       "    x.observe(notebookContainer, {childList: true});\n",
       "}}\n",
       "\n",
       "// Listen for the clearing of the current output cell\n",
       "var outputEl = gd.closest('.output');\n",
       "if (outputEl) {{\n",
       "    x.observe(outputEl, {childList: true});\n",
       "}}\n",
       "\n",
       "                        })\n",
       "                };\n",
       "                });\n",
       "            </script>\n",
       "        </div>"
      ]
     },
     "metadata": {},
     "output_type": "display_data"
    }
   ],
   "source": [
    "import plotly.graph_objs as go\n",
    "fig = go.Figure()\n",
    "fig.add_trace(go.Scatter(x=df_china['ObservationDate'], y=df_china['Confirmed'],\n",
    "                    mode='lines+markers',name='China'))\n",
    "fig.add_trace(go.Scatter(x=df_sKorea['ObservationDate'], y=df_sKorea['Confirmed'],\n",
    "                    mode='lines+markers',name='South Korea'))\n",
    "fig.add_trace(go.Scatter(x=df_italy['ObservationDate'], y=df_italy['Confirmed'],\n",
    "                    mode='lines+markers',name='Italy'))\n",
    "fig.add_trace(go.Scatter(x=df_USA['ObservationDate'], y=df_USA['Confirmed'],\n",
    "                    mode='lines+markers',name='USA'))\n",
    "fig.add_trace(go.Scatter(x=df_Spain['ObservationDate'], y=df_Spain['Confirmed'],\n",
    "                    mode='lines+markers',name='Spain'))\n",
    "fig.update_layout(title_text='Confirmed Cases Across Countries',xaxis_title='Date',yaxis_title='Number of Cases',plot_bgcolor='rgb(250, 242, 242)', font=dict(\n",
    "        family=\"Courier New, monospace\",\n",
    "        size=18,\n",
    "    ))\n",
    "\n",
    "fig.show()"
   ]
  },
  {
   "cell_type": "code",
   "execution_count": 33,
   "metadata": {},
   "outputs": [
    {
     "data": {
      "application/vnd.plotly.v1+json": {
       "config": {
        "plotlyServerURL": "https://plot.ly"
       },
       "data": [
        {
         "mode": "lines+markers",
         "name": "China",
         "type": "scatter",
         "x": [
          "01/22/2020",
          "01/23/2020",
          "01/24/2020",
          "01/25/2020",
          "01/26/2020",
          "01/27/2020",
          "01/28/2020",
          "01/29/2020",
          "01/30/2020",
          "01/31/2020",
          "02/01/2020",
          "02/02/2020",
          "02/03/2020",
          "02/04/2020",
          "02/05/2020",
          "02/06/2020",
          "02/07/2020",
          "02/08/2020",
          "02/09/2020",
          "02/10/2020",
          "02/11/2020",
          "02/12/2020",
          "02/13/2020",
          "02/14/2020",
          "02/15/2020",
          "02/16/2020",
          "02/17/2020",
          "02/18/2020",
          "02/19/2020",
          "02/20/2020",
          "02/21/2020",
          "02/22/2020",
          "02/23/2020",
          "02/24/2020",
          "02/25/2020",
          "02/26/2020",
          "02/27/2020",
          "02/28/2020",
          "02/29/2020",
          "03/01/2020",
          "03/02/2020",
          "03/03/2020",
          "03/04/2020",
          "03/05/2020",
          "03/06/2020",
          "03/07/2020",
          "03/08/2020",
          "03/09/2020",
          "03/10/2020",
          "03/11/2020",
          "03/12/2020",
          "03/13/2020",
          "03/14/2020",
          "03/15/2020",
          "03/16/2020",
          "03/17/2020",
          "03/18/2020",
          "03/19/2020",
          "03/20/2020",
          "03/21/2020",
          "03/22/2020",
          "03/23/2020",
          "03/24/2020",
          "03/25/2020",
          "03/26/2020",
          "03/27/2020",
          "03/28/2020",
          "03/29/2020",
          "03/30/2020",
          "03/31/2020",
          "04/01/2020"
         ],
         "y": [
          28,
          30,
          36,
          39,
          49,
          58,
          101,
          120,
          135,
          214,
          275,
          463,
          614,
          843,
          1115,
          1476,
          1998,
          2595,
          3218,
          3917,
          4635,
          5079,
          6213,
          7973,
          9294,
          10748,
          12455,
          14199,
          15952,
          18002,
          18693,
          22687,
          23170,
          24990,
          27650,
          30053,
          32898,
          36291,
          39279,
          42118,
          44810,
          47404,
          49955,
          52240,
          53888,
          55478,
          57320,
          58735,
          60106,
          61569,
          62824,
          64109,
          65572,
          66926,
          67816,
          68700,
          69653,
          70430,
          71158,
          71749,
          72252,
          72709,
          73169,
          73661,
          74061,
          74600,
          74978,
          75460,
          75790,
          76068,
          76248
         ]
        },
        {
         "mode": "lines+markers",
         "name": "South Korea",
         "type": "scatter",
         "x": [
          "01/22/2020",
          "01/23/2020",
          "01/24/2020",
          "01/25/2020",
          "01/26/2020",
          "01/27/2020",
          "01/28/2020",
          "01/29/2020",
          "01/30/2020",
          "01/31/2020",
          "02/01/2020",
          "02/02/2020",
          "02/03/2020",
          "02/04/2020",
          "02/05/2020",
          "02/06/2020",
          "02/07/2020",
          "02/08/2020",
          "02/09/2020",
          "02/10/2020",
          "02/11/2020",
          "02/12/2020",
          "02/13/2020",
          "02/14/2020",
          "02/15/2020",
          "02/16/2020",
          "02/17/2020",
          "02/18/2020",
          "02/19/2020",
          "02/20/2020",
          "02/21/2020",
          "02/22/2020",
          "02/23/2020",
          "02/24/2020",
          "02/25/2020",
          "02/26/2020",
          "02/27/2020",
          "02/28/2020",
          "02/29/2020",
          "03/01/2020",
          "03/02/2020",
          "03/03/2020",
          "03/04/2020",
          "03/05/2020",
          "03/06/2020",
          "03/07/2020",
          "03/08/2020",
          "03/09/2020",
          "03/10/2020",
          "03/11/2020",
          "03/12/2020",
          "03/13/2020",
          "03/14/2020",
          "03/15/2020",
          "03/16/2020",
          "03/17/2020",
          "03/18/2020",
          "03/19/2020",
          "03/20/2020",
          "03/21/2020",
          "03/22/2020",
          "03/23/2020",
          "03/24/2020",
          "03/25/2020",
          "03/26/2020",
          "03/27/2020",
          "03/28/2020",
          "03/29/2020",
          "03/30/2020",
          "03/31/2020",
          "04/01/2020"
         ],
         "y": [
          0,
          0,
          0,
          0,
          0,
          0,
          0,
          0,
          0,
          0,
          0,
          0,
          0,
          0,
          0,
          0,
          1,
          1,
          3,
          3,
          3,
          7,
          7,
          7,
          9,
          9,
          10,
          12,
          12,
          16,
          16,
          16,
          18,
          18,
          22,
          22,
          22,
          22,
          27,
          30,
          30,
          30,
          41,
          41,
          135,
          135,
          118,
          118,
          247,
          288,
          333,
          510,
          510,
          510,
          1137,
          1407,
          1540,
          1540,
          1540,
          1540,
          2909,
          3166,
          3507,
          3730,
          4144,
          4528,
          4811,
          5033,
          5228,
          5408,
          5567
         ]
        },
        {
         "mode": "lines+markers",
         "name": "Italy",
         "type": "scatter",
         "x": [
          "01/31/2020",
          "02/01/2020",
          "02/02/2020",
          "02/03/2020",
          "02/04/2020",
          "02/05/2020",
          "02/06/2020",
          "02/07/2020",
          "02/08/2020",
          "02/09/2020",
          "02/10/2020",
          "02/11/2020",
          "02/12/2020",
          "02/13/2020",
          "02/14/2020",
          "02/15/2020",
          "02/16/2020",
          "02/17/2020",
          "02/18/2020",
          "02/19/2020",
          "02/20/2020",
          "02/21/2020",
          "02/22/2020",
          "02/23/2020",
          "02/24/2020",
          "02/25/2020",
          "02/26/2020",
          "02/27/2020",
          "02/28/2020",
          "02/29/2020",
          "03/01/2020",
          "03/02/2020",
          "03/03/2020",
          "03/04/2020",
          "03/05/2020",
          "03/06/2020",
          "03/07/2020",
          "03/08/2020",
          "03/09/2020",
          "03/10/2020",
          "03/11/2020",
          "03/12/2020",
          "03/13/2020",
          "03/14/2020",
          "03/15/2020",
          "03/16/2020",
          "03/17/2020",
          "03/18/2020",
          "03/19/2020",
          "03/20/2020",
          "03/21/2020",
          "03/22/2020",
          "03/23/2020",
          "03/24/2020",
          "03/25/2020",
          "03/26/2020",
          "03/27/2020",
          "03/28/2020",
          "03/29/2020",
          "03/30/2020",
          "03/31/2020",
          "04/01/2020"
         ],
         "y": [
          0,
          0,
          0,
          0,
          0,
          0,
          0,
          0,
          0,
          0,
          0,
          0,
          0,
          0,
          0,
          0,
          0,
          0,
          0,
          0,
          0,
          0,
          1,
          2,
          1,
          1,
          3,
          45,
          46,
          46,
          83,
          149,
          160,
          276,
          414,
          523,
          589,
          622,
          724,
          724,
          1045,
          1045,
          1439,
          1966,
          2335,
          2749,
          2941,
          4025,
          4440,
          4440,
          6072,
          7024,
          7432,
          8326,
          9362,
          10361,
          10950,
          12384,
          13030,
          14620,
          15729,
          16847
         ]
        },
        {
         "mode": "lines+markers",
         "name": "USA",
         "type": "scatter",
         "x": [
          "01/22/2020",
          "01/23/2020",
          "01/24/2020",
          "01/25/2020",
          "01/26/2020",
          "01/27/2020",
          "01/28/2020",
          "01/29/2020",
          "01/30/2020",
          "01/31/2020",
          "02/01/2020",
          "02/02/2020",
          "02/03/2020",
          "02/04/2020",
          "02/05/2020",
          "02/06/2020",
          "02/07/2020",
          "02/08/2020",
          "02/09/2020",
          "02/10/2020",
          "02/11/2020",
          "02/12/2020",
          "02/13/2020",
          "02/14/2020",
          "02/15/2020",
          "02/16/2020",
          "02/17/2020",
          "02/18/2020",
          "02/19/2020",
          "02/20/2020",
          "02/21/2020",
          "02/22/2020",
          "02/23/2020",
          "02/24/2020",
          "02/25/2020",
          "02/26/2020",
          "02/27/2020",
          "02/28/2020",
          "02/29/2020",
          "03/01/2020",
          "03/02/2020",
          "03/03/2020",
          "03/04/2020",
          "03/05/2020",
          "03/06/2020",
          "03/07/2020",
          "03/08/2020",
          "03/09/2020",
          "03/10/2020",
          "03/11/2020",
          "03/12/2020",
          "03/13/2020",
          "03/14/2020",
          "03/15/2020",
          "03/16/2020",
          "03/17/2020",
          "03/18/2020",
          "03/19/2020",
          "03/20/2020",
          "03/21/2020",
          "03/22/2020",
          "03/23/2020",
          "03/24/2020",
          "03/25/2020",
          "03/26/2020",
          "03/27/2020",
          "03/28/2020",
          "03/29/2020",
          "03/30/2020",
          "03/31/2020",
          "04/01/2020"
         ],
         "y": [
          0,
          0,
          0,
          0,
          0,
          0,
          0,
          0,
          0,
          0,
          0,
          0,
          0,
          0,
          0,
          0,
          0,
          0,
          3,
          3,
          3,
          3,
          3,
          3,
          3,
          3,
          3,
          3,
          3,
          3,
          5,
          5,
          5,
          5,
          6,
          6,
          6,
          7,
          7,
          7,
          7,
          8,
          8,
          8,
          8,
          8,
          8,
          8,
          8,
          8,
          12,
          12,
          12,
          12,
          17,
          17,
          106,
          108,
          147,
          171,
          0,
          0,
          348,
          361,
          681,
          869,
          1072,
          2665,
          5644,
          7024,
          8474
         ]
        },
        {
         "mode": "lines+markers",
         "name": "Spain",
         "type": "scatter",
         "x": [
          "02/01/2020",
          "02/02/2020",
          "02/03/2020",
          "02/04/2020",
          "02/05/2020",
          "02/06/2020",
          "02/07/2020",
          "02/08/2020",
          "02/09/2020",
          "02/10/2020",
          "02/11/2020",
          "02/12/2020",
          "02/13/2020",
          "02/14/2020",
          "02/15/2020",
          "02/16/2020",
          "02/17/2020",
          "02/18/2020",
          "02/19/2020",
          "02/20/2020",
          "02/21/2020",
          "02/22/2020",
          "02/23/2020",
          "02/24/2020",
          "02/25/2020",
          "02/26/2020",
          "02/27/2020",
          "02/28/2020",
          "02/29/2020",
          "03/01/2020",
          "03/02/2020",
          "03/03/2020",
          "03/04/2020",
          "03/05/2020",
          "03/06/2020",
          "03/07/2020",
          "03/08/2020",
          "03/09/2020",
          "03/10/2020",
          "03/11/2020",
          "03/12/2020",
          "03/13/2020",
          "03/14/2020",
          "03/15/2020",
          "03/16/2020",
          "03/17/2020",
          "03/18/2020",
          "03/19/2020",
          "03/20/2020",
          "03/21/2020",
          "03/22/2020",
          "03/23/2020",
          "03/24/2020",
          "03/25/2020",
          "03/26/2020",
          "03/27/2020",
          "03/28/2020",
          "03/29/2020",
          "03/30/2020",
          "03/31/2020",
          "04/01/2020"
         ],
         "y": [
          0,
          0,
          0,
          0,
          0,
          0,
          0,
          0,
          0,
          0,
          0,
          0,
          0,
          0,
          2,
          2,
          2,
          2,
          2,
          2,
          2,
          2,
          2,
          2,
          2,
          2,
          2,
          2,
          2,
          2,
          2,
          2,
          2,
          2,
          2,
          30,
          30,
          32,
          32,
          183,
          183,
          193,
          517,
          517,
          530,
          1028,
          1081,
          1107,
          1588,
          2125,
          2125,
          3355,
          3794,
          5367,
          7015,
          9357,
          12285,
          14709,
          16780,
          19259,
          22647
         ]
        }
       ],
       "layout": {
        "font": {
         "family": "Courier New, monospace",
         "size": 18
        },
        "plot_bgcolor": "rgb(250, 242, 242)",
        "template": {
         "data": {
          "bar": [
           {
            "error_x": {
             "color": "#2a3f5f"
            },
            "error_y": {
             "color": "#2a3f5f"
            },
            "marker": {
             "line": {
              "color": "#E5ECF6",
              "width": 0.5
             }
            },
            "type": "bar"
           }
          ],
          "barpolar": [
           {
            "marker": {
             "line": {
              "color": "#E5ECF6",
              "width": 0.5
             }
            },
            "type": "barpolar"
           }
          ],
          "carpet": [
           {
            "aaxis": {
             "endlinecolor": "#2a3f5f",
             "gridcolor": "white",
             "linecolor": "white",
             "minorgridcolor": "white",
             "startlinecolor": "#2a3f5f"
            },
            "baxis": {
             "endlinecolor": "#2a3f5f",
             "gridcolor": "white",
             "linecolor": "white",
             "minorgridcolor": "white",
             "startlinecolor": "#2a3f5f"
            },
            "type": "carpet"
           }
          ],
          "choropleth": [
           {
            "colorbar": {
             "outlinewidth": 0,
             "ticks": ""
            },
            "type": "choropleth"
           }
          ],
          "contour": [
           {
            "colorbar": {
             "outlinewidth": 0,
             "ticks": ""
            },
            "colorscale": [
             [
              0,
              "#0d0887"
             ],
             [
              0.1111111111111111,
              "#46039f"
             ],
             [
              0.2222222222222222,
              "#7201a8"
             ],
             [
              0.3333333333333333,
              "#9c179e"
             ],
             [
              0.4444444444444444,
              "#bd3786"
             ],
             [
              0.5555555555555556,
              "#d8576b"
             ],
             [
              0.6666666666666666,
              "#ed7953"
             ],
             [
              0.7777777777777778,
              "#fb9f3a"
             ],
             [
              0.8888888888888888,
              "#fdca26"
             ],
             [
              1,
              "#f0f921"
             ]
            ],
            "type": "contour"
           }
          ],
          "contourcarpet": [
           {
            "colorbar": {
             "outlinewidth": 0,
             "ticks": ""
            },
            "type": "contourcarpet"
           }
          ],
          "heatmap": [
           {
            "colorbar": {
             "outlinewidth": 0,
             "ticks": ""
            },
            "colorscale": [
             [
              0,
              "#0d0887"
             ],
             [
              0.1111111111111111,
              "#46039f"
             ],
             [
              0.2222222222222222,
              "#7201a8"
             ],
             [
              0.3333333333333333,
              "#9c179e"
             ],
             [
              0.4444444444444444,
              "#bd3786"
             ],
             [
              0.5555555555555556,
              "#d8576b"
             ],
             [
              0.6666666666666666,
              "#ed7953"
             ],
             [
              0.7777777777777778,
              "#fb9f3a"
             ],
             [
              0.8888888888888888,
              "#fdca26"
             ],
             [
              1,
              "#f0f921"
             ]
            ],
            "type": "heatmap"
           }
          ],
          "heatmapgl": [
           {
            "colorbar": {
             "outlinewidth": 0,
             "ticks": ""
            },
            "colorscale": [
             [
              0,
              "#0d0887"
             ],
             [
              0.1111111111111111,
              "#46039f"
             ],
             [
              0.2222222222222222,
              "#7201a8"
             ],
             [
              0.3333333333333333,
              "#9c179e"
             ],
             [
              0.4444444444444444,
              "#bd3786"
             ],
             [
              0.5555555555555556,
              "#d8576b"
             ],
             [
              0.6666666666666666,
              "#ed7953"
             ],
             [
              0.7777777777777778,
              "#fb9f3a"
             ],
             [
              0.8888888888888888,
              "#fdca26"
             ],
             [
              1,
              "#f0f921"
             ]
            ],
            "type": "heatmapgl"
           }
          ],
          "histogram": [
           {
            "marker": {
             "colorbar": {
              "outlinewidth": 0,
              "ticks": ""
             }
            },
            "type": "histogram"
           }
          ],
          "histogram2d": [
           {
            "colorbar": {
             "outlinewidth": 0,
             "ticks": ""
            },
            "colorscale": [
             [
              0,
              "#0d0887"
             ],
             [
              0.1111111111111111,
              "#46039f"
             ],
             [
              0.2222222222222222,
              "#7201a8"
             ],
             [
              0.3333333333333333,
              "#9c179e"
             ],
             [
              0.4444444444444444,
              "#bd3786"
             ],
             [
              0.5555555555555556,
              "#d8576b"
             ],
             [
              0.6666666666666666,
              "#ed7953"
             ],
             [
              0.7777777777777778,
              "#fb9f3a"
             ],
             [
              0.8888888888888888,
              "#fdca26"
             ],
             [
              1,
              "#f0f921"
             ]
            ],
            "type": "histogram2d"
           }
          ],
          "histogram2dcontour": [
           {
            "colorbar": {
             "outlinewidth": 0,
             "ticks": ""
            },
            "colorscale": [
             [
              0,
              "#0d0887"
             ],
             [
              0.1111111111111111,
              "#46039f"
             ],
             [
              0.2222222222222222,
              "#7201a8"
             ],
             [
              0.3333333333333333,
              "#9c179e"
             ],
             [
              0.4444444444444444,
              "#bd3786"
             ],
             [
              0.5555555555555556,
              "#d8576b"
             ],
             [
              0.6666666666666666,
              "#ed7953"
             ],
             [
              0.7777777777777778,
              "#fb9f3a"
             ],
             [
              0.8888888888888888,
              "#fdca26"
             ],
             [
              1,
              "#f0f921"
             ]
            ],
            "type": "histogram2dcontour"
           }
          ],
          "mesh3d": [
           {
            "colorbar": {
             "outlinewidth": 0,
             "ticks": ""
            },
            "type": "mesh3d"
           }
          ],
          "parcoords": [
           {
            "line": {
             "colorbar": {
              "outlinewidth": 0,
              "ticks": ""
             }
            },
            "type": "parcoords"
           }
          ],
          "pie": [
           {
            "automargin": true,
            "type": "pie"
           }
          ],
          "scatter": [
           {
            "marker": {
             "colorbar": {
              "outlinewidth": 0,
              "ticks": ""
             }
            },
            "type": "scatter"
           }
          ],
          "scatter3d": [
           {
            "line": {
             "colorbar": {
              "outlinewidth": 0,
              "ticks": ""
             }
            },
            "marker": {
             "colorbar": {
              "outlinewidth": 0,
              "ticks": ""
             }
            },
            "type": "scatter3d"
           }
          ],
          "scattercarpet": [
           {
            "marker": {
             "colorbar": {
              "outlinewidth": 0,
              "ticks": ""
             }
            },
            "type": "scattercarpet"
           }
          ],
          "scattergeo": [
           {
            "marker": {
             "colorbar": {
              "outlinewidth": 0,
              "ticks": ""
             }
            },
            "type": "scattergeo"
           }
          ],
          "scattergl": [
           {
            "marker": {
             "colorbar": {
              "outlinewidth": 0,
              "ticks": ""
             }
            },
            "type": "scattergl"
           }
          ],
          "scattermapbox": [
           {
            "marker": {
             "colorbar": {
              "outlinewidth": 0,
              "ticks": ""
             }
            },
            "type": "scattermapbox"
           }
          ],
          "scatterpolar": [
           {
            "marker": {
             "colorbar": {
              "outlinewidth": 0,
              "ticks": ""
             }
            },
            "type": "scatterpolar"
           }
          ],
          "scatterpolargl": [
           {
            "marker": {
             "colorbar": {
              "outlinewidth": 0,
              "ticks": ""
             }
            },
            "type": "scatterpolargl"
           }
          ],
          "scatterternary": [
           {
            "marker": {
             "colorbar": {
              "outlinewidth": 0,
              "ticks": ""
             }
            },
            "type": "scatterternary"
           }
          ],
          "surface": [
           {
            "colorbar": {
             "outlinewidth": 0,
             "ticks": ""
            },
            "colorscale": [
             [
              0,
              "#0d0887"
             ],
             [
              0.1111111111111111,
              "#46039f"
             ],
             [
              0.2222222222222222,
              "#7201a8"
             ],
             [
              0.3333333333333333,
              "#9c179e"
             ],
             [
              0.4444444444444444,
              "#bd3786"
             ],
             [
              0.5555555555555556,
              "#d8576b"
             ],
             [
              0.6666666666666666,
              "#ed7953"
             ],
             [
              0.7777777777777778,
              "#fb9f3a"
             ],
             [
              0.8888888888888888,
              "#fdca26"
             ],
             [
              1,
              "#f0f921"
             ]
            ],
            "type": "surface"
           }
          ],
          "table": [
           {
            "cells": {
             "fill": {
              "color": "#EBF0F8"
             },
             "line": {
              "color": "white"
             }
            },
            "header": {
             "fill": {
              "color": "#C8D4E3"
             },
             "line": {
              "color": "white"
             }
            },
            "type": "table"
           }
          ]
         },
         "layout": {
          "annotationdefaults": {
           "arrowcolor": "#2a3f5f",
           "arrowhead": 0,
           "arrowwidth": 1
          },
          "coloraxis": {
           "colorbar": {
            "outlinewidth": 0,
            "ticks": ""
           }
          },
          "colorscale": {
           "diverging": [
            [
             0,
             "#8e0152"
            ],
            [
             0.1,
             "#c51b7d"
            ],
            [
             0.2,
             "#de77ae"
            ],
            [
             0.3,
             "#f1b6da"
            ],
            [
             0.4,
             "#fde0ef"
            ],
            [
             0.5,
             "#f7f7f7"
            ],
            [
             0.6,
             "#e6f5d0"
            ],
            [
             0.7,
             "#b8e186"
            ],
            [
             0.8,
             "#7fbc41"
            ],
            [
             0.9,
             "#4d9221"
            ],
            [
             1,
             "#276419"
            ]
           ],
           "sequential": [
            [
             0,
             "#0d0887"
            ],
            [
             0.1111111111111111,
             "#46039f"
            ],
            [
             0.2222222222222222,
             "#7201a8"
            ],
            [
             0.3333333333333333,
             "#9c179e"
            ],
            [
             0.4444444444444444,
             "#bd3786"
            ],
            [
             0.5555555555555556,
             "#d8576b"
            ],
            [
             0.6666666666666666,
             "#ed7953"
            ],
            [
             0.7777777777777778,
             "#fb9f3a"
            ],
            [
             0.8888888888888888,
             "#fdca26"
            ],
            [
             1,
             "#f0f921"
            ]
           ],
           "sequentialminus": [
            [
             0,
             "#0d0887"
            ],
            [
             0.1111111111111111,
             "#46039f"
            ],
            [
             0.2222222222222222,
             "#7201a8"
            ],
            [
             0.3333333333333333,
             "#9c179e"
            ],
            [
             0.4444444444444444,
             "#bd3786"
            ],
            [
             0.5555555555555556,
             "#d8576b"
            ],
            [
             0.6666666666666666,
             "#ed7953"
            ],
            [
             0.7777777777777778,
             "#fb9f3a"
            ],
            [
             0.8888888888888888,
             "#fdca26"
            ],
            [
             1,
             "#f0f921"
            ]
           ]
          },
          "colorway": [
           "#636efa",
           "#EF553B",
           "#00cc96",
           "#ab63fa",
           "#FFA15A",
           "#19d3f3",
           "#FF6692",
           "#B6E880",
           "#FF97FF",
           "#FECB52"
          ],
          "font": {
           "color": "#2a3f5f"
          },
          "geo": {
           "bgcolor": "white",
           "lakecolor": "white",
           "landcolor": "#E5ECF6",
           "showlakes": true,
           "showland": true,
           "subunitcolor": "white"
          },
          "hoverlabel": {
           "align": "left"
          },
          "hovermode": "closest",
          "mapbox": {
           "style": "light"
          },
          "paper_bgcolor": "white",
          "plot_bgcolor": "#E5ECF6",
          "polar": {
           "angularaxis": {
            "gridcolor": "white",
            "linecolor": "white",
            "ticks": ""
           },
           "bgcolor": "#E5ECF6",
           "radialaxis": {
            "gridcolor": "white",
            "linecolor": "white",
            "ticks": ""
           }
          },
          "scene": {
           "xaxis": {
            "backgroundcolor": "#E5ECF6",
            "gridcolor": "white",
            "gridwidth": 2,
            "linecolor": "white",
            "showbackground": true,
            "ticks": "",
            "zerolinecolor": "white"
           },
           "yaxis": {
            "backgroundcolor": "#E5ECF6",
            "gridcolor": "white",
            "gridwidth": 2,
            "linecolor": "white",
            "showbackground": true,
            "ticks": "",
            "zerolinecolor": "white"
           },
           "zaxis": {
            "backgroundcolor": "#E5ECF6",
            "gridcolor": "white",
            "gridwidth": 2,
            "linecolor": "white",
            "showbackground": true,
            "ticks": "",
            "zerolinecolor": "white"
           }
          },
          "shapedefaults": {
           "line": {
            "color": "#2a3f5f"
           }
          },
          "ternary": {
           "aaxis": {
            "gridcolor": "white",
            "linecolor": "white",
            "ticks": ""
           },
           "baxis": {
            "gridcolor": "white",
            "linecolor": "white",
            "ticks": ""
           },
           "bgcolor": "#E5ECF6",
           "caxis": {
            "gridcolor": "white",
            "linecolor": "white",
            "ticks": ""
           }
          },
          "title": {
           "x": 0.05
          },
          "xaxis": {
           "automargin": true,
           "gridcolor": "white",
           "linecolor": "white",
           "ticks": "",
           "title": {
            "standoff": 15
           },
           "zerolinecolor": "white",
           "zerolinewidth": 2
          },
          "yaxis": {
           "automargin": true,
           "gridcolor": "white",
           "linecolor": "white",
           "ticks": "",
           "title": {
            "standoff": 15
           },
           "zerolinecolor": "white",
           "zerolinewidth": 2
          }
         }
        },
        "title": {
         "text": "Recovered Cases Across Countries"
        },
        "xaxis": {
         "title": {
          "text": "Date"
         }
        },
        "yaxis": {
         "title": {
          "text": "Number of Cases"
         }
        }
       }
      },
      "text/html": [
       "<div>\n",
       "        \n",
       "        \n",
       "            <div id=\"1967cf7b-93a3-4a5c-8b95-4099b0581ca4\" class=\"plotly-graph-div\" style=\"height:525px; width:100%;\"></div>\n",
       "            <script type=\"text/javascript\">\n",
       "                require([\"plotly\"], function(Plotly) {\n",
       "                    window.PLOTLYENV=window.PLOTLYENV || {};\n",
       "                    \n",
       "                if (document.getElementById(\"1967cf7b-93a3-4a5c-8b95-4099b0581ca4\")) {\n",
       "                    Plotly.newPlot(\n",
       "                        '1967cf7b-93a3-4a5c-8b95-4099b0581ca4',\n",
       "                        [{\"mode\": \"lines+markers\", \"name\": \"China\", \"type\": \"scatter\", \"x\": [\"01/22/2020\", \"01/23/2020\", \"01/24/2020\", \"01/25/2020\", \"01/26/2020\", \"01/27/2020\", \"01/28/2020\", \"01/29/2020\", \"01/30/2020\", \"01/31/2020\", \"02/01/2020\", \"02/02/2020\", \"02/03/2020\", \"02/04/2020\", \"02/05/2020\", \"02/06/2020\", \"02/07/2020\", \"02/08/2020\", \"02/09/2020\", \"02/10/2020\", \"02/11/2020\", \"02/12/2020\", \"02/13/2020\", \"02/14/2020\", \"02/15/2020\", \"02/16/2020\", \"02/17/2020\", \"02/18/2020\", \"02/19/2020\", \"02/20/2020\", \"02/21/2020\", \"02/22/2020\", \"02/23/2020\", \"02/24/2020\", \"02/25/2020\", \"02/26/2020\", \"02/27/2020\", \"02/28/2020\", \"02/29/2020\", \"03/01/2020\", \"03/02/2020\", \"03/03/2020\", \"03/04/2020\", \"03/05/2020\", \"03/06/2020\", \"03/07/2020\", \"03/08/2020\", \"03/09/2020\", \"03/10/2020\", \"03/11/2020\", \"03/12/2020\", \"03/13/2020\", \"03/14/2020\", \"03/15/2020\", \"03/16/2020\", \"03/17/2020\", \"03/18/2020\", \"03/19/2020\", \"03/20/2020\", \"03/21/2020\", \"03/22/2020\", \"03/23/2020\", \"03/24/2020\", \"03/25/2020\", \"03/26/2020\", \"03/27/2020\", \"03/28/2020\", \"03/29/2020\", \"03/30/2020\", \"03/31/2020\", \"04/01/2020\"], \"y\": [28.0, 30.0, 36.0, 39.0, 49.0, 58.0, 101.0, 120.0, 135.0, 214.0, 275.0, 463.0, 614.0, 843.0, 1115.0, 1476.0, 1998.0, 2595.0, 3218.0, 3917.0, 4635.0, 5079.0, 6213.0, 7973.0, 9294.0, 10748.0, 12455.0, 14199.0, 15952.0, 18002.0, 18693.0, 22687.0, 23170.0, 24990.0, 27650.0, 30053.0, 32898.0, 36291.0, 39279.0, 42118.0, 44810.0, 47404.0, 49955.0, 52240.0, 53888.0, 55478.0, 57320.0, 58735.0, 60106.0, 61569.0, 62824.0, 64109.0, 65572.0, 66926.0, 67816.0, 68700.0, 69653.0, 70430.0, 71158.0, 71749.0, 72252.0, 72709.0, 73169.0, 73661.0, 74061.0, 74600.0, 74978.0, 75460.0, 75790.0, 76068.0, 76248.0]}, {\"mode\": \"lines+markers\", \"name\": \"South Korea\", \"type\": \"scatter\", \"x\": [\"01/22/2020\", \"01/23/2020\", \"01/24/2020\", \"01/25/2020\", \"01/26/2020\", \"01/27/2020\", \"01/28/2020\", \"01/29/2020\", \"01/30/2020\", \"01/31/2020\", \"02/01/2020\", \"02/02/2020\", \"02/03/2020\", \"02/04/2020\", \"02/05/2020\", \"02/06/2020\", \"02/07/2020\", \"02/08/2020\", \"02/09/2020\", \"02/10/2020\", \"02/11/2020\", \"02/12/2020\", \"02/13/2020\", \"02/14/2020\", \"02/15/2020\", \"02/16/2020\", \"02/17/2020\", \"02/18/2020\", \"02/19/2020\", \"02/20/2020\", \"02/21/2020\", \"02/22/2020\", \"02/23/2020\", \"02/24/2020\", \"02/25/2020\", \"02/26/2020\", \"02/27/2020\", \"02/28/2020\", \"02/29/2020\", \"03/01/2020\", \"03/02/2020\", \"03/03/2020\", \"03/04/2020\", \"03/05/2020\", \"03/06/2020\", \"03/07/2020\", \"03/08/2020\", \"03/09/2020\", \"03/10/2020\", \"03/11/2020\", \"03/12/2020\", \"03/13/2020\", \"03/14/2020\", \"03/15/2020\", \"03/16/2020\", \"03/17/2020\", \"03/18/2020\", \"03/19/2020\", \"03/20/2020\", \"03/21/2020\", \"03/22/2020\", \"03/23/2020\", \"03/24/2020\", \"03/25/2020\", \"03/26/2020\", \"03/27/2020\", \"03/28/2020\", \"03/29/2020\", \"03/30/2020\", \"03/31/2020\", \"04/01/2020\"], \"y\": [0.0, 0.0, 0.0, 0.0, 0.0, 0.0, 0.0, 0.0, 0.0, 0.0, 0.0, 0.0, 0.0, 0.0, 0.0, 0.0, 1.0, 1.0, 3.0, 3.0, 3.0, 7.0, 7.0, 7.0, 9.0, 9.0, 10.0, 12.0, 12.0, 16.0, 16.0, 16.0, 18.0, 18.0, 22.0, 22.0, 22.0, 22.0, 27.0, 30.0, 30.0, 30.0, 41.0, 41.0, 135.0, 135.0, 118.0, 118.0, 247.0, 288.0, 333.0, 510.0, 510.0, 510.0, 1137.0, 1407.0, 1540.0, 1540.0, 1540.0, 1540.0, 2909.0, 3166.0, 3507.0, 3730.0, 4144.0, 4528.0, 4811.0, 5033.0, 5228.0, 5408.0, 5567.0]}, {\"mode\": \"lines+markers\", \"name\": \"Italy\", \"type\": \"scatter\", \"x\": [\"01/31/2020\", \"02/01/2020\", \"02/02/2020\", \"02/03/2020\", \"02/04/2020\", \"02/05/2020\", \"02/06/2020\", \"02/07/2020\", \"02/08/2020\", \"02/09/2020\", \"02/10/2020\", \"02/11/2020\", \"02/12/2020\", \"02/13/2020\", \"02/14/2020\", \"02/15/2020\", \"02/16/2020\", \"02/17/2020\", \"02/18/2020\", \"02/19/2020\", \"02/20/2020\", \"02/21/2020\", \"02/22/2020\", \"02/23/2020\", \"02/24/2020\", \"02/25/2020\", \"02/26/2020\", \"02/27/2020\", \"02/28/2020\", \"02/29/2020\", \"03/01/2020\", \"03/02/2020\", \"03/03/2020\", \"03/04/2020\", \"03/05/2020\", \"03/06/2020\", \"03/07/2020\", \"03/08/2020\", \"03/09/2020\", \"03/10/2020\", \"03/11/2020\", \"03/12/2020\", \"03/13/2020\", \"03/14/2020\", \"03/15/2020\", \"03/16/2020\", \"03/17/2020\", \"03/18/2020\", \"03/19/2020\", \"03/20/2020\", \"03/21/2020\", \"03/22/2020\", \"03/23/2020\", \"03/24/2020\", \"03/25/2020\", \"03/26/2020\", \"03/27/2020\", \"03/28/2020\", \"03/29/2020\", \"03/30/2020\", \"03/31/2020\", \"04/01/2020\"], \"y\": [0.0, 0.0, 0.0, 0.0, 0.0, 0.0, 0.0, 0.0, 0.0, 0.0, 0.0, 0.0, 0.0, 0.0, 0.0, 0.0, 0.0, 0.0, 0.0, 0.0, 0.0, 0.0, 1.0, 2.0, 1.0, 1.0, 3.0, 45.0, 46.0, 46.0, 83.0, 149.0, 160.0, 276.0, 414.0, 523.0, 589.0, 622.0, 724.0, 724.0, 1045.0, 1045.0, 1439.0, 1966.0, 2335.0, 2749.0, 2941.0, 4025.0, 4440.0, 4440.0, 6072.0, 7024.0, 7432.0, 8326.0, 9362.0, 10361.0, 10950.0, 12384.0, 13030.0, 14620.0, 15729.0, 16847.0]}, {\"mode\": \"lines+markers\", \"name\": \"USA\", \"type\": \"scatter\", \"x\": [\"01/22/2020\", \"01/23/2020\", \"01/24/2020\", \"01/25/2020\", \"01/26/2020\", \"01/27/2020\", \"01/28/2020\", \"01/29/2020\", \"01/30/2020\", \"01/31/2020\", \"02/01/2020\", \"02/02/2020\", \"02/03/2020\", \"02/04/2020\", \"02/05/2020\", \"02/06/2020\", \"02/07/2020\", \"02/08/2020\", \"02/09/2020\", \"02/10/2020\", \"02/11/2020\", \"02/12/2020\", \"02/13/2020\", \"02/14/2020\", \"02/15/2020\", \"02/16/2020\", \"02/17/2020\", \"02/18/2020\", \"02/19/2020\", \"02/20/2020\", \"02/21/2020\", \"02/22/2020\", \"02/23/2020\", \"02/24/2020\", \"02/25/2020\", \"02/26/2020\", \"02/27/2020\", \"02/28/2020\", \"02/29/2020\", \"03/01/2020\", \"03/02/2020\", \"03/03/2020\", \"03/04/2020\", \"03/05/2020\", \"03/06/2020\", \"03/07/2020\", \"03/08/2020\", \"03/09/2020\", \"03/10/2020\", \"03/11/2020\", \"03/12/2020\", \"03/13/2020\", \"03/14/2020\", \"03/15/2020\", \"03/16/2020\", \"03/17/2020\", \"03/18/2020\", \"03/19/2020\", \"03/20/2020\", \"03/21/2020\", \"03/22/2020\", \"03/23/2020\", \"03/24/2020\", \"03/25/2020\", \"03/26/2020\", \"03/27/2020\", \"03/28/2020\", \"03/29/2020\", \"03/30/2020\", \"03/31/2020\", \"04/01/2020\"], \"y\": [0.0, 0.0, 0.0, 0.0, 0.0, 0.0, 0.0, 0.0, 0.0, 0.0, 0.0, 0.0, 0.0, 0.0, 0.0, 0.0, 0.0, 0.0, 3.0, 3.0, 3.0, 3.0, 3.0, 3.0, 3.0, 3.0, 3.0, 3.0, 3.0, 3.0, 5.0, 5.0, 5.0, 5.0, 6.0, 6.0, 6.0, 7.0, 7.0, 7.0, 7.0, 8.0, 8.0, 8.0, 8.0, 8.0, 8.0, 8.0, 8.0, 8.0, 12.0, 12.0, 12.0, 12.0, 17.0, 17.0, 106.0, 108.0, 147.0, 171.0, 0.0, 0.0, 348.0, 361.0, 681.0, 869.0, 1072.0, 2665.0, 5644.0, 7024.0, 8474.0]}, {\"mode\": \"lines+markers\", \"name\": \"Spain\", \"type\": \"scatter\", \"x\": [\"02/01/2020\", \"02/02/2020\", \"02/03/2020\", \"02/04/2020\", \"02/05/2020\", \"02/06/2020\", \"02/07/2020\", \"02/08/2020\", \"02/09/2020\", \"02/10/2020\", \"02/11/2020\", \"02/12/2020\", \"02/13/2020\", \"02/14/2020\", \"02/15/2020\", \"02/16/2020\", \"02/17/2020\", \"02/18/2020\", \"02/19/2020\", \"02/20/2020\", \"02/21/2020\", \"02/22/2020\", \"02/23/2020\", \"02/24/2020\", \"02/25/2020\", \"02/26/2020\", \"02/27/2020\", \"02/28/2020\", \"02/29/2020\", \"03/01/2020\", \"03/02/2020\", \"03/03/2020\", \"03/04/2020\", \"03/05/2020\", \"03/06/2020\", \"03/07/2020\", \"03/08/2020\", \"03/09/2020\", \"03/10/2020\", \"03/11/2020\", \"03/12/2020\", \"03/13/2020\", \"03/14/2020\", \"03/15/2020\", \"03/16/2020\", \"03/17/2020\", \"03/18/2020\", \"03/19/2020\", \"03/20/2020\", \"03/21/2020\", \"03/22/2020\", \"03/23/2020\", \"03/24/2020\", \"03/25/2020\", \"03/26/2020\", \"03/27/2020\", \"03/28/2020\", \"03/29/2020\", \"03/30/2020\", \"03/31/2020\", \"04/01/2020\"], \"y\": [0.0, 0.0, 0.0, 0.0, 0.0, 0.0, 0.0, 0.0, 0.0, 0.0, 0.0, 0.0, 0.0, 0.0, 2.0, 2.0, 2.0, 2.0, 2.0, 2.0, 2.0, 2.0, 2.0, 2.0, 2.0, 2.0, 2.0, 2.0, 2.0, 2.0, 2.0, 2.0, 2.0, 2.0, 2.0, 30.0, 30.0, 32.0, 32.0, 183.0, 183.0, 193.0, 517.0, 517.0, 530.0, 1028.0, 1081.0, 1107.0, 1588.0, 2125.0, 2125.0, 3355.0, 3794.0, 5367.0, 7015.0, 9357.0, 12285.0, 14709.0, 16780.0, 19259.0, 22647.0]}],\n",
       "                        {\"font\": {\"family\": \"Courier New, monospace\", \"size\": 18}, \"plot_bgcolor\": \"rgb(250, 242, 242)\", \"template\": {\"data\": {\"bar\": [{\"error_x\": {\"color\": \"#2a3f5f\"}, \"error_y\": {\"color\": \"#2a3f5f\"}, \"marker\": {\"line\": {\"color\": \"#E5ECF6\", \"width\": 0.5}}, \"type\": \"bar\"}], \"barpolar\": [{\"marker\": {\"line\": {\"color\": \"#E5ECF6\", \"width\": 0.5}}, \"type\": \"barpolar\"}], \"carpet\": [{\"aaxis\": {\"endlinecolor\": \"#2a3f5f\", \"gridcolor\": \"white\", \"linecolor\": \"white\", \"minorgridcolor\": \"white\", \"startlinecolor\": \"#2a3f5f\"}, \"baxis\": {\"endlinecolor\": \"#2a3f5f\", \"gridcolor\": \"white\", \"linecolor\": \"white\", \"minorgridcolor\": \"white\", \"startlinecolor\": \"#2a3f5f\"}, \"type\": \"carpet\"}], \"choropleth\": [{\"colorbar\": {\"outlinewidth\": 0, \"ticks\": \"\"}, \"type\": \"choropleth\"}], \"contour\": [{\"colorbar\": {\"outlinewidth\": 0, \"ticks\": \"\"}, \"colorscale\": [[0.0, \"#0d0887\"], [0.1111111111111111, \"#46039f\"], [0.2222222222222222, \"#7201a8\"], [0.3333333333333333, \"#9c179e\"], [0.4444444444444444, \"#bd3786\"], [0.5555555555555556, \"#d8576b\"], [0.6666666666666666, \"#ed7953\"], [0.7777777777777778, \"#fb9f3a\"], [0.8888888888888888, \"#fdca26\"], [1.0, \"#f0f921\"]], \"type\": \"contour\"}], \"contourcarpet\": [{\"colorbar\": {\"outlinewidth\": 0, \"ticks\": \"\"}, \"type\": \"contourcarpet\"}], \"heatmap\": [{\"colorbar\": {\"outlinewidth\": 0, \"ticks\": \"\"}, \"colorscale\": [[0.0, \"#0d0887\"], [0.1111111111111111, \"#46039f\"], [0.2222222222222222, \"#7201a8\"], [0.3333333333333333, \"#9c179e\"], [0.4444444444444444, \"#bd3786\"], [0.5555555555555556, \"#d8576b\"], [0.6666666666666666, \"#ed7953\"], [0.7777777777777778, \"#fb9f3a\"], [0.8888888888888888, \"#fdca26\"], [1.0, \"#f0f921\"]], \"type\": \"heatmap\"}], \"heatmapgl\": [{\"colorbar\": {\"outlinewidth\": 0, \"ticks\": \"\"}, \"colorscale\": [[0.0, \"#0d0887\"], [0.1111111111111111, \"#46039f\"], [0.2222222222222222, \"#7201a8\"], [0.3333333333333333, \"#9c179e\"], [0.4444444444444444, \"#bd3786\"], [0.5555555555555556, \"#d8576b\"], [0.6666666666666666, \"#ed7953\"], [0.7777777777777778, \"#fb9f3a\"], [0.8888888888888888, \"#fdca26\"], [1.0, \"#f0f921\"]], \"type\": \"heatmapgl\"}], \"histogram\": [{\"marker\": {\"colorbar\": {\"outlinewidth\": 0, \"ticks\": \"\"}}, \"type\": \"histogram\"}], \"histogram2d\": [{\"colorbar\": {\"outlinewidth\": 0, \"ticks\": \"\"}, \"colorscale\": [[0.0, \"#0d0887\"], [0.1111111111111111, \"#46039f\"], [0.2222222222222222, \"#7201a8\"], [0.3333333333333333, \"#9c179e\"], [0.4444444444444444, \"#bd3786\"], [0.5555555555555556, \"#d8576b\"], [0.6666666666666666, \"#ed7953\"], [0.7777777777777778, \"#fb9f3a\"], [0.8888888888888888, \"#fdca26\"], [1.0, \"#f0f921\"]], \"type\": \"histogram2d\"}], \"histogram2dcontour\": [{\"colorbar\": {\"outlinewidth\": 0, \"ticks\": \"\"}, \"colorscale\": [[0.0, \"#0d0887\"], [0.1111111111111111, \"#46039f\"], [0.2222222222222222, \"#7201a8\"], [0.3333333333333333, \"#9c179e\"], [0.4444444444444444, \"#bd3786\"], [0.5555555555555556, \"#d8576b\"], [0.6666666666666666, \"#ed7953\"], [0.7777777777777778, \"#fb9f3a\"], [0.8888888888888888, \"#fdca26\"], [1.0, \"#f0f921\"]], \"type\": \"histogram2dcontour\"}], \"mesh3d\": [{\"colorbar\": {\"outlinewidth\": 0, \"ticks\": \"\"}, \"type\": \"mesh3d\"}], \"parcoords\": [{\"line\": {\"colorbar\": {\"outlinewidth\": 0, \"ticks\": \"\"}}, \"type\": \"parcoords\"}], \"pie\": [{\"automargin\": true, \"type\": \"pie\"}], \"scatter\": [{\"marker\": {\"colorbar\": {\"outlinewidth\": 0, \"ticks\": \"\"}}, \"type\": \"scatter\"}], \"scatter3d\": [{\"line\": {\"colorbar\": {\"outlinewidth\": 0, \"ticks\": \"\"}}, \"marker\": {\"colorbar\": {\"outlinewidth\": 0, \"ticks\": \"\"}}, \"type\": \"scatter3d\"}], \"scattercarpet\": [{\"marker\": {\"colorbar\": {\"outlinewidth\": 0, \"ticks\": \"\"}}, \"type\": \"scattercarpet\"}], \"scattergeo\": [{\"marker\": {\"colorbar\": {\"outlinewidth\": 0, \"ticks\": \"\"}}, \"type\": \"scattergeo\"}], \"scattergl\": [{\"marker\": {\"colorbar\": {\"outlinewidth\": 0, \"ticks\": \"\"}}, \"type\": \"scattergl\"}], \"scattermapbox\": [{\"marker\": {\"colorbar\": {\"outlinewidth\": 0, \"ticks\": \"\"}}, \"type\": \"scattermapbox\"}], \"scatterpolar\": [{\"marker\": {\"colorbar\": {\"outlinewidth\": 0, \"ticks\": \"\"}}, \"type\": \"scatterpolar\"}], \"scatterpolargl\": [{\"marker\": {\"colorbar\": {\"outlinewidth\": 0, \"ticks\": \"\"}}, \"type\": \"scatterpolargl\"}], \"scatterternary\": [{\"marker\": {\"colorbar\": {\"outlinewidth\": 0, \"ticks\": \"\"}}, \"type\": \"scatterternary\"}], \"surface\": [{\"colorbar\": {\"outlinewidth\": 0, \"ticks\": \"\"}, \"colorscale\": [[0.0, \"#0d0887\"], [0.1111111111111111, \"#46039f\"], [0.2222222222222222, \"#7201a8\"], [0.3333333333333333, \"#9c179e\"], [0.4444444444444444, \"#bd3786\"], [0.5555555555555556, \"#d8576b\"], [0.6666666666666666, \"#ed7953\"], [0.7777777777777778, \"#fb9f3a\"], [0.8888888888888888, \"#fdca26\"], [1.0, \"#f0f921\"]], \"type\": \"surface\"}], \"table\": [{\"cells\": {\"fill\": {\"color\": \"#EBF0F8\"}, \"line\": {\"color\": \"white\"}}, \"header\": {\"fill\": {\"color\": \"#C8D4E3\"}, \"line\": {\"color\": \"white\"}}, \"type\": \"table\"}]}, \"layout\": {\"annotationdefaults\": {\"arrowcolor\": \"#2a3f5f\", \"arrowhead\": 0, \"arrowwidth\": 1}, \"coloraxis\": {\"colorbar\": {\"outlinewidth\": 0, \"ticks\": \"\"}}, \"colorscale\": {\"diverging\": [[0, \"#8e0152\"], [0.1, \"#c51b7d\"], [0.2, \"#de77ae\"], [0.3, \"#f1b6da\"], [0.4, \"#fde0ef\"], [0.5, \"#f7f7f7\"], [0.6, \"#e6f5d0\"], [0.7, \"#b8e186\"], [0.8, \"#7fbc41\"], [0.9, \"#4d9221\"], [1, \"#276419\"]], \"sequential\": [[0.0, \"#0d0887\"], [0.1111111111111111, \"#46039f\"], [0.2222222222222222, \"#7201a8\"], [0.3333333333333333, \"#9c179e\"], [0.4444444444444444, \"#bd3786\"], [0.5555555555555556, \"#d8576b\"], [0.6666666666666666, \"#ed7953\"], [0.7777777777777778, \"#fb9f3a\"], [0.8888888888888888, \"#fdca26\"], [1.0, \"#f0f921\"]], \"sequentialminus\": [[0.0, \"#0d0887\"], [0.1111111111111111, \"#46039f\"], [0.2222222222222222, \"#7201a8\"], [0.3333333333333333, \"#9c179e\"], [0.4444444444444444, \"#bd3786\"], [0.5555555555555556, \"#d8576b\"], [0.6666666666666666, \"#ed7953\"], [0.7777777777777778, \"#fb9f3a\"], [0.8888888888888888, \"#fdca26\"], [1.0, \"#f0f921\"]]}, \"colorway\": [\"#636efa\", \"#EF553B\", \"#00cc96\", \"#ab63fa\", \"#FFA15A\", \"#19d3f3\", \"#FF6692\", \"#B6E880\", \"#FF97FF\", \"#FECB52\"], \"font\": {\"color\": \"#2a3f5f\"}, \"geo\": {\"bgcolor\": \"white\", \"lakecolor\": \"white\", \"landcolor\": \"#E5ECF6\", \"showlakes\": true, \"showland\": true, \"subunitcolor\": \"white\"}, \"hoverlabel\": {\"align\": \"left\"}, \"hovermode\": \"closest\", \"mapbox\": {\"style\": \"light\"}, \"paper_bgcolor\": \"white\", \"plot_bgcolor\": \"#E5ECF6\", \"polar\": {\"angularaxis\": {\"gridcolor\": \"white\", \"linecolor\": \"white\", \"ticks\": \"\"}, \"bgcolor\": \"#E5ECF6\", \"radialaxis\": {\"gridcolor\": \"white\", \"linecolor\": \"white\", \"ticks\": \"\"}}, \"scene\": {\"xaxis\": {\"backgroundcolor\": \"#E5ECF6\", \"gridcolor\": \"white\", \"gridwidth\": 2, \"linecolor\": \"white\", \"showbackground\": true, \"ticks\": \"\", \"zerolinecolor\": \"white\"}, \"yaxis\": {\"backgroundcolor\": \"#E5ECF6\", \"gridcolor\": \"white\", \"gridwidth\": 2, \"linecolor\": \"white\", \"showbackground\": true, \"ticks\": \"\", \"zerolinecolor\": \"white\"}, \"zaxis\": {\"backgroundcolor\": \"#E5ECF6\", \"gridcolor\": \"white\", \"gridwidth\": 2, \"linecolor\": \"white\", \"showbackground\": true, \"ticks\": \"\", \"zerolinecolor\": \"white\"}}, \"shapedefaults\": {\"line\": {\"color\": \"#2a3f5f\"}}, \"ternary\": {\"aaxis\": {\"gridcolor\": \"white\", \"linecolor\": \"white\", \"ticks\": \"\"}, \"baxis\": {\"gridcolor\": \"white\", \"linecolor\": \"white\", \"ticks\": \"\"}, \"bgcolor\": \"#E5ECF6\", \"caxis\": {\"gridcolor\": \"white\", \"linecolor\": \"white\", \"ticks\": \"\"}}, \"title\": {\"x\": 0.05}, \"xaxis\": {\"automargin\": true, \"gridcolor\": \"white\", \"linecolor\": \"white\", \"ticks\": \"\", \"title\": {\"standoff\": 15}, \"zerolinecolor\": \"white\", \"zerolinewidth\": 2}, \"yaxis\": {\"automargin\": true, \"gridcolor\": \"white\", \"linecolor\": \"white\", \"ticks\": \"\", \"title\": {\"standoff\": 15}, \"zerolinecolor\": \"white\", \"zerolinewidth\": 2}}}, \"title\": {\"text\": \"Recovered Cases Across Countries\"}, \"xaxis\": {\"title\": {\"text\": \"Date\"}}, \"yaxis\": {\"title\": {\"text\": \"Number of Cases\"}}},\n",
       "                        {\"responsive\": true}\n",
       "                    ).then(function(){\n",
       "                            \n",
       "var gd = document.getElementById('1967cf7b-93a3-4a5c-8b95-4099b0581ca4');\n",
       "var x = new MutationObserver(function (mutations, observer) {{\n",
       "        var display = window.getComputedStyle(gd).display;\n",
       "        if (!display || display === 'none') {{\n",
       "            console.log([gd, 'removed!']);\n",
       "            Plotly.purge(gd);\n",
       "            observer.disconnect();\n",
       "        }}\n",
       "}});\n",
       "\n",
       "// Listen for the removal of the full notebook cells\n",
       "var notebookContainer = gd.closest('#notebook-container');\n",
       "if (notebookContainer) {{\n",
       "    x.observe(notebookContainer, {childList: true});\n",
       "}}\n",
       "\n",
       "// Listen for the clearing of the current output cell\n",
       "var outputEl = gd.closest('.output');\n",
       "if (outputEl) {{\n",
       "    x.observe(outputEl, {childList: true});\n",
       "}}\n",
       "\n",
       "                        })\n",
       "                };\n",
       "                });\n",
       "            </script>\n",
       "        </div>"
      ]
     },
     "metadata": {},
     "output_type": "display_data"
    }
   ],
   "source": [
    "import plotly.graph_objs as go\n",
    "fig = go.Figure()\n",
    "fig.add_trace(go.Scatter(x=df_china['ObservationDate'], y=df_china['Recovered'],\n",
    "                    mode='lines+markers',name='China'))\n",
    "fig.add_trace(go.Scatter(x=df_sKorea['ObservationDate'], y=df_sKorea['Recovered'],\n",
    "                    mode='lines+markers',name='South Korea'))\n",
    "fig.add_trace(go.Scatter(x=df_italy['ObservationDate'], y=df_italy['Recovered'],\n",
    "                    mode='lines+markers',name='Italy'))\n",
    "fig.add_trace(go.Scatter(x=df_USA['ObservationDate'], y=df_USA['Recovered'],\n",
    "                    mode='lines+markers',name='USA'))\n",
    "fig.add_trace(go.Scatter(x=df_Spain['ObservationDate'], y=df_Spain['Recovered'],\n",
    "                    mode='lines+markers',name='Spain'))\n",
    "fig.update_layout(title_text='Recovered Cases Across Countries',xaxis_title='Date',yaxis_title='Number of Cases',plot_bgcolor='rgb(250, 242, 242)', font=dict(\n",
    "        family=\"Courier New, monospace\",\n",
    "        size=18,\n",
    "    ))\n",
    "\n",
    "fig.show()"
   ]
  },
  {
   "cell_type": "code",
   "execution_count": 34,
   "metadata": {},
   "outputs": [
    {
     "data": {
      "application/vnd.plotly.v1+json": {
       "config": {
        "plotlyServerURL": "https://plot.ly"
       },
       "data": [
        {
         "mode": "lines+markers",
         "name": "China",
         "type": "scatter",
         "x": [
          "01/22/2020",
          "01/23/2020",
          "01/24/2020",
          "01/25/2020",
          "01/26/2020",
          "01/27/2020",
          "01/28/2020",
          "01/29/2020",
          "01/30/2020",
          "01/31/2020",
          "02/01/2020",
          "02/02/2020",
          "02/03/2020",
          "02/04/2020",
          "02/05/2020",
          "02/06/2020",
          "02/07/2020",
          "02/08/2020",
          "02/09/2020",
          "02/10/2020",
          "02/11/2020",
          "02/12/2020",
          "02/13/2020",
          "02/14/2020",
          "02/15/2020",
          "02/16/2020",
          "02/17/2020",
          "02/18/2020",
          "02/19/2020",
          "02/20/2020",
          "02/21/2020",
          "02/22/2020",
          "02/23/2020",
          "02/24/2020",
          "02/25/2020",
          "02/26/2020",
          "02/27/2020",
          "02/28/2020",
          "02/29/2020",
          "03/01/2020",
          "03/02/2020",
          "03/03/2020",
          "03/04/2020",
          "03/05/2020",
          "03/06/2020",
          "03/07/2020",
          "03/08/2020",
          "03/09/2020",
          "03/10/2020",
          "03/11/2020",
          "03/12/2020",
          "03/13/2020",
          "03/14/2020",
          "03/15/2020",
          "03/16/2020",
          "03/17/2020",
          "03/18/2020",
          "03/19/2020",
          "03/20/2020",
          "03/21/2020",
          "03/22/2020",
          "03/23/2020",
          "03/24/2020",
          "03/25/2020",
          "03/26/2020",
          "03/27/2020",
          "03/28/2020",
          "03/29/2020",
          "03/30/2020",
          "03/31/2020",
          "04/01/2020"
         ],
         "y": [
          17,
          18,
          26,
          42,
          56,
          82,
          131,
          133,
          171,
          213,
          259,
          361,
          425,
          490,
          562,
          632,
          717,
          804,
          904,
          1011,
          1111,
          1116,
          1368,
          1520,
          1662,
          1765,
          1863,
          2002,
          2114,
          2236,
          2236,
          2441,
          2443,
          2593,
          2663,
          2715,
          2744,
          2788,
          2835,
          2870,
          2912,
          2945,
          2981,
          3013,
          3042,
          3070,
          3097,
          3120,
          3136,
          3158,
          3169,
          3176,
          3189,
          3199,
          3213,
          3226,
          3237,
          3245,
          3249,
          3255,
          3261,
          3270,
          3277,
          3281,
          3287,
          3292,
          3295,
          3300,
          3304,
          3305,
          3312
         ]
        },
        {
         "mode": "lines+markers",
         "name": "South Korea",
         "type": "scatter",
         "x": [
          "01/22/2020",
          "01/23/2020",
          "01/24/2020",
          "01/25/2020",
          "01/26/2020",
          "01/27/2020",
          "01/28/2020",
          "01/29/2020",
          "01/30/2020",
          "01/31/2020",
          "02/01/2020",
          "02/02/2020",
          "02/03/2020",
          "02/04/2020",
          "02/05/2020",
          "02/06/2020",
          "02/07/2020",
          "02/08/2020",
          "02/09/2020",
          "02/10/2020",
          "02/11/2020",
          "02/12/2020",
          "02/13/2020",
          "02/14/2020",
          "02/15/2020",
          "02/16/2020",
          "02/17/2020",
          "02/18/2020",
          "02/19/2020",
          "02/20/2020",
          "02/21/2020",
          "02/22/2020",
          "02/23/2020",
          "02/24/2020",
          "02/25/2020",
          "02/26/2020",
          "02/27/2020",
          "02/28/2020",
          "02/29/2020",
          "03/01/2020",
          "03/02/2020",
          "03/03/2020",
          "03/04/2020",
          "03/05/2020",
          "03/06/2020",
          "03/07/2020",
          "03/08/2020",
          "03/09/2020",
          "03/10/2020",
          "03/11/2020",
          "03/12/2020",
          "03/13/2020",
          "03/14/2020",
          "03/15/2020",
          "03/16/2020",
          "03/17/2020",
          "03/18/2020",
          "03/19/2020",
          "03/20/2020",
          "03/21/2020",
          "03/22/2020",
          "03/23/2020",
          "03/24/2020",
          "03/25/2020",
          "03/26/2020",
          "03/27/2020",
          "03/28/2020",
          "03/29/2020",
          "03/30/2020",
          "03/31/2020",
          "04/01/2020"
         ],
         "y": [
          0,
          0,
          0,
          0,
          0,
          0,
          0,
          0,
          0,
          0,
          0,
          0,
          0,
          0,
          0,
          0,
          0,
          0,
          0,
          0,
          0,
          0,
          0,
          0,
          0,
          0,
          0,
          0,
          0,
          1,
          2,
          2,
          6,
          8,
          10,
          12,
          13,
          13,
          16,
          17,
          28,
          28,
          35,
          35,
          42,
          44,
          50,
          53,
          54,
          60,
          66,
          66,
          72,
          75,
          75,
          81,
          84,
          91,
          94,
          102,
          104,
          111,
          120,
          126,
          131,
          139,
          144,
          152,
          158,
          162,
          165
         ]
        },
        {
         "mode": "lines+markers",
         "name": "Italy",
         "type": "scatter",
         "x": [
          "01/31/2020",
          "02/01/2020",
          "02/02/2020",
          "02/03/2020",
          "02/04/2020",
          "02/05/2020",
          "02/06/2020",
          "02/07/2020",
          "02/08/2020",
          "02/09/2020",
          "02/10/2020",
          "02/11/2020",
          "02/12/2020",
          "02/13/2020",
          "02/14/2020",
          "02/15/2020",
          "02/16/2020",
          "02/17/2020",
          "02/18/2020",
          "02/19/2020",
          "02/20/2020",
          "02/21/2020",
          "02/22/2020",
          "02/23/2020",
          "02/24/2020",
          "02/25/2020",
          "02/26/2020",
          "02/27/2020",
          "02/28/2020",
          "02/29/2020",
          "03/01/2020",
          "03/02/2020",
          "03/03/2020",
          "03/04/2020",
          "03/05/2020",
          "03/06/2020",
          "03/07/2020",
          "03/08/2020",
          "03/09/2020",
          "03/10/2020",
          "03/11/2020",
          "03/12/2020",
          "03/13/2020",
          "03/14/2020",
          "03/15/2020",
          "03/16/2020",
          "03/17/2020",
          "03/18/2020",
          "03/19/2020",
          "03/20/2020",
          "03/21/2020",
          "03/22/2020",
          "03/23/2020",
          "03/24/2020",
          "03/25/2020",
          "03/26/2020",
          "03/27/2020",
          "03/28/2020",
          "03/29/2020",
          "03/30/2020",
          "03/31/2020",
          "04/01/2020"
         ],
         "y": [
          0,
          0,
          0,
          0,
          0,
          0,
          0,
          0,
          0,
          0,
          0,
          0,
          0,
          0,
          0,
          0,
          0,
          0,
          0,
          0,
          0,
          1,
          2,
          3,
          7,
          10,
          12,
          17,
          21,
          29,
          34,
          52,
          79,
          107,
          148,
          197,
          233,
          366,
          463,
          631,
          827,
          827,
          1266,
          1441,
          1809,
          2158,
          2503,
          2978,
          3405,
          4032,
          4825,
          5476,
          6077,
          6820,
          7503,
          8215,
          9134,
          10023,
          10779,
          11591,
          12428,
          13155
         ]
        },
        {
         "mode": "lines+markers",
         "name": "USA",
         "type": "scatter",
         "x": [
          "01/22/2020",
          "01/23/2020",
          "01/24/2020",
          "01/25/2020",
          "01/26/2020",
          "01/27/2020",
          "01/28/2020",
          "01/29/2020",
          "01/30/2020",
          "01/31/2020",
          "02/01/2020",
          "02/02/2020",
          "02/03/2020",
          "02/04/2020",
          "02/05/2020",
          "02/06/2020",
          "02/07/2020",
          "02/08/2020",
          "02/09/2020",
          "02/10/2020",
          "02/11/2020",
          "02/12/2020",
          "02/13/2020",
          "02/14/2020",
          "02/15/2020",
          "02/16/2020",
          "02/17/2020",
          "02/18/2020",
          "02/19/2020",
          "02/20/2020",
          "02/21/2020",
          "02/22/2020",
          "02/23/2020",
          "02/24/2020",
          "02/25/2020",
          "02/26/2020",
          "02/27/2020",
          "02/28/2020",
          "02/29/2020",
          "03/01/2020",
          "03/02/2020",
          "03/03/2020",
          "03/04/2020",
          "03/05/2020",
          "03/06/2020",
          "03/07/2020",
          "03/08/2020",
          "03/09/2020",
          "03/10/2020",
          "03/11/2020",
          "03/12/2020",
          "03/13/2020",
          "03/14/2020",
          "03/15/2020",
          "03/16/2020",
          "03/17/2020",
          "03/18/2020",
          "03/19/2020",
          "03/20/2020",
          "03/21/2020",
          "03/22/2020",
          "03/23/2020",
          "03/24/2020",
          "03/25/2020",
          "03/26/2020",
          "03/27/2020",
          "03/28/2020",
          "03/29/2020",
          "03/30/2020",
          "03/31/2020",
          "04/01/2020"
         ],
         "y": [
          0,
          0,
          0,
          0,
          0,
          0,
          0,
          0,
          0,
          0,
          0,
          0,
          0,
          0,
          0,
          0,
          0,
          0,
          0,
          0,
          0,
          0,
          0,
          0,
          0,
          0,
          0,
          0,
          0,
          0,
          0,
          0,
          0,
          0,
          0,
          0,
          0,
          0,
          1,
          1,
          6,
          7,
          11,
          12,
          14,
          17,
          21,
          22,
          28,
          36,
          40,
          47,
          54,
          63,
          85,
          108,
          118,
          200,
          244,
          307,
          427,
          552,
          706,
          942,
          1209,
          1581,
          2026,
          2467,
          2978,
          3873,
          4757
         ]
        },
        {
         "mode": "lines+markers",
         "name": "Spain",
         "type": "scatter",
         "x": [
          "02/01/2020",
          "02/02/2020",
          "02/03/2020",
          "02/04/2020",
          "02/05/2020",
          "02/06/2020",
          "02/07/2020",
          "02/08/2020",
          "02/09/2020",
          "02/10/2020",
          "02/11/2020",
          "02/12/2020",
          "02/13/2020",
          "02/14/2020",
          "02/15/2020",
          "02/16/2020",
          "02/17/2020",
          "02/18/2020",
          "02/19/2020",
          "02/20/2020",
          "02/21/2020",
          "02/22/2020",
          "02/23/2020",
          "02/24/2020",
          "02/25/2020",
          "02/26/2020",
          "02/27/2020",
          "02/28/2020",
          "02/29/2020",
          "03/01/2020",
          "03/02/2020",
          "03/03/2020",
          "03/04/2020",
          "03/05/2020",
          "03/06/2020",
          "03/07/2020",
          "03/08/2020",
          "03/09/2020",
          "03/10/2020",
          "03/11/2020",
          "03/12/2020",
          "03/13/2020",
          "03/14/2020",
          "03/15/2020",
          "03/16/2020",
          "03/17/2020",
          "03/18/2020",
          "03/19/2020",
          "03/20/2020",
          "03/21/2020",
          "03/22/2020",
          "03/23/2020",
          "03/24/2020",
          "03/25/2020",
          "03/26/2020",
          "03/27/2020",
          "03/28/2020",
          "03/29/2020",
          "03/30/2020",
          "03/31/2020",
          "04/01/2020"
         ],
         "y": [
          0,
          0,
          0,
          0,
          0,
          0,
          0,
          0,
          0,
          0,
          0,
          0,
          0,
          0,
          0,
          0,
          0,
          0,
          0,
          0,
          0,
          0,
          0,
          0,
          0,
          0,
          0,
          0,
          0,
          0,
          0,
          1,
          2,
          3,
          5,
          10,
          17,
          28,
          35,
          54,
          55,
          133,
          195,
          289,
          342,
          533,
          623,
          830,
          1043,
          1375,
          1756,
          2311,
          2808,
          3647,
          4365,
          5138,
          5982,
          6803,
          7716,
          8464,
          9387
         ]
        }
       ],
       "layout": {
        "font": {
         "family": "Courier New, monospace",
         "size": 18
        },
        "plot_bgcolor": "rgb(250, 242, 242)",
        "template": {
         "data": {
          "bar": [
           {
            "error_x": {
             "color": "#2a3f5f"
            },
            "error_y": {
             "color": "#2a3f5f"
            },
            "marker": {
             "line": {
              "color": "#E5ECF6",
              "width": 0.5
             }
            },
            "type": "bar"
           }
          ],
          "barpolar": [
           {
            "marker": {
             "line": {
              "color": "#E5ECF6",
              "width": 0.5
             }
            },
            "type": "barpolar"
           }
          ],
          "carpet": [
           {
            "aaxis": {
             "endlinecolor": "#2a3f5f",
             "gridcolor": "white",
             "linecolor": "white",
             "minorgridcolor": "white",
             "startlinecolor": "#2a3f5f"
            },
            "baxis": {
             "endlinecolor": "#2a3f5f",
             "gridcolor": "white",
             "linecolor": "white",
             "minorgridcolor": "white",
             "startlinecolor": "#2a3f5f"
            },
            "type": "carpet"
           }
          ],
          "choropleth": [
           {
            "colorbar": {
             "outlinewidth": 0,
             "ticks": ""
            },
            "type": "choropleth"
           }
          ],
          "contour": [
           {
            "colorbar": {
             "outlinewidth": 0,
             "ticks": ""
            },
            "colorscale": [
             [
              0,
              "#0d0887"
             ],
             [
              0.1111111111111111,
              "#46039f"
             ],
             [
              0.2222222222222222,
              "#7201a8"
             ],
             [
              0.3333333333333333,
              "#9c179e"
             ],
             [
              0.4444444444444444,
              "#bd3786"
             ],
             [
              0.5555555555555556,
              "#d8576b"
             ],
             [
              0.6666666666666666,
              "#ed7953"
             ],
             [
              0.7777777777777778,
              "#fb9f3a"
             ],
             [
              0.8888888888888888,
              "#fdca26"
             ],
             [
              1,
              "#f0f921"
             ]
            ],
            "type": "contour"
           }
          ],
          "contourcarpet": [
           {
            "colorbar": {
             "outlinewidth": 0,
             "ticks": ""
            },
            "type": "contourcarpet"
           }
          ],
          "heatmap": [
           {
            "colorbar": {
             "outlinewidth": 0,
             "ticks": ""
            },
            "colorscale": [
             [
              0,
              "#0d0887"
             ],
             [
              0.1111111111111111,
              "#46039f"
             ],
             [
              0.2222222222222222,
              "#7201a8"
             ],
             [
              0.3333333333333333,
              "#9c179e"
             ],
             [
              0.4444444444444444,
              "#bd3786"
             ],
             [
              0.5555555555555556,
              "#d8576b"
             ],
             [
              0.6666666666666666,
              "#ed7953"
             ],
             [
              0.7777777777777778,
              "#fb9f3a"
             ],
             [
              0.8888888888888888,
              "#fdca26"
             ],
             [
              1,
              "#f0f921"
             ]
            ],
            "type": "heatmap"
           }
          ],
          "heatmapgl": [
           {
            "colorbar": {
             "outlinewidth": 0,
             "ticks": ""
            },
            "colorscale": [
             [
              0,
              "#0d0887"
             ],
             [
              0.1111111111111111,
              "#46039f"
             ],
             [
              0.2222222222222222,
              "#7201a8"
             ],
             [
              0.3333333333333333,
              "#9c179e"
             ],
             [
              0.4444444444444444,
              "#bd3786"
             ],
             [
              0.5555555555555556,
              "#d8576b"
             ],
             [
              0.6666666666666666,
              "#ed7953"
             ],
             [
              0.7777777777777778,
              "#fb9f3a"
             ],
             [
              0.8888888888888888,
              "#fdca26"
             ],
             [
              1,
              "#f0f921"
             ]
            ],
            "type": "heatmapgl"
           }
          ],
          "histogram": [
           {
            "marker": {
             "colorbar": {
              "outlinewidth": 0,
              "ticks": ""
             }
            },
            "type": "histogram"
           }
          ],
          "histogram2d": [
           {
            "colorbar": {
             "outlinewidth": 0,
             "ticks": ""
            },
            "colorscale": [
             [
              0,
              "#0d0887"
             ],
             [
              0.1111111111111111,
              "#46039f"
             ],
             [
              0.2222222222222222,
              "#7201a8"
             ],
             [
              0.3333333333333333,
              "#9c179e"
             ],
             [
              0.4444444444444444,
              "#bd3786"
             ],
             [
              0.5555555555555556,
              "#d8576b"
             ],
             [
              0.6666666666666666,
              "#ed7953"
             ],
             [
              0.7777777777777778,
              "#fb9f3a"
             ],
             [
              0.8888888888888888,
              "#fdca26"
             ],
             [
              1,
              "#f0f921"
             ]
            ],
            "type": "histogram2d"
           }
          ],
          "histogram2dcontour": [
           {
            "colorbar": {
             "outlinewidth": 0,
             "ticks": ""
            },
            "colorscale": [
             [
              0,
              "#0d0887"
             ],
             [
              0.1111111111111111,
              "#46039f"
             ],
             [
              0.2222222222222222,
              "#7201a8"
             ],
             [
              0.3333333333333333,
              "#9c179e"
             ],
             [
              0.4444444444444444,
              "#bd3786"
             ],
             [
              0.5555555555555556,
              "#d8576b"
             ],
             [
              0.6666666666666666,
              "#ed7953"
             ],
             [
              0.7777777777777778,
              "#fb9f3a"
             ],
             [
              0.8888888888888888,
              "#fdca26"
             ],
             [
              1,
              "#f0f921"
             ]
            ],
            "type": "histogram2dcontour"
           }
          ],
          "mesh3d": [
           {
            "colorbar": {
             "outlinewidth": 0,
             "ticks": ""
            },
            "type": "mesh3d"
           }
          ],
          "parcoords": [
           {
            "line": {
             "colorbar": {
              "outlinewidth": 0,
              "ticks": ""
             }
            },
            "type": "parcoords"
           }
          ],
          "pie": [
           {
            "automargin": true,
            "type": "pie"
           }
          ],
          "scatter": [
           {
            "marker": {
             "colorbar": {
              "outlinewidth": 0,
              "ticks": ""
             }
            },
            "type": "scatter"
           }
          ],
          "scatter3d": [
           {
            "line": {
             "colorbar": {
              "outlinewidth": 0,
              "ticks": ""
             }
            },
            "marker": {
             "colorbar": {
              "outlinewidth": 0,
              "ticks": ""
             }
            },
            "type": "scatter3d"
           }
          ],
          "scattercarpet": [
           {
            "marker": {
             "colorbar": {
              "outlinewidth": 0,
              "ticks": ""
             }
            },
            "type": "scattercarpet"
           }
          ],
          "scattergeo": [
           {
            "marker": {
             "colorbar": {
              "outlinewidth": 0,
              "ticks": ""
             }
            },
            "type": "scattergeo"
           }
          ],
          "scattergl": [
           {
            "marker": {
             "colorbar": {
              "outlinewidth": 0,
              "ticks": ""
             }
            },
            "type": "scattergl"
           }
          ],
          "scattermapbox": [
           {
            "marker": {
             "colorbar": {
              "outlinewidth": 0,
              "ticks": ""
             }
            },
            "type": "scattermapbox"
           }
          ],
          "scatterpolar": [
           {
            "marker": {
             "colorbar": {
              "outlinewidth": 0,
              "ticks": ""
             }
            },
            "type": "scatterpolar"
           }
          ],
          "scatterpolargl": [
           {
            "marker": {
             "colorbar": {
              "outlinewidth": 0,
              "ticks": ""
             }
            },
            "type": "scatterpolargl"
           }
          ],
          "scatterternary": [
           {
            "marker": {
             "colorbar": {
              "outlinewidth": 0,
              "ticks": ""
             }
            },
            "type": "scatterternary"
           }
          ],
          "surface": [
           {
            "colorbar": {
             "outlinewidth": 0,
             "ticks": ""
            },
            "colorscale": [
             [
              0,
              "#0d0887"
             ],
             [
              0.1111111111111111,
              "#46039f"
             ],
             [
              0.2222222222222222,
              "#7201a8"
             ],
             [
              0.3333333333333333,
              "#9c179e"
             ],
             [
              0.4444444444444444,
              "#bd3786"
             ],
             [
              0.5555555555555556,
              "#d8576b"
             ],
             [
              0.6666666666666666,
              "#ed7953"
             ],
             [
              0.7777777777777778,
              "#fb9f3a"
             ],
             [
              0.8888888888888888,
              "#fdca26"
             ],
             [
              1,
              "#f0f921"
             ]
            ],
            "type": "surface"
           }
          ],
          "table": [
           {
            "cells": {
             "fill": {
              "color": "#EBF0F8"
             },
             "line": {
              "color": "white"
             }
            },
            "header": {
             "fill": {
              "color": "#C8D4E3"
             },
             "line": {
              "color": "white"
             }
            },
            "type": "table"
           }
          ]
         },
         "layout": {
          "annotationdefaults": {
           "arrowcolor": "#2a3f5f",
           "arrowhead": 0,
           "arrowwidth": 1
          },
          "coloraxis": {
           "colorbar": {
            "outlinewidth": 0,
            "ticks": ""
           }
          },
          "colorscale": {
           "diverging": [
            [
             0,
             "#8e0152"
            ],
            [
             0.1,
             "#c51b7d"
            ],
            [
             0.2,
             "#de77ae"
            ],
            [
             0.3,
             "#f1b6da"
            ],
            [
             0.4,
             "#fde0ef"
            ],
            [
             0.5,
             "#f7f7f7"
            ],
            [
             0.6,
             "#e6f5d0"
            ],
            [
             0.7,
             "#b8e186"
            ],
            [
             0.8,
             "#7fbc41"
            ],
            [
             0.9,
             "#4d9221"
            ],
            [
             1,
             "#276419"
            ]
           ],
           "sequential": [
            [
             0,
             "#0d0887"
            ],
            [
             0.1111111111111111,
             "#46039f"
            ],
            [
             0.2222222222222222,
             "#7201a8"
            ],
            [
             0.3333333333333333,
             "#9c179e"
            ],
            [
             0.4444444444444444,
             "#bd3786"
            ],
            [
             0.5555555555555556,
             "#d8576b"
            ],
            [
             0.6666666666666666,
             "#ed7953"
            ],
            [
             0.7777777777777778,
             "#fb9f3a"
            ],
            [
             0.8888888888888888,
             "#fdca26"
            ],
            [
             1,
             "#f0f921"
            ]
           ],
           "sequentialminus": [
            [
             0,
             "#0d0887"
            ],
            [
             0.1111111111111111,
             "#46039f"
            ],
            [
             0.2222222222222222,
             "#7201a8"
            ],
            [
             0.3333333333333333,
             "#9c179e"
            ],
            [
             0.4444444444444444,
             "#bd3786"
            ],
            [
             0.5555555555555556,
             "#d8576b"
            ],
            [
             0.6666666666666666,
             "#ed7953"
            ],
            [
             0.7777777777777778,
             "#fb9f3a"
            ],
            [
             0.8888888888888888,
             "#fdca26"
            ],
            [
             1,
             "#f0f921"
            ]
           ]
          },
          "colorway": [
           "#636efa",
           "#EF553B",
           "#00cc96",
           "#ab63fa",
           "#FFA15A",
           "#19d3f3",
           "#FF6692",
           "#B6E880",
           "#FF97FF",
           "#FECB52"
          ],
          "font": {
           "color": "#2a3f5f"
          },
          "geo": {
           "bgcolor": "white",
           "lakecolor": "white",
           "landcolor": "#E5ECF6",
           "showlakes": true,
           "showland": true,
           "subunitcolor": "white"
          },
          "hoverlabel": {
           "align": "left"
          },
          "hovermode": "closest",
          "mapbox": {
           "style": "light"
          },
          "paper_bgcolor": "white",
          "plot_bgcolor": "#E5ECF6",
          "polar": {
           "angularaxis": {
            "gridcolor": "white",
            "linecolor": "white",
            "ticks": ""
           },
           "bgcolor": "#E5ECF6",
           "radialaxis": {
            "gridcolor": "white",
            "linecolor": "white",
            "ticks": ""
           }
          },
          "scene": {
           "xaxis": {
            "backgroundcolor": "#E5ECF6",
            "gridcolor": "white",
            "gridwidth": 2,
            "linecolor": "white",
            "showbackground": true,
            "ticks": "",
            "zerolinecolor": "white"
           },
           "yaxis": {
            "backgroundcolor": "#E5ECF6",
            "gridcolor": "white",
            "gridwidth": 2,
            "linecolor": "white",
            "showbackground": true,
            "ticks": "",
            "zerolinecolor": "white"
           },
           "zaxis": {
            "backgroundcolor": "#E5ECF6",
            "gridcolor": "white",
            "gridwidth": 2,
            "linecolor": "white",
            "showbackground": true,
            "ticks": "",
            "zerolinecolor": "white"
           }
          },
          "shapedefaults": {
           "line": {
            "color": "#2a3f5f"
           }
          },
          "ternary": {
           "aaxis": {
            "gridcolor": "white",
            "linecolor": "white",
            "ticks": ""
           },
           "baxis": {
            "gridcolor": "white",
            "linecolor": "white",
            "ticks": ""
           },
           "bgcolor": "#E5ECF6",
           "caxis": {
            "gridcolor": "white",
            "linecolor": "white",
            "ticks": ""
           }
          },
          "title": {
           "x": 0.05
          },
          "xaxis": {
           "automargin": true,
           "gridcolor": "white",
           "linecolor": "white",
           "ticks": "",
           "title": {
            "standoff": 15
           },
           "zerolinecolor": "white",
           "zerolinewidth": 2
          },
          "yaxis": {
           "automargin": true,
           "gridcolor": "white",
           "linecolor": "white",
           "ticks": "",
           "title": {
            "standoff": 15
           },
           "zerolinecolor": "white",
           "zerolinewidth": 2
          }
         }
        },
        "title": {
         "text": "Deaths Cases Across Countries"
        },
        "xaxis": {
         "title": {
          "text": "Date"
         }
        },
        "yaxis": {
         "title": {
          "text": "Number of Cases"
         }
        }
       }
      },
      "text/html": [
       "<div>\n",
       "        \n",
       "        \n",
       "            <div id=\"1e80637e-5b73-449c-81d1-dbe8e24868a8\" class=\"plotly-graph-div\" style=\"height:525px; width:100%;\"></div>\n",
       "            <script type=\"text/javascript\">\n",
       "                require([\"plotly\"], function(Plotly) {\n",
       "                    window.PLOTLYENV=window.PLOTLYENV || {};\n",
       "                    \n",
       "                if (document.getElementById(\"1e80637e-5b73-449c-81d1-dbe8e24868a8\")) {\n",
       "                    Plotly.newPlot(\n",
       "                        '1e80637e-5b73-449c-81d1-dbe8e24868a8',\n",
       "                        [{\"mode\": \"lines+markers\", \"name\": \"China\", \"type\": \"scatter\", \"x\": [\"01/22/2020\", \"01/23/2020\", \"01/24/2020\", \"01/25/2020\", \"01/26/2020\", \"01/27/2020\", \"01/28/2020\", \"01/29/2020\", \"01/30/2020\", \"01/31/2020\", \"02/01/2020\", \"02/02/2020\", \"02/03/2020\", \"02/04/2020\", \"02/05/2020\", \"02/06/2020\", \"02/07/2020\", \"02/08/2020\", \"02/09/2020\", \"02/10/2020\", \"02/11/2020\", \"02/12/2020\", \"02/13/2020\", \"02/14/2020\", \"02/15/2020\", \"02/16/2020\", \"02/17/2020\", \"02/18/2020\", \"02/19/2020\", \"02/20/2020\", \"02/21/2020\", \"02/22/2020\", \"02/23/2020\", \"02/24/2020\", \"02/25/2020\", \"02/26/2020\", \"02/27/2020\", \"02/28/2020\", \"02/29/2020\", \"03/01/2020\", \"03/02/2020\", \"03/03/2020\", \"03/04/2020\", \"03/05/2020\", \"03/06/2020\", \"03/07/2020\", \"03/08/2020\", \"03/09/2020\", \"03/10/2020\", \"03/11/2020\", \"03/12/2020\", \"03/13/2020\", \"03/14/2020\", \"03/15/2020\", \"03/16/2020\", \"03/17/2020\", \"03/18/2020\", \"03/19/2020\", \"03/20/2020\", \"03/21/2020\", \"03/22/2020\", \"03/23/2020\", \"03/24/2020\", \"03/25/2020\", \"03/26/2020\", \"03/27/2020\", \"03/28/2020\", \"03/29/2020\", \"03/30/2020\", \"03/31/2020\", \"04/01/2020\"], \"y\": [17.0, 18.0, 26.0, 42.0, 56.0, 82.0, 131.0, 133.0, 171.0, 213.0, 259.0, 361.0, 425.0, 490.0, 562.0, 632.0, 717.0, 804.0, 904.0, 1011.0, 1111.0, 1116.0, 1368.0, 1520.0, 1662.0, 1765.0, 1863.0, 2002.0, 2114.0, 2236.0, 2236.0, 2441.0, 2443.0, 2593.0, 2663.0, 2715.0, 2744.0, 2788.0, 2835.0, 2870.0, 2912.0, 2945.0, 2981.0, 3013.0, 3042.0, 3070.0, 3097.0, 3120.0, 3136.0, 3158.0, 3169.0, 3176.0, 3189.0, 3199.0, 3213.0, 3226.0, 3237.0, 3245.0, 3249.0, 3255.0, 3261.0, 3270.0, 3277.0, 3281.0, 3287.0, 3292.0, 3295.0, 3300.0, 3304.0, 3305.0, 3312.0]}, {\"mode\": \"lines+markers\", \"name\": \"South Korea\", \"type\": \"scatter\", \"x\": [\"01/22/2020\", \"01/23/2020\", \"01/24/2020\", \"01/25/2020\", \"01/26/2020\", \"01/27/2020\", \"01/28/2020\", \"01/29/2020\", \"01/30/2020\", \"01/31/2020\", \"02/01/2020\", \"02/02/2020\", \"02/03/2020\", \"02/04/2020\", \"02/05/2020\", \"02/06/2020\", \"02/07/2020\", \"02/08/2020\", \"02/09/2020\", \"02/10/2020\", \"02/11/2020\", \"02/12/2020\", \"02/13/2020\", \"02/14/2020\", \"02/15/2020\", \"02/16/2020\", \"02/17/2020\", \"02/18/2020\", \"02/19/2020\", \"02/20/2020\", \"02/21/2020\", \"02/22/2020\", \"02/23/2020\", \"02/24/2020\", \"02/25/2020\", \"02/26/2020\", \"02/27/2020\", \"02/28/2020\", \"02/29/2020\", \"03/01/2020\", \"03/02/2020\", \"03/03/2020\", \"03/04/2020\", \"03/05/2020\", \"03/06/2020\", \"03/07/2020\", \"03/08/2020\", \"03/09/2020\", \"03/10/2020\", \"03/11/2020\", \"03/12/2020\", \"03/13/2020\", \"03/14/2020\", \"03/15/2020\", \"03/16/2020\", \"03/17/2020\", \"03/18/2020\", \"03/19/2020\", \"03/20/2020\", \"03/21/2020\", \"03/22/2020\", \"03/23/2020\", \"03/24/2020\", \"03/25/2020\", \"03/26/2020\", \"03/27/2020\", \"03/28/2020\", \"03/29/2020\", \"03/30/2020\", \"03/31/2020\", \"04/01/2020\"], \"y\": [0.0, 0.0, 0.0, 0.0, 0.0, 0.0, 0.0, 0.0, 0.0, 0.0, 0.0, 0.0, 0.0, 0.0, 0.0, 0.0, 0.0, 0.0, 0.0, 0.0, 0.0, 0.0, 0.0, 0.0, 0.0, 0.0, 0.0, 0.0, 0.0, 1.0, 2.0, 2.0, 6.0, 8.0, 10.0, 12.0, 13.0, 13.0, 16.0, 17.0, 28.0, 28.0, 35.0, 35.0, 42.0, 44.0, 50.0, 53.0, 54.0, 60.0, 66.0, 66.0, 72.0, 75.0, 75.0, 81.0, 84.0, 91.0, 94.0, 102.0, 104.0, 111.0, 120.0, 126.0, 131.0, 139.0, 144.0, 152.0, 158.0, 162.0, 165.0]}, {\"mode\": \"lines+markers\", \"name\": \"Italy\", \"type\": \"scatter\", \"x\": [\"01/31/2020\", \"02/01/2020\", \"02/02/2020\", \"02/03/2020\", \"02/04/2020\", \"02/05/2020\", \"02/06/2020\", \"02/07/2020\", \"02/08/2020\", \"02/09/2020\", \"02/10/2020\", \"02/11/2020\", \"02/12/2020\", \"02/13/2020\", \"02/14/2020\", \"02/15/2020\", \"02/16/2020\", \"02/17/2020\", \"02/18/2020\", \"02/19/2020\", \"02/20/2020\", \"02/21/2020\", \"02/22/2020\", \"02/23/2020\", \"02/24/2020\", \"02/25/2020\", \"02/26/2020\", \"02/27/2020\", \"02/28/2020\", \"02/29/2020\", \"03/01/2020\", \"03/02/2020\", \"03/03/2020\", \"03/04/2020\", \"03/05/2020\", \"03/06/2020\", \"03/07/2020\", \"03/08/2020\", \"03/09/2020\", \"03/10/2020\", \"03/11/2020\", \"03/12/2020\", \"03/13/2020\", \"03/14/2020\", \"03/15/2020\", \"03/16/2020\", \"03/17/2020\", \"03/18/2020\", \"03/19/2020\", \"03/20/2020\", \"03/21/2020\", \"03/22/2020\", \"03/23/2020\", \"03/24/2020\", \"03/25/2020\", \"03/26/2020\", \"03/27/2020\", \"03/28/2020\", \"03/29/2020\", \"03/30/2020\", \"03/31/2020\", \"04/01/2020\"], \"y\": [0.0, 0.0, 0.0, 0.0, 0.0, 0.0, 0.0, 0.0, 0.0, 0.0, 0.0, 0.0, 0.0, 0.0, 0.0, 0.0, 0.0, 0.0, 0.0, 0.0, 0.0, 1.0, 2.0, 3.0, 7.0, 10.0, 12.0, 17.0, 21.0, 29.0, 34.0, 52.0, 79.0, 107.0, 148.0, 197.0, 233.0, 366.0, 463.0, 631.0, 827.0, 827.0, 1266.0, 1441.0, 1809.0, 2158.0, 2503.0, 2978.0, 3405.0, 4032.0, 4825.0, 5476.0, 6077.0, 6820.0, 7503.0, 8215.0, 9134.0, 10023.0, 10779.0, 11591.0, 12428.0, 13155.0]}, {\"mode\": \"lines+markers\", \"name\": \"USA\", \"type\": \"scatter\", \"x\": [\"01/22/2020\", \"01/23/2020\", \"01/24/2020\", \"01/25/2020\", \"01/26/2020\", \"01/27/2020\", \"01/28/2020\", \"01/29/2020\", \"01/30/2020\", \"01/31/2020\", \"02/01/2020\", \"02/02/2020\", \"02/03/2020\", \"02/04/2020\", \"02/05/2020\", \"02/06/2020\", \"02/07/2020\", \"02/08/2020\", \"02/09/2020\", \"02/10/2020\", \"02/11/2020\", \"02/12/2020\", \"02/13/2020\", \"02/14/2020\", \"02/15/2020\", \"02/16/2020\", \"02/17/2020\", \"02/18/2020\", \"02/19/2020\", \"02/20/2020\", \"02/21/2020\", \"02/22/2020\", \"02/23/2020\", \"02/24/2020\", \"02/25/2020\", \"02/26/2020\", \"02/27/2020\", \"02/28/2020\", \"02/29/2020\", \"03/01/2020\", \"03/02/2020\", \"03/03/2020\", \"03/04/2020\", \"03/05/2020\", \"03/06/2020\", \"03/07/2020\", \"03/08/2020\", \"03/09/2020\", \"03/10/2020\", \"03/11/2020\", \"03/12/2020\", \"03/13/2020\", \"03/14/2020\", \"03/15/2020\", \"03/16/2020\", \"03/17/2020\", \"03/18/2020\", \"03/19/2020\", \"03/20/2020\", \"03/21/2020\", \"03/22/2020\", \"03/23/2020\", \"03/24/2020\", \"03/25/2020\", \"03/26/2020\", \"03/27/2020\", \"03/28/2020\", \"03/29/2020\", \"03/30/2020\", \"03/31/2020\", \"04/01/2020\"], \"y\": [0.0, 0.0, 0.0, 0.0, 0.0, 0.0, 0.0, 0.0, 0.0, 0.0, 0.0, 0.0, 0.0, 0.0, 0.0, 0.0, 0.0, 0.0, 0.0, 0.0, 0.0, 0.0, 0.0, 0.0, 0.0, 0.0, 0.0, 0.0, 0.0, 0.0, 0.0, 0.0, 0.0, 0.0, 0.0, 0.0, 0.0, 0.0, 1.0, 1.0, 6.0, 7.0, 11.0, 12.0, 14.0, 17.0, 21.0, 22.0, 28.0, 36.0, 40.0, 47.0, 54.0, 63.0, 85.0, 108.0, 118.0, 200.0, 244.0, 307.0, 427.0, 552.0, 706.0, 942.0, 1209.0, 1581.0, 2026.0, 2467.0, 2978.0, 3873.0, 4757.0]}, {\"mode\": \"lines+markers\", \"name\": \"Spain\", \"type\": \"scatter\", \"x\": [\"02/01/2020\", \"02/02/2020\", \"02/03/2020\", \"02/04/2020\", \"02/05/2020\", \"02/06/2020\", \"02/07/2020\", \"02/08/2020\", \"02/09/2020\", \"02/10/2020\", \"02/11/2020\", \"02/12/2020\", \"02/13/2020\", \"02/14/2020\", \"02/15/2020\", \"02/16/2020\", \"02/17/2020\", \"02/18/2020\", \"02/19/2020\", \"02/20/2020\", \"02/21/2020\", \"02/22/2020\", \"02/23/2020\", \"02/24/2020\", \"02/25/2020\", \"02/26/2020\", \"02/27/2020\", \"02/28/2020\", \"02/29/2020\", \"03/01/2020\", \"03/02/2020\", \"03/03/2020\", \"03/04/2020\", \"03/05/2020\", \"03/06/2020\", \"03/07/2020\", \"03/08/2020\", \"03/09/2020\", \"03/10/2020\", \"03/11/2020\", \"03/12/2020\", \"03/13/2020\", \"03/14/2020\", \"03/15/2020\", \"03/16/2020\", \"03/17/2020\", \"03/18/2020\", \"03/19/2020\", \"03/20/2020\", \"03/21/2020\", \"03/22/2020\", \"03/23/2020\", \"03/24/2020\", \"03/25/2020\", \"03/26/2020\", \"03/27/2020\", \"03/28/2020\", \"03/29/2020\", \"03/30/2020\", \"03/31/2020\", \"04/01/2020\"], \"y\": [0.0, 0.0, 0.0, 0.0, 0.0, 0.0, 0.0, 0.0, 0.0, 0.0, 0.0, 0.0, 0.0, 0.0, 0.0, 0.0, 0.0, 0.0, 0.0, 0.0, 0.0, 0.0, 0.0, 0.0, 0.0, 0.0, 0.0, 0.0, 0.0, 0.0, 0.0, 1.0, 2.0, 3.0, 5.0, 10.0, 17.0, 28.0, 35.0, 54.0, 55.0, 133.0, 195.0, 289.0, 342.0, 533.0, 623.0, 830.0, 1043.0, 1375.0, 1756.0, 2311.0, 2808.0, 3647.0, 4365.0, 5138.0, 5982.0, 6803.0, 7716.0, 8464.0, 9387.0]}],\n",
       "                        {\"font\": {\"family\": \"Courier New, monospace\", \"size\": 18}, \"plot_bgcolor\": \"rgb(250, 242, 242)\", \"template\": {\"data\": {\"bar\": [{\"error_x\": {\"color\": \"#2a3f5f\"}, \"error_y\": {\"color\": \"#2a3f5f\"}, \"marker\": {\"line\": {\"color\": \"#E5ECF6\", \"width\": 0.5}}, \"type\": \"bar\"}], \"barpolar\": [{\"marker\": {\"line\": {\"color\": \"#E5ECF6\", \"width\": 0.5}}, \"type\": \"barpolar\"}], \"carpet\": [{\"aaxis\": {\"endlinecolor\": \"#2a3f5f\", \"gridcolor\": \"white\", \"linecolor\": \"white\", \"minorgridcolor\": \"white\", \"startlinecolor\": \"#2a3f5f\"}, \"baxis\": {\"endlinecolor\": \"#2a3f5f\", \"gridcolor\": \"white\", \"linecolor\": \"white\", \"minorgridcolor\": \"white\", \"startlinecolor\": \"#2a3f5f\"}, \"type\": \"carpet\"}], \"choropleth\": [{\"colorbar\": {\"outlinewidth\": 0, \"ticks\": \"\"}, \"type\": \"choropleth\"}], \"contour\": [{\"colorbar\": {\"outlinewidth\": 0, \"ticks\": \"\"}, \"colorscale\": [[0.0, \"#0d0887\"], [0.1111111111111111, \"#46039f\"], [0.2222222222222222, \"#7201a8\"], [0.3333333333333333, \"#9c179e\"], [0.4444444444444444, \"#bd3786\"], [0.5555555555555556, \"#d8576b\"], [0.6666666666666666, \"#ed7953\"], [0.7777777777777778, \"#fb9f3a\"], [0.8888888888888888, \"#fdca26\"], [1.0, \"#f0f921\"]], \"type\": \"contour\"}], \"contourcarpet\": [{\"colorbar\": {\"outlinewidth\": 0, \"ticks\": \"\"}, \"type\": \"contourcarpet\"}], \"heatmap\": [{\"colorbar\": {\"outlinewidth\": 0, \"ticks\": \"\"}, \"colorscale\": [[0.0, \"#0d0887\"], [0.1111111111111111, \"#46039f\"], [0.2222222222222222, \"#7201a8\"], [0.3333333333333333, \"#9c179e\"], [0.4444444444444444, \"#bd3786\"], [0.5555555555555556, \"#d8576b\"], [0.6666666666666666, \"#ed7953\"], [0.7777777777777778, \"#fb9f3a\"], [0.8888888888888888, \"#fdca26\"], [1.0, \"#f0f921\"]], \"type\": \"heatmap\"}], \"heatmapgl\": [{\"colorbar\": {\"outlinewidth\": 0, \"ticks\": \"\"}, \"colorscale\": [[0.0, \"#0d0887\"], [0.1111111111111111, \"#46039f\"], [0.2222222222222222, \"#7201a8\"], [0.3333333333333333, \"#9c179e\"], [0.4444444444444444, \"#bd3786\"], [0.5555555555555556, \"#d8576b\"], [0.6666666666666666, \"#ed7953\"], [0.7777777777777778, \"#fb9f3a\"], [0.8888888888888888, \"#fdca26\"], [1.0, \"#f0f921\"]], \"type\": \"heatmapgl\"}], \"histogram\": [{\"marker\": {\"colorbar\": {\"outlinewidth\": 0, \"ticks\": \"\"}}, \"type\": \"histogram\"}], \"histogram2d\": [{\"colorbar\": {\"outlinewidth\": 0, \"ticks\": \"\"}, \"colorscale\": [[0.0, \"#0d0887\"], [0.1111111111111111, \"#46039f\"], [0.2222222222222222, \"#7201a8\"], [0.3333333333333333, \"#9c179e\"], [0.4444444444444444, \"#bd3786\"], [0.5555555555555556, \"#d8576b\"], [0.6666666666666666, \"#ed7953\"], [0.7777777777777778, \"#fb9f3a\"], [0.8888888888888888, \"#fdca26\"], [1.0, \"#f0f921\"]], \"type\": \"histogram2d\"}], \"histogram2dcontour\": [{\"colorbar\": {\"outlinewidth\": 0, \"ticks\": \"\"}, \"colorscale\": [[0.0, \"#0d0887\"], [0.1111111111111111, \"#46039f\"], [0.2222222222222222, \"#7201a8\"], [0.3333333333333333, \"#9c179e\"], [0.4444444444444444, \"#bd3786\"], [0.5555555555555556, \"#d8576b\"], [0.6666666666666666, \"#ed7953\"], [0.7777777777777778, \"#fb9f3a\"], [0.8888888888888888, \"#fdca26\"], [1.0, \"#f0f921\"]], \"type\": \"histogram2dcontour\"}], \"mesh3d\": [{\"colorbar\": {\"outlinewidth\": 0, \"ticks\": \"\"}, \"type\": \"mesh3d\"}], \"parcoords\": [{\"line\": {\"colorbar\": {\"outlinewidth\": 0, \"ticks\": \"\"}}, \"type\": \"parcoords\"}], \"pie\": [{\"automargin\": true, \"type\": \"pie\"}], \"scatter\": [{\"marker\": {\"colorbar\": {\"outlinewidth\": 0, \"ticks\": \"\"}}, \"type\": \"scatter\"}], \"scatter3d\": [{\"line\": {\"colorbar\": {\"outlinewidth\": 0, \"ticks\": \"\"}}, \"marker\": {\"colorbar\": {\"outlinewidth\": 0, \"ticks\": \"\"}}, \"type\": \"scatter3d\"}], \"scattercarpet\": [{\"marker\": {\"colorbar\": {\"outlinewidth\": 0, \"ticks\": \"\"}}, \"type\": \"scattercarpet\"}], \"scattergeo\": [{\"marker\": {\"colorbar\": {\"outlinewidth\": 0, \"ticks\": \"\"}}, \"type\": \"scattergeo\"}], \"scattergl\": [{\"marker\": {\"colorbar\": {\"outlinewidth\": 0, \"ticks\": \"\"}}, \"type\": \"scattergl\"}], \"scattermapbox\": [{\"marker\": {\"colorbar\": {\"outlinewidth\": 0, \"ticks\": \"\"}}, \"type\": \"scattermapbox\"}], \"scatterpolar\": [{\"marker\": {\"colorbar\": {\"outlinewidth\": 0, \"ticks\": \"\"}}, \"type\": \"scatterpolar\"}], \"scatterpolargl\": [{\"marker\": {\"colorbar\": {\"outlinewidth\": 0, \"ticks\": \"\"}}, \"type\": \"scatterpolargl\"}], \"scatterternary\": [{\"marker\": {\"colorbar\": {\"outlinewidth\": 0, \"ticks\": \"\"}}, \"type\": \"scatterternary\"}], \"surface\": [{\"colorbar\": {\"outlinewidth\": 0, \"ticks\": \"\"}, \"colorscale\": [[0.0, \"#0d0887\"], [0.1111111111111111, \"#46039f\"], [0.2222222222222222, \"#7201a8\"], [0.3333333333333333, \"#9c179e\"], [0.4444444444444444, \"#bd3786\"], [0.5555555555555556, \"#d8576b\"], [0.6666666666666666, \"#ed7953\"], [0.7777777777777778, \"#fb9f3a\"], [0.8888888888888888, \"#fdca26\"], [1.0, \"#f0f921\"]], \"type\": \"surface\"}], \"table\": [{\"cells\": {\"fill\": {\"color\": \"#EBF0F8\"}, \"line\": {\"color\": \"white\"}}, \"header\": {\"fill\": {\"color\": \"#C8D4E3\"}, \"line\": {\"color\": \"white\"}}, \"type\": \"table\"}]}, \"layout\": {\"annotationdefaults\": {\"arrowcolor\": \"#2a3f5f\", \"arrowhead\": 0, \"arrowwidth\": 1}, \"coloraxis\": {\"colorbar\": {\"outlinewidth\": 0, \"ticks\": \"\"}}, \"colorscale\": {\"diverging\": [[0, \"#8e0152\"], [0.1, \"#c51b7d\"], [0.2, \"#de77ae\"], [0.3, \"#f1b6da\"], [0.4, \"#fde0ef\"], [0.5, \"#f7f7f7\"], [0.6, \"#e6f5d0\"], [0.7, \"#b8e186\"], [0.8, \"#7fbc41\"], [0.9, \"#4d9221\"], [1, \"#276419\"]], \"sequential\": [[0.0, \"#0d0887\"], [0.1111111111111111, \"#46039f\"], [0.2222222222222222, \"#7201a8\"], [0.3333333333333333, \"#9c179e\"], [0.4444444444444444, \"#bd3786\"], [0.5555555555555556, \"#d8576b\"], [0.6666666666666666, \"#ed7953\"], [0.7777777777777778, \"#fb9f3a\"], [0.8888888888888888, \"#fdca26\"], [1.0, \"#f0f921\"]], \"sequentialminus\": [[0.0, \"#0d0887\"], [0.1111111111111111, \"#46039f\"], [0.2222222222222222, \"#7201a8\"], [0.3333333333333333, \"#9c179e\"], [0.4444444444444444, \"#bd3786\"], [0.5555555555555556, \"#d8576b\"], [0.6666666666666666, \"#ed7953\"], [0.7777777777777778, \"#fb9f3a\"], [0.8888888888888888, \"#fdca26\"], [1.0, \"#f0f921\"]]}, \"colorway\": [\"#636efa\", \"#EF553B\", \"#00cc96\", \"#ab63fa\", \"#FFA15A\", \"#19d3f3\", \"#FF6692\", \"#B6E880\", \"#FF97FF\", \"#FECB52\"], \"font\": {\"color\": \"#2a3f5f\"}, \"geo\": {\"bgcolor\": \"white\", \"lakecolor\": \"white\", \"landcolor\": \"#E5ECF6\", \"showlakes\": true, \"showland\": true, \"subunitcolor\": \"white\"}, \"hoverlabel\": {\"align\": \"left\"}, \"hovermode\": \"closest\", \"mapbox\": {\"style\": \"light\"}, \"paper_bgcolor\": \"white\", \"plot_bgcolor\": \"#E5ECF6\", \"polar\": {\"angularaxis\": {\"gridcolor\": \"white\", \"linecolor\": \"white\", \"ticks\": \"\"}, \"bgcolor\": \"#E5ECF6\", \"radialaxis\": {\"gridcolor\": \"white\", \"linecolor\": \"white\", \"ticks\": \"\"}}, \"scene\": {\"xaxis\": {\"backgroundcolor\": \"#E5ECF6\", \"gridcolor\": \"white\", \"gridwidth\": 2, \"linecolor\": \"white\", \"showbackground\": true, \"ticks\": \"\", \"zerolinecolor\": \"white\"}, \"yaxis\": {\"backgroundcolor\": \"#E5ECF6\", \"gridcolor\": \"white\", \"gridwidth\": 2, \"linecolor\": \"white\", \"showbackground\": true, \"ticks\": \"\", \"zerolinecolor\": \"white\"}, \"zaxis\": {\"backgroundcolor\": \"#E5ECF6\", \"gridcolor\": \"white\", \"gridwidth\": 2, \"linecolor\": \"white\", \"showbackground\": true, \"ticks\": \"\", \"zerolinecolor\": \"white\"}}, \"shapedefaults\": {\"line\": {\"color\": \"#2a3f5f\"}}, \"ternary\": {\"aaxis\": {\"gridcolor\": \"white\", \"linecolor\": \"white\", \"ticks\": \"\"}, \"baxis\": {\"gridcolor\": \"white\", \"linecolor\": \"white\", \"ticks\": \"\"}, \"bgcolor\": \"#E5ECF6\", \"caxis\": {\"gridcolor\": \"white\", \"linecolor\": \"white\", \"ticks\": \"\"}}, \"title\": {\"x\": 0.05}, \"xaxis\": {\"automargin\": true, \"gridcolor\": \"white\", \"linecolor\": \"white\", \"ticks\": \"\", \"title\": {\"standoff\": 15}, \"zerolinecolor\": \"white\", \"zerolinewidth\": 2}, \"yaxis\": {\"automargin\": true, \"gridcolor\": \"white\", \"linecolor\": \"white\", \"ticks\": \"\", \"title\": {\"standoff\": 15}, \"zerolinecolor\": \"white\", \"zerolinewidth\": 2}}}, \"title\": {\"text\": \"Deaths Cases Across Countries\"}, \"xaxis\": {\"title\": {\"text\": \"Date\"}}, \"yaxis\": {\"title\": {\"text\": \"Number of Cases\"}}},\n",
       "                        {\"responsive\": true}\n",
       "                    ).then(function(){\n",
       "                            \n",
       "var gd = document.getElementById('1e80637e-5b73-449c-81d1-dbe8e24868a8');\n",
       "var x = new MutationObserver(function (mutations, observer) {{\n",
       "        var display = window.getComputedStyle(gd).display;\n",
       "        if (!display || display === 'none') {{\n",
       "            console.log([gd, 'removed!']);\n",
       "            Plotly.purge(gd);\n",
       "            observer.disconnect();\n",
       "        }}\n",
       "}});\n",
       "\n",
       "// Listen for the removal of the full notebook cells\n",
       "var notebookContainer = gd.closest('#notebook-container');\n",
       "if (notebookContainer) {{\n",
       "    x.observe(notebookContainer, {childList: true});\n",
       "}}\n",
       "\n",
       "// Listen for the clearing of the current output cell\n",
       "var outputEl = gd.closest('.output');\n",
       "if (outputEl) {{\n",
       "    x.observe(outputEl, {childList: true});\n",
       "}}\n",
       "\n",
       "                        })\n",
       "                };\n",
       "                });\n",
       "            </script>\n",
       "        </div>"
      ]
     },
     "metadata": {},
     "output_type": "display_data"
    }
   ],
   "source": [
    "import plotly.graph_objs as go\n",
    "fig = go.Figure()\n",
    "fig.add_trace(go.Scatter(x=df_china['ObservationDate'], y=df_china['Deaths'],\n",
    "                    mode='lines+markers',name='China'))\n",
    "fig.add_trace(go.Scatter(x=df_sKorea['ObservationDate'], y=df_sKorea['Deaths'],\n",
    "                    mode='lines+markers',name='South Korea'))\n",
    "fig.add_trace(go.Scatter(x=df_italy['ObservationDate'], y=df_italy['Deaths'],\n",
    "                    mode='lines+markers',name='Italy'))\n",
    "fig.add_trace(go.Scatter(x=df_USA['ObservationDate'], y=df_USA['Deaths'],\n",
    "                    mode='lines+markers',name='USA'))\n",
    "fig.add_trace(go.Scatter(x=df_Spain['ObservationDate'], y=df_Spain['Deaths'],\n",
    "                    mode='lines+markers',name='Spain'))\n",
    "fig.update_layout(title_text='Deaths Cases Across Countries',xaxis_title='Date',yaxis_title='Number of Cases',plot_bgcolor='rgb(250, 242, 242)', font=dict(\n",
    "        family=\"Courier New, monospace\",\n",
    "        size=18,\n",
    "    ))\n",
    "\n",
    "fig.show()"
   ]
  },
  {
   "cell_type": "code",
   "execution_count": 35,
   "metadata": {},
   "outputs": [],
   "source": [
    "df_china['ObservationDate'] = pd.to_datetime(df_china['ObservationDate'])\n",
    "df_china['week'] = df_china['ObservationDate'].dt.week\n",
    "df_sKorea['ObservationDate'] = pd.to_datetime(df_sKorea['ObservationDate'])\n",
    "df_sKorea['week'] = df_sKorea['ObservationDate'].dt.week\n",
    "df_USA['ObservationDate'] = pd.to_datetime(df_USA['ObservationDate'])\n",
    "df_USA['week'] = df_USA['ObservationDate'].dt.week\n",
    "df_italy['ObservationDate'] = pd.to_datetime(df_italy['ObservationDate'])\n",
    "df_italy['week'] = df_italy['ObservationDate'].dt.week\n",
    "df_Spain['ObservationDate'] = pd.to_datetime(df_Spain['ObservationDate'])\n",
    "df_Spain['week'] = df_Spain['ObservationDate'].dt.week"
   ]
  },
  {
   "cell_type": "code",
   "execution_count": 36,
   "metadata": {},
   "outputs": [
    {
     "data": {
      "application/vnd.plotly.v1+json": {
       "config": {
        "plotlyServerURL": "https://plot.ly"
       },
       "data": [
        {
         "mode": "lines+markers",
         "name": "China",
         "type": "scatter",
         "x": [
          4,
          4,
          4,
          4,
          4,
          5,
          5,
          5,
          5,
          5,
          5,
          5,
          6,
          6,
          6,
          6,
          6,
          6,
          6,
          7,
          7,
          7,
          7,
          7,
          7,
          7,
          8,
          8,
          8,
          8,
          8,
          8,
          8,
          9,
          9,
          9,
          9,
          9,
          9,
          9,
          10,
          10,
          10,
          10,
          10,
          10,
          10,
          11,
          11,
          11,
          11,
          11,
          11,
          11,
          12,
          12,
          12,
          12,
          12,
          12,
          12,
          13,
          13,
          13,
          13,
          13,
          13,
          13,
          14,
          14,
          14
         ],
         "y": [
          547,
          639,
          916,
          1399,
          2062,
          2863,
          5494,
          6070,
          8124,
          9783,
          11871,
          16607,
          19693,
          23680,
          27409,
          30553,
          34075,
          36778,
          39790,
          42306,
          44327,
          44699,
          59832,
          66292,
          68347,
          70446,
          72364,
          74139,
          74546,
          74999,
          75472,
          76922,
          76938,
          77152,
          77660,
          78065,
          78498,
          78824,
          79251,
          79826,
          80026,
          80151,
          80271,
          80422,
          80573,
          80652,
          80699,
          80735,
          80757,
          80785,
          80793,
          80801,
          80827,
          80848,
          80867,
          80884,
          80906,
          80931,
          80977,
          81014,
          81060,
          81116,
          81180,
          81221,
          81298,
          81345,
          81401,
          81444,
          81478,
          81524,
          81555
         ]
        },
        {
         "mode": "lines+markers",
         "name": "South Korea",
         "type": "scatter",
         "x": [
          4,
          4,
          4,
          4,
          4,
          5,
          5,
          5,
          5,
          5,
          5,
          5,
          6,
          6,
          6,
          6,
          6,
          6,
          6,
          7,
          7,
          7,
          7,
          7,
          7,
          7,
          8,
          8,
          8,
          8,
          8,
          8,
          8,
          9,
          9,
          9,
          9,
          9,
          9,
          9,
          10,
          10,
          10,
          10,
          10,
          10,
          10,
          11,
          11,
          11,
          11,
          11,
          11,
          11,
          12,
          12,
          12,
          12,
          12,
          12,
          12,
          13,
          13,
          13,
          13,
          13,
          13,
          13,
          14,
          14,
          14
         ],
         "y": [
          1,
          1,
          2,
          2,
          3,
          4,
          4,
          4,
          4,
          11,
          12,
          15,
          15,
          16,
          19,
          23,
          24,
          24,
          25,
          27,
          28,
          28,
          28,
          28,
          28,
          29,
          30,
          31,
          31,
          104,
          204,
          433,
          602,
          833,
          977,
          1261,
          1766,
          2337,
          3150,
          3736,
          4335,
          5186,
          5621,
          6088,
          6593,
          7041,
          7314,
          7478,
          7513,
          7755,
          7869,
          7979,
          8086,
          8162,
          8236,
          8320,
          8413,
          8565,
          8652,
          8799,
          8897,
          8961,
          9037,
          9137,
          9241,
          9332,
          9478,
          9583,
          9661,
          9786,
          9887
         ]
        },
        {
         "mode": "lines+markers",
         "name": "Italy",
         "type": "scatter",
         "x": [
          5,
          5,
          5,
          6,
          6,
          6,
          6,
          6,
          6,
          6,
          7,
          7,
          7,
          7,
          7,
          7,
          7,
          8,
          8,
          8,
          8,
          8,
          8,
          8,
          9,
          9,
          9,
          9,
          9,
          9,
          9,
          10,
          10,
          10,
          10,
          10,
          10,
          10,
          11,
          11,
          11,
          11,
          11,
          11,
          11,
          12,
          12,
          12,
          12,
          12,
          12,
          12,
          13,
          13,
          13,
          13,
          13,
          13,
          13,
          14,
          14,
          14
         ],
         "y": [
          2,
          2,
          2,
          2,
          2,
          2,
          2,
          3,
          3,
          3,
          3,
          3,
          3,
          3,
          3,
          3,
          3,
          3,
          3,
          3,
          3,
          20,
          62,
          155,
          229,
          322,
          453,
          655,
          888,
          1128,
          1694,
          2036,
          2502,
          3089,
          3858,
          4636,
          5883,
          7375,
          9172,
          10149,
          12462,
          12462,
          17660,
          21157,
          24747,
          27980,
          31506,
          35713,
          41035,
          47021,
          53578,
          59138,
          63927,
          69176,
          74386,
          80589,
          86498,
          92472,
          97689,
          101739,
          105792,
          110574
         ]
        },
        {
         "mode": "lines+markers",
         "name": "USA",
         "type": "scatter",
         "x": [
          4,
          4,
          4,
          4,
          4,
          5,
          5,
          5,
          5,
          5,
          5,
          5,
          6,
          6,
          6,
          6,
          6,
          6,
          6,
          7,
          7,
          7,
          7,
          7,
          7,
          7,
          8,
          8,
          8,
          8,
          8,
          8,
          8,
          9,
          9,
          9,
          9,
          9,
          9,
          9,
          10,
          10,
          10,
          10,
          10,
          10,
          10,
          11,
          11,
          11,
          11,
          11,
          11,
          11,
          12,
          12,
          12,
          12,
          12,
          12,
          12,
          13,
          13,
          13,
          13,
          13,
          13,
          13,
          14,
          14,
          14
         ],
         "y": [
          1,
          1,
          2,
          2,
          5,
          5,
          5,
          5,
          5,
          6,
          8,
          8,
          11,
          11,
          12,
          12,
          12,
          12,
          12,
          12,
          13,
          13,
          15,
          15,
          15,
          15,
          15,
          15,
          15,
          15,
          35,
          35,
          35,
          53,
          53,
          59,
          60,
          62,
          70,
          76,
          101,
          122,
          153,
          221,
          278,
          417,
          537,
          605,
          959,
          1281,
          1663,
          2179,
          2726,
          3499,
          4632,
          6421,
          7786,
          13680,
          19101,
          25493,
          33746,
          43667,
          53740,
          65778,
          83836,
          101657,
          121478,
          140886,
          161807,
          188172,
          213372
         ]
        },
        {
         "mode": "lines+markers",
         "name": "Spain",
         "type": "scatter",
         "x": [
          5,
          5,
          6,
          6,
          6,
          6,
          6,
          6,
          6,
          7,
          7,
          7,
          7,
          7,
          7,
          7,
          8,
          8,
          8,
          8,
          8,
          8,
          8,
          9,
          9,
          9,
          9,
          9,
          9,
          9,
          10,
          10,
          10,
          10,
          10,
          10,
          10,
          11,
          11,
          11,
          11,
          11,
          11,
          11,
          12,
          12,
          12,
          12,
          12,
          12,
          12,
          13,
          13,
          13,
          13,
          13,
          13,
          13,
          14,
          14,
          14
         ],
         "y": [
          1,
          1,
          1,
          1,
          1,
          1,
          1,
          1,
          2,
          2,
          2,
          2,
          2,
          2,
          2,
          2,
          2,
          2,
          2,
          2,
          2,
          2,
          2,
          2,
          6,
          13,
          15,
          32,
          45,
          84,
          120,
          165,
          222,
          259,
          400,
          500,
          673,
          1073,
          1695,
          2277,
          2277,
          5232,
          6391,
          7798,
          9942,
          11748,
          13910,
          17963,
          20410,
          25374,
          28603,
          35136,
          39885,
          49515,
          57786,
          65719,
          73235,
          80110,
          87956,
          95923,
          104118
         ]
        }
       ],
       "layout": {
        "font": {
         "family": "Courier New, monospace",
         "size": 18
        },
        "plot_bgcolor": "rgb(250, 242, 242)",
        "template": {
         "data": {
          "bar": [
           {
            "error_x": {
             "color": "#2a3f5f"
            },
            "error_y": {
             "color": "#2a3f5f"
            },
            "marker": {
             "line": {
              "color": "#E5ECF6",
              "width": 0.5
             }
            },
            "type": "bar"
           }
          ],
          "barpolar": [
           {
            "marker": {
             "line": {
              "color": "#E5ECF6",
              "width": 0.5
             }
            },
            "type": "barpolar"
           }
          ],
          "carpet": [
           {
            "aaxis": {
             "endlinecolor": "#2a3f5f",
             "gridcolor": "white",
             "linecolor": "white",
             "minorgridcolor": "white",
             "startlinecolor": "#2a3f5f"
            },
            "baxis": {
             "endlinecolor": "#2a3f5f",
             "gridcolor": "white",
             "linecolor": "white",
             "minorgridcolor": "white",
             "startlinecolor": "#2a3f5f"
            },
            "type": "carpet"
           }
          ],
          "choropleth": [
           {
            "colorbar": {
             "outlinewidth": 0,
             "ticks": ""
            },
            "type": "choropleth"
           }
          ],
          "contour": [
           {
            "colorbar": {
             "outlinewidth": 0,
             "ticks": ""
            },
            "colorscale": [
             [
              0,
              "#0d0887"
             ],
             [
              0.1111111111111111,
              "#46039f"
             ],
             [
              0.2222222222222222,
              "#7201a8"
             ],
             [
              0.3333333333333333,
              "#9c179e"
             ],
             [
              0.4444444444444444,
              "#bd3786"
             ],
             [
              0.5555555555555556,
              "#d8576b"
             ],
             [
              0.6666666666666666,
              "#ed7953"
             ],
             [
              0.7777777777777778,
              "#fb9f3a"
             ],
             [
              0.8888888888888888,
              "#fdca26"
             ],
             [
              1,
              "#f0f921"
             ]
            ],
            "type": "contour"
           }
          ],
          "contourcarpet": [
           {
            "colorbar": {
             "outlinewidth": 0,
             "ticks": ""
            },
            "type": "contourcarpet"
           }
          ],
          "heatmap": [
           {
            "colorbar": {
             "outlinewidth": 0,
             "ticks": ""
            },
            "colorscale": [
             [
              0,
              "#0d0887"
             ],
             [
              0.1111111111111111,
              "#46039f"
             ],
             [
              0.2222222222222222,
              "#7201a8"
             ],
             [
              0.3333333333333333,
              "#9c179e"
             ],
             [
              0.4444444444444444,
              "#bd3786"
             ],
             [
              0.5555555555555556,
              "#d8576b"
             ],
             [
              0.6666666666666666,
              "#ed7953"
             ],
             [
              0.7777777777777778,
              "#fb9f3a"
             ],
             [
              0.8888888888888888,
              "#fdca26"
             ],
             [
              1,
              "#f0f921"
             ]
            ],
            "type": "heatmap"
           }
          ],
          "heatmapgl": [
           {
            "colorbar": {
             "outlinewidth": 0,
             "ticks": ""
            },
            "colorscale": [
             [
              0,
              "#0d0887"
             ],
             [
              0.1111111111111111,
              "#46039f"
             ],
             [
              0.2222222222222222,
              "#7201a8"
             ],
             [
              0.3333333333333333,
              "#9c179e"
             ],
             [
              0.4444444444444444,
              "#bd3786"
             ],
             [
              0.5555555555555556,
              "#d8576b"
             ],
             [
              0.6666666666666666,
              "#ed7953"
             ],
             [
              0.7777777777777778,
              "#fb9f3a"
             ],
             [
              0.8888888888888888,
              "#fdca26"
             ],
             [
              1,
              "#f0f921"
             ]
            ],
            "type": "heatmapgl"
           }
          ],
          "histogram": [
           {
            "marker": {
             "colorbar": {
              "outlinewidth": 0,
              "ticks": ""
             }
            },
            "type": "histogram"
           }
          ],
          "histogram2d": [
           {
            "colorbar": {
             "outlinewidth": 0,
             "ticks": ""
            },
            "colorscale": [
             [
              0,
              "#0d0887"
             ],
             [
              0.1111111111111111,
              "#46039f"
             ],
             [
              0.2222222222222222,
              "#7201a8"
             ],
             [
              0.3333333333333333,
              "#9c179e"
             ],
             [
              0.4444444444444444,
              "#bd3786"
             ],
             [
              0.5555555555555556,
              "#d8576b"
             ],
             [
              0.6666666666666666,
              "#ed7953"
             ],
             [
              0.7777777777777778,
              "#fb9f3a"
             ],
             [
              0.8888888888888888,
              "#fdca26"
             ],
             [
              1,
              "#f0f921"
             ]
            ],
            "type": "histogram2d"
           }
          ],
          "histogram2dcontour": [
           {
            "colorbar": {
             "outlinewidth": 0,
             "ticks": ""
            },
            "colorscale": [
             [
              0,
              "#0d0887"
             ],
             [
              0.1111111111111111,
              "#46039f"
             ],
             [
              0.2222222222222222,
              "#7201a8"
             ],
             [
              0.3333333333333333,
              "#9c179e"
             ],
             [
              0.4444444444444444,
              "#bd3786"
             ],
             [
              0.5555555555555556,
              "#d8576b"
             ],
             [
              0.6666666666666666,
              "#ed7953"
             ],
             [
              0.7777777777777778,
              "#fb9f3a"
             ],
             [
              0.8888888888888888,
              "#fdca26"
             ],
             [
              1,
              "#f0f921"
             ]
            ],
            "type": "histogram2dcontour"
           }
          ],
          "mesh3d": [
           {
            "colorbar": {
             "outlinewidth": 0,
             "ticks": ""
            },
            "type": "mesh3d"
           }
          ],
          "parcoords": [
           {
            "line": {
             "colorbar": {
              "outlinewidth": 0,
              "ticks": ""
             }
            },
            "type": "parcoords"
           }
          ],
          "pie": [
           {
            "automargin": true,
            "type": "pie"
           }
          ],
          "scatter": [
           {
            "marker": {
             "colorbar": {
              "outlinewidth": 0,
              "ticks": ""
             }
            },
            "type": "scatter"
           }
          ],
          "scatter3d": [
           {
            "line": {
             "colorbar": {
              "outlinewidth": 0,
              "ticks": ""
             }
            },
            "marker": {
             "colorbar": {
              "outlinewidth": 0,
              "ticks": ""
             }
            },
            "type": "scatter3d"
           }
          ],
          "scattercarpet": [
           {
            "marker": {
             "colorbar": {
              "outlinewidth": 0,
              "ticks": ""
             }
            },
            "type": "scattercarpet"
           }
          ],
          "scattergeo": [
           {
            "marker": {
             "colorbar": {
              "outlinewidth": 0,
              "ticks": ""
             }
            },
            "type": "scattergeo"
           }
          ],
          "scattergl": [
           {
            "marker": {
             "colorbar": {
              "outlinewidth": 0,
              "ticks": ""
             }
            },
            "type": "scattergl"
           }
          ],
          "scattermapbox": [
           {
            "marker": {
             "colorbar": {
              "outlinewidth": 0,
              "ticks": ""
             }
            },
            "type": "scattermapbox"
           }
          ],
          "scatterpolar": [
           {
            "marker": {
             "colorbar": {
              "outlinewidth": 0,
              "ticks": ""
             }
            },
            "type": "scatterpolar"
           }
          ],
          "scatterpolargl": [
           {
            "marker": {
             "colorbar": {
              "outlinewidth": 0,
              "ticks": ""
             }
            },
            "type": "scatterpolargl"
           }
          ],
          "scatterternary": [
           {
            "marker": {
             "colorbar": {
              "outlinewidth": 0,
              "ticks": ""
             }
            },
            "type": "scatterternary"
           }
          ],
          "surface": [
           {
            "colorbar": {
             "outlinewidth": 0,
             "ticks": ""
            },
            "colorscale": [
             [
              0,
              "#0d0887"
             ],
             [
              0.1111111111111111,
              "#46039f"
             ],
             [
              0.2222222222222222,
              "#7201a8"
             ],
             [
              0.3333333333333333,
              "#9c179e"
             ],
             [
              0.4444444444444444,
              "#bd3786"
             ],
             [
              0.5555555555555556,
              "#d8576b"
             ],
             [
              0.6666666666666666,
              "#ed7953"
             ],
             [
              0.7777777777777778,
              "#fb9f3a"
             ],
             [
              0.8888888888888888,
              "#fdca26"
             ],
             [
              1,
              "#f0f921"
             ]
            ],
            "type": "surface"
           }
          ],
          "table": [
           {
            "cells": {
             "fill": {
              "color": "#EBF0F8"
             },
             "line": {
              "color": "white"
             }
            },
            "header": {
             "fill": {
              "color": "#C8D4E3"
             },
             "line": {
              "color": "white"
             }
            },
            "type": "table"
           }
          ]
         },
         "layout": {
          "annotationdefaults": {
           "arrowcolor": "#2a3f5f",
           "arrowhead": 0,
           "arrowwidth": 1
          },
          "coloraxis": {
           "colorbar": {
            "outlinewidth": 0,
            "ticks": ""
           }
          },
          "colorscale": {
           "diverging": [
            [
             0,
             "#8e0152"
            ],
            [
             0.1,
             "#c51b7d"
            ],
            [
             0.2,
             "#de77ae"
            ],
            [
             0.3,
             "#f1b6da"
            ],
            [
             0.4,
             "#fde0ef"
            ],
            [
             0.5,
             "#f7f7f7"
            ],
            [
             0.6,
             "#e6f5d0"
            ],
            [
             0.7,
             "#b8e186"
            ],
            [
             0.8,
             "#7fbc41"
            ],
            [
             0.9,
             "#4d9221"
            ],
            [
             1,
             "#276419"
            ]
           ],
           "sequential": [
            [
             0,
             "#0d0887"
            ],
            [
             0.1111111111111111,
             "#46039f"
            ],
            [
             0.2222222222222222,
             "#7201a8"
            ],
            [
             0.3333333333333333,
             "#9c179e"
            ],
            [
             0.4444444444444444,
             "#bd3786"
            ],
            [
             0.5555555555555556,
             "#d8576b"
            ],
            [
             0.6666666666666666,
             "#ed7953"
            ],
            [
             0.7777777777777778,
             "#fb9f3a"
            ],
            [
             0.8888888888888888,
             "#fdca26"
            ],
            [
             1,
             "#f0f921"
            ]
           ],
           "sequentialminus": [
            [
             0,
             "#0d0887"
            ],
            [
             0.1111111111111111,
             "#46039f"
            ],
            [
             0.2222222222222222,
             "#7201a8"
            ],
            [
             0.3333333333333333,
             "#9c179e"
            ],
            [
             0.4444444444444444,
             "#bd3786"
            ],
            [
             0.5555555555555556,
             "#d8576b"
            ],
            [
             0.6666666666666666,
             "#ed7953"
            ],
            [
             0.7777777777777778,
             "#fb9f3a"
            ],
            [
             0.8888888888888888,
             "#fdca26"
            ],
            [
             1,
             "#f0f921"
            ]
           ]
          },
          "colorway": [
           "#636efa",
           "#EF553B",
           "#00cc96",
           "#ab63fa",
           "#FFA15A",
           "#19d3f3",
           "#FF6692",
           "#B6E880",
           "#FF97FF",
           "#FECB52"
          ],
          "font": {
           "color": "#2a3f5f"
          },
          "geo": {
           "bgcolor": "white",
           "lakecolor": "white",
           "landcolor": "#E5ECF6",
           "showlakes": true,
           "showland": true,
           "subunitcolor": "white"
          },
          "hoverlabel": {
           "align": "left"
          },
          "hovermode": "closest",
          "mapbox": {
           "style": "light"
          },
          "paper_bgcolor": "white",
          "plot_bgcolor": "#E5ECF6",
          "polar": {
           "angularaxis": {
            "gridcolor": "white",
            "linecolor": "white",
            "ticks": ""
           },
           "bgcolor": "#E5ECF6",
           "radialaxis": {
            "gridcolor": "white",
            "linecolor": "white",
            "ticks": ""
           }
          },
          "scene": {
           "xaxis": {
            "backgroundcolor": "#E5ECF6",
            "gridcolor": "white",
            "gridwidth": 2,
            "linecolor": "white",
            "showbackground": true,
            "ticks": "",
            "zerolinecolor": "white"
           },
           "yaxis": {
            "backgroundcolor": "#E5ECF6",
            "gridcolor": "white",
            "gridwidth": 2,
            "linecolor": "white",
            "showbackground": true,
            "ticks": "",
            "zerolinecolor": "white"
           },
           "zaxis": {
            "backgroundcolor": "#E5ECF6",
            "gridcolor": "white",
            "gridwidth": 2,
            "linecolor": "white",
            "showbackground": true,
            "ticks": "",
            "zerolinecolor": "white"
           }
          },
          "shapedefaults": {
           "line": {
            "color": "#2a3f5f"
           }
          },
          "ternary": {
           "aaxis": {
            "gridcolor": "white",
            "linecolor": "white",
            "ticks": ""
           },
           "baxis": {
            "gridcolor": "white",
            "linecolor": "white",
            "ticks": ""
           },
           "bgcolor": "#E5ECF6",
           "caxis": {
            "gridcolor": "white",
            "linecolor": "white",
            "ticks": ""
           }
          },
          "title": {
           "x": 0.05
          },
          "xaxis": {
           "automargin": true,
           "gridcolor": "white",
           "linecolor": "white",
           "ticks": "",
           "title": {
            "standoff": 15
           },
           "zerolinecolor": "white",
           "zerolinewidth": 2
          },
          "yaxis": {
           "automargin": true,
           "gridcolor": "white",
           "linecolor": "white",
           "ticks": "",
           "title": {
            "standoff": 15
           },
           "zerolinecolor": "white",
           "zerolinewidth": 2
          }
         }
        },
        "title": {
         "text": "Confirmed Cases Across Countries"
        },
        "xaxis": {
         "title": {
          "text": "Number of Weeks"
         }
        },
        "yaxis": {
         "title": {
          "text": "Number of Cases"
         }
        }
       }
      },
      "text/html": [
       "<div>\n",
       "        \n",
       "        \n",
       "            <div id=\"e828b319-34a0-4fb1-86d5-2bf8d257d595\" class=\"plotly-graph-div\" style=\"height:525px; width:100%;\"></div>\n",
       "            <script type=\"text/javascript\">\n",
       "                require([\"plotly\"], function(Plotly) {\n",
       "                    window.PLOTLYENV=window.PLOTLYENV || {};\n",
       "                    \n",
       "                if (document.getElementById(\"e828b319-34a0-4fb1-86d5-2bf8d257d595\")) {\n",
       "                    Plotly.newPlot(\n",
       "                        'e828b319-34a0-4fb1-86d5-2bf8d257d595',\n",
       "                        [{\"mode\": \"lines+markers\", \"name\": \"China\", \"type\": \"scatter\", \"x\": [4, 4, 4, 4, 4, 5, 5, 5, 5, 5, 5, 5, 6, 6, 6, 6, 6, 6, 6, 7, 7, 7, 7, 7, 7, 7, 8, 8, 8, 8, 8, 8, 8, 9, 9, 9, 9, 9, 9, 9, 10, 10, 10, 10, 10, 10, 10, 11, 11, 11, 11, 11, 11, 11, 12, 12, 12, 12, 12, 12, 12, 13, 13, 13, 13, 13, 13, 13, 14, 14, 14], \"y\": [547.0, 639.0, 916.0, 1399.0, 2062.0, 2863.0, 5494.0, 6070.0, 8124.0, 9783.0, 11871.0, 16607.0, 19693.0, 23680.0, 27409.0, 30553.0, 34075.0, 36778.0, 39790.0, 42306.0, 44327.0, 44699.0, 59832.0, 66292.0, 68347.0, 70446.0, 72364.0, 74139.0, 74546.0, 74999.0, 75472.0, 76922.0, 76938.0, 77152.0, 77660.0, 78065.0, 78498.0, 78824.0, 79251.0, 79826.0, 80026.0, 80151.0, 80271.0, 80422.0, 80573.0, 80652.0, 80699.0, 80735.0, 80757.0, 80785.0, 80793.0, 80801.0, 80827.0, 80848.0, 80867.0, 80884.0, 80906.0, 80931.0, 80977.0, 81014.0, 81060.0, 81116.0, 81180.0, 81221.0, 81298.0, 81345.0, 81401.0, 81444.0, 81478.0, 81524.0, 81555.0]}, {\"mode\": \"lines+markers\", \"name\": \"South Korea\", \"type\": \"scatter\", \"x\": [4, 4, 4, 4, 4, 5, 5, 5, 5, 5, 5, 5, 6, 6, 6, 6, 6, 6, 6, 7, 7, 7, 7, 7, 7, 7, 8, 8, 8, 8, 8, 8, 8, 9, 9, 9, 9, 9, 9, 9, 10, 10, 10, 10, 10, 10, 10, 11, 11, 11, 11, 11, 11, 11, 12, 12, 12, 12, 12, 12, 12, 13, 13, 13, 13, 13, 13, 13, 14, 14, 14], \"y\": [1.0, 1.0, 2.0, 2.0, 3.0, 4.0, 4.0, 4.0, 4.0, 11.0, 12.0, 15.0, 15.0, 16.0, 19.0, 23.0, 24.0, 24.0, 25.0, 27.0, 28.0, 28.0, 28.0, 28.0, 28.0, 29.0, 30.0, 31.0, 31.0, 104.0, 204.0, 433.0, 602.0, 833.0, 977.0, 1261.0, 1766.0, 2337.0, 3150.0, 3736.0, 4335.0, 5186.0, 5621.0, 6088.0, 6593.0, 7041.0, 7314.0, 7478.0, 7513.0, 7755.0, 7869.0, 7979.0, 8086.0, 8162.0, 8236.0, 8320.0, 8413.0, 8565.0, 8652.0, 8799.0, 8897.0, 8961.0, 9037.0, 9137.0, 9241.0, 9332.0, 9478.0, 9583.0, 9661.0, 9786.0, 9887.0]}, {\"mode\": \"lines+markers\", \"name\": \"Italy\", \"type\": \"scatter\", \"x\": [5, 5, 5, 6, 6, 6, 6, 6, 6, 6, 7, 7, 7, 7, 7, 7, 7, 8, 8, 8, 8, 8, 8, 8, 9, 9, 9, 9, 9, 9, 9, 10, 10, 10, 10, 10, 10, 10, 11, 11, 11, 11, 11, 11, 11, 12, 12, 12, 12, 12, 12, 12, 13, 13, 13, 13, 13, 13, 13, 14, 14, 14], \"y\": [2.0, 2.0, 2.0, 2.0, 2.0, 2.0, 2.0, 3.0, 3.0, 3.0, 3.0, 3.0, 3.0, 3.0, 3.0, 3.0, 3.0, 3.0, 3.0, 3.0, 3.0, 20.0, 62.0, 155.0, 229.0, 322.0, 453.0, 655.0, 888.0, 1128.0, 1694.0, 2036.0, 2502.0, 3089.0, 3858.0, 4636.0, 5883.0, 7375.0, 9172.0, 10149.0, 12462.0, 12462.0, 17660.0, 21157.0, 24747.0, 27980.0, 31506.0, 35713.0, 41035.0, 47021.0, 53578.0, 59138.0, 63927.0, 69176.0, 74386.0, 80589.0, 86498.0, 92472.0, 97689.0, 101739.0, 105792.0, 110574.0]}, {\"mode\": \"lines+markers\", \"name\": \"USA\", \"type\": \"scatter\", \"x\": [4, 4, 4, 4, 4, 5, 5, 5, 5, 5, 5, 5, 6, 6, 6, 6, 6, 6, 6, 7, 7, 7, 7, 7, 7, 7, 8, 8, 8, 8, 8, 8, 8, 9, 9, 9, 9, 9, 9, 9, 10, 10, 10, 10, 10, 10, 10, 11, 11, 11, 11, 11, 11, 11, 12, 12, 12, 12, 12, 12, 12, 13, 13, 13, 13, 13, 13, 13, 14, 14, 14], \"y\": [1.0, 1.0, 2.0, 2.0, 5.0, 5.0, 5.0, 5.0, 5.0, 6.0, 8.0, 8.0, 11.0, 11.0, 12.0, 12.0, 12.0, 12.0, 12.0, 12.0, 13.0, 13.0, 15.0, 15.0, 15.0, 15.0, 15.0, 15.0, 15.0, 15.0, 35.0, 35.0, 35.0, 53.0, 53.0, 59.0, 60.0, 62.0, 70.0, 76.0, 101.0, 122.0, 153.0, 221.0, 278.0, 417.0, 537.0, 605.0, 959.0, 1281.0, 1663.0, 2179.0, 2726.0, 3499.0, 4632.0, 6421.0, 7786.0, 13680.0, 19101.0, 25493.0, 33746.0, 43667.0, 53740.0, 65778.0, 83836.0, 101657.0, 121478.0, 140886.0, 161807.0, 188172.0, 213372.0]}, {\"mode\": \"lines+markers\", \"name\": \"Spain\", \"type\": \"scatter\", \"x\": [5, 5, 6, 6, 6, 6, 6, 6, 6, 7, 7, 7, 7, 7, 7, 7, 8, 8, 8, 8, 8, 8, 8, 9, 9, 9, 9, 9, 9, 9, 10, 10, 10, 10, 10, 10, 10, 11, 11, 11, 11, 11, 11, 11, 12, 12, 12, 12, 12, 12, 12, 13, 13, 13, 13, 13, 13, 13, 14, 14, 14], \"y\": [1.0, 1.0, 1.0, 1.0, 1.0, 1.0, 1.0, 1.0, 2.0, 2.0, 2.0, 2.0, 2.0, 2.0, 2.0, 2.0, 2.0, 2.0, 2.0, 2.0, 2.0, 2.0, 2.0, 2.0, 6.0, 13.0, 15.0, 32.0, 45.0, 84.0, 120.0, 165.0, 222.0, 259.0, 400.0, 500.0, 673.0, 1073.0, 1695.0, 2277.0, 2277.0, 5232.0, 6391.0, 7798.0, 9942.0, 11748.0, 13910.0, 17963.0, 20410.0, 25374.0, 28603.0, 35136.0, 39885.0, 49515.0, 57786.0, 65719.0, 73235.0, 80110.0, 87956.0, 95923.0, 104118.0]}],\n",
       "                        {\"font\": {\"family\": \"Courier New, monospace\", \"size\": 18}, \"plot_bgcolor\": \"rgb(250, 242, 242)\", \"template\": {\"data\": {\"bar\": [{\"error_x\": {\"color\": \"#2a3f5f\"}, \"error_y\": {\"color\": \"#2a3f5f\"}, \"marker\": {\"line\": {\"color\": \"#E5ECF6\", \"width\": 0.5}}, \"type\": \"bar\"}], \"barpolar\": [{\"marker\": {\"line\": {\"color\": \"#E5ECF6\", \"width\": 0.5}}, \"type\": \"barpolar\"}], \"carpet\": [{\"aaxis\": {\"endlinecolor\": \"#2a3f5f\", \"gridcolor\": \"white\", \"linecolor\": \"white\", \"minorgridcolor\": \"white\", \"startlinecolor\": \"#2a3f5f\"}, \"baxis\": {\"endlinecolor\": \"#2a3f5f\", \"gridcolor\": \"white\", \"linecolor\": \"white\", \"minorgridcolor\": \"white\", \"startlinecolor\": \"#2a3f5f\"}, \"type\": \"carpet\"}], \"choropleth\": [{\"colorbar\": {\"outlinewidth\": 0, \"ticks\": \"\"}, \"type\": \"choropleth\"}], \"contour\": [{\"colorbar\": {\"outlinewidth\": 0, \"ticks\": \"\"}, \"colorscale\": [[0.0, \"#0d0887\"], [0.1111111111111111, \"#46039f\"], [0.2222222222222222, \"#7201a8\"], [0.3333333333333333, \"#9c179e\"], [0.4444444444444444, \"#bd3786\"], [0.5555555555555556, \"#d8576b\"], [0.6666666666666666, \"#ed7953\"], [0.7777777777777778, \"#fb9f3a\"], [0.8888888888888888, \"#fdca26\"], [1.0, \"#f0f921\"]], \"type\": \"contour\"}], \"contourcarpet\": [{\"colorbar\": {\"outlinewidth\": 0, \"ticks\": \"\"}, \"type\": \"contourcarpet\"}], \"heatmap\": [{\"colorbar\": {\"outlinewidth\": 0, \"ticks\": \"\"}, \"colorscale\": [[0.0, \"#0d0887\"], [0.1111111111111111, \"#46039f\"], [0.2222222222222222, \"#7201a8\"], [0.3333333333333333, \"#9c179e\"], [0.4444444444444444, \"#bd3786\"], [0.5555555555555556, \"#d8576b\"], [0.6666666666666666, \"#ed7953\"], [0.7777777777777778, \"#fb9f3a\"], [0.8888888888888888, \"#fdca26\"], [1.0, \"#f0f921\"]], \"type\": \"heatmap\"}], \"heatmapgl\": [{\"colorbar\": {\"outlinewidth\": 0, \"ticks\": \"\"}, \"colorscale\": [[0.0, \"#0d0887\"], [0.1111111111111111, \"#46039f\"], [0.2222222222222222, \"#7201a8\"], [0.3333333333333333, \"#9c179e\"], [0.4444444444444444, \"#bd3786\"], [0.5555555555555556, \"#d8576b\"], [0.6666666666666666, \"#ed7953\"], [0.7777777777777778, \"#fb9f3a\"], [0.8888888888888888, \"#fdca26\"], [1.0, \"#f0f921\"]], \"type\": \"heatmapgl\"}], \"histogram\": [{\"marker\": {\"colorbar\": {\"outlinewidth\": 0, \"ticks\": \"\"}}, \"type\": \"histogram\"}], \"histogram2d\": [{\"colorbar\": {\"outlinewidth\": 0, \"ticks\": \"\"}, \"colorscale\": [[0.0, \"#0d0887\"], [0.1111111111111111, \"#46039f\"], [0.2222222222222222, \"#7201a8\"], [0.3333333333333333, \"#9c179e\"], [0.4444444444444444, \"#bd3786\"], [0.5555555555555556, \"#d8576b\"], [0.6666666666666666, \"#ed7953\"], [0.7777777777777778, \"#fb9f3a\"], [0.8888888888888888, \"#fdca26\"], [1.0, \"#f0f921\"]], \"type\": \"histogram2d\"}], \"histogram2dcontour\": [{\"colorbar\": {\"outlinewidth\": 0, \"ticks\": \"\"}, \"colorscale\": [[0.0, \"#0d0887\"], [0.1111111111111111, \"#46039f\"], [0.2222222222222222, \"#7201a8\"], [0.3333333333333333, \"#9c179e\"], [0.4444444444444444, \"#bd3786\"], [0.5555555555555556, \"#d8576b\"], [0.6666666666666666, \"#ed7953\"], [0.7777777777777778, \"#fb9f3a\"], [0.8888888888888888, \"#fdca26\"], [1.0, \"#f0f921\"]], \"type\": \"histogram2dcontour\"}], \"mesh3d\": [{\"colorbar\": {\"outlinewidth\": 0, \"ticks\": \"\"}, \"type\": \"mesh3d\"}], \"parcoords\": [{\"line\": {\"colorbar\": {\"outlinewidth\": 0, \"ticks\": \"\"}}, \"type\": \"parcoords\"}], \"pie\": [{\"automargin\": true, \"type\": \"pie\"}], \"scatter\": [{\"marker\": {\"colorbar\": {\"outlinewidth\": 0, \"ticks\": \"\"}}, \"type\": \"scatter\"}], \"scatter3d\": [{\"line\": {\"colorbar\": {\"outlinewidth\": 0, \"ticks\": \"\"}}, \"marker\": {\"colorbar\": {\"outlinewidth\": 0, \"ticks\": \"\"}}, \"type\": \"scatter3d\"}], \"scattercarpet\": [{\"marker\": {\"colorbar\": {\"outlinewidth\": 0, \"ticks\": \"\"}}, \"type\": \"scattercarpet\"}], \"scattergeo\": [{\"marker\": {\"colorbar\": {\"outlinewidth\": 0, \"ticks\": \"\"}}, \"type\": \"scattergeo\"}], \"scattergl\": [{\"marker\": {\"colorbar\": {\"outlinewidth\": 0, \"ticks\": \"\"}}, \"type\": \"scattergl\"}], \"scattermapbox\": [{\"marker\": {\"colorbar\": {\"outlinewidth\": 0, \"ticks\": \"\"}}, \"type\": \"scattermapbox\"}], \"scatterpolar\": [{\"marker\": {\"colorbar\": {\"outlinewidth\": 0, \"ticks\": \"\"}}, \"type\": \"scatterpolar\"}], \"scatterpolargl\": [{\"marker\": {\"colorbar\": {\"outlinewidth\": 0, \"ticks\": \"\"}}, \"type\": \"scatterpolargl\"}], \"scatterternary\": [{\"marker\": {\"colorbar\": {\"outlinewidth\": 0, \"ticks\": \"\"}}, \"type\": \"scatterternary\"}], \"surface\": [{\"colorbar\": {\"outlinewidth\": 0, \"ticks\": \"\"}, \"colorscale\": [[0.0, \"#0d0887\"], [0.1111111111111111, \"#46039f\"], [0.2222222222222222, \"#7201a8\"], [0.3333333333333333, \"#9c179e\"], [0.4444444444444444, \"#bd3786\"], [0.5555555555555556, \"#d8576b\"], [0.6666666666666666, \"#ed7953\"], [0.7777777777777778, \"#fb9f3a\"], [0.8888888888888888, \"#fdca26\"], [1.0, \"#f0f921\"]], \"type\": \"surface\"}], \"table\": [{\"cells\": {\"fill\": {\"color\": \"#EBF0F8\"}, \"line\": {\"color\": \"white\"}}, \"header\": {\"fill\": {\"color\": \"#C8D4E3\"}, \"line\": {\"color\": \"white\"}}, \"type\": \"table\"}]}, \"layout\": {\"annotationdefaults\": {\"arrowcolor\": \"#2a3f5f\", \"arrowhead\": 0, \"arrowwidth\": 1}, \"coloraxis\": {\"colorbar\": {\"outlinewidth\": 0, \"ticks\": \"\"}}, \"colorscale\": {\"diverging\": [[0, \"#8e0152\"], [0.1, \"#c51b7d\"], [0.2, \"#de77ae\"], [0.3, \"#f1b6da\"], [0.4, \"#fde0ef\"], [0.5, \"#f7f7f7\"], [0.6, \"#e6f5d0\"], [0.7, \"#b8e186\"], [0.8, \"#7fbc41\"], [0.9, \"#4d9221\"], [1, \"#276419\"]], \"sequential\": [[0.0, \"#0d0887\"], [0.1111111111111111, \"#46039f\"], [0.2222222222222222, \"#7201a8\"], [0.3333333333333333, \"#9c179e\"], [0.4444444444444444, \"#bd3786\"], [0.5555555555555556, \"#d8576b\"], [0.6666666666666666, \"#ed7953\"], [0.7777777777777778, \"#fb9f3a\"], [0.8888888888888888, \"#fdca26\"], [1.0, \"#f0f921\"]], \"sequentialminus\": [[0.0, \"#0d0887\"], [0.1111111111111111, \"#46039f\"], [0.2222222222222222, \"#7201a8\"], [0.3333333333333333, \"#9c179e\"], [0.4444444444444444, \"#bd3786\"], [0.5555555555555556, \"#d8576b\"], [0.6666666666666666, \"#ed7953\"], [0.7777777777777778, \"#fb9f3a\"], [0.8888888888888888, \"#fdca26\"], [1.0, \"#f0f921\"]]}, \"colorway\": [\"#636efa\", \"#EF553B\", \"#00cc96\", \"#ab63fa\", \"#FFA15A\", \"#19d3f3\", \"#FF6692\", \"#B6E880\", \"#FF97FF\", \"#FECB52\"], \"font\": {\"color\": \"#2a3f5f\"}, \"geo\": {\"bgcolor\": \"white\", \"lakecolor\": \"white\", \"landcolor\": \"#E5ECF6\", \"showlakes\": true, \"showland\": true, \"subunitcolor\": \"white\"}, \"hoverlabel\": {\"align\": \"left\"}, \"hovermode\": \"closest\", \"mapbox\": {\"style\": \"light\"}, \"paper_bgcolor\": \"white\", \"plot_bgcolor\": \"#E5ECF6\", \"polar\": {\"angularaxis\": {\"gridcolor\": \"white\", \"linecolor\": \"white\", \"ticks\": \"\"}, \"bgcolor\": \"#E5ECF6\", \"radialaxis\": {\"gridcolor\": \"white\", \"linecolor\": \"white\", \"ticks\": \"\"}}, \"scene\": {\"xaxis\": {\"backgroundcolor\": \"#E5ECF6\", \"gridcolor\": \"white\", \"gridwidth\": 2, \"linecolor\": \"white\", \"showbackground\": true, \"ticks\": \"\", \"zerolinecolor\": \"white\"}, \"yaxis\": {\"backgroundcolor\": \"#E5ECF6\", \"gridcolor\": \"white\", \"gridwidth\": 2, \"linecolor\": \"white\", \"showbackground\": true, \"ticks\": \"\", \"zerolinecolor\": \"white\"}, \"zaxis\": {\"backgroundcolor\": \"#E5ECF6\", \"gridcolor\": \"white\", \"gridwidth\": 2, \"linecolor\": \"white\", \"showbackground\": true, \"ticks\": \"\", \"zerolinecolor\": \"white\"}}, \"shapedefaults\": {\"line\": {\"color\": \"#2a3f5f\"}}, \"ternary\": {\"aaxis\": {\"gridcolor\": \"white\", \"linecolor\": \"white\", \"ticks\": \"\"}, \"baxis\": {\"gridcolor\": \"white\", \"linecolor\": \"white\", \"ticks\": \"\"}, \"bgcolor\": \"#E5ECF6\", \"caxis\": {\"gridcolor\": \"white\", \"linecolor\": \"white\", \"ticks\": \"\"}}, \"title\": {\"x\": 0.05}, \"xaxis\": {\"automargin\": true, \"gridcolor\": \"white\", \"linecolor\": \"white\", \"ticks\": \"\", \"title\": {\"standoff\": 15}, \"zerolinecolor\": \"white\", \"zerolinewidth\": 2}, \"yaxis\": {\"automargin\": true, \"gridcolor\": \"white\", \"linecolor\": \"white\", \"ticks\": \"\", \"title\": {\"standoff\": 15}, \"zerolinecolor\": \"white\", \"zerolinewidth\": 2}}}, \"title\": {\"text\": \"Confirmed Cases Across Countries\"}, \"xaxis\": {\"title\": {\"text\": \"Number of Weeks\"}}, \"yaxis\": {\"title\": {\"text\": \"Number of Cases\"}}},\n",
       "                        {\"responsive\": true}\n",
       "                    ).then(function(){\n",
       "                            \n",
       "var gd = document.getElementById('e828b319-34a0-4fb1-86d5-2bf8d257d595');\n",
       "var x = new MutationObserver(function (mutations, observer) {{\n",
       "        var display = window.getComputedStyle(gd).display;\n",
       "        if (!display || display === 'none') {{\n",
       "            console.log([gd, 'removed!']);\n",
       "            Plotly.purge(gd);\n",
       "            observer.disconnect();\n",
       "        }}\n",
       "}});\n",
       "\n",
       "// Listen for the removal of the full notebook cells\n",
       "var notebookContainer = gd.closest('#notebook-container');\n",
       "if (notebookContainer) {{\n",
       "    x.observe(notebookContainer, {childList: true});\n",
       "}}\n",
       "\n",
       "// Listen for the clearing of the current output cell\n",
       "var outputEl = gd.closest('.output');\n",
       "if (outputEl) {{\n",
       "    x.observe(outputEl, {childList: true});\n",
       "}}\n",
       "\n",
       "                        })\n",
       "                };\n",
       "                });\n",
       "            </script>\n",
       "        </div>"
      ]
     },
     "metadata": {},
     "output_type": "display_data"
    }
   ],
   "source": [
    "import plotly.graph_objs as go\n",
    "fig = go.Figure()\n",
    "fig.add_trace(go.Scatter(x=df_china['week'], y=df_china['Confirmed'],\n",
    "                    mode='lines+markers',name='China'))\n",
    "fig.add_trace(go.Scatter(x=df_sKorea['week'], y=df_sKorea['Confirmed'],\n",
    "                    mode='lines+markers',name='South Korea'))\n",
    "fig.add_trace(go.Scatter(x=df_italy['week'], y=df_italy['Confirmed'],\n",
    "                    mode='lines+markers',name='Italy'))\n",
    "fig.add_trace(go.Scatter(x=df_USA['week'], y=df_USA['Confirmed'],\n",
    "                    mode='lines+markers',name='USA'))\n",
    "fig.add_trace(go.Scatter(x=df_Spain['week'], y=df_Spain['Confirmed'],\n",
    "                    mode='lines+markers',name='Spain'))\n",
    "fig.update_layout(title_text='Confirmed Cases Across Countries',xaxis_title='Number of Weeks',yaxis_title='Number of Cases',plot_bgcolor='rgb(250, 242, 242)', font=dict(\n",
    "        family=\"Courier New, monospace\",\n",
    "        size=18,\n",
    "    ))\n",
    "\n",
    "fig.show()"
   ]
  },
  {
   "cell_type": "code",
   "execution_count": 37,
   "metadata": {},
   "outputs": [
    {
     "data": {
      "application/vnd.plotly.v1+json": {
       "config": {
        "plotlyServerURL": "https://plot.ly"
       },
       "data": [
        {
         "mode": "lines+markers",
         "name": "China",
         "type": "scatter",
         "x": [
          4,
          4,
          4,
          4,
          4,
          5,
          5,
          5,
          5,
          5,
          5,
          5,
          6,
          6,
          6,
          6,
          6,
          6,
          6,
          7,
          7,
          7,
          7,
          7,
          7,
          7,
          8,
          8,
          8,
          8,
          8,
          8,
          8,
          9,
          9,
          9,
          9,
          9,
          9,
          9,
          10,
          10,
          10,
          10,
          10,
          10,
          10,
          11,
          11,
          11,
          11,
          11,
          11,
          11,
          12,
          12,
          12,
          12,
          12,
          12,
          12,
          13,
          13,
          13,
          13,
          13,
          13,
          13,
          14,
          14,
          14
         ],
         "y": [
          17,
          18,
          26,
          42,
          56,
          82,
          131,
          133,
          171,
          213,
          259,
          361,
          425,
          490,
          562,
          632,
          717,
          804,
          904,
          1011,
          1111,
          1116,
          1368,
          1520,
          1662,
          1765,
          1863,
          2002,
          2114,
          2236,
          2236,
          2441,
          2443,
          2593,
          2663,
          2715,
          2744,
          2788,
          2835,
          2870,
          2912,
          2945,
          2981,
          3013,
          3042,
          3070,
          3097,
          3120,
          3136,
          3158,
          3169,
          3176,
          3189,
          3199,
          3213,
          3226,
          3237,
          3245,
          3249,
          3255,
          3261,
          3270,
          3277,
          3281,
          3287,
          3292,
          3295,
          3300,
          3304,
          3305,
          3312
         ]
        },
        {
         "mode": "lines+markers",
         "name": "South Korea",
         "type": "scatter",
         "x": [
          4,
          4,
          4,
          4,
          4,
          5,
          5,
          5,
          5,
          5,
          5,
          5,
          6,
          6,
          6,
          6,
          6,
          6,
          6,
          7,
          7,
          7,
          7,
          7,
          7,
          7,
          8,
          8,
          8,
          8,
          8,
          8,
          8,
          9,
          9,
          9,
          9,
          9,
          9,
          9,
          10,
          10,
          10,
          10,
          10,
          10,
          10,
          11,
          11,
          11,
          11,
          11,
          11,
          11,
          12,
          12,
          12,
          12,
          12,
          12,
          12,
          13,
          13,
          13,
          13,
          13,
          13,
          13,
          14,
          14,
          14
         ],
         "y": [
          0,
          0,
          0,
          0,
          0,
          0,
          0,
          0,
          0,
          0,
          0,
          0,
          0,
          0,
          0,
          0,
          0,
          0,
          0,
          0,
          0,
          0,
          0,
          0,
          0,
          0,
          0,
          0,
          0,
          1,
          2,
          2,
          6,
          8,
          10,
          12,
          13,
          13,
          16,
          17,
          28,
          28,
          35,
          35,
          42,
          44,
          50,
          53,
          54,
          60,
          66,
          66,
          72,
          75,
          75,
          81,
          84,
          91,
          94,
          102,
          104,
          111,
          120,
          126,
          131,
          139,
          144,
          152,
          158,
          162,
          165
         ]
        },
        {
         "mode": "lines+markers",
         "name": "Italy",
         "type": "scatter",
         "x": [
          5,
          5,
          5,
          6,
          6,
          6,
          6,
          6,
          6,
          6,
          7,
          7,
          7,
          7,
          7,
          7,
          7,
          8,
          8,
          8,
          8,
          8,
          8,
          8,
          9,
          9,
          9,
          9,
          9,
          9,
          9,
          10,
          10,
          10,
          10,
          10,
          10,
          10,
          11,
          11,
          11,
          11,
          11,
          11,
          11,
          12,
          12,
          12,
          12,
          12,
          12,
          12,
          13,
          13,
          13,
          13,
          13,
          13,
          13,
          14,
          14,
          14
         ],
         "y": [
          0,
          0,
          0,
          0,
          0,
          0,
          0,
          0,
          0,
          0,
          0,
          0,
          0,
          0,
          0,
          0,
          0,
          0,
          0,
          0,
          0,
          1,
          2,
          3,
          7,
          10,
          12,
          17,
          21,
          29,
          34,
          52,
          79,
          107,
          148,
          197,
          233,
          366,
          463,
          631,
          827,
          827,
          1266,
          1441,
          1809,
          2158,
          2503,
          2978,
          3405,
          4032,
          4825,
          5476,
          6077,
          6820,
          7503,
          8215,
          9134,
          10023,
          10779,
          11591,
          12428,
          13155
         ]
        },
        {
         "mode": "lines+markers",
         "name": "USA",
         "type": "scatter",
         "x": [
          4,
          4,
          4,
          4,
          4,
          5,
          5,
          5,
          5,
          5,
          5,
          5,
          6,
          6,
          6,
          6,
          6,
          6,
          6,
          7,
          7,
          7,
          7,
          7,
          7,
          7,
          8,
          8,
          8,
          8,
          8,
          8,
          8,
          9,
          9,
          9,
          9,
          9,
          9,
          9,
          10,
          10,
          10,
          10,
          10,
          10,
          10,
          11,
          11,
          11,
          11,
          11,
          11,
          11,
          12,
          12,
          12,
          12,
          12,
          12,
          12,
          13,
          13,
          13,
          13,
          13,
          13,
          13,
          14,
          14,
          14
         ],
         "y": [
          0,
          0,
          0,
          0,
          0,
          0,
          0,
          0,
          0,
          0,
          0,
          0,
          0,
          0,
          0,
          0,
          0,
          0,
          0,
          0,
          0,
          0,
          0,
          0,
          0,
          0,
          0,
          0,
          0,
          0,
          0,
          0,
          0,
          0,
          0,
          0,
          0,
          0,
          1,
          1,
          6,
          7,
          11,
          12,
          14,
          17,
          21,
          22,
          28,
          36,
          40,
          47,
          54,
          63,
          85,
          108,
          118,
          200,
          244,
          307,
          427,
          552,
          706,
          942,
          1209,
          1581,
          2026,
          2467,
          2978,
          3873,
          4757
         ]
        },
        {
         "mode": "lines+markers",
         "name": "Spain",
         "type": "scatter",
         "x": [
          5,
          5,
          6,
          6,
          6,
          6,
          6,
          6,
          6,
          7,
          7,
          7,
          7,
          7,
          7,
          7,
          8,
          8,
          8,
          8,
          8,
          8,
          8,
          9,
          9,
          9,
          9,
          9,
          9,
          9,
          10,
          10,
          10,
          10,
          10,
          10,
          10,
          11,
          11,
          11,
          11,
          11,
          11,
          11,
          12,
          12,
          12,
          12,
          12,
          12,
          12,
          13,
          13,
          13,
          13,
          13,
          13,
          13,
          14,
          14,
          14
         ],
         "y": [
          0,
          0,
          0,
          0,
          0,
          0,
          0,
          0,
          0,
          0,
          0,
          0,
          0,
          0,
          0,
          0,
          0,
          0,
          0,
          0,
          0,
          0,
          0,
          0,
          0,
          0,
          0,
          0,
          0,
          0,
          0,
          1,
          2,
          3,
          5,
          10,
          17,
          28,
          35,
          54,
          55,
          133,
          195,
          289,
          342,
          533,
          623,
          830,
          1043,
          1375,
          1756,
          2311,
          2808,
          3647,
          4365,
          5138,
          5982,
          6803,
          7716,
          8464,
          9387
         ]
        }
       ],
       "layout": {
        "font": {
         "family": "Courier New, monospace",
         "size": 18
        },
        "plot_bgcolor": "rgb(250, 242, 242)",
        "template": {
         "data": {
          "bar": [
           {
            "error_x": {
             "color": "#2a3f5f"
            },
            "error_y": {
             "color": "#2a3f5f"
            },
            "marker": {
             "line": {
              "color": "#E5ECF6",
              "width": 0.5
             }
            },
            "type": "bar"
           }
          ],
          "barpolar": [
           {
            "marker": {
             "line": {
              "color": "#E5ECF6",
              "width": 0.5
             }
            },
            "type": "barpolar"
           }
          ],
          "carpet": [
           {
            "aaxis": {
             "endlinecolor": "#2a3f5f",
             "gridcolor": "white",
             "linecolor": "white",
             "minorgridcolor": "white",
             "startlinecolor": "#2a3f5f"
            },
            "baxis": {
             "endlinecolor": "#2a3f5f",
             "gridcolor": "white",
             "linecolor": "white",
             "minorgridcolor": "white",
             "startlinecolor": "#2a3f5f"
            },
            "type": "carpet"
           }
          ],
          "choropleth": [
           {
            "colorbar": {
             "outlinewidth": 0,
             "ticks": ""
            },
            "type": "choropleth"
           }
          ],
          "contour": [
           {
            "colorbar": {
             "outlinewidth": 0,
             "ticks": ""
            },
            "colorscale": [
             [
              0,
              "#0d0887"
             ],
             [
              0.1111111111111111,
              "#46039f"
             ],
             [
              0.2222222222222222,
              "#7201a8"
             ],
             [
              0.3333333333333333,
              "#9c179e"
             ],
             [
              0.4444444444444444,
              "#bd3786"
             ],
             [
              0.5555555555555556,
              "#d8576b"
             ],
             [
              0.6666666666666666,
              "#ed7953"
             ],
             [
              0.7777777777777778,
              "#fb9f3a"
             ],
             [
              0.8888888888888888,
              "#fdca26"
             ],
             [
              1,
              "#f0f921"
             ]
            ],
            "type": "contour"
           }
          ],
          "contourcarpet": [
           {
            "colorbar": {
             "outlinewidth": 0,
             "ticks": ""
            },
            "type": "contourcarpet"
           }
          ],
          "heatmap": [
           {
            "colorbar": {
             "outlinewidth": 0,
             "ticks": ""
            },
            "colorscale": [
             [
              0,
              "#0d0887"
             ],
             [
              0.1111111111111111,
              "#46039f"
             ],
             [
              0.2222222222222222,
              "#7201a8"
             ],
             [
              0.3333333333333333,
              "#9c179e"
             ],
             [
              0.4444444444444444,
              "#bd3786"
             ],
             [
              0.5555555555555556,
              "#d8576b"
             ],
             [
              0.6666666666666666,
              "#ed7953"
             ],
             [
              0.7777777777777778,
              "#fb9f3a"
             ],
             [
              0.8888888888888888,
              "#fdca26"
             ],
             [
              1,
              "#f0f921"
             ]
            ],
            "type": "heatmap"
           }
          ],
          "heatmapgl": [
           {
            "colorbar": {
             "outlinewidth": 0,
             "ticks": ""
            },
            "colorscale": [
             [
              0,
              "#0d0887"
             ],
             [
              0.1111111111111111,
              "#46039f"
             ],
             [
              0.2222222222222222,
              "#7201a8"
             ],
             [
              0.3333333333333333,
              "#9c179e"
             ],
             [
              0.4444444444444444,
              "#bd3786"
             ],
             [
              0.5555555555555556,
              "#d8576b"
             ],
             [
              0.6666666666666666,
              "#ed7953"
             ],
             [
              0.7777777777777778,
              "#fb9f3a"
             ],
             [
              0.8888888888888888,
              "#fdca26"
             ],
             [
              1,
              "#f0f921"
             ]
            ],
            "type": "heatmapgl"
           }
          ],
          "histogram": [
           {
            "marker": {
             "colorbar": {
              "outlinewidth": 0,
              "ticks": ""
             }
            },
            "type": "histogram"
           }
          ],
          "histogram2d": [
           {
            "colorbar": {
             "outlinewidth": 0,
             "ticks": ""
            },
            "colorscale": [
             [
              0,
              "#0d0887"
             ],
             [
              0.1111111111111111,
              "#46039f"
             ],
             [
              0.2222222222222222,
              "#7201a8"
             ],
             [
              0.3333333333333333,
              "#9c179e"
             ],
             [
              0.4444444444444444,
              "#bd3786"
             ],
             [
              0.5555555555555556,
              "#d8576b"
             ],
             [
              0.6666666666666666,
              "#ed7953"
             ],
             [
              0.7777777777777778,
              "#fb9f3a"
             ],
             [
              0.8888888888888888,
              "#fdca26"
             ],
             [
              1,
              "#f0f921"
             ]
            ],
            "type": "histogram2d"
           }
          ],
          "histogram2dcontour": [
           {
            "colorbar": {
             "outlinewidth": 0,
             "ticks": ""
            },
            "colorscale": [
             [
              0,
              "#0d0887"
             ],
             [
              0.1111111111111111,
              "#46039f"
             ],
             [
              0.2222222222222222,
              "#7201a8"
             ],
             [
              0.3333333333333333,
              "#9c179e"
             ],
             [
              0.4444444444444444,
              "#bd3786"
             ],
             [
              0.5555555555555556,
              "#d8576b"
             ],
             [
              0.6666666666666666,
              "#ed7953"
             ],
             [
              0.7777777777777778,
              "#fb9f3a"
             ],
             [
              0.8888888888888888,
              "#fdca26"
             ],
             [
              1,
              "#f0f921"
             ]
            ],
            "type": "histogram2dcontour"
           }
          ],
          "mesh3d": [
           {
            "colorbar": {
             "outlinewidth": 0,
             "ticks": ""
            },
            "type": "mesh3d"
           }
          ],
          "parcoords": [
           {
            "line": {
             "colorbar": {
              "outlinewidth": 0,
              "ticks": ""
             }
            },
            "type": "parcoords"
           }
          ],
          "pie": [
           {
            "automargin": true,
            "type": "pie"
           }
          ],
          "scatter": [
           {
            "marker": {
             "colorbar": {
              "outlinewidth": 0,
              "ticks": ""
             }
            },
            "type": "scatter"
           }
          ],
          "scatter3d": [
           {
            "line": {
             "colorbar": {
              "outlinewidth": 0,
              "ticks": ""
             }
            },
            "marker": {
             "colorbar": {
              "outlinewidth": 0,
              "ticks": ""
             }
            },
            "type": "scatter3d"
           }
          ],
          "scattercarpet": [
           {
            "marker": {
             "colorbar": {
              "outlinewidth": 0,
              "ticks": ""
             }
            },
            "type": "scattercarpet"
           }
          ],
          "scattergeo": [
           {
            "marker": {
             "colorbar": {
              "outlinewidth": 0,
              "ticks": ""
             }
            },
            "type": "scattergeo"
           }
          ],
          "scattergl": [
           {
            "marker": {
             "colorbar": {
              "outlinewidth": 0,
              "ticks": ""
             }
            },
            "type": "scattergl"
           }
          ],
          "scattermapbox": [
           {
            "marker": {
             "colorbar": {
              "outlinewidth": 0,
              "ticks": ""
             }
            },
            "type": "scattermapbox"
           }
          ],
          "scatterpolar": [
           {
            "marker": {
             "colorbar": {
              "outlinewidth": 0,
              "ticks": ""
             }
            },
            "type": "scatterpolar"
           }
          ],
          "scatterpolargl": [
           {
            "marker": {
             "colorbar": {
              "outlinewidth": 0,
              "ticks": ""
             }
            },
            "type": "scatterpolargl"
           }
          ],
          "scatterternary": [
           {
            "marker": {
             "colorbar": {
              "outlinewidth": 0,
              "ticks": ""
             }
            },
            "type": "scatterternary"
           }
          ],
          "surface": [
           {
            "colorbar": {
             "outlinewidth": 0,
             "ticks": ""
            },
            "colorscale": [
             [
              0,
              "#0d0887"
             ],
             [
              0.1111111111111111,
              "#46039f"
             ],
             [
              0.2222222222222222,
              "#7201a8"
             ],
             [
              0.3333333333333333,
              "#9c179e"
             ],
             [
              0.4444444444444444,
              "#bd3786"
             ],
             [
              0.5555555555555556,
              "#d8576b"
             ],
             [
              0.6666666666666666,
              "#ed7953"
             ],
             [
              0.7777777777777778,
              "#fb9f3a"
             ],
             [
              0.8888888888888888,
              "#fdca26"
             ],
             [
              1,
              "#f0f921"
             ]
            ],
            "type": "surface"
           }
          ],
          "table": [
           {
            "cells": {
             "fill": {
              "color": "#EBF0F8"
             },
             "line": {
              "color": "white"
             }
            },
            "header": {
             "fill": {
              "color": "#C8D4E3"
             },
             "line": {
              "color": "white"
             }
            },
            "type": "table"
           }
          ]
         },
         "layout": {
          "annotationdefaults": {
           "arrowcolor": "#2a3f5f",
           "arrowhead": 0,
           "arrowwidth": 1
          },
          "coloraxis": {
           "colorbar": {
            "outlinewidth": 0,
            "ticks": ""
           }
          },
          "colorscale": {
           "diverging": [
            [
             0,
             "#8e0152"
            ],
            [
             0.1,
             "#c51b7d"
            ],
            [
             0.2,
             "#de77ae"
            ],
            [
             0.3,
             "#f1b6da"
            ],
            [
             0.4,
             "#fde0ef"
            ],
            [
             0.5,
             "#f7f7f7"
            ],
            [
             0.6,
             "#e6f5d0"
            ],
            [
             0.7,
             "#b8e186"
            ],
            [
             0.8,
             "#7fbc41"
            ],
            [
             0.9,
             "#4d9221"
            ],
            [
             1,
             "#276419"
            ]
           ],
           "sequential": [
            [
             0,
             "#0d0887"
            ],
            [
             0.1111111111111111,
             "#46039f"
            ],
            [
             0.2222222222222222,
             "#7201a8"
            ],
            [
             0.3333333333333333,
             "#9c179e"
            ],
            [
             0.4444444444444444,
             "#bd3786"
            ],
            [
             0.5555555555555556,
             "#d8576b"
            ],
            [
             0.6666666666666666,
             "#ed7953"
            ],
            [
             0.7777777777777778,
             "#fb9f3a"
            ],
            [
             0.8888888888888888,
             "#fdca26"
            ],
            [
             1,
             "#f0f921"
            ]
           ],
           "sequentialminus": [
            [
             0,
             "#0d0887"
            ],
            [
             0.1111111111111111,
             "#46039f"
            ],
            [
             0.2222222222222222,
             "#7201a8"
            ],
            [
             0.3333333333333333,
             "#9c179e"
            ],
            [
             0.4444444444444444,
             "#bd3786"
            ],
            [
             0.5555555555555556,
             "#d8576b"
            ],
            [
             0.6666666666666666,
             "#ed7953"
            ],
            [
             0.7777777777777778,
             "#fb9f3a"
            ],
            [
             0.8888888888888888,
             "#fdca26"
            ],
            [
             1,
             "#f0f921"
            ]
           ]
          },
          "colorway": [
           "#636efa",
           "#EF553B",
           "#00cc96",
           "#ab63fa",
           "#FFA15A",
           "#19d3f3",
           "#FF6692",
           "#B6E880",
           "#FF97FF",
           "#FECB52"
          ],
          "font": {
           "color": "#2a3f5f"
          },
          "geo": {
           "bgcolor": "white",
           "lakecolor": "white",
           "landcolor": "#E5ECF6",
           "showlakes": true,
           "showland": true,
           "subunitcolor": "white"
          },
          "hoverlabel": {
           "align": "left"
          },
          "hovermode": "closest",
          "mapbox": {
           "style": "light"
          },
          "paper_bgcolor": "white",
          "plot_bgcolor": "#E5ECF6",
          "polar": {
           "angularaxis": {
            "gridcolor": "white",
            "linecolor": "white",
            "ticks": ""
           },
           "bgcolor": "#E5ECF6",
           "radialaxis": {
            "gridcolor": "white",
            "linecolor": "white",
            "ticks": ""
           }
          },
          "scene": {
           "xaxis": {
            "backgroundcolor": "#E5ECF6",
            "gridcolor": "white",
            "gridwidth": 2,
            "linecolor": "white",
            "showbackground": true,
            "ticks": "",
            "zerolinecolor": "white"
           },
           "yaxis": {
            "backgroundcolor": "#E5ECF6",
            "gridcolor": "white",
            "gridwidth": 2,
            "linecolor": "white",
            "showbackground": true,
            "ticks": "",
            "zerolinecolor": "white"
           },
           "zaxis": {
            "backgroundcolor": "#E5ECF6",
            "gridcolor": "white",
            "gridwidth": 2,
            "linecolor": "white",
            "showbackground": true,
            "ticks": "",
            "zerolinecolor": "white"
           }
          },
          "shapedefaults": {
           "line": {
            "color": "#2a3f5f"
           }
          },
          "ternary": {
           "aaxis": {
            "gridcolor": "white",
            "linecolor": "white",
            "ticks": ""
           },
           "baxis": {
            "gridcolor": "white",
            "linecolor": "white",
            "ticks": ""
           },
           "bgcolor": "#E5ECF6",
           "caxis": {
            "gridcolor": "white",
            "linecolor": "white",
            "ticks": ""
           }
          },
          "title": {
           "x": 0.05
          },
          "xaxis": {
           "automargin": true,
           "gridcolor": "white",
           "linecolor": "white",
           "ticks": "",
           "title": {
            "standoff": 15
           },
           "zerolinecolor": "white",
           "zerolinewidth": 2
          },
          "yaxis": {
           "automargin": true,
           "gridcolor": "white",
           "linecolor": "white",
           "ticks": "",
           "title": {
            "standoff": 15
           },
           "zerolinecolor": "white",
           "zerolinewidth": 2
          }
         }
        },
        "title": {
         "text": "Deaths Cases Across Countries"
        },
        "xaxis": {
         "title": {
          "text": "Number of Weeks"
         }
        },
        "yaxis": {
         "title": {
          "text": "Number of Cases"
         }
        }
       }
      },
      "text/html": [
       "<div>\n",
       "        \n",
       "        \n",
       "            <div id=\"7af3d061-573f-4e76-94f1-bbdf3be0f36b\" class=\"plotly-graph-div\" style=\"height:525px; width:100%;\"></div>\n",
       "            <script type=\"text/javascript\">\n",
       "                require([\"plotly\"], function(Plotly) {\n",
       "                    window.PLOTLYENV=window.PLOTLYENV || {};\n",
       "                    \n",
       "                if (document.getElementById(\"7af3d061-573f-4e76-94f1-bbdf3be0f36b\")) {\n",
       "                    Plotly.newPlot(\n",
       "                        '7af3d061-573f-4e76-94f1-bbdf3be0f36b',\n",
       "                        [{\"mode\": \"lines+markers\", \"name\": \"China\", \"type\": \"scatter\", \"x\": [4, 4, 4, 4, 4, 5, 5, 5, 5, 5, 5, 5, 6, 6, 6, 6, 6, 6, 6, 7, 7, 7, 7, 7, 7, 7, 8, 8, 8, 8, 8, 8, 8, 9, 9, 9, 9, 9, 9, 9, 10, 10, 10, 10, 10, 10, 10, 11, 11, 11, 11, 11, 11, 11, 12, 12, 12, 12, 12, 12, 12, 13, 13, 13, 13, 13, 13, 13, 14, 14, 14], \"y\": [17.0, 18.0, 26.0, 42.0, 56.0, 82.0, 131.0, 133.0, 171.0, 213.0, 259.0, 361.0, 425.0, 490.0, 562.0, 632.0, 717.0, 804.0, 904.0, 1011.0, 1111.0, 1116.0, 1368.0, 1520.0, 1662.0, 1765.0, 1863.0, 2002.0, 2114.0, 2236.0, 2236.0, 2441.0, 2443.0, 2593.0, 2663.0, 2715.0, 2744.0, 2788.0, 2835.0, 2870.0, 2912.0, 2945.0, 2981.0, 3013.0, 3042.0, 3070.0, 3097.0, 3120.0, 3136.0, 3158.0, 3169.0, 3176.0, 3189.0, 3199.0, 3213.0, 3226.0, 3237.0, 3245.0, 3249.0, 3255.0, 3261.0, 3270.0, 3277.0, 3281.0, 3287.0, 3292.0, 3295.0, 3300.0, 3304.0, 3305.0, 3312.0]}, {\"mode\": \"lines+markers\", \"name\": \"South Korea\", \"type\": \"scatter\", \"x\": [4, 4, 4, 4, 4, 5, 5, 5, 5, 5, 5, 5, 6, 6, 6, 6, 6, 6, 6, 7, 7, 7, 7, 7, 7, 7, 8, 8, 8, 8, 8, 8, 8, 9, 9, 9, 9, 9, 9, 9, 10, 10, 10, 10, 10, 10, 10, 11, 11, 11, 11, 11, 11, 11, 12, 12, 12, 12, 12, 12, 12, 13, 13, 13, 13, 13, 13, 13, 14, 14, 14], \"y\": [0.0, 0.0, 0.0, 0.0, 0.0, 0.0, 0.0, 0.0, 0.0, 0.0, 0.0, 0.0, 0.0, 0.0, 0.0, 0.0, 0.0, 0.0, 0.0, 0.0, 0.0, 0.0, 0.0, 0.0, 0.0, 0.0, 0.0, 0.0, 0.0, 1.0, 2.0, 2.0, 6.0, 8.0, 10.0, 12.0, 13.0, 13.0, 16.0, 17.0, 28.0, 28.0, 35.0, 35.0, 42.0, 44.0, 50.0, 53.0, 54.0, 60.0, 66.0, 66.0, 72.0, 75.0, 75.0, 81.0, 84.0, 91.0, 94.0, 102.0, 104.0, 111.0, 120.0, 126.0, 131.0, 139.0, 144.0, 152.0, 158.0, 162.0, 165.0]}, {\"mode\": \"lines+markers\", \"name\": \"Italy\", \"type\": \"scatter\", \"x\": [5, 5, 5, 6, 6, 6, 6, 6, 6, 6, 7, 7, 7, 7, 7, 7, 7, 8, 8, 8, 8, 8, 8, 8, 9, 9, 9, 9, 9, 9, 9, 10, 10, 10, 10, 10, 10, 10, 11, 11, 11, 11, 11, 11, 11, 12, 12, 12, 12, 12, 12, 12, 13, 13, 13, 13, 13, 13, 13, 14, 14, 14], \"y\": [0.0, 0.0, 0.0, 0.0, 0.0, 0.0, 0.0, 0.0, 0.0, 0.0, 0.0, 0.0, 0.0, 0.0, 0.0, 0.0, 0.0, 0.0, 0.0, 0.0, 0.0, 1.0, 2.0, 3.0, 7.0, 10.0, 12.0, 17.0, 21.0, 29.0, 34.0, 52.0, 79.0, 107.0, 148.0, 197.0, 233.0, 366.0, 463.0, 631.0, 827.0, 827.0, 1266.0, 1441.0, 1809.0, 2158.0, 2503.0, 2978.0, 3405.0, 4032.0, 4825.0, 5476.0, 6077.0, 6820.0, 7503.0, 8215.0, 9134.0, 10023.0, 10779.0, 11591.0, 12428.0, 13155.0]}, {\"mode\": \"lines+markers\", \"name\": \"USA\", \"type\": \"scatter\", \"x\": [4, 4, 4, 4, 4, 5, 5, 5, 5, 5, 5, 5, 6, 6, 6, 6, 6, 6, 6, 7, 7, 7, 7, 7, 7, 7, 8, 8, 8, 8, 8, 8, 8, 9, 9, 9, 9, 9, 9, 9, 10, 10, 10, 10, 10, 10, 10, 11, 11, 11, 11, 11, 11, 11, 12, 12, 12, 12, 12, 12, 12, 13, 13, 13, 13, 13, 13, 13, 14, 14, 14], \"y\": [0.0, 0.0, 0.0, 0.0, 0.0, 0.0, 0.0, 0.0, 0.0, 0.0, 0.0, 0.0, 0.0, 0.0, 0.0, 0.0, 0.0, 0.0, 0.0, 0.0, 0.0, 0.0, 0.0, 0.0, 0.0, 0.0, 0.0, 0.0, 0.0, 0.0, 0.0, 0.0, 0.0, 0.0, 0.0, 0.0, 0.0, 0.0, 1.0, 1.0, 6.0, 7.0, 11.0, 12.0, 14.0, 17.0, 21.0, 22.0, 28.0, 36.0, 40.0, 47.0, 54.0, 63.0, 85.0, 108.0, 118.0, 200.0, 244.0, 307.0, 427.0, 552.0, 706.0, 942.0, 1209.0, 1581.0, 2026.0, 2467.0, 2978.0, 3873.0, 4757.0]}, {\"mode\": \"lines+markers\", \"name\": \"Spain\", \"type\": \"scatter\", \"x\": [5, 5, 6, 6, 6, 6, 6, 6, 6, 7, 7, 7, 7, 7, 7, 7, 8, 8, 8, 8, 8, 8, 8, 9, 9, 9, 9, 9, 9, 9, 10, 10, 10, 10, 10, 10, 10, 11, 11, 11, 11, 11, 11, 11, 12, 12, 12, 12, 12, 12, 12, 13, 13, 13, 13, 13, 13, 13, 14, 14, 14], \"y\": [0.0, 0.0, 0.0, 0.0, 0.0, 0.0, 0.0, 0.0, 0.0, 0.0, 0.0, 0.0, 0.0, 0.0, 0.0, 0.0, 0.0, 0.0, 0.0, 0.0, 0.0, 0.0, 0.0, 0.0, 0.0, 0.0, 0.0, 0.0, 0.0, 0.0, 0.0, 1.0, 2.0, 3.0, 5.0, 10.0, 17.0, 28.0, 35.0, 54.0, 55.0, 133.0, 195.0, 289.0, 342.0, 533.0, 623.0, 830.0, 1043.0, 1375.0, 1756.0, 2311.0, 2808.0, 3647.0, 4365.0, 5138.0, 5982.0, 6803.0, 7716.0, 8464.0, 9387.0]}],\n",
       "                        {\"font\": {\"family\": \"Courier New, monospace\", \"size\": 18}, \"plot_bgcolor\": \"rgb(250, 242, 242)\", \"template\": {\"data\": {\"bar\": [{\"error_x\": {\"color\": \"#2a3f5f\"}, \"error_y\": {\"color\": \"#2a3f5f\"}, \"marker\": {\"line\": {\"color\": \"#E5ECF6\", \"width\": 0.5}}, \"type\": \"bar\"}], \"barpolar\": [{\"marker\": {\"line\": {\"color\": \"#E5ECF6\", \"width\": 0.5}}, \"type\": \"barpolar\"}], \"carpet\": [{\"aaxis\": {\"endlinecolor\": \"#2a3f5f\", \"gridcolor\": \"white\", \"linecolor\": \"white\", \"minorgridcolor\": \"white\", \"startlinecolor\": \"#2a3f5f\"}, \"baxis\": {\"endlinecolor\": \"#2a3f5f\", \"gridcolor\": \"white\", \"linecolor\": \"white\", \"minorgridcolor\": \"white\", \"startlinecolor\": \"#2a3f5f\"}, \"type\": \"carpet\"}], \"choropleth\": [{\"colorbar\": {\"outlinewidth\": 0, \"ticks\": \"\"}, \"type\": \"choropleth\"}], \"contour\": [{\"colorbar\": {\"outlinewidth\": 0, \"ticks\": \"\"}, \"colorscale\": [[0.0, \"#0d0887\"], [0.1111111111111111, \"#46039f\"], [0.2222222222222222, \"#7201a8\"], [0.3333333333333333, \"#9c179e\"], [0.4444444444444444, \"#bd3786\"], [0.5555555555555556, \"#d8576b\"], [0.6666666666666666, \"#ed7953\"], [0.7777777777777778, \"#fb9f3a\"], [0.8888888888888888, \"#fdca26\"], [1.0, \"#f0f921\"]], \"type\": \"contour\"}], \"contourcarpet\": [{\"colorbar\": {\"outlinewidth\": 0, \"ticks\": \"\"}, \"type\": \"contourcarpet\"}], \"heatmap\": [{\"colorbar\": {\"outlinewidth\": 0, \"ticks\": \"\"}, \"colorscale\": [[0.0, \"#0d0887\"], [0.1111111111111111, \"#46039f\"], [0.2222222222222222, \"#7201a8\"], [0.3333333333333333, \"#9c179e\"], [0.4444444444444444, \"#bd3786\"], [0.5555555555555556, \"#d8576b\"], [0.6666666666666666, \"#ed7953\"], [0.7777777777777778, \"#fb9f3a\"], [0.8888888888888888, \"#fdca26\"], [1.0, \"#f0f921\"]], \"type\": \"heatmap\"}], \"heatmapgl\": [{\"colorbar\": {\"outlinewidth\": 0, \"ticks\": \"\"}, \"colorscale\": [[0.0, \"#0d0887\"], [0.1111111111111111, \"#46039f\"], [0.2222222222222222, \"#7201a8\"], [0.3333333333333333, \"#9c179e\"], [0.4444444444444444, \"#bd3786\"], [0.5555555555555556, \"#d8576b\"], [0.6666666666666666, \"#ed7953\"], [0.7777777777777778, \"#fb9f3a\"], [0.8888888888888888, \"#fdca26\"], [1.0, \"#f0f921\"]], \"type\": \"heatmapgl\"}], \"histogram\": [{\"marker\": {\"colorbar\": {\"outlinewidth\": 0, \"ticks\": \"\"}}, \"type\": \"histogram\"}], \"histogram2d\": [{\"colorbar\": {\"outlinewidth\": 0, \"ticks\": \"\"}, \"colorscale\": [[0.0, \"#0d0887\"], [0.1111111111111111, \"#46039f\"], [0.2222222222222222, \"#7201a8\"], [0.3333333333333333, \"#9c179e\"], [0.4444444444444444, \"#bd3786\"], [0.5555555555555556, \"#d8576b\"], [0.6666666666666666, \"#ed7953\"], [0.7777777777777778, \"#fb9f3a\"], [0.8888888888888888, \"#fdca26\"], [1.0, \"#f0f921\"]], \"type\": \"histogram2d\"}], \"histogram2dcontour\": [{\"colorbar\": {\"outlinewidth\": 0, \"ticks\": \"\"}, \"colorscale\": [[0.0, \"#0d0887\"], [0.1111111111111111, \"#46039f\"], [0.2222222222222222, \"#7201a8\"], [0.3333333333333333, \"#9c179e\"], [0.4444444444444444, \"#bd3786\"], [0.5555555555555556, \"#d8576b\"], [0.6666666666666666, \"#ed7953\"], [0.7777777777777778, \"#fb9f3a\"], [0.8888888888888888, \"#fdca26\"], [1.0, \"#f0f921\"]], \"type\": \"histogram2dcontour\"}], \"mesh3d\": [{\"colorbar\": {\"outlinewidth\": 0, \"ticks\": \"\"}, \"type\": \"mesh3d\"}], \"parcoords\": [{\"line\": {\"colorbar\": {\"outlinewidth\": 0, \"ticks\": \"\"}}, \"type\": \"parcoords\"}], \"pie\": [{\"automargin\": true, \"type\": \"pie\"}], \"scatter\": [{\"marker\": {\"colorbar\": {\"outlinewidth\": 0, \"ticks\": \"\"}}, \"type\": \"scatter\"}], \"scatter3d\": [{\"line\": {\"colorbar\": {\"outlinewidth\": 0, \"ticks\": \"\"}}, \"marker\": {\"colorbar\": {\"outlinewidth\": 0, \"ticks\": \"\"}}, \"type\": \"scatter3d\"}], \"scattercarpet\": [{\"marker\": {\"colorbar\": {\"outlinewidth\": 0, \"ticks\": \"\"}}, \"type\": \"scattercarpet\"}], \"scattergeo\": [{\"marker\": {\"colorbar\": {\"outlinewidth\": 0, \"ticks\": \"\"}}, \"type\": \"scattergeo\"}], \"scattergl\": [{\"marker\": {\"colorbar\": {\"outlinewidth\": 0, \"ticks\": \"\"}}, \"type\": \"scattergl\"}], \"scattermapbox\": [{\"marker\": {\"colorbar\": {\"outlinewidth\": 0, \"ticks\": \"\"}}, \"type\": \"scattermapbox\"}], \"scatterpolar\": [{\"marker\": {\"colorbar\": {\"outlinewidth\": 0, \"ticks\": \"\"}}, \"type\": \"scatterpolar\"}], \"scatterpolargl\": [{\"marker\": {\"colorbar\": {\"outlinewidth\": 0, \"ticks\": \"\"}}, \"type\": \"scatterpolargl\"}], \"scatterternary\": [{\"marker\": {\"colorbar\": {\"outlinewidth\": 0, \"ticks\": \"\"}}, \"type\": \"scatterternary\"}], \"surface\": [{\"colorbar\": {\"outlinewidth\": 0, \"ticks\": \"\"}, \"colorscale\": [[0.0, \"#0d0887\"], [0.1111111111111111, \"#46039f\"], [0.2222222222222222, \"#7201a8\"], [0.3333333333333333, \"#9c179e\"], [0.4444444444444444, \"#bd3786\"], [0.5555555555555556, \"#d8576b\"], [0.6666666666666666, \"#ed7953\"], [0.7777777777777778, \"#fb9f3a\"], [0.8888888888888888, \"#fdca26\"], [1.0, \"#f0f921\"]], \"type\": \"surface\"}], \"table\": [{\"cells\": {\"fill\": {\"color\": \"#EBF0F8\"}, \"line\": {\"color\": \"white\"}}, \"header\": {\"fill\": {\"color\": \"#C8D4E3\"}, \"line\": {\"color\": \"white\"}}, \"type\": \"table\"}]}, \"layout\": {\"annotationdefaults\": {\"arrowcolor\": \"#2a3f5f\", \"arrowhead\": 0, \"arrowwidth\": 1}, \"coloraxis\": {\"colorbar\": {\"outlinewidth\": 0, \"ticks\": \"\"}}, \"colorscale\": {\"diverging\": [[0, \"#8e0152\"], [0.1, \"#c51b7d\"], [0.2, \"#de77ae\"], [0.3, \"#f1b6da\"], [0.4, \"#fde0ef\"], [0.5, \"#f7f7f7\"], [0.6, \"#e6f5d0\"], [0.7, \"#b8e186\"], [0.8, \"#7fbc41\"], [0.9, \"#4d9221\"], [1, \"#276419\"]], \"sequential\": [[0.0, \"#0d0887\"], [0.1111111111111111, \"#46039f\"], [0.2222222222222222, \"#7201a8\"], [0.3333333333333333, \"#9c179e\"], [0.4444444444444444, \"#bd3786\"], [0.5555555555555556, \"#d8576b\"], [0.6666666666666666, \"#ed7953\"], [0.7777777777777778, \"#fb9f3a\"], [0.8888888888888888, \"#fdca26\"], [1.0, \"#f0f921\"]], \"sequentialminus\": [[0.0, \"#0d0887\"], [0.1111111111111111, \"#46039f\"], [0.2222222222222222, \"#7201a8\"], [0.3333333333333333, \"#9c179e\"], [0.4444444444444444, \"#bd3786\"], [0.5555555555555556, \"#d8576b\"], [0.6666666666666666, \"#ed7953\"], [0.7777777777777778, \"#fb9f3a\"], [0.8888888888888888, \"#fdca26\"], [1.0, \"#f0f921\"]]}, \"colorway\": [\"#636efa\", \"#EF553B\", \"#00cc96\", \"#ab63fa\", \"#FFA15A\", \"#19d3f3\", \"#FF6692\", \"#B6E880\", \"#FF97FF\", \"#FECB52\"], \"font\": {\"color\": \"#2a3f5f\"}, \"geo\": {\"bgcolor\": \"white\", \"lakecolor\": \"white\", \"landcolor\": \"#E5ECF6\", \"showlakes\": true, \"showland\": true, \"subunitcolor\": \"white\"}, \"hoverlabel\": {\"align\": \"left\"}, \"hovermode\": \"closest\", \"mapbox\": {\"style\": \"light\"}, \"paper_bgcolor\": \"white\", \"plot_bgcolor\": \"#E5ECF6\", \"polar\": {\"angularaxis\": {\"gridcolor\": \"white\", \"linecolor\": \"white\", \"ticks\": \"\"}, \"bgcolor\": \"#E5ECF6\", \"radialaxis\": {\"gridcolor\": \"white\", \"linecolor\": \"white\", \"ticks\": \"\"}}, \"scene\": {\"xaxis\": {\"backgroundcolor\": \"#E5ECF6\", \"gridcolor\": \"white\", \"gridwidth\": 2, \"linecolor\": \"white\", \"showbackground\": true, \"ticks\": \"\", \"zerolinecolor\": \"white\"}, \"yaxis\": {\"backgroundcolor\": \"#E5ECF6\", \"gridcolor\": \"white\", \"gridwidth\": 2, \"linecolor\": \"white\", \"showbackground\": true, \"ticks\": \"\", \"zerolinecolor\": \"white\"}, \"zaxis\": {\"backgroundcolor\": \"#E5ECF6\", \"gridcolor\": \"white\", \"gridwidth\": 2, \"linecolor\": \"white\", \"showbackground\": true, \"ticks\": \"\", \"zerolinecolor\": \"white\"}}, \"shapedefaults\": {\"line\": {\"color\": \"#2a3f5f\"}}, \"ternary\": {\"aaxis\": {\"gridcolor\": \"white\", \"linecolor\": \"white\", \"ticks\": \"\"}, \"baxis\": {\"gridcolor\": \"white\", \"linecolor\": \"white\", \"ticks\": \"\"}, \"bgcolor\": \"#E5ECF6\", \"caxis\": {\"gridcolor\": \"white\", \"linecolor\": \"white\", \"ticks\": \"\"}}, \"title\": {\"x\": 0.05}, \"xaxis\": {\"automargin\": true, \"gridcolor\": \"white\", \"linecolor\": \"white\", \"ticks\": \"\", \"title\": {\"standoff\": 15}, \"zerolinecolor\": \"white\", \"zerolinewidth\": 2}, \"yaxis\": {\"automargin\": true, \"gridcolor\": \"white\", \"linecolor\": \"white\", \"ticks\": \"\", \"title\": {\"standoff\": 15}, \"zerolinecolor\": \"white\", \"zerolinewidth\": 2}}}, \"title\": {\"text\": \"Deaths Cases Across Countries\"}, \"xaxis\": {\"title\": {\"text\": \"Number of Weeks\"}}, \"yaxis\": {\"title\": {\"text\": \"Number of Cases\"}}},\n",
       "                        {\"responsive\": true}\n",
       "                    ).then(function(){\n",
       "                            \n",
       "var gd = document.getElementById('7af3d061-573f-4e76-94f1-bbdf3be0f36b');\n",
       "var x = new MutationObserver(function (mutations, observer) {{\n",
       "        var display = window.getComputedStyle(gd).display;\n",
       "        if (!display || display === 'none') {{\n",
       "            console.log([gd, 'removed!']);\n",
       "            Plotly.purge(gd);\n",
       "            observer.disconnect();\n",
       "        }}\n",
       "}});\n",
       "\n",
       "// Listen for the removal of the full notebook cells\n",
       "var notebookContainer = gd.closest('#notebook-container');\n",
       "if (notebookContainer) {{\n",
       "    x.observe(notebookContainer, {childList: true});\n",
       "}}\n",
       "\n",
       "// Listen for the clearing of the current output cell\n",
       "var outputEl = gd.closest('.output');\n",
       "if (outputEl) {{\n",
       "    x.observe(outputEl, {childList: true});\n",
       "}}\n",
       "\n",
       "                        })\n",
       "                };\n",
       "                });\n",
       "            </script>\n",
       "        </div>"
      ]
     },
     "metadata": {},
     "output_type": "display_data"
    }
   ],
   "source": [
    "import plotly.graph_objs as go\n",
    "fig = go.Figure()\n",
    "fig.add_trace(go.Scatter(x=df_china['week'], y=df_china['Deaths'],\n",
    "                    mode='lines+markers',name='China'))\n",
    "fig.add_trace(go.Scatter(x=df_sKorea['week'], y=df_sKorea['Deaths'],\n",
    "                    mode='lines+markers',name='South Korea'))\n",
    "fig.add_trace(go.Scatter(x=df_italy['week'], y=df_italy['Deaths'],\n",
    "                    mode='lines+markers',name='Italy'))\n",
    "fig.add_trace(go.Scatter(x=df_USA['week'], y=df_USA['Deaths'],\n",
    "                    mode='lines+markers',name='USA'))\n",
    "fig.add_trace(go.Scatter(x=df_Spain['week'], y=df_Spain['Deaths'],\n",
    "                    mode='lines+markers',name='Spain'))\n",
    "fig.update_layout(title_text='Deaths Cases Across Countries',xaxis_title='Number of Weeks',yaxis_title='Number of Cases',plot_bgcolor='rgb(250, 242, 242)', font=dict(\n",
    "        family=\"Courier New, monospace\",\n",
    "        size=18,\n",
    "    ))\n",
    "\n",
    "fig.show()"
   ]
  },
  {
   "cell_type": "code",
   "execution_count": 38,
   "metadata": {},
   "outputs": [
    {
     "data": {
      "application/vnd.plotly.v1+json": {
       "config": {
        "plotlyServerURL": "https://plot.ly"
       },
       "data": [
        {
         "mode": "lines+markers",
         "name": "China",
         "type": "scatter",
         "x": [
          4,
          4,
          4,
          4,
          4,
          5,
          5,
          5,
          5,
          5,
          5,
          5,
          6,
          6,
          6,
          6,
          6,
          6,
          6,
          7,
          7,
          7,
          7,
          7,
          7,
          7,
          8,
          8,
          8,
          8,
          8,
          8,
          8,
          9,
          9,
          9,
          9,
          9,
          9,
          9,
          10,
          10,
          10,
          10,
          10,
          10,
          10,
          11,
          11,
          11,
          11,
          11,
          11,
          11,
          12,
          12,
          12,
          12,
          12,
          12,
          12,
          13,
          13,
          13,
          13,
          13,
          13,
          13,
          14,
          14,
          14
         ],
         "y": [
          502,
          591,
          854,
          1318,
          1957,
          2723,
          5262,
          5817,
          7818,
          9356,
          11337,
          15783,
          18654,
          22347,
          25732,
          28445,
          31360,
          33379,
          35668,
          37378,
          38581,
          38504,
          52251,
          56799,
          57391,
          57933,
          58046,
          57938,
          56480,
          54761,
          54543,
          51794,
          51325,
          49569,
          47347,
          45297,
          42856,
          39745,
          37137,
          34838,
          32304,
          29802,
          27335,
          25169,
          23643,
          22104,
          20282,
          18880,
          17515,
          16058,
          14800,
          13516,
          12066,
          10723,
          9838,
          8958,
          8016,
          7256,
          6570,
          6010,
          5547,
          5137,
          4734,
          4279,
          3950,
          3453,
          3128,
          2684,
          2384,
          2151,
          1995
         ]
        },
        {
         "mode": "lines+markers",
         "name": "South Korea",
         "type": "scatter",
         "x": [
          4,
          4,
          4,
          4,
          4,
          5,
          5,
          5,
          5,
          5,
          5,
          5,
          6,
          6,
          6,
          6,
          6,
          6,
          6,
          7,
          7,
          7,
          7,
          7,
          7,
          7,
          8,
          8,
          8,
          8,
          8,
          8,
          8,
          9,
          9,
          9,
          9,
          9,
          9,
          9,
          10,
          10,
          10,
          10,
          10,
          10,
          10,
          11,
          11,
          11,
          11,
          11,
          11,
          11,
          12,
          12,
          12,
          12,
          12,
          12,
          12,
          13,
          13,
          13,
          13,
          13,
          13,
          13,
          14,
          14,
          14
         ],
         "y": [
          1,
          1,
          2,
          2,
          3,
          4,
          4,
          4,
          4,
          11,
          12,
          15,
          15,
          16,
          19,
          23,
          23,
          23,
          22,
          24,
          25,
          21,
          21,
          21,
          19,
          20,
          20,
          19,
          19,
          87,
          186,
          415,
          578,
          807,
          945,
          1227,
          1731,
          2302,
          3107,
          3689,
          4277,
          5128,
          5545,
          6012,
          6416,
          6862,
          7146,
          7307,
          7212,
          7407,
          7470,
          7403,
          7504,
          7577,
          7024,
          6832,
          6789,
          6934,
          7018,
          7157,
          5884,
          5684,
          5410,
          5281,
          4966,
          4665,
          4523,
          4398,
          4275,
          4216,
          4155
         ]
        },
        {
         "mode": "lines+markers",
         "name": "Italy",
         "type": "scatter",
         "x": [
          5,
          5,
          5,
          6,
          6,
          6,
          6,
          6,
          6,
          6,
          7,
          7,
          7,
          7,
          7,
          7,
          7,
          8,
          8,
          8,
          8,
          8,
          8,
          8,
          9,
          9,
          9,
          9,
          9,
          9,
          9,
          10,
          10,
          10,
          10,
          10,
          10,
          10,
          11,
          11,
          11,
          11,
          11,
          11,
          11,
          12,
          12,
          12,
          12,
          12,
          12,
          12,
          13,
          13,
          13,
          13,
          13,
          13,
          13,
          14,
          14,
          14
         ],
         "y": [
          2,
          2,
          2,
          2,
          2,
          2,
          2,
          3,
          3,
          3,
          3,
          3,
          3,
          3,
          3,
          3,
          3,
          3,
          3,
          3,
          3,
          19,
          59,
          150,
          221,
          311,
          438,
          593,
          821,
          1053,
          1577,
          1835,
          2263,
          2706,
          3296,
          3916,
          5061,
          6387,
          7985,
          8794,
          10590,
          10590,
          14955,
          17750,
          20603,
          23073,
          26062,
          28710,
          33190,
          38549,
          42681,
          46638,
          50418,
          54030,
          57521,
          62013,
          66414,
          70065,
          73880,
          75528,
          77635,
          80572
         ]
        },
        {
         "mode": "lines+markers",
         "name": "USA",
         "type": "scatter",
         "x": [
          4,
          4,
          4,
          4,
          4,
          5,
          5,
          5,
          5,
          5,
          5,
          5,
          6,
          6,
          6,
          6,
          6,
          6,
          6,
          7,
          7,
          7,
          7,
          7,
          7,
          7,
          8,
          8,
          8,
          8,
          8,
          8,
          8,
          9,
          9,
          9,
          9,
          9,
          9,
          9,
          10,
          10,
          10,
          10,
          10,
          10,
          10,
          11,
          11,
          11,
          11,
          11,
          11,
          11,
          12,
          12,
          12,
          12,
          12,
          12,
          12,
          13,
          13,
          13,
          13,
          13,
          13,
          13,
          14,
          14,
          14
         ],
         "y": [
          1,
          1,
          2,
          2,
          5,
          5,
          5,
          5,
          5,
          6,
          8,
          8,
          11,
          11,
          12,
          12,
          12,
          12,
          9,
          9,
          10,
          10,
          12,
          12,
          12,
          12,
          12,
          12,
          12,
          12,
          30,
          30,
          30,
          48,
          47,
          53,
          54,
          55,
          62,
          68,
          88,
          107,
          134,
          201,
          256,
          392,
          508,
          575,
          923,
          1237,
          1611,
          2120,
          2660,
          3424,
          4530,
          6296,
          7562,
          13372,
          18710,
          25015,
          33319,
          43115,
          52686,
          64475,
          81946,
          99207,
          118380,
          135754,
          153185,
          177275,
          200141
         ]
        },
        {
         "mode": "lines+markers",
         "name": "Spain",
         "type": "scatter",
         "x": [
          5,
          5,
          6,
          6,
          6,
          6,
          6,
          6,
          6,
          7,
          7,
          7,
          7,
          7,
          7,
          7,
          8,
          8,
          8,
          8,
          8,
          8,
          8,
          9,
          9,
          9,
          9,
          9,
          9,
          9,
          10,
          10,
          10,
          10,
          10,
          10,
          10,
          11,
          11,
          11,
          11,
          11,
          11,
          11,
          12,
          12,
          12,
          12,
          12,
          12,
          12,
          13,
          13,
          13,
          13,
          13,
          13,
          13,
          14,
          14,
          14
         ],
         "y": [
          1,
          1,
          1,
          1,
          1,
          1,
          1,
          1,
          2,
          2,
          2,
          2,
          2,
          2,
          0,
          0,
          0,
          0,
          0,
          0,
          0,
          0,
          0,
          0,
          4,
          11,
          13,
          30,
          43,
          82,
          118,
          162,
          218,
          254,
          393,
          460,
          626,
          1013,
          1628,
          2040,
          2039,
          4906,
          5679,
          6992,
          9070,
          10187,
          12206,
          16026,
          17779,
          21874,
          24722,
          29470,
          33283,
          40501,
          46406,
          51224,
          54968,
          58598,
          63460,
          68200,
          72084
         ]
        }
       ],
       "layout": {
        "font": {
         "family": "Courier New, monospace",
         "size": 18
        },
        "plot_bgcolor": "rgb(250, 242, 242)",
        "template": {
         "data": {
          "bar": [
           {
            "error_x": {
             "color": "#2a3f5f"
            },
            "error_y": {
             "color": "#2a3f5f"
            },
            "marker": {
             "line": {
              "color": "#E5ECF6",
              "width": 0.5
             }
            },
            "type": "bar"
           }
          ],
          "barpolar": [
           {
            "marker": {
             "line": {
              "color": "#E5ECF6",
              "width": 0.5
             }
            },
            "type": "barpolar"
           }
          ],
          "carpet": [
           {
            "aaxis": {
             "endlinecolor": "#2a3f5f",
             "gridcolor": "white",
             "linecolor": "white",
             "minorgridcolor": "white",
             "startlinecolor": "#2a3f5f"
            },
            "baxis": {
             "endlinecolor": "#2a3f5f",
             "gridcolor": "white",
             "linecolor": "white",
             "minorgridcolor": "white",
             "startlinecolor": "#2a3f5f"
            },
            "type": "carpet"
           }
          ],
          "choropleth": [
           {
            "colorbar": {
             "outlinewidth": 0,
             "ticks": ""
            },
            "type": "choropleth"
           }
          ],
          "contour": [
           {
            "colorbar": {
             "outlinewidth": 0,
             "ticks": ""
            },
            "colorscale": [
             [
              0,
              "#0d0887"
             ],
             [
              0.1111111111111111,
              "#46039f"
             ],
             [
              0.2222222222222222,
              "#7201a8"
             ],
             [
              0.3333333333333333,
              "#9c179e"
             ],
             [
              0.4444444444444444,
              "#bd3786"
             ],
             [
              0.5555555555555556,
              "#d8576b"
             ],
             [
              0.6666666666666666,
              "#ed7953"
             ],
             [
              0.7777777777777778,
              "#fb9f3a"
             ],
             [
              0.8888888888888888,
              "#fdca26"
             ],
             [
              1,
              "#f0f921"
             ]
            ],
            "type": "contour"
           }
          ],
          "contourcarpet": [
           {
            "colorbar": {
             "outlinewidth": 0,
             "ticks": ""
            },
            "type": "contourcarpet"
           }
          ],
          "heatmap": [
           {
            "colorbar": {
             "outlinewidth": 0,
             "ticks": ""
            },
            "colorscale": [
             [
              0,
              "#0d0887"
             ],
             [
              0.1111111111111111,
              "#46039f"
             ],
             [
              0.2222222222222222,
              "#7201a8"
             ],
             [
              0.3333333333333333,
              "#9c179e"
             ],
             [
              0.4444444444444444,
              "#bd3786"
             ],
             [
              0.5555555555555556,
              "#d8576b"
             ],
             [
              0.6666666666666666,
              "#ed7953"
             ],
             [
              0.7777777777777778,
              "#fb9f3a"
             ],
             [
              0.8888888888888888,
              "#fdca26"
             ],
             [
              1,
              "#f0f921"
             ]
            ],
            "type": "heatmap"
           }
          ],
          "heatmapgl": [
           {
            "colorbar": {
             "outlinewidth": 0,
             "ticks": ""
            },
            "colorscale": [
             [
              0,
              "#0d0887"
             ],
             [
              0.1111111111111111,
              "#46039f"
             ],
             [
              0.2222222222222222,
              "#7201a8"
             ],
             [
              0.3333333333333333,
              "#9c179e"
             ],
             [
              0.4444444444444444,
              "#bd3786"
             ],
             [
              0.5555555555555556,
              "#d8576b"
             ],
             [
              0.6666666666666666,
              "#ed7953"
             ],
             [
              0.7777777777777778,
              "#fb9f3a"
             ],
             [
              0.8888888888888888,
              "#fdca26"
             ],
             [
              1,
              "#f0f921"
             ]
            ],
            "type": "heatmapgl"
           }
          ],
          "histogram": [
           {
            "marker": {
             "colorbar": {
              "outlinewidth": 0,
              "ticks": ""
             }
            },
            "type": "histogram"
           }
          ],
          "histogram2d": [
           {
            "colorbar": {
             "outlinewidth": 0,
             "ticks": ""
            },
            "colorscale": [
             [
              0,
              "#0d0887"
             ],
             [
              0.1111111111111111,
              "#46039f"
             ],
             [
              0.2222222222222222,
              "#7201a8"
             ],
             [
              0.3333333333333333,
              "#9c179e"
             ],
             [
              0.4444444444444444,
              "#bd3786"
             ],
             [
              0.5555555555555556,
              "#d8576b"
             ],
             [
              0.6666666666666666,
              "#ed7953"
             ],
             [
              0.7777777777777778,
              "#fb9f3a"
             ],
             [
              0.8888888888888888,
              "#fdca26"
             ],
             [
              1,
              "#f0f921"
             ]
            ],
            "type": "histogram2d"
           }
          ],
          "histogram2dcontour": [
           {
            "colorbar": {
             "outlinewidth": 0,
             "ticks": ""
            },
            "colorscale": [
             [
              0,
              "#0d0887"
             ],
             [
              0.1111111111111111,
              "#46039f"
             ],
             [
              0.2222222222222222,
              "#7201a8"
             ],
             [
              0.3333333333333333,
              "#9c179e"
             ],
             [
              0.4444444444444444,
              "#bd3786"
             ],
             [
              0.5555555555555556,
              "#d8576b"
             ],
             [
              0.6666666666666666,
              "#ed7953"
             ],
             [
              0.7777777777777778,
              "#fb9f3a"
             ],
             [
              0.8888888888888888,
              "#fdca26"
             ],
             [
              1,
              "#f0f921"
             ]
            ],
            "type": "histogram2dcontour"
           }
          ],
          "mesh3d": [
           {
            "colorbar": {
             "outlinewidth": 0,
             "ticks": ""
            },
            "type": "mesh3d"
           }
          ],
          "parcoords": [
           {
            "line": {
             "colorbar": {
              "outlinewidth": 0,
              "ticks": ""
             }
            },
            "type": "parcoords"
           }
          ],
          "pie": [
           {
            "automargin": true,
            "type": "pie"
           }
          ],
          "scatter": [
           {
            "marker": {
             "colorbar": {
              "outlinewidth": 0,
              "ticks": ""
             }
            },
            "type": "scatter"
           }
          ],
          "scatter3d": [
           {
            "line": {
             "colorbar": {
              "outlinewidth": 0,
              "ticks": ""
             }
            },
            "marker": {
             "colorbar": {
              "outlinewidth": 0,
              "ticks": ""
             }
            },
            "type": "scatter3d"
           }
          ],
          "scattercarpet": [
           {
            "marker": {
             "colorbar": {
              "outlinewidth": 0,
              "ticks": ""
             }
            },
            "type": "scattercarpet"
           }
          ],
          "scattergeo": [
           {
            "marker": {
             "colorbar": {
              "outlinewidth": 0,
              "ticks": ""
             }
            },
            "type": "scattergeo"
           }
          ],
          "scattergl": [
           {
            "marker": {
             "colorbar": {
              "outlinewidth": 0,
              "ticks": ""
             }
            },
            "type": "scattergl"
           }
          ],
          "scattermapbox": [
           {
            "marker": {
             "colorbar": {
              "outlinewidth": 0,
              "ticks": ""
             }
            },
            "type": "scattermapbox"
           }
          ],
          "scatterpolar": [
           {
            "marker": {
             "colorbar": {
              "outlinewidth": 0,
              "ticks": ""
             }
            },
            "type": "scatterpolar"
           }
          ],
          "scatterpolargl": [
           {
            "marker": {
             "colorbar": {
              "outlinewidth": 0,
              "ticks": ""
             }
            },
            "type": "scatterpolargl"
           }
          ],
          "scatterternary": [
           {
            "marker": {
             "colorbar": {
              "outlinewidth": 0,
              "ticks": ""
             }
            },
            "type": "scatterternary"
           }
          ],
          "surface": [
           {
            "colorbar": {
             "outlinewidth": 0,
             "ticks": ""
            },
            "colorscale": [
             [
              0,
              "#0d0887"
             ],
             [
              0.1111111111111111,
              "#46039f"
             ],
             [
              0.2222222222222222,
              "#7201a8"
             ],
             [
              0.3333333333333333,
              "#9c179e"
             ],
             [
              0.4444444444444444,
              "#bd3786"
             ],
             [
              0.5555555555555556,
              "#d8576b"
             ],
             [
              0.6666666666666666,
              "#ed7953"
             ],
             [
              0.7777777777777778,
              "#fb9f3a"
             ],
             [
              0.8888888888888888,
              "#fdca26"
             ],
             [
              1,
              "#f0f921"
             ]
            ],
            "type": "surface"
           }
          ],
          "table": [
           {
            "cells": {
             "fill": {
              "color": "#EBF0F8"
             },
             "line": {
              "color": "white"
             }
            },
            "header": {
             "fill": {
              "color": "#C8D4E3"
             },
             "line": {
              "color": "white"
             }
            },
            "type": "table"
           }
          ]
         },
         "layout": {
          "annotationdefaults": {
           "arrowcolor": "#2a3f5f",
           "arrowhead": 0,
           "arrowwidth": 1
          },
          "coloraxis": {
           "colorbar": {
            "outlinewidth": 0,
            "ticks": ""
           }
          },
          "colorscale": {
           "diverging": [
            [
             0,
             "#8e0152"
            ],
            [
             0.1,
             "#c51b7d"
            ],
            [
             0.2,
             "#de77ae"
            ],
            [
             0.3,
             "#f1b6da"
            ],
            [
             0.4,
             "#fde0ef"
            ],
            [
             0.5,
             "#f7f7f7"
            ],
            [
             0.6,
             "#e6f5d0"
            ],
            [
             0.7,
             "#b8e186"
            ],
            [
             0.8,
             "#7fbc41"
            ],
            [
             0.9,
             "#4d9221"
            ],
            [
             1,
             "#276419"
            ]
           ],
           "sequential": [
            [
             0,
             "#0d0887"
            ],
            [
             0.1111111111111111,
             "#46039f"
            ],
            [
             0.2222222222222222,
             "#7201a8"
            ],
            [
             0.3333333333333333,
             "#9c179e"
            ],
            [
             0.4444444444444444,
             "#bd3786"
            ],
            [
             0.5555555555555556,
             "#d8576b"
            ],
            [
             0.6666666666666666,
             "#ed7953"
            ],
            [
             0.7777777777777778,
             "#fb9f3a"
            ],
            [
             0.8888888888888888,
             "#fdca26"
            ],
            [
             1,
             "#f0f921"
            ]
           ],
           "sequentialminus": [
            [
             0,
             "#0d0887"
            ],
            [
             0.1111111111111111,
             "#46039f"
            ],
            [
             0.2222222222222222,
             "#7201a8"
            ],
            [
             0.3333333333333333,
             "#9c179e"
            ],
            [
             0.4444444444444444,
             "#bd3786"
            ],
            [
             0.5555555555555556,
             "#d8576b"
            ],
            [
             0.6666666666666666,
             "#ed7953"
            ],
            [
             0.7777777777777778,
             "#fb9f3a"
            ],
            [
             0.8888888888888888,
             "#fdca26"
            ],
            [
             1,
             "#f0f921"
            ]
           ]
          },
          "colorway": [
           "#636efa",
           "#EF553B",
           "#00cc96",
           "#ab63fa",
           "#FFA15A",
           "#19d3f3",
           "#FF6692",
           "#B6E880",
           "#FF97FF",
           "#FECB52"
          ],
          "font": {
           "color": "#2a3f5f"
          },
          "geo": {
           "bgcolor": "white",
           "lakecolor": "white",
           "landcolor": "#E5ECF6",
           "showlakes": true,
           "showland": true,
           "subunitcolor": "white"
          },
          "hoverlabel": {
           "align": "left"
          },
          "hovermode": "closest",
          "mapbox": {
           "style": "light"
          },
          "paper_bgcolor": "white",
          "plot_bgcolor": "#E5ECF6",
          "polar": {
           "angularaxis": {
            "gridcolor": "white",
            "linecolor": "white",
            "ticks": ""
           },
           "bgcolor": "#E5ECF6",
           "radialaxis": {
            "gridcolor": "white",
            "linecolor": "white",
            "ticks": ""
           }
          },
          "scene": {
           "xaxis": {
            "backgroundcolor": "#E5ECF6",
            "gridcolor": "white",
            "gridwidth": 2,
            "linecolor": "white",
            "showbackground": true,
            "ticks": "",
            "zerolinecolor": "white"
           },
           "yaxis": {
            "backgroundcolor": "#E5ECF6",
            "gridcolor": "white",
            "gridwidth": 2,
            "linecolor": "white",
            "showbackground": true,
            "ticks": "",
            "zerolinecolor": "white"
           },
           "zaxis": {
            "backgroundcolor": "#E5ECF6",
            "gridcolor": "white",
            "gridwidth": 2,
            "linecolor": "white",
            "showbackground": true,
            "ticks": "",
            "zerolinecolor": "white"
           }
          },
          "shapedefaults": {
           "line": {
            "color": "#2a3f5f"
           }
          },
          "ternary": {
           "aaxis": {
            "gridcolor": "white",
            "linecolor": "white",
            "ticks": ""
           },
           "baxis": {
            "gridcolor": "white",
            "linecolor": "white",
            "ticks": ""
           },
           "bgcolor": "#E5ECF6",
           "caxis": {
            "gridcolor": "white",
            "linecolor": "white",
            "ticks": ""
           }
          },
          "title": {
           "x": 0.05
          },
          "xaxis": {
           "automargin": true,
           "gridcolor": "white",
           "linecolor": "white",
           "ticks": "",
           "title": {
            "standoff": 15
           },
           "zerolinecolor": "white",
           "zerolinewidth": 2
          },
          "yaxis": {
           "automargin": true,
           "gridcolor": "white",
           "linecolor": "white",
           "ticks": "",
           "title": {
            "standoff": 15
           },
           "zerolinecolor": "white",
           "zerolinewidth": 2
          }
         }
        },
        "title": {
         "text": "Active Cases Across Countries"
        },
        "xaxis": {
         "title": {
          "text": "Number of Weeks"
         }
        },
        "yaxis": {
         "title": {
          "text": "Number of Cases"
         }
        }
       }
      },
      "text/html": [
       "<div>\n",
       "        \n",
       "        \n",
       "            <div id=\"3771246b-7021-4238-8dd5-ceea92a59113\" class=\"plotly-graph-div\" style=\"height:525px; width:100%;\"></div>\n",
       "            <script type=\"text/javascript\">\n",
       "                require([\"plotly\"], function(Plotly) {\n",
       "                    window.PLOTLYENV=window.PLOTLYENV || {};\n",
       "                    \n",
       "                if (document.getElementById(\"3771246b-7021-4238-8dd5-ceea92a59113\")) {\n",
       "                    Plotly.newPlot(\n",
       "                        '3771246b-7021-4238-8dd5-ceea92a59113',\n",
       "                        [{\"mode\": \"lines+markers\", \"name\": \"China\", \"type\": \"scatter\", \"x\": [4, 4, 4, 4, 4, 5, 5, 5, 5, 5, 5, 5, 6, 6, 6, 6, 6, 6, 6, 7, 7, 7, 7, 7, 7, 7, 8, 8, 8, 8, 8, 8, 8, 9, 9, 9, 9, 9, 9, 9, 10, 10, 10, 10, 10, 10, 10, 11, 11, 11, 11, 11, 11, 11, 12, 12, 12, 12, 12, 12, 12, 13, 13, 13, 13, 13, 13, 13, 14, 14, 14], \"y\": [502.0, 591.0, 854.0, 1318.0, 1957.0, 2723.0, 5262.0, 5817.0, 7818.0, 9356.0, 11337.0, 15783.0, 18654.0, 22347.0, 25732.0, 28445.0, 31360.0, 33379.0, 35668.0, 37378.0, 38581.0, 38504.0, 52251.0, 56799.0, 57391.0, 57933.0, 58046.0, 57938.0, 56480.0, 54761.0, 54543.0, 51794.0, 51325.0, 49569.0, 47347.0, 45297.0, 42856.0, 39745.0, 37137.0, 34838.0, 32304.0, 29802.0, 27335.0, 25169.0, 23643.0, 22104.0, 20282.0, 18880.0, 17515.0, 16058.0, 14800.0, 13516.0, 12066.0, 10723.0, 9838.0, 8958.0, 8016.0, 7256.0, 6570.0, 6010.0, 5547.0, 5137.0, 4734.0, 4279.0, 3950.0, 3453.0, 3128.0, 2684.0, 2384.0, 2151.0, 1995.0]}, {\"mode\": \"lines+markers\", \"name\": \"South Korea\", \"type\": \"scatter\", \"x\": [4, 4, 4, 4, 4, 5, 5, 5, 5, 5, 5, 5, 6, 6, 6, 6, 6, 6, 6, 7, 7, 7, 7, 7, 7, 7, 8, 8, 8, 8, 8, 8, 8, 9, 9, 9, 9, 9, 9, 9, 10, 10, 10, 10, 10, 10, 10, 11, 11, 11, 11, 11, 11, 11, 12, 12, 12, 12, 12, 12, 12, 13, 13, 13, 13, 13, 13, 13, 14, 14, 14], \"y\": [1.0, 1.0, 2.0, 2.0, 3.0, 4.0, 4.0, 4.0, 4.0, 11.0, 12.0, 15.0, 15.0, 16.0, 19.0, 23.0, 23.0, 23.0, 22.0, 24.0, 25.0, 21.0, 21.0, 21.0, 19.0, 20.0, 20.0, 19.0, 19.0, 87.0, 186.0, 415.0, 578.0, 807.0, 945.0, 1227.0, 1731.0, 2302.0, 3107.0, 3689.0, 4277.0, 5128.0, 5545.0, 6012.0, 6416.0, 6862.0, 7146.0, 7307.0, 7212.0, 7407.0, 7470.0, 7403.0, 7504.0, 7577.0, 7024.0, 6832.0, 6789.0, 6934.0, 7018.0, 7157.0, 5884.0, 5684.0, 5410.0, 5281.0, 4966.0, 4665.0, 4523.0, 4398.0, 4275.0, 4216.0, 4155.0]}, {\"mode\": \"lines+markers\", \"name\": \"Italy\", \"type\": \"scatter\", \"x\": [5, 5, 5, 6, 6, 6, 6, 6, 6, 6, 7, 7, 7, 7, 7, 7, 7, 8, 8, 8, 8, 8, 8, 8, 9, 9, 9, 9, 9, 9, 9, 10, 10, 10, 10, 10, 10, 10, 11, 11, 11, 11, 11, 11, 11, 12, 12, 12, 12, 12, 12, 12, 13, 13, 13, 13, 13, 13, 13, 14, 14, 14], \"y\": [2.0, 2.0, 2.0, 2.0, 2.0, 2.0, 2.0, 3.0, 3.0, 3.0, 3.0, 3.0, 3.0, 3.0, 3.0, 3.0, 3.0, 3.0, 3.0, 3.0, 3.0, 19.0, 59.0, 150.0, 221.0, 311.0, 438.0, 593.0, 821.0, 1053.0, 1577.0, 1835.0, 2263.0, 2706.0, 3296.0, 3916.0, 5061.0, 6387.0, 7985.0, 8794.0, 10590.0, 10590.0, 14955.0, 17750.0, 20603.0, 23073.0, 26062.0, 28710.0, 33190.0, 38549.0, 42681.0, 46638.0, 50418.0, 54030.0, 57521.0, 62013.0, 66414.0, 70065.0, 73880.0, 75528.0, 77635.0, 80572.0]}, {\"mode\": \"lines+markers\", \"name\": \"USA\", \"type\": \"scatter\", \"x\": [4, 4, 4, 4, 4, 5, 5, 5, 5, 5, 5, 5, 6, 6, 6, 6, 6, 6, 6, 7, 7, 7, 7, 7, 7, 7, 8, 8, 8, 8, 8, 8, 8, 9, 9, 9, 9, 9, 9, 9, 10, 10, 10, 10, 10, 10, 10, 11, 11, 11, 11, 11, 11, 11, 12, 12, 12, 12, 12, 12, 12, 13, 13, 13, 13, 13, 13, 13, 14, 14, 14], \"y\": [1.0, 1.0, 2.0, 2.0, 5.0, 5.0, 5.0, 5.0, 5.0, 6.0, 8.0, 8.0, 11.0, 11.0, 12.0, 12.0, 12.0, 12.0, 9.0, 9.0, 10.0, 10.0, 12.0, 12.0, 12.0, 12.0, 12.0, 12.0, 12.0, 12.0, 30.0, 30.0, 30.0, 48.0, 47.0, 53.0, 54.0, 55.0, 62.0, 68.0, 88.0, 107.0, 134.0, 201.0, 256.0, 392.0, 508.0, 575.0, 923.0, 1237.0, 1611.0, 2120.0, 2660.0, 3424.0, 4530.0, 6296.0, 7562.0, 13372.0, 18710.0, 25015.0, 33319.0, 43115.0, 52686.0, 64475.0, 81946.0, 99207.0, 118380.0, 135754.0, 153185.0, 177275.0, 200141.0]}, {\"mode\": \"lines+markers\", \"name\": \"Spain\", \"type\": \"scatter\", \"x\": [5, 5, 6, 6, 6, 6, 6, 6, 6, 7, 7, 7, 7, 7, 7, 7, 8, 8, 8, 8, 8, 8, 8, 9, 9, 9, 9, 9, 9, 9, 10, 10, 10, 10, 10, 10, 10, 11, 11, 11, 11, 11, 11, 11, 12, 12, 12, 12, 12, 12, 12, 13, 13, 13, 13, 13, 13, 13, 14, 14, 14], \"y\": [1.0, 1.0, 1.0, 1.0, 1.0, 1.0, 1.0, 1.0, 2.0, 2.0, 2.0, 2.0, 2.0, 2.0, 0.0, 0.0, 0.0, 0.0, 0.0, 0.0, 0.0, 0.0, 0.0, 0.0, 4.0, 11.0, 13.0, 30.0, 43.0, 82.0, 118.0, 162.0, 218.0, 254.0, 393.0, 460.0, 626.0, 1013.0, 1628.0, 2040.0, 2039.0, 4906.0, 5679.0, 6992.0, 9070.0, 10187.0, 12206.0, 16026.0, 17779.0, 21874.0, 24722.0, 29470.0, 33283.0, 40501.0, 46406.0, 51224.0, 54968.0, 58598.0, 63460.0, 68200.0, 72084.0]}],\n",
       "                        {\"font\": {\"family\": \"Courier New, monospace\", \"size\": 18}, \"plot_bgcolor\": \"rgb(250, 242, 242)\", \"template\": {\"data\": {\"bar\": [{\"error_x\": {\"color\": \"#2a3f5f\"}, \"error_y\": {\"color\": \"#2a3f5f\"}, \"marker\": {\"line\": {\"color\": \"#E5ECF6\", \"width\": 0.5}}, \"type\": \"bar\"}], \"barpolar\": [{\"marker\": {\"line\": {\"color\": \"#E5ECF6\", \"width\": 0.5}}, \"type\": \"barpolar\"}], \"carpet\": [{\"aaxis\": {\"endlinecolor\": \"#2a3f5f\", \"gridcolor\": \"white\", \"linecolor\": \"white\", \"minorgridcolor\": \"white\", \"startlinecolor\": \"#2a3f5f\"}, \"baxis\": {\"endlinecolor\": \"#2a3f5f\", \"gridcolor\": \"white\", \"linecolor\": \"white\", \"minorgridcolor\": \"white\", \"startlinecolor\": \"#2a3f5f\"}, \"type\": \"carpet\"}], \"choropleth\": [{\"colorbar\": {\"outlinewidth\": 0, \"ticks\": \"\"}, \"type\": \"choropleth\"}], \"contour\": [{\"colorbar\": {\"outlinewidth\": 0, \"ticks\": \"\"}, \"colorscale\": [[0.0, \"#0d0887\"], [0.1111111111111111, \"#46039f\"], [0.2222222222222222, \"#7201a8\"], [0.3333333333333333, \"#9c179e\"], [0.4444444444444444, \"#bd3786\"], [0.5555555555555556, \"#d8576b\"], [0.6666666666666666, \"#ed7953\"], [0.7777777777777778, \"#fb9f3a\"], [0.8888888888888888, \"#fdca26\"], [1.0, \"#f0f921\"]], \"type\": \"contour\"}], \"contourcarpet\": [{\"colorbar\": {\"outlinewidth\": 0, \"ticks\": \"\"}, \"type\": \"contourcarpet\"}], \"heatmap\": [{\"colorbar\": {\"outlinewidth\": 0, \"ticks\": \"\"}, \"colorscale\": [[0.0, \"#0d0887\"], [0.1111111111111111, \"#46039f\"], [0.2222222222222222, \"#7201a8\"], [0.3333333333333333, \"#9c179e\"], [0.4444444444444444, \"#bd3786\"], [0.5555555555555556, \"#d8576b\"], [0.6666666666666666, \"#ed7953\"], [0.7777777777777778, \"#fb9f3a\"], [0.8888888888888888, \"#fdca26\"], [1.0, \"#f0f921\"]], \"type\": \"heatmap\"}], \"heatmapgl\": [{\"colorbar\": {\"outlinewidth\": 0, \"ticks\": \"\"}, \"colorscale\": [[0.0, \"#0d0887\"], [0.1111111111111111, \"#46039f\"], [0.2222222222222222, \"#7201a8\"], [0.3333333333333333, \"#9c179e\"], [0.4444444444444444, \"#bd3786\"], [0.5555555555555556, \"#d8576b\"], [0.6666666666666666, \"#ed7953\"], [0.7777777777777778, \"#fb9f3a\"], [0.8888888888888888, \"#fdca26\"], [1.0, \"#f0f921\"]], \"type\": \"heatmapgl\"}], \"histogram\": [{\"marker\": {\"colorbar\": {\"outlinewidth\": 0, \"ticks\": \"\"}}, \"type\": \"histogram\"}], \"histogram2d\": [{\"colorbar\": {\"outlinewidth\": 0, \"ticks\": \"\"}, \"colorscale\": [[0.0, \"#0d0887\"], [0.1111111111111111, \"#46039f\"], [0.2222222222222222, \"#7201a8\"], [0.3333333333333333, \"#9c179e\"], [0.4444444444444444, \"#bd3786\"], [0.5555555555555556, \"#d8576b\"], [0.6666666666666666, \"#ed7953\"], [0.7777777777777778, \"#fb9f3a\"], [0.8888888888888888, \"#fdca26\"], [1.0, \"#f0f921\"]], \"type\": \"histogram2d\"}], \"histogram2dcontour\": [{\"colorbar\": {\"outlinewidth\": 0, \"ticks\": \"\"}, \"colorscale\": [[0.0, \"#0d0887\"], [0.1111111111111111, \"#46039f\"], [0.2222222222222222, \"#7201a8\"], [0.3333333333333333, \"#9c179e\"], [0.4444444444444444, \"#bd3786\"], [0.5555555555555556, \"#d8576b\"], [0.6666666666666666, \"#ed7953\"], [0.7777777777777778, \"#fb9f3a\"], [0.8888888888888888, \"#fdca26\"], [1.0, \"#f0f921\"]], \"type\": \"histogram2dcontour\"}], \"mesh3d\": [{\"colorbar\": {\"outlinewidth\": 0, \"ticks\": \"\"}, \"type\": \"mesh3d\"}], \"parcoords\": [{\"line\": {\"colorbar\": {\"outlinewidth\": 0, \"ticks\": \"\"}}, \"type\": \"parcoords\"}], \"pie\": [{\"automargin\": true, \"type\": \"pie\"}], \"scatter\": [{\"marker\": {\"colorbar\": {\"outlinewidth\": 0, \"ticks\": \"\"}}, \"type\": \"scatter\"}], \"scatter3d\": [{\"line\": {\"colorbar\": {\"outlinewidth\": 0, \"ticks\": \"\"}}, \"marker\": {\"colorbar\": {\"outlinewidth\": 0, \"ticks\": \"\"}}, \"type\": \"scatter3d\"}], \"scattercarpet\": [{\"marker\": {\"colorbar\": {\"outlinewidth\": 0, \"ticks\": \"\"}}, \"type\": \"scattercarpet\"}], \"scattergeo\": [{\"marker\": {\"colorbar\": {\"outlinewidth\": 0, \"ticks\": \"\"}}, \"type\": \"scattergeo\"}], \"scattergl\": [{\"marker\": {\"colorbar\": {\"outlinewidth\": 0, \"ticks\": \"\"}}, \"type\": \"scattergl\"}], \"scattermapbox\": [{\"marker\": {\"colorbar\": {\"outlinewidth\": 0, \"ticks\": \"\"}}, \"type\": \"scattermapbox\"}], \"scatterpolar\": [{\"marker\": {\"colorbar\": {\"outlinewidth\": 0, \"ticks\": \"\"}}, \"type\": \"scatterpolar\"}], \"scatterpolargl\": [{\"marker\": {\"colorbar\": {\"outlinewidth\": 0, \"ticks\": \"\"}}, \"type\": \"scatterpolargl\"}], \"scatterternary\": [{\"marker\": {\"colorbar\": {\"outlinewidth\": 0, \"ticks\": \"\"}}, \"type\": \"scatterternary\"}], \"surface\": [{\"colorbar\": {\"outlinewidth\": 0, \"ticks\": \"\"}, \"colorscale\": [[0.0, \"#0d0887\"], [0.1111111111111111, \"#46039f\"], [0.2222222222222222, \"#7201a8\"], [0.3333333333333333, \"#9c179e\"], [0.4444444444444444, \"#bd3786\"], [0.5555555555555556, \"#d8576b\"], [0.6666666666666666, \"#ed7953\"], [0.7777777777777778, \"#fb9f3a\"], [0.8888888888888888, \"#fdca26\"], [1.0, \"#f0f921\"]], \"type\": \"surface\"}], \"table\": [{\"cells\": {\"fill\": {\"color\": \"#EBF0F8\"}, \"line\": {\"color\": \"white\"}}, \"header\": {\"fill\": {\"color\": \"#C8D4E3\"}, \"line\": {\"color\": \"white\"}}, \"type\": \"table\"}]}, \"layout\": {\"annotationdefaults\": {\"arrowcolor\": \"#2a3f5f\", \"arrowhead\": 0, \"arrowwidth\": 1}, \"coloraxis\": {\"colorbar\": {\"outlinewidth\": 0, \"ticks\": \"\"}}, \"colorscale\": {\"diverging\": [[0, \"#8e0152\"], [0.1, \"#c51b7d\"], [0.2, \"#de77ae\"], [0.3, \"#f1b6da\"], [0.4, \"#fde0ef\"], [0.5, \"#f7f7f7\"], [0.6, \"#e6f5d0\"], [0.7, \"#b8e186\"], [0.8, \"#7fbc41\"], [0.9, \"#4d9221\"], [1, \"#276419\"]], \"sequential\": [[0.0, \"#0d0887\"], [0.1111111111111111, \"#46039f\"], [0.2222222222222222, \"#7201a8\"], [0.3333333333333333, \"#9c179e\"], [0.4444444444444444, \"#bd3786\"], [0.5555555555555556, \"#d8576b\"], [0.6666666666666666, \"#ed7953\"], [0.7777777777777778, \"#fb9f3a\"], [0.8888888888888888, \"#fdca26\"], [1.0, \"#f0f921\"]], \"sequentialminus\": [[0.0, \"#0d0887\"], [0.1111111111111111, \"#46039f\"], [0.2222222222222222, \"#7201a8\"], [0.3333333333333333, \"#9c179e\"], [0.4444444444444444, \"#bd3786\"], [0.5555555555555556, \"#d8576b\"], [0.6666666666666666, \"#ed7953\"], [0.7777777777777778, \"#fb9f3a\"], [0.8888888888888888, \"#fdca26\"], [1.0, \"#f0f921\"]]}, \"colorway\": [\"#636efa\", \"#EF553B\", \"#00cc96\", \"#ab63fa\", \"#FFA15A\", \"#19d3f3\", \"#FF6692\", \"#B6E880\", \"#FF97FF\", \"#FECB52\"], \"font\": {\"color\": \"#2a3f5f\"}, \"geo\": {\"bgcolor\": \"white\", \"lakecolor\": \"white\", \"landcolor\": \"#E5ECF6\", \"showlakes\": true, \"showland\": true, \"subunitcolor\": \"white\"}, \"hoverlabel\": {\"align\": \"left\"}, \"hovermode\": \"closest\", \"mapbox\": {\"style\": \"light\"}, \"paper_bgcolor\": \"white\", \"plot_bgcolor\": \"#E5ECF6\", \"polar\": {\"angularaxis\": {\"gridcolor\": \"white\", \"linecolor\": \"white\", \"ticks\": \"\"}, \"bgcolor\": \"#E5ECF6\", \"radialaxis\": {\"gridcolor\": \"white\", \"linecolor\": \"white\", \"ticks\": \"\"}}, \"scene\": {\"xaxis\": {\"backgroundcolor\": \"#E5ECF6\", \"gridcolor\": \"white\", \"gridwidth\": 2, \"linecolor\": \"white\", \"showbackground\": true, \"ticks\": \"\", \"zerolinecolor\": \"white\"}, \"yaxis\": {\"backgroundcolor\": \"#E5ECF6\", \"gridcolor\": \"white\", \"gridwidth\": 2, \"linecolor\": \"white\", \"showbackground\": true, \"ticks\": \"\", \"zerolinecolor\": \"white\"}, \"zaxis\": {\"backgroundcolor\": \"#E5ECF6\", \"gridcolor\": \"white\", \"gridwidth\": 2, \"linecolor\": \"white\", \"showbackground\": true, \"ticks\": \"\", \"zerolinecolor\": \"white\"}}, \"shapedefaults\": {\"line\": {\"color\": \"#2a3f5f\"}}, \"ternary\": {\"aaxis\": {\"gridcolor\": \"white\", \"linecolor\": \"white\", \"ticks\": \"\"}, \"baxis\": {\"gridcolor\": \"white\", \"linecolor\": \"white\", \"ticks\": \"\"}, \"bgcolor\": \"#E5ECF6\", \"caxis\": {\"gridcolor\": \"white\", \"linecolor\": \"white\", \"ticks\": \"\"}}, \"title\": {\"x\": 0.05}, \"xaxis\": {\"automargin\": true, \"gridcolor\": \"white\", \"linecolor\": \"white\", \"ticks\": \"\", \"title\": {\"standoff\": 15}, \"zerolinecolor\": \"white\", \"zerolinewidth\": 2}, \"yaxis\": {\"automargin\": true, \"gridcolor\": \"white\", \"linecolor\": \"white\", \"ticks\": \"\", \"title\": {\"standoff\": 15}, \"zerolinecolor\": \"white\", \"zerolinewidth\": 2}}}, \"title\": {\"text\": \"Active Cases Across Countries\"}, \"xaxis\": {\"title\": {\"text\": \"Number of Weeks\"}}, \"yaxis\": {\"title\": {\"text\": \"Number of Cases\"}}},\n",
       "                        {\"responsive\": true}\n",
       "                    ).then(function(){\n",
       "                            \n",
       "var gd = document.getElementById('3771246b-7021-4238-8dd5-ceea92a59113');\n",
       "var x = new MutationObserver(function (mutations, observer) {{\n",
       "        var display = window.getComputedStyle(gd).display;\n",
       "        if (!display || display === 'none') {{\n",
       "            console.log([gd, 'removed!']);\n",
       "            Plotly.purge(gd);\n",
       "            observer.disconnect();\n",
       "        }}\n",
       "}});\n",
       "\n",
       "// Listen for the removal of the full notebook cells\n",
       "var notebookContainer = gd.closest('#notebook-container');\n",
       "if (notebookContainer) {{\n",
       "    x.observe(notebookContainer, {childList: true});\n",
       "}}\n",
       "\n",
       "// Listen for the clearing of the current output cell\n",
       "var outputEl = gd.closest('.output');\n",
       "if (outputEl) {{\n",
       "    x.observe(outputEl, {childList: true});\n",
       "}}\n",
       "\n",
       "                        })\n",
       "                };\n",
       "                });\n",
       "            </script>\n",
       "        </div>"
      ]
     },
     "metadata": {},
     "output_type": "display_data"
    }
   ],
   "source": [
    "import plotly.graph_objs as go\n",
    "fig = go.Figure()\n",
    "fig.add_trace(go.Scatter(x=df_china['week'], y=df_china['Active'],\n",
    "                    mode='lines+markers',name='China'))\n",
    "fig.add_trace(go.Scatter(x=df_sKorea['week'], y=df_sKorea['Active'],\n",
    "                    mode='lines+markers',name='South Korea'))\n",
    "fig.add_trace(go.Scatter(x=df_italy['week'], y=df_italy['Active'],\n",
    "                    mode='lines+markers',name='Italy'))\n",
    "fig.add_trace(go.Scatter(x=df_USA['week'], y=df_USA['Active'],\n",
    "                    mode='lines+markers',name='USA'))\n",
    "fig.add_trace(go.Scatter(x=df_Spain['week'], y=df_Spain['Active'],\n",
    "                    mode='lines+markers',name='Spain'))\n",
    "fig.update_layout(title_text='Active Cases Across Countries',xaxis_title='Number of Weeks',yaxis_title='Number of Cases',plot_bgcolor='rgb(250, 242, 242)', font=dict(\n",
    "        family=\"Courier New, monospace\",\n",
    "        size=18,\n",
    "    ))\n",
    "\n",
    "fig.show()"
   ]
  },
  {
   "cell_type": "code",
   "execution_count": null,
   "metadata": {},
   "outputs": [],
   "source": []
  }
 ],
 "metadata": {
  "kernelspec": {
   "display_name": "Python 3",
   "language": "python",
   "name": "python3"
  },
  "language_info": {
   "codemirror_mode": {
    "name": "ipython",
    "version": 3
   },
   "file_extension": ".py",
   "mimetype": "text/x-python",
   "name": "python",
   "nbconvert_exporter": "python",
   "pygments_lexer": "ipython3",
   "version": "3.7.4"
  }
 },
 "nbformat": 4,
 "nbformat_minor": 2
}
