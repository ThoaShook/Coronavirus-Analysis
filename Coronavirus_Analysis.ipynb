{
 "cells": [
  {
   "cell_type": "markdown",
   "metadata": {},
   "source": [
    "##### Objective:\n",
    "* COVID-19 has profound disruptive effects on the global ecconmy.It reduces number of workers in the workforce,and therefore reduces the global supply of goods. Travel was banned. Schools have been closed. Stock market has been cracked. People are panic. \n",
    "\n",
    "* This study uses datasets from Kaggal, working in hope it can shed light into answer some questions. How it starts; when it happened, who are affected. Which country got worse, which age groups are vulnerable to the disease. Who are suceptible to the disease: men or women?...etc, its trending on China, and other countries such as Italy, South Korea, Spain, and the USA."
   ]
  },
  {
   "cell_type": "markdown",
   "metadata": {},
   "source": [
    "##### Import library packages and upload the files"
   ]
  },
  {
   "cell_type": "code",
   "execution_count": 1,
   "metadata": {},
   "outputs": [],
   "source": [
    "import pandas as pd\n",
    "import numpy as np\n",
    "import matplotlib.pyplot as plt\n",
    "%matplotlib inline\n",
    "import seaborn as sns\n",
    "sns.set(style='darkgrid')"
   ]
  },
  {
   "cell_type": "markdown",
   "metadata": {},
   "source": [
    "##### Upload files + verify columns + clean data"
   ]
  },
  {
   "cell_type": "code",
   "execution_count": 2,
   "metadata": {
    "scrolled": true
   },
   "outputs": [
    {
     "data": {
      "text/html": [
       "<div>\n",
       "<style scoped>\n",
       "    .dataframe tbody tr th:only-of-type {\n",
       "        vertical-align: middle;\n",
       "    }\n",
       "\n",
       "    .dataframe tbody tr th {\n",
       "        vertical-align: top;\n",
       "    }\n",
       "\n",
       "    .dataframe thead th {\n",
       "        text-align: right;\n",
       "    }\n",
       "</style>\n",
       "<table border=\"1\" class=\"dataframe\">\n",
       "  <thead>\n",
       "    <tr style=\"text-align: right;\">\n",
       "      <th></th>\n",
       "      <th>id</th>\n",
       "      <th>case_in_country</th>\n",
       "      <th>reporting date</th>\n",
       "      <th>Unnamed: 3</th>\n",
       "      <th>summary</th>\n",
       "      <th>location</th>\n",
       "      <th>country</th>\n",
       "      <th>gender</th>\n",
       "      <th>age</th>\n",
       "      <th>symptom_onset</th>\n",
       "      <th>...</th>\n",
       "      <th>recovered</th>\n",
       "      <th>symptom</th>\n",
       "      <th>source</th>\n",
       "      <th>link</th>\n",
       "      <th>Unnamed: 21</th>\n",
       "      <th>Unnamed: 22</th>\n",
       "      <th>Unnamed: 23</th>\n",
       "      <th>Unnamed: 24</th>\n",
       "      <th>Unnamed: 25</th>\n",
       "      <th>Unnamed: 26</th>\n",
       "    </tr>\n",
       "  </thead>\n",
       "  <tbody>\n",
       "    <tr>\n",
       "      <td>0</td>\n",
       "      <td>1</td>\n",
       "      <td>NaN</td>\n",
       "      <td>1/20/2020</td>\n",
       "      <td>NaN</td>\n",
       "      <td>First confirmed imported COVID-19 pneumonia pa...</td>\n",
       "      <td>Shenzhen, Guangdong</td>\n",
       "      <td>China</td>\n",
       "      <td>male</td>\n",
       "      <td>66.0</td>\n",
       "      <td>01/03/20</td>\n",
       "      <td>...</td>\n",
       "      <td>0</td>\n",
       "      <td>NaN</td>\n",
       "      <td>Shenzhen Municipal Health Commission</td>\n",
       "      <td>http://wjw.sz.gov.cn/wzx/202001/t20200120_1898...</td>\n",
       "      <td>NaN</td>\n",
       "      <td>NaN</td>\n",
       "      <td>NaN</td>\n",
       "      <td>NaN</td>\n",
       "      <td>NaN</td>\n",
       "      <td>NaN</td>\n",
       "    </tr>\n",
       "    <tr>\n",
       "      <td>1</td>\n",
       "      <td>2</td>\n",
       "      <td>NaN</td>\n",
       "      <td>1/20/2020</td>\n",
       "      <td>NaN</td>\n",
       "      <td>First confirmed imported COVID-19 pneumonia pa...</td>\n",
       "      <td>Shanghai</td>\n",
       "      <td>China</td>\n",
       "      <td>female</td>\n",
       "      <td>56.0</td>\n",
       "      <td>1/15/2020</td>\n",
       "      <td>...</td>\n",
       "      <td>0</td>\n",
       "      <td>NaN</td>\n",
       "      <td>Official Weibo of Shanghai Municipal Health Co...</td>\n",
       "      <td>https://www.weibo.com/2372649470/IqogQhgfa?fro...</td>\n",
       "      <td>NaN</td>\n",
       "      <td>NaN</td>\n",
       "      <td>NaN</td>\n",
       "      <td>NaN</td>\n",
       "      <td>NaN</td>\n",
       "      <td>NaN</td>\n",
       "    </tr>\n",
       "  </tbody>\n",
       "</table>\n",
       "<p>2 rows × 27 columns</p>\n",
       "</div>"
      ],
      "text/plain": [
       "   id  case_in_country reporting date  Unnamed: 3  \\\n",
       "0   1              NaN      1/20/2020         NaN   \n",
       "1   2              NaN      1/20/2020         NaN   \n",
       "\n",
       "                                             summary             location  \\\n",
       "0  First confirmed imported COVID-19 pneumonia pa...  Shenzhen, Guangdong   \n",
       "1  First confirmed imported COVID-19 pneumonia pa...             Shanghai   \n",
       "\n",
       "  country  gender   age symptom_onset  ...  recovered symptom  \\\n",
       "0   China    male  66.0      01/03/20  ...          0     NaN   \n",
       "1   China  female  56.0     1/15/2020  ...          0     NaN   \n",
       "\n",
       "                                              source  \\\n",
       "0               Shenzhen Municipal Health Commission   \n",
       "1  Official Weibo of Shanghai Municipal Health Co...   \n",
       "\n",
       "                                                link  Unnamed: 21  \\\n",
       "0  http://wjw.sz.gov.cn/wzx/202001/t20200120_1898...          NaN   \n",
       "1  https://www.weibo.com/2372649470/IqogQhgfa?fro...          NaN   \n",
       "\n",
       "   Unnamed: 22 Unnamed: 23 Unnamed: 24 Unnamed: 25 Unnamed: 26  \n",
       "0          NaN         NaN         NaN         NaN         NaN  \n",
       "1          NaN         NaN         NaN         NaN         NaN  \n",
       "\n",
       "[2 rows x 27 columns]"
      ]
     },
     "execution_count": 2,
     "metadata": {},
     "output_type": "execute_result"
    }
   ],
   "source": [
    "df = pd.read_csv('COVID19_line_list_data.csv')\n",
    "df.head(2)"
   ]
  },
  {
   "cell_type": "code",
   "execution_count": 3,
   "metadata": {},
   "outputs": [],
   "source": [
    "# Drop meaningless/unneeded columns\n",
    "df.drop(['Unnamed: 3','Unnamed: 21','Unnamed: 22','Unnamed: 23', \n",
    "                 'Unnamed: 24','Unnamed: 25','Unnamed: 26'], axis=1,inplace = True)"
   ]
  },
  {
   "cell_type": "code",
   "execution_count": 4,
   "metadata": {
    "scrolled": true
   },
   "outputs": [
    {
     "data": {
      "text/html": [
       "<div>\n",
       "<style scoped>\n",
       "    .dataframe tbody tr th:only-of-type {\n",
       "        vertical-align: middle;\n",
       "    }\n",
       "\n",
       "    .dataframe tbody tr th {\n",
       "        vertical-align: top;\n",
       "    }\n",
       "\n",
       "    .dataframe thead th {\n",
       "        text-align: right;\n",
       "    }\n",
       "</style>\n",
       "<table border=\"1\" class=\"dataframe\">\n",
       "  <thead>\n",
       "    <tr style=\"text-align: right;\">\n",
       "      <th></th>\n",
       "      <th>id</th>\n",
       "      <th>case_in_country</th>\n",
       "      <th>reporting date</th>\n",
       "      <th>summary</th>\n",
       "      <th>location</th>\n",
       "      <th>country</th>\n",
       "      <th>gender</th>\n",
       "      <th>age</th>\n",
       "      <th>symptom_onset</th>\n",
       "      <th>If_onset_approximated</th>\n",
       "      <th>hosp_visit_date</th>\n",
       "      <th>exposure_start</th>\n",
       "      <th>exposure_end</th>\n",
       "      <th>visiting Wuhan</th>\n",
       "      <th>from Wuhan</th>\n",
       "      <th>death</th>\n",
       "      <th>recovered</th>\n",
       "      <th>symptom</th>\n",
       "      <th>source</th>\n",
       "      <th>link</th>\n",
       "    </tr>\n",
       "  </thead>\n",
       "  <tbody>\n",
       "    <tr>\n",
       "      <td>0</td>\n",
       "      <td>1</td>\n",
       "      <td>NaN</td>\n",
       "      <td>1/20/2020</td>\n",
       "      <td>First confirmed imported COVID-19 pneumonia pa...</td>\n",
       "      <td>Shenzhen, Guangdong</td>\n",
       "      <td>China</td>\n",
       "      <td>male</td>\n",
       "      <td>66.0</td>\n",
       "      <td>01/03/20</td>\n",
       "      <td>0.0</td>\n",
       "      <td>01/11/20</td>\n",
       "      <td>12/29/2019</td>\n",
       "      <td>01/04/20</td>\n",
       "      <td>1</td>\n",
       "      <td>0.0</td>\n",
       "      <td>0</td>\n",
       "      <td>0</td>\n",
       "      <td>NaN</td>\n",
       "      <td>Shenzhen Municipal Health Commission</td>\n",
       "      <td>http://wjw.sz.gov.cn/wzx/202001/t20200120_1898...</td>\n",
       "    </tr>\n",
       "    <tr>\n",
       "      <td>1</td>\n",
       "      <td>2</td>\n",
       "      <td>NaN</td>\n",
       "      <td>1/20/2020</td>\n",
       "      <td>First confirmed imported COVID-19 pneumonia pa...</td>\n",
       "      <td>Shanghai</td>\n",
       "      <td>China</td>\n",
       "      <td>female</td>\n",
       "      <td>56.0</td>\n",
       "      <td>1/15/2020</td>\n",
       "      <td>0.0</td>\n",
       "      <td>1/15/2020</td>\n",
       "      <td>NaN</td>\n",
       "      <td>01/12/20</td>\n",
       "      <td>0</td>\n",
       "      <td>1.0</td>\n",
       "      <td>0</td>\n",
       "      <td>0</td>\n",
       "      <td>NaN</td>\n",
       "      <td>Official Weibo of Shanghai Municipal Health Co...</td>\n",
       "      <td>https://www.weibo.com/2372649470/IqogQhgfa?fro...</td>\n",
       "    </tr>\n",
       "  </tbody>\n",
       "</table>\n",
       "</div>"
      ],
      "text/plain": [
       "   id  case_in_country reporting date  \\\n",
       "0   1              NaN      1/20/2020   \n",
       "1   2              NaN      1/20/2020   \n",
       "\n",
       "                                             summary             location  \\\n",
       "0  First confirmed imported COVID-19 pneumonia pa...  Shenzhen, Guangdong   \n",
       "1  First confirmed imported COVID-19 pneumonia pa...             Shanghai   \n",
       "\n",
       "  country  gender   age symptom_onset  If_onset_approximated hosp_visit_date  \\\n",
       "0   China    male  66.0      01/03/20                    0.0        01/11/20   \n",
       "1   China  female  56.0     1/15/2020                    0.0       1/15/2020   \n",
       "\n",
       "  exposure_start exposure_end  visiting Wuhan  from Wuhan death recovered  \\\n",
       "0     12/29/2019     01/04/20               1         0.0     0         0   \n",
       "1            NaN     01/12/20               0         1.0     0         0   \n",
       "\n",
       "  symptom                                             source  \\\n",
       "0     NaN               Shenzhen Municipal Health Commission   \n",
       "1     NaN  Official Weibo of Shanghai Municipal Health Co...   \n",
       "\n",
       "                                                link  \n",
       "0  http://wjw.sz.gov.cn/wzx/202001/t20200120_1898...  \n",
       "1  https://www.weibo.com/2372649470/IqogQhgfa?fro...  "
      ]
     },
     "execution_count": 4,
     "metadata": {},
     "output_type": "execute_result"
    }
   ],
   "source": [
    "df.head(2)"
   ]
  },
  {
   "cell_type": "code",
   "execution_count": 5,
   "metadata": {},
   "outputs": [
    {
     "data": {
      "text/html": [
       "<div>\n",
       "<style scoped>\n",
       "    .dataframe tbody tr th:only-of-type {\n",
       "        vertical-align: middle;\n",
       "    }\n",
       "\n",
       "    .dataframe tbody tr th {\n",
       "        vertical-align: top;\n",
       "    }\n",
       "\n",
       "    .dataframe thead th {\n",
       "        text-align: right;\n",
       "    }\n",
       "</style>\n",
       "<table border=\"1\" class=\"dataframe\">\n",
       "  <thead>\n",
       "    <tr style=\"text-align: right;\">\n",
       "      <th></th>\n",
       "      <th>id</th>\n",
       "      <th>case_in_country</th>\n",
       "      <th>reporting date</th>\n",
       "      <th>summary</th>\n",
       "      <th>location</th>\n",
       "      <th>country</th>\n",
       "      <th>gender</th>\n",
       "      <th>age</th>\n",
       "      <th>symptom_onset</th>\n",
       "      <th>If_onset_approximated</th>\n",
       "      <th>hosp_visit_date</th>\n",
       "      <th>exposure_start</th>\n",
       "      <th>exposure_end</th>\n",
       "      <th>visiting Wuhan</th>\n",
       "      <th>from Wuhan</th>\n",
       "      <th>death</th>\n",
       "      <th>recovered</th>\n",
       "      <th>symptom</th>\n",
       "      <th>source</th>\n",
       "      <th>link</th>\n",
       "    </tr>\n",
       "  </thead>\n",
       "  <tbody>\n",
       "    <tr>\n",
       "      <td>241</td>\n",
       "      <td>242</td>\n",
       "      <td>6.0</td>\n",
       "      <td>1/28/2020</td>\n",
       "      <td>new confirmed COVID-19 patient in Japan: 1/28-...</td>\n",
       "      <td>Nara Prefecture</td>\n",
       "      <td>Japan</td>\n",
       "      <td>male</td>\n",
       "      <td>65.0</td>\n",
       "      <td>1/14/2020</td>\n",
       "      <td>0.0</td>\n",
       "      <td>1/17/2020</td>\n",
       "      <td>01/08/20</td>\n",
       "      <td>1/16/2020</td>\n",
       "      <td>0</td>\n",
       "      <td>0.0</td>\n",
       "      <td>0</td>\n",
       "      <td>0</td>\n",
       "      <td>cough, chills, joint pain</td>\n",
       "      <td>Kyodo News</td>\n",
       "      <td>https://english.kyodonews.net/news/2020/01/e8f...</td>\n",
       "    </tr>\n",
       "    <tr>\n",
       "      <td>243</td>\n",
       "      <td>244</td>\n",
       "      <td>8.0</td>\n",
       "      <td>1/29/2020</td>\n",
       "      <td>new confirmed COVID-19 patient in Japan: femal...</td>\n",
       "      <td>Osaka Prefecture</td>\n",
       "      <td>Japan</td>\n",
       "      <td>female</td>\n",
       "      <td>45.0</td>\n",
       "      <td>1/20/2020</td>\n",
       "      <td>0.0</td>\n",
       "      <td>1/20/2020</td>\n",
       "      <td>01/12/20</td>\n",
       "      <td>1/17/2020</td>\n",
       "      <td>0</td>\n",
       "      <td>0.0</td>\n",
       "      <td>0</td>\n",
       "      <td>0</td>\n",
       "      <td>fever, cough</td>\n",
       "      <td>NHK World-Japan</td>\n",
       "      <td>https://www3.nhk.or.jp/nhkworld/en/news/202001...</td>\n",
       "    </tr>\n",
       "  </tbody>\n",
       "</table>\n",
       "</div>"
      ],
      "text/plain": [
       "      id  case_in_country reporting date  \\\n",
       "241  242              6.0      1/28/2020   \n",
       "243  244              8.0      1/29/2020   \n",
       "\n",
       "                                               summary          location  \\\n",
       "241  new confirmed COVID-19 patient in Japan: 1/28-...   Nara Prefecture   \n",
       "243  new confirmed COVID-19 patient in Japan: femal...  Osaka Prefecture   \n",
       "\n",
       "    country  gender   age symptom_onset  If_onset_approximated  \\\n",
       "241   Japan    male  65.0     1/14/2020                    0.0   \n",
       "243   Japan  female  45.0     1/20/2020                    0.0   \n",
       "\n",
       "    hosp_visit_date exposure_start exposure_end  visiting Wuhan  from Wuhan  \\\n",
       "241       1/17/2020       01/08/20    1/16/2020               0         0.0   \n",
       "243       1/20/2020       01/12/20    1/17/2020               0         0.0   \n",
       "\n",
       "    death recovered                    symptom           source  \\\n",
       "241     0         0  cough, chills, joint pain       Kyodo News   \n",
       "243     0         0               fever, cough  NHK World-Japan   \n",
       "\n",
       "                                                  link  \n",
       "241  https://english.kyodonews.net/news/2020/01/e8f...  \n",
       "243  https://www3.nhk.or.jp/nhkworld/en/news/202001...  "
      ]
     },
     "execution_count": 5,
     "metadata": {},
     "output_type": "execute_result"
    }
   ],
   "source": [
    "df.dropna().head(2)"
   ]
  },
  {
   "cell_type": "code",
   "execution_count": 6,
   "metadata": {
    "scrolled": true
   },
   "outputs": [
    {
     "data": {
      "text/plain": [
       "Text(0.5, 1.0, 'Age Distribution')"
      ]
     },
     "execution_count": 6,
     "metadata": {},
     "output_type": "execute_result"
    },
    {
     "data": {
      "image/png": "[encoded data removed]",
      "text/plain": [
       "<Figure size 432x288 with 1 Axes>"
      ]
     },
     "metadata": {
      "needs_background": "light"
     },
     "output_type": "display_data"
    }
   ],
   "source": [
    "# Plot age distribution in patients with coronavirus\n",
    "df['age'].hist(bins=100)\n",
    "plt.xlabel('Age')\n",
    "plt.ylabel('Counts')\n",
    "plt.title('Age Distribution')"
   ]
  },
  {
   "cell_type": "code",
   "execution_count": 7,
   "metadata": {
    "scrolled": true
   },
   "outputs": [
    {
     "name": "stdout",
     "output_type": "stream",
     "text": [
      " The average age of patients with Coronavirus is 49 years old\n",
      " The youngest  patients with Coronavirus is 0 years old\n",
      " The oldest patients with Coronavirus is 96 years old\n"
     ]
    }
   ],
   "source": [
    "print(f\" The average age of patients with Coronavirus is {round(df['age'].mean())} years old\")\n",
    "print(f\" The youngest  patients with Coronavirus is {round(df['age'].min())} years old\")\n",
    "print(f\" The oldest patients with Coronavirus is {round(df['age'].max())} years old\")"
   ]
  },
  {
   "cell_type": "markdown",
   "metadata": {},
   "source": [
    "##### Keys Takeaway:\n",
    "* The average age of patients with Coronavirus is 49 years old.\n",
    "\n",
    "* The youngest patient(s) with Coronavirus are infant(s) - o years old\n",
    "\n",
    "* The oldest patient(s) are 96 years old"
   ]
  },
  {
   "cell_type": "code",
   "execution_count": 8,
   "metadata": {},
   "outputs": [
    {
     "data": {
      "text/plain": [
       "Text(0.5, 1.0, 'Gender Distribution')"
      ]
     },
     "execution_count": 8,
     "metadata": {},
     "output_type": "execute_result"
    },
    {
     "data": {
      "image/png": "[encoded data removed]",
      "text/plain": [
       "<Figure size 432x288 with 1 Axes>"
      ]
     },
     "metadata": {
      "needs_background": "light"
     },
     "output_type": "display_data"
    }
   ],
   "source": [
    "# plot gender distribution between gender\n",
    "df['gender'].value_counts().plot(kind='bar')\n",
    "plt.xlabel('Gender')\n",
    "plt.ylabel('Counts')\n",
    "plt.title('Gender Distribution')"
   ]
  },
  {
   "cell_type": "markdown",
   "metadata": {},
   "source": [
    "##### Note: Men are succeptible to virus than female"
   ]
  },
  {
   "cell_type": "code",
   "execution_count": 9,
   "metadata": {},
   "outputs": [
    {
     "data": {
      "image/png": "[encoded data removed]",
      "text/plain": [
       "<Figure size 720x432 with 1 Axes>"
      ]
     },
     "metadata": {
      "needs_background": "light"
     },
     "output_type": "display_data"
    }
   ],
   "source": [
    "from os import path\n",
    "import matplotlib.pyplot as plt\n",
    "from wordcloud import WordCloud\n",
    "\n",
    "text = df['symptom'].value_counts() \n",
    "plt.figure(figsize=(10,6))\n",
    "wordcloud=WordCloud(background_color='black',mode=\"RGB\", width=600 , height=300).generate(str(text))\n",
    "plt.title(\"Coronavirus Symptom\")\n",
    "plt.imshow(wordcloud)\n",
    "plt.axis(\"off\")\n",
    "plt.show()"
   ]
  },
  {
   "cell_type": "markdown",
   "metadata": {},
   "source": [
    "##### Coronavirus Symptom:\n",
    "    * Cough\n",
    "    * Fever\n",
    "    * Sore throat\n",
    "    * Vomiting\n",
    "    * Diarrhea\n",
    "    * Chills\n",
    "    * Fatigue\n",
    "    * Sputum\n",
    "    * Myalgias Muscle\n",
    "    * Pain"
   ]
  },
  {
   "cell_type": "code",
   "execution_count": 10,
   "metadata": {},
   "outputs": [
    {
     "data": {
      "image/png": "[encoded data removed]",
      "text/plain": [
       "<Figure size 720x576 with 1 Axes>"
      ]
     },
     "metadata": {
      "needs_background": "light"
     },
     "output_type": "display_data"
    }
   ],
   "source": [
    "# Plot number of Coronavirus cases vs Countries\n",
    "fig = plt.figure(figsize=(10,8))\n",
    "df['country'].value_counts().sort_values().plot.barh(color='midnightblue')\n",
    "\n",
    "plt.title('Coronavirus Cases Ranked by Country')\n",
    "plt.xlabel('Number of Coronavirus Cases')\n",
    "plt.ylabel('country')\n",
    "plt.show()"
   ]
  },
  {
   "cell_type": "code",
   "execution_count": 11,
   "metadata": {
    "scrolled": false
   },
   "outputs": [
    {
     "data": {
      "text/html": [
       "<div>\n",
       "<style scoped>\n",
       "    .dataframe tbody tr th:only-of-type {\n",
       "        vertical-align: middle;\n",
       "    }\n",
       "\n",
       "    .dataframe tbody tr th {\n",
       "        vertical-align: top;\n",
       "    }\n",
       "\n",
       "    .dataframe thead th {\n",
       "        text-align: right;\n",
       "    }\n",
       "</style>\n",
       "<table border=\"1\" class=\"dataframe\">\n",
       "  <thead>\n",
       "    <tr style=\"text-align: right;\">\n",
       "      <th></th>\n",
       "      <th>ID</th>\n",
       "      <th>age</th>\n",
       "      <th>sex</th>\n",
       "      <th>city</th>\n",
       "      <th>province</th>\n",
       "      <th>country</th>\n",
       "      <th>wuhan(0)_not_wuhan(1)</th>\n",
       "      <th>latitude</th>\n",
       "      <th>longitude</th>\n",
       "      <th>geo_resolution</th>\n",
       "      <th>...</th>\n",
       "      <th>Unnamed: 35</th>\n",
       "      <th>Unnamed: 36</th>\n",
       "      <th>Unnamed: 37</th>\n",
       "      <th>Unnamed: 38</th>\n",
       "      <th>Unnamed: 39</th>\n",
       "      <th>Unnamed: 40</th>\n",
       "      <th>Unnamed: 41</th>\n",
       "      <th>Unnamed: 42</th>\n",
       "      <th>Unnamed: 43</th>\n",
       "      <th>Unnamed: 44</th>\n",
       "    </tr>\n",
       "  </thead>\n",
       "  <tbody>\n",
       "    <tr>\n",
       "      <td>0</td>\n",
       "      <td>1.0</td>\n",
       "      <td>30</td>\n",
       "      <td>male</td>\n",
       "      <td>Chaohu City, Hefei City</td>\n",
       "      <td>Anhui</td>\n",
       "      <td>China</td>\n",
       "      <td>1.0</td>\n",
       "      <td>31.64696</td>\n",
       "      <td>117.7166</td>\n",
       "      <td>admin3</td>\n",
       "      <td>...</td>\n",
       "      <td>NaN</td>\n",
       "      <td>NaN</td>\n",
       "      <td>NaN</td>\n",
       "      <td>NaN</td>\n",
       "      <td>NaN</td>\n",
       "      <td>NaN</td>\n",
       "      <td>NaN</td>\n",
       "      <td>NaN</td>\n",
       "      <td>NaN</td>\n",
       "      <td>NaN</td>\n",
       "    </tr>\n",
       "    <tr>\n",
       "      <td>1</td>\n",
       "      <td>2.0</td>\n",
       "      <td>47</td>\n",
       "      <td>male</td>\n",
       "      <td>Baohe District, Hefei City</td>\n",
       "      <td>Anhui</td>\n",
       "      <td>China</td>\n",
       "      <td>1.0</td>\n",
       "      <td>31.77863</td>\n",
       "      <td>117.3319</td>\n",
       "      <td>admin3</td>\n",
       "      <td>...</td>\n",
       "      <td>NaN</td>\n",
       "      <td>NaN</td>\n",
       "      <td>NaN</td>\n",
       "      <td>NaN</td>\n",
       "      <td>NaN</td>\n",
       "      <td>NaN</td>\n",
       "      <td>NaN</td>\n",
       "      <td>NaN</td>\n",
       "      <td>NaN</td>\n",
       "      <td>NaN</td>\n",
       "    </tr>\n",
       "  </tbody>\n",
       "</table>\n",
       "<p>2 rows × 45 columns</p>\n",
       "</div>"
      ],
      "text/plain": [
       "    ID age   sex                        city province country  \\\n",
       "0  1.0  30  male     Chaohu City, Hefei City    Anhui   China   \n",
       "1  2.0  47  male  Baohe District, Hefei City    Anhui   China   \n",
       "\n",
       "   wuhan(0)_not_wuhan(1)  latitude  longitude geo_resolution  ... Unnamed: 35  \\\n",
       "0                    1.0  31.64696   117.7166         admin3  ...         NaN   \n",
       "1                    1.0  31.77863   117.3319         admin3  ...         NaN   \n",
       "\n",
       "  Unnamed: 36 Unnamed: 37 Unnamed: 38 Unnamed: 39 Unnamed: 40 Unnamed: 41  \\\n",
       "0         NaN         NaN         NaN         NaN         NaN         NaN   \n",
       "1         NaN         NaN         NaN         NaN         NaN         NaN   \n",
       "\n",
       "  Unnamed: 42 Unnamed: 43  Unnamed: 44  \n",
       "0         NaN         NaN          NaN  \n",
       "1         NaN         NaN          NaN  \n",
       "\n",
       "[2 rows x 45 columns]"
      ]
     },
     "execution_count": 11,
     "metadata": {},
     "output_type": "execute_result"
    }
   ],
   "source": [
    "df1 = pd.read_csv('COVID19_open_line_list.csv')\n",
    "df1.head(2)"
   ]
  },
  {
   "cell_type": "code",
   "execution_count": 12,
   "metadata": {},
   "outputs": [],
   "source": [
    "df1.drop(['data_moderator_initials','Unnamed: 33','Unnamed: 34','Unnamed: 35','Unnamed: 36','Unnamed: 37','Unnamed: 38', \n",
    "                 'Unnamed: 39','Unnamed: 40','Unnamed: 41',\n",
    "         'Unnamed: 42','Unnamed: 43','Unnamed: 44'], axis=1,inplace = True)"
   ]
  },
  {
   "cell_type": "code",
   "execution_count": 13,
   "metadata": {},
   "outputs": [
    {
     "data": {
      "text/html": [
       "<div>\n",
       "<style scoped>\n",
       "    .dataframe tbody tr th:only-of-type {\n",
       "        vertical-align: middle;\n",
       "    }\n",
       "\n",
       "    .dataframe tbody tr th {\n",
       "        vertical-align: top;\n",
       "    }\n",
       "\n",
       "    .dataframe thead th {\n",
       "        text-align: right;\n",
       "    }\n",
       "</style>\n",
       "<table border=\"1\" class=\"dataframe\">\n",
       "  <thead>\n",
       "    <tr style=\"text-align: right;\">\n",
       "      <th></th>\n",
       "      <th>ID</th>\n",
       "      <th>age</th>\n",
       "      <th>sex</th>\n",
       "      <th>city</th>\n",
       "      <th>province</th>\n",
       "      <th>country</th>\n",
       "      <th>wuhan(0)_not_wuhan(1)</th>\n",
       "      <th>latitude</th>\n",
       "      <th>longitude</th>\n",
       "      <th>geo_resolution</th>\n",
       "      <th>...</th>\n",
       "      <th>sequence_available</th>\n",
       "      <th>outcome</th>\n",
       "      <th>date_death_or_discharge</th>\n",
       "      <th>notes_for_discussion</th>\n",
       "      <th>location</th>\n",
       "      <th>admin3</th>\n",
       "      <th>admin2</th>\n",
       "      <th>admin1</th>\n",
       "      <th>country_new</th>\n",
       "      <th>admin_id</th>\n",
       "    </tr>\n",
       "  </thead>\n",
       "  <tbody>\n",
       "    <tr>\n",
       "      <td>0</td>\n",
       "      <td>1.0</td>\n",
       "      <td>30</td>\n",
       "      <td>male</td>\n",
       "      <td>Chaohu City, Hefei City</td>\n",
       "      <td>Anhui</td>\n",
       "      <td>China</td>\n",
       "      <td>1.0</td>\n",
       "      <td>31.64696</td>\n",
       "      <td>117.7166</td>\n",
       "      <td>admin3</td>\n",
       "      <td>...</td>\n",
       "      <td>NaN</td>\n",
       "      <td>NaN</td>\n",
       "      <td>NaN</td>\n",
       "      <td>NaN</td>\n",
       "      <td>NaN</td>\n",
       "      <td>Chaohu City</td>\n",
       "      <td>Hefei City</td>\n",
       "      <td>Anhui</td>\n",
       "      <td>China</td>\n",
       "      <td>340181</td>\n",
       "    </tr>\n",
       "    <tr>\n",
       "      <td>1</td>\n",
       "      <td>2.0</td>\n",
       "      <td>47</td>\n",
       "      <td>male</td>\n",
       "      <td>Baohe District, Hefei City</td>\n",
       "      <td>Anhui</td>\n",
       "      <td>China</td>\n",
       "      <td>1.0</td>\n",
       "      <td>31.77863</td>\n",
       "      <td>117.3319</td>\n",
       "      <td>admin3</td>\n",
       "      <td>...</td>\n",
       "      <td>NaN</td>\n",
       "      <td>NaN</td>\n",
       "      <td>NaN</td>\n",
       "      <td>NaN</td>\n",
       "      <td>NaN</td>\n",
       "      <td>Baohe District</td>\n",
       "      <td>Hefei City</td>\n",
       "      <td>Anhui</td>\n",
       "      <td>China</td>\n",
       "      <td>340111</td>\n",
       "    </tr>\n",
       "  </tbody>\n",
       "</table>\n",
       "<p>2 rows × 32 columns</p>\n",
       "</div>"
      ],
      "text/plain": [
       "    ID age   sex                        city province country  \\\n",
       "0  1.0  30  male     Chaohu City, Hefei City    Anhui   China   \n",
       "1  2.0  47  male  Baohe District, Hefei City    Anhui   China   \n",
       "\n",
       "   wuhan(0)_not_wuhan(1)  latitude  longitude geo_resolution  ...  \\\n",
       "0                    1.0  31.64696   117.7166         admin3  ...   \n",
       "1                    1.0  31.77863   117.3319         admin3  ...   \n",
       "\n",
       "  sequence_available outcome date_death_or_discharge notes_for_discussion  \\\n",
       "0                NaN     NaN                     NaN                  NaN   \n",
       "1                NaN     NaN                     NaN                  NaN   \n",
       "\n",
       "  location          admin3      admin2 admin1 country_new  admin_id  \n",
       "0      NaN     Chaohu City  Hefei City  Anhui       China    340181  \n",
       "1      NaN  Baohe District  Hefei City  Anhui       China    340111  \n",
       "\n",
       "[2 rows x 32 columns]"
      ]
     },
     "execution_count": 13,
     "metadata": {},
     "output_type": "execute_result"
    }
   ],
   "source": [
    "df1.head(2)"
   ]
  },
  {
   "cell_type": "code",
   "execution_count": 14,
   "metadata": {},
   "outputs": [
    {
     "data": {
      "text/html": [
       "<div>\n",
       "<style scoped>\n",
       "    .dataframe tbody tr th:only-of-type {\n",
       "        vertical-align: middle;\n",
       "    }\n",
       "\n",
       "    .dataframe tbody tr th {\n",
       "        vertical-align: top;\n",
       "    }\n",
       "\n",
       "    .dataframe thead th {\n",
       "        text-align: right;\n",
       "    }\n",
       "</style>\n",
       "<table border=\"1\" class=\"dataframe\">\n",
       "  <thead>\n",
       "    <tr style=\"text-align: right;\">\n",
       "      <th></th>\n",
       "      <th>SNo</th>\n",
       "      <th>ObservationDate</th>\n",
       "      <th>Province/State</th>\n",
       "      <th>Country/Region</th>\n",
       "      <th>Last Update</th>\n",
       "      <th>Confirmed</th>\n",
       "      <th>Deaths</th>\n",
       "      <th>Recovered</th>\n",
       "    </tr>\n",
       "  </thead>\n",
       "  <tbody>\n",
       "    <tr>\n",
       "      <td>0</td>\n",
       "      <td>1</td>\n",
       "      <td>01/22/2020</td>\n",
       "      <td>Anhui</td>\n",
       "      <td>Mainland China</td>\n",
       "      <td>1/22/2020 17:00</td>\n",
       "      <td>1.0</td>\n",
       "      <td>0.0</td>\n",
       "      <td>0.0</td>\n",
       "    </tr>\n",
       "    <tr>\n",
       "      <td>1</td>\n",
       "      <td>2</td>\n",
       "      <td>01/22/2020</td>\n",
       "      <td>Beijing</td>\n",
       "      <td>Mainland China</td>\n",
       "      <td>1/22/2020 17:00</td>\n",
       "      <td>14.0</td>\n",
       "      <td>0.0</td>\n",
       "      <td>0.0</td>\n",
       "    </tr>\n",
       "  </tbody>\n",
       "</table>\n",
       "</div>"
      ],
      "text/plain": [
       "   SNo ObservationDate Province/State  Country/Region      Last Update  \\\n",
       "0    1      01/22/2020          Anhui  Mainland China  1/22/2020 17:00   \n",
       "1    2      01/22/2020        Beijing  Mainland China  1/22/2020 17:00   \n",
       "\n",
       "   Confirmed  Deaths  Recovered  \n",
       "0        1.0     0.0        0.0  \n",
       "1       14.0     0.0        0.0  "
      ]
     },
     "execution_count": 14,
     "metadata": {},
     "output_type": "execute_result"
    }
   ],
   "source": [
    "df2 = pd.read_csv('covid_19_data.csv')\n",
    "df2.head(2)"
   ]
  },
  {
   "cell_type": "code",
   "execution_count": 15,
   "metadata": {
    "scrolled": true
   },
   "outputs": [
    {
     "data": {
      "text/html": [
       "<div>\n",
       "<style scoped>\n",
       "    .dataframe tbody tr th:only-of-type {\n",
       "        vertical-align: middle;\n",
       "    }\n",
       "\n",
       "    .dataframe tbody tr th {\n",
       "        vertical-align: top;\n",
       "    }\n",
       "\n",
       "    .dataframe thead th {\n",
       "        text-align: right;\n",
       "    }\n",
       "</style>\n",
       "<table border=\"1\" class=\"dataframe\">\n",
       "  <thead>\n",
       "    <tr style=\"text-align: right;\">\n",
       "      <th></th>\n",
       "      <th>SNo</th>\n",
       "      <th>ObservationDate</th>\n",
       "      <th>Province/State</th>\n",
       "      <th>Country/Region</th>\n",
       "      <th>Last Update</th>\n",
       "      <th>Confirmed</th>\n",
       "      <th>Deaths</th>\n",
       "      <th>Recovered</th>\n",
       "      <th>Active</th>\n",
       "    </tr>\n",
       "  </thead>\n",
       "  <tbody>\n",
       "    <tr>\n",
       "      <td>0</td>\n",
       "      <td>1</td>\n",
       "      <td>01/22/2020</td>\n",
       "      <td>Anhui</td>\n",
       "      <td>Mainland China</td>\n",
       "      <td>1/22/2020 17:00</td>\n",
       "      <td>1.0</td>\n",
       "      <td>0.0</td>\n",
       "      <td>0.0</td>\n",
       "      <td>1.0</td>\n",
       "    </tr>\n",
       "    <tr>\n",
       "      <td>1</td>\n",
       "      <td>2</td>\n",
       "      <td>01/22/2020</td>\n",
       "      <td>Beijing</td>\n",
       "      <td>Mainland China</td>\n",
       "      <td>1/22/2020 17:00</td>\n",
       "      <td>14.0</td>\n",
       "      <td>0.0</td>\n",
       "      <td>0.0</td>\n",
       "      <td>14.0</td>\n",
       "    </tr>\n",
       "  </tbody>\n",
       "</table>\n",
       "</div>"
      ],
      "text/plain": [
       "   SNo ObservationDate Province/State  Country/Region      Last Update  \\\n",
       "0    1      01/22/2020          Anhui  Mainland China  1/22/2020 17:00   \n",
       "1    2      01/22/2020        Beijing  Mainland China  1/22/2020 17:00   \n",
       "\n",
       "   Confirmed  Deaths  Recovered  Active  \n",
       "0        1.0     0.0        0.0     1.0  \n",
       "1       14.0     0.0        0.0    14.0  "
      ]
     },
     "execution_count": 15,
     "metadata": {},
     "output_type": "execute_result"
    }
   ],
   "source": [
    "### Create 'Active' column by subtract 'Deaths' and 'Recovered' from 'Confirmed'\n",
    "df2['Active'] = df2['Confirmed'] - df2['Deaths'] - df2['Recovered']\n",
    "df2.head(2)"
   ]
  },
  {
   "cell_type": "markdown",
   "metadata": {},
   "source": [
    "#### Look for a Trend in various situations: Confirmed, Deaths, Recovered, ActiveCases"
   ]
  },
  {
   "cell_type": "code",
   "execution_count": 16,
   "metadata": {},
   "outputs": [
    {
     "name": "stdout",
     "output_type": "stream",
     "text": [
      "Number of records for China are (1649, 9)\n",
      "Grouped by Observation Date\n"
     ]
    },
    {
     "data": {
      "text/html": [
       "<div>\n",
       "<style scoped>\n",
       "    .dataframe tbody tr th:only-of-type {\n",
       "        vertical-align: middle;\n",
       "    }\n",
       "\n",
       "    .dataframe tbody tr th {\n",
       "        vertical-align: top;\n",
       "    }\n",
       "\n",
       "    .dataframe thead th {\n",
       "        text-align: right;\n",
       "    }\n",
       "</style>\n",
       "<table border=\"1\" class=\"dataframe\">\n",
       "  <thead>\n",
       "    <tr style=\"text-align: right;\">\n",
       "      <th></th>\n",
       "      <th>ObservationDate</th>\n",
       "      <th>SNo</th>\n",
       "      <th>Confirmed</th>\n",
       "      <th>Deaths</th>\n",
       "      <th>Recovered</th>\n",
       "      <th>Active</th>\n",
       "    </tr>\n",
       "  </thead>\n",
       "  <tbody>\n",
       "    <tr>\n",
       "      <td>0</td>\n",
       "      <td>01/22/2020</td>\n",
       "      <td>535</td>\n",
       "      <td>547.0</td>\n",
       "      <td>17.0</td>\n",
       "      <td>28.0</td>\n",
       "      <td>502.0</td>\n",
       "    </tr>\n",
       "    <tr>\n",
       "      <td>1</td>\n",
       "      <td>01/23/2020</td>\n",
       "      <td>1713</td>\n",
       "      <td>639.0</td>\n",
       "      <td>18.0</td>\n",
       "      <td>30.0</td>\n",
       "      <td>591.0</td>\n",
       "    </tr>\n",
       "    <tr>\n",
       "      <td>2</td>\n",
       "      <td>01/24/2020</td>\n",
       "      <td>3004</td>\n",
       "      <td>916.0</td>\n",
       "      <td>26.0</td>\n",
       "      <td>36.0</td>\n",
       "      <td>854.0</td>\n",
       "    </tr>\n",
       "    <tr>\n",
       "      <td>3</td>\n",
       "      <td>01/25/2020</td>\n",
       "      <td>4224</td>\n",
       "      <td>1399.0</td>\n",
       "      <td>42.0</td>\n",
       "      <td>39.0</td>\n",
       "      <td>1318.0</td>\n",
       "    </tr>\n",
       "    <tr>\n",
       "      <td>4</td>\n",
       "      <td>01/26/2020</td>\n",
       "      <td>5548</td>\n",
       "      <td>2062.0</td>\n",
       "      <td>56.0</td>\n",
       "      <td>49.0</td>\n",
       "      <td>1957.0</td>\n",
       "    </tr>\n",
       "  </tbody>\n",
       "</table>\n",
       "</div>"
      ],
      "text/plain": [
       "  ObservationDate   SNo  Confirmed  Deaths  Recovered  Active\n",
       "0      01/22/2020   535      547.0    17.0       28.0   502.0\n",
       "1      01/23/2020  1713      639.0    18.0       30.0   591.0\n",
       "2      01/24/2020  3004      916.0    26.0       36.0   854.0\n",
       "3      01/25/2020  4224     1399.0    42.0       39.0  1318.0\n",
       "4      01/26/2020  5548     2062.0    56.0       49.0  1957.0"
      ]
     },
     "execution_count": 16,
     "metadata": {},
     "output_type": "execute_result"
    }
   ],
   "source": [
    "df_china = df2[df2['Country/Region'] == 'Mainland China']\n",
    "print(f\"Number of records for China are {df_china.shape}\")\n",
    "df_china = df_china.groupby(['ObservationDate']).sum().reset_index()\n",
    "print(f\"Grouped by Observation Date\")\n",
    "df_china.head()"
   ]
  },
  {
   "cell_type": "code",
   "execution_count": 17,
   "metadata": {},
   "outputs": [
    {
     "data": {
      "image/png": "[encoded data removed]",
      "text/plain": [
       "<Figure size 432x288 with 1 Axes>"
      ]
     },
     "metadata": {
      "needs_background": "light"
     },
     "output_type": "display_data"
    }
   ],
   "source": [
    "df_china.plot(kind='line',x='ObservationDate',\n",
    "              y=['Confirmed','Deaths','Recovered','Active'],\n",
    "              color = ['blue','black','green','red'])\n",
    "\n",
    "plt.title('Coronavirus Trend in China')\n",
    "plt.ylabel('Number of Observations')\n",
    "plt.show()"
   ]
  },
  {
   "cell_type": "code",
   "execution_count": 40,
   "metadata": {
    "scrolled": true
   },
   "outputs": [
    {
     "name": "stdout",
     "output_type": "stream",
     "text": [
      "In China, since 03/05/20, Active Cases and Recovery Percentage is 22.82%, 73.32% respectively and Death Rate is 3.86%.\n"
     ]
    }
   ],
   "source": [
    "# Calculating Death, Active, and Recovery Percentage for China\n",
    "df_china = df_china[df_china['ObservationDate']>= '03/05/2020']\n",
    "active_percentage = round((df_china['Active'].sum())/(df_china['Confirmed'].sum())* 100,2)\n",
    "recovery_percentage = round((df_china['Recovered'].sum())/(df_china['Confirmed'].sum())* 100,2)\n",
    "death_percentage = round((df_china['Deaths'].sum())/(df_china['Confirmed'].sum())* 100,2)\n",
    "print(f\"In China, since 03/05/20, Active Cases and Recovery Percentage is {active_percentage}%, {recovery_percentage}% respectively and Death Rate is {death_percentage}%.\")"
   ]
  },
  {
   "cell_type": "markdown",
   "metadata": {},
   "source": [
    "##### Keys Takeaway:\n",
    "*  Number of confirmed cases continues to grow sharply from 01/22/20 to the end for Feburary.It then starts    level off the first week of March\n",
    "*  Number of Deaths are steadily increasing from 1/22/20 - 3/14/20. It continues increading even when the confirmed cases are stablized. It can be inferred that the previous confirmed cases were not be able to recovered.\n",
    "*  The recovery rate in the first 10 days is zero.But after that it increase sharply, and continue to grow. China did very well in fighting the virus\n",
    "*  Active cases went down sharply from 2/21 - 3/05/20.This is very easy to explain. Since the confirmed cases are stable, the recovery rate is increase sharply; therefore active cases drop dramatically.\n",
    "* China did very good job in handling the pandemic. Since the first week of March, confirmed cases are stablized, recovered rate are shot up, active cases drop sharply. The other countries should learn the ways China handles the crisis."
   ]
  },
  {
   "cell_type": "code",
   "execution_count": 53,
   "metadata": {},
   "outputs": [
    {
     "name": "stdout",
     "output_type": "stream",
     "text": [
      "Number of records for South Korea are (53, 9)\n",
      "Grouped by Observation Date\n"
     ]
    },
    {
     "data": {
      "text/html": [
       "<div>\n",
       "<style scoped>\n",
       "    .dataframe tbody tr th:only-of-type {\n",
       "        vertical-align: middle;\n",
       "    }\n",
       "\n",
       "    .dataframe tbody tr th {\n",
       "        vertical-align: top;\n",
       "    }\n",
       "\n",
       "    .dataframe thead th {\n",
       "        text-align: right;\n",
       "    }\n",
       "</style>\n",
       "<table border=\"1\" class=\"dataframe\">\n",
       "  <thead>\n",
       "    <tr style=\"text-align: right;\">\n",
       "      <th></th>\n",
       "      <th>ObservationDate</th>\n",
       "      <th>SNo</th>\n",
       "      <th>Confirmed</th>\n",
       "      <th>Deaths</th>\n",
       "      <th>Recovered</th>\n",
       "      <th>Active</th>\n",
       "    </tr>\n",
       "  </thead>\n",
       "  <tbody>\n",
       "    <tr>\n",
       "      <td>0</td>\n",
       "      <td>01/22/2020</td>\n",
       "      <td>38</td>\n",
       "      <td>1.0</td>\n",
       "      <td>0.0</td>\n",
       "      <td>0.0</td>\n",
       "      <td>1.0</td>\n",
       "    </tr>\n",
       "    <tr>\n",
       "      <td>1</td>\n",
       "      <td>01/23/2020</td>\n",
       "      <td>76</td>\n",
       "      <td>1.0</td>\n",
       "      <td>0.0</td>\n",
       "      <td>0.0</td>\n",
       "      <td>1.0</td>\n",
       "    </tr>\n",
       "    <tr>\n",
       "      <td>2</td>\n",
       "      <td>01/24/2020</td>\n",
       "      <td>122</td>\n",
       "      <td>2.0</td>\n",
       "      <td>0.0</td>\n",
       "      <td>0.0</td>\n",
       "      <td>2.0</td>\n",
       "    </tr>\n",
       "    <tr>\n",
       "      <td>3</td>\n",
       "      <td>01/25/2020</td>\n",
       "      <td>163</td>\n",
       "      <td>2.0</td>\n",
       "      <td>0.0</td>\n",
       "      <td>0.0</td>\n",
       "      <td>2.0</td>\n",
       "    </tr>\n",
       "    <tr>\n",
       "      <td>4</td>\n",
       "      <td>01/26/2020</td>\n",
       "      <td>209</td>\n",
       "      <td>3.0</td>\n",
       "      <td>0.0</td>\n",
       "      <td>0.0</td>\n",
       "      <td>3.0</td>\n",
       "    </tr>\n",
       "  </tbody>\n",
       "</table>\n",
       "</div>"
      ],
      "text/plain": [
       "  ObservationDate  SNo  Confirmed  Deaths  Recovered  Active\n",
       "0      01/22/2020   38        1.0     0.0        0.0     1.0\n",
       "1      01/23/2020   76        1.0     0.0        0.0     1.0\n",
       "2      01/24/2020  122        2.0     0.0        0.0     2.0\n",
       "3      01/25/2020  163        2.0     0.0        0.0     2.0\n",
       "4      01/26/2020  209        3.0     0.0        0.0     3.0"
      ]
     },
     "execution_count": 53,
     "metadata": {},
     "output_type": "execute_result"
    }
   ],
   "source": [
    "df_sKorea = df2[df2['Country/Region'] == 'South Korea']\n",
    "print(f\"Number of records for South Korea are {df_sKorea.shape}\")\n",
    "df_sKorea = df_sKorea.groupby(['ObservationDate']).sum().reset_index()\n",
    "#df_italy['Week'] = pd.to_datetime(df_italy['ObservationDate'],errors = 'coerce').dt.week\n",
    "print(f\"Grouped by Observation Date\")\n",
    "df_sKorea.head()"
   ]
  },
  {
   "cell_type": "code",
   "execution_count": 54,
   "metadata": {},
   "outputs": [
    {
     "data": {
      "image/png": "[encoded data removed]",
      "text/plain": [
       "<Figure size 432x288 with 1 Axes>"
      ]
     },
     "metadata": {
      "needs_background": "light"
     },
     "output_type": "display_data"
    }
   ],
   "source": [
    "df_sKorea.plot(kind='line',x='ObservationDate',\n",
    "              y=['Confirmed','Deaths','Recovered','Active'],\n",
    "              color = ['blue','black','green','red'])\n",
    "plt.title('Coronavirus - Trend in South Korea')\n",
    "plt.ylabel('Number of Observations')\n",
    "plt.show()"
   ]
  },
  {
   "cell_type": "code",
   "execution_count": 55,
   "metadata": {},
   "outputs": [
    {
     "name": "stdout",
     "output_type": "stream",
     "text": [
      "In South Korea Active Cases and Recovery Percentage is 96.58%, 2.72% respectively and Death Rate is 0.7%.\n"
     ]
    }
   ],
   "source": [
    "# Calculating Death, Active, and Recovery Percentage in South Korea\n",
    "df_sKorea = df_sKorea[df_sKorea['ObservationDate']>= '01/31/2020']\n",
    "active_percentage = round((df_sKorea['Active'].sum())/(df_sKorea['Confirmed'].sum())* 100,2)\n",
    "recovery_percentage = round((df_sKorea['Recovered'].sum())/(df_sKorea['Confirmed'].sum())* 100,2)\n",
    "death_percentage = round((df_sKorea['Deaths'].sum())/(df_sKorea['Confirmed'].sum())* 100,2)\n",
    "print(f\"In South Korea Active Cases and Recovery Percentage is {active_percentage}%, {recovery_percentage}% respectively and Death Rate is {death_percentage}%.\")"
   ]
  },
  {
   "cell_type": "markdown",
   "metadata": {},
   "source": [
    "##### Keys Takeaway:\n",
    "* There is a sudden surge in confirmed and active cases starts on 2/21/20 in South Korea\n",
    "* The confirmed and active cases are almost identical\n",
    "* However, death and recovered rate are flat - zero\n",
    "* Death rate is 0.7 % compares to 3.8"
   ]
  },
  {
   "cell_type": "code",
   "execution_count": 35,
   "metadata": {},
   "outputs": [
    {
     "name": "stdout",
     "output_type": "stream",
     "text": [
      "Number of records for Italy are (44, 9)\n",
      "Grouped by Observation Date\n"
     ]
    },
    {
     "data": {
      "text/html": [
       "<div>\n",
       "<style scoped>\n",
       "    .dataframe tbody tr th:only-of-type {\n",
       "        vertical-align: middle;\n",
       "    }\n",
       "\n",
       "    .dataframe tbody tr th {\n",
       "        vertical-align: top;\n",
       "    }\n",
       "\n",
       "    .dataframe thead th {\n",
       "        text-align: right;\n",
       "    }\n",
       "</style>\n",
       "<table border=\"1\" class=\"dataframe\">\n",
       "  <thead>\n",
       "    <tr style=\"text-align: right;\">\n",
       "      <th></th>\n",
       "      <th>ObservationDate</th>\n",
       "      <th>SNo</th>\n",
       "      <th>Confirmed</th>\n",
       "      <th>Deaths</th>\n",
       "      <th>Recovered</th>\n",
       "      <th>Active</th>\n",
       "    </tr>\n",
       "  </thead>\n",
       "  <tbody>\n",
       "    <tr>\n",
       "      <td>0</td>\n",
       "      <td>01/31/2020</td>\n",
       "      <td>481</td>\n",
       "      <td>2.0</td>\n",
       "      <td>0.0</td>\n",
       "      <td>0.0</td>\n",
       "      <td>2.0</td>\n",
       "    </tr>\n",
       "    <tr>\n",
       "      <td>1</td>\n",
       "      <td>02/01/2020</td>\n",
       "      <td>540</td>\n",
       "      <td>2.0</td>\n",
       "      <td>0.0</td>\n",
       "      <td>0.0</td>\n",
       "      <td>2.0</td>\n",
       "    </tr>\n",
       "    <tr>\n",
       "      <td>2</td>\n",
       "      <td>02/02/2020</td>\n",
       "      <td>609</td>\n",
       "      <td>2.0</td>\n",
       "      <td>0.0</td>\n",
       "      <td>0.0</td>\n",
       "      <td>2.0</td>\n",
       "    </tr>\n",
       "    <tr>\n",
       "      <td>3</td>\n",
       "      <td>02/03/2020</td>\n",
       "      <td>676</td>\n",
       "      <td>2.0</td>\n",
       "      <td>0.0</td>\n",
       "      <td>0.0</td>\n",
       "      <td>2.0</td>\n",
       "    </tr>\n",
       "    <tr>\n",
       "      <td>4</td>\n",
       "      <td>02/04/2020</td>\n",
       "      <td>744</td>\n",
       "      <td>2.0</td>\n",
       "      <td>0.0</td>\n",
       "      <td>0.0</td>\n",
       "      <td>2.0</td>\n",
       "    </tr>\n",
       "  </tbody>\n",
       "</table>\n",
       "</div>"
      ],
      "text/plain": [
       "  ObservationDate  SNo  Confirmed  Deaths  Recovered  Active\n",
       "0      01/31/2020  481        2.0     0.0        0.0     2.0\n",
       "1      02/01/2020  540        2.0     0.0        0.0     2.0\n",
       "2      02/02/2020  609        2.0     0.0        0.0     2.0\n",
       "3      02/03/2020  676        2.0     0.0        0.0     2.0\n",
       "4      02/04/2020  744        2.0     0.0        0.0     2.0"
      ]
     },
     "execution_count": 35,
     "metadata": {},
     "output_type": "execute_result"
    }
   ],
   "source": [
    "df_italy = df2[df2['Country/Region'] == 'Italy']\n",
    "print(f\"Number of records for Italy are {df_italy.shape}\")\n",
    "df_italy = df_italy.groupby(['ObservationDate']).sum().reset_index()\n",
    "#df_italy['Week'] = pd.to_datetime(df_italy['ObservationDate'],errors = 'coerce').dt.week\n",
    "print(f\"Grouped by Observation Date\")\n",
    "df_italy.head()"
   ]
  },
  {
   "cell_type": "code",
   "execution_count": 36,
   "metadata": {},
   "outputs": [
    {
     "data": {
      "image/png": "[encoded data removed]",
      "text/plain": [
       "<Figure size 432x288 with 1 Axes>"
      ]
     },
     "metadata": {
      "needs_background": "light"
     },
     "output_type": "display_data"
    }
   ],
   "source": [
    "df_italy.plot(kind='line',x='ObservationDate',\n",
    "              y=['Confirmed','Deaths','Recovered','Active'],\n",
    "              color = ['blue','black','green','red'])\n",
    "plt.title('Coronavirus - Trend in Italy')\n",
    "plt.ylabel('Number of Observations')\n",
    "plt.show()"
   ]
  },
  {
   "cell_type": "code",
   "execution_count": 56,
   "metadata": {},
   "outputs": [
    {
     "name": "stdout",
     "output_type": "stream",
     "text": [
      "In Italy, Active Cases and Recovery Percentage is 85.22%, 8.67% respectively and Death Rate is 6.11%.\n"
     ]
    }
   ],
   "source": [
    "# Calculating Death, Active, and Recovery Percentage in Italy\n",
    "df_italy = df_italy[df_italy['ObservationDate']>= '01/31/2020']\n",
    "active_percentage = round((df_italy['Active'].sum())/(df_italy['Confirmed'].sum())* 100,2)\n",
    "recovery_percentage = round((df_italy['Recovered'].sum())/(df_italy['Confirmed'].sum())* 100,2)\n",
    "death_percentage = round((df_italy['Deaths'].sum())/(df_italy['Confirmed'].sum())* 100,2)\n",
    "print(f\"In Italy, Active Cases and Recovery Percentage is {active_percentage}%, {recovery_percentage}% respectively and Death Rate is {death_percentage}%.\")"
   ]
  },
  {
   "cell_type": "markdown",
   "metadata": {},
   "source": [
    "##### Keys Takeaway:\n",
    "* In Italy,there isn't any report cases from 1/31/20 to 2/15/20\n",
    "* There is a sudden surge for all status: confirmed,active deatth and recovery cases\n",
    "* Death rate and recovery rate are almost identical: 6.11% & 8.67% respectively. An alarming rate !\n",
    "* Trending is different than China"
   ]
  },
  {
   "cell_type": "code",
   "execution_count": 46,
   "metadata": {},
   "outputs": [
    {
     "name": "stdout",
     "output_type": "stream",
     "text": [
      "Number of records for USA are (1162, 9)\n",
      "Grouped by Observation Date\n"
     ]
    },
    {
     "data": {
      "text/html": [
       "<div>\n",
       "<style scoped>\n",
       "    .dataframe tbody tr th:only-of-type {\n",
       "        vertical-align: middle;\n",
       "    }\n",
       "\n",
       "    .dataframe tbody tr th {\n",
       "        vertical-align: top;\n",
       "    }\n",
       "\n",
       "    .dataframe thead th {\n",
       "        text-align: right;\n",
       "    }\n",
       "</style>\n",
       "<table border=\"1\" class=\"dataframe\">\n",
       "  <thead>\n",
       "    <tr style=\"text-align: right;\">\n",
       "      <th></th>\n",
       "      <th>ObservationDate</th>\n",
       "      <th>SNo</th>\n",
       "      <th>Confirmed</th>\n",
       "      <th>Deaths</th>\n",
       "      <th>Recovered</th>\n",
       "      <th>Active</th>\n",
       "    </tr>\n",
       "  </thead>\n",
       "  <tbody>\n",
       "    <tr>\n",
       "      <td>0</td>\n",
       "      <td>01/22/2020</td>\n",
       "      <td>32</td>\n",
       "      <td>1.0</td>\n",
       "      <td>0.0</td>\n",
       "      <td>0.0</td>\n",
       "      <td>1.0</td>\n",
       "    </tr>\n",
       "    <tr>\n",
       "      <td>1</td>\n",
       "      <td>01/23/2020</td>\n",
       "      <td>70</td>\n",
       "      <td>1.0</td>\n",
       "      <td>0.0</td>\n",
       "      <td>0.0</td>\n",
       "      <td>1.0</td>\n",
       "    </tr>\n",
       "    <tr>\n",
       "      <td>2</td>\n",
       "      <td>01/24/2020</td>\n",
       "      <td>237</td>\n",
       "      <td>2.0</td>\n",
       "      <td>0.0</td>\n",
       "      <td>0.0</td>\n",
       "      <td>2.0</td>\n",
       "    </tr>\n",
       "    <tr>\n",
       "      <td>3</td>\n",
       "      <td>01/25/2020</td>\n",
       "      <td>319</td>\n",
       "      <td>2.0</td>\n",
       "      <td>0.0</td>\n",
       "      <td>0.0</td>\n",
       "      <td>2.0</td>\n",
       "    </tr>\n",
       "    <tr>\n",
       "      <td>4</td>\n",
       "      <td>01/26/2020</td>\n",
       "      <td>818</td>\n",
       "      <td>5.0</td>\n",
       "      <td>0.0</td>\n",
       "      <td>0.0</td>\n",
       "      <td>5.0</td>\n",
       "    </tr>\n",
       "  </tbody>\n",
       "</table>\n",
       "</div>"
      ],
      "text/plain": [
       "  ObservationDate  SNo  Confirmed  Deaths  Recovered  Active\n",
       "0      01/22/2020   32        1.0     0.0        0.0     1.0\n",
       "1      01/23/2020   70        1.0     0.0        0.0     1.0\n",
       "2      01/24/2020  237        2.0     0.0        0.0     2.0\n",
       "3      01/25/2020  319        2.0     0.0        0.0     2.0\n",
       "4      01/26/2020  818        5.0     0.0        0.0     5.0"
      ]
     },
     "execution_count": 46,
     "metadata": {},
     "output_type": "execute_result"
    }
   ],
   "source": [
    "df_USA = df2[df2['Country/Region'] == 'US']\n",
    "print(f\"Number of records for USA are {df_USA.shape}\")\n",
    "df_USA = df_USA.groupby(['ObservationDate']).sum().reset_index()\n",
    "print(f\"Grouped by Observation Date\")\n",
    "\n",
    "df_USA.head()"
   ]
  },
  {
   "cell_type": "code",
   "execution_count": 47,
   "metadata": {},
   "outputs": [
    {
     "data": {
      "image/png": "[encoded data removed]",
      "text/plain": [
       "<Figure size 432x288 with 1 Axes>"
      ]
     },
     "metadata": {
      "needs_background": "light"
     },
     "output_type": "display_data"
    }
   ],
   "source": [
    "df_USA.plot(kind='line',x='ObservationDate',\n",
    "              y=['Confirmed','Deaths','Recovered','Active'],\n",
    "              color = ['blue','black','green','red'])\n",
    "plt.title('Coronavirus - Trend in USA')\n",
    "plt.ylabel('Number of Observations')\n",
    "plt.show()"
   ]
  },
  {
   "cell_type": "code",
   "execution_count": 48,
   "metadata": {},
   "outputs": [
    {
     "name": "stdout",
     "output_type": "stream",
     "text": [
      "In the USA, since 02/21/20, Active Cases and Recovery Percentage is 95.62%, 1.74% respectively and Death Rate is 2.63%.\n"
     ]
    }
   ],
   "source": [
    "# Calculating Death, Active, and Recovery Percentage in the USA\n",
    "df_USA = df_USA[df_USA['ObservationDate']>= '01/31/2020']\n",
    "active_percentage = round((df_USA['Active'].sum())/(df_USA['Confirmed'].sum())* 100,2)\n",
    "recovery_percentage = round((df_USA['Recovered'].sum())/(df_USA['Confirmed'].sum())* 100,2)\n",
    "death_percentage = round((df_USA['Deaths'].sum())/(df_USA['Confirmed'].sum())* 100,2)\n",
    "print(f\"In the USA, since 02/21/20, Active Cases and Recovery Percentage is {active_percentage}%, {recovery_percentage}% respectively and Death Rate is {death_percentage}%.\")"
   ]
  },
  {
   "cell_type": "markdown",
   "metadata": {},
   "source": [
    "##### Keys Takeaway:\n",
    "* There aren't any report about the outbreak until 2/21/20\n",
    "* There is a huge surge in confirmed cases and active cases starting at the beginning of March\n",
    "* Confirmed and active cases are almost identical\n",
    "* There is a subtle increase in death rate compare to recovered rate on 3/12/20\n",
    "* Actice cases are huge, recovered less than deaths. USA must do something to control the situation"
   ]
  },
  {
   "cell_type": "code",
   "execution_count": 50,
   "metadata": {},
   "outputs": [
    {
     "name": "stdout",
     "output_type": "stream",
     "text": [
      "Number of records in Spain are (43, 9)\n",
      "Grouped by Observation Date\n"
     ]
    },
    {
     "data": {
      "text/html": [
       "<div>\n",
       "<style scoped>\n",
       "    .dataframe tbody tr th:only-of-type {\n",
       "        vertical-align: middle;\n",
       "    }\n",
       "\n",
       "    .dataframe tbody tr th {\n",
       "        vertical-align: top;\n",
       "    }\n",
       "\n",
       "    .dataframe thead th {\n",
       "        text-align: right;\n",
       "    }\n",
       "</style>\n",
       "<table border=\"1\" class=\"dataframe\">\n",
       "  <thead>\n",
       "    <tr style=\"text-align: right;\">\n",
       "      <th></th>\n",
       "      <th>ObservationDate</th>\n",
       "      <th>SNo</th>\n",
       "      <th>Confirmed</th>\n",
       "      <th>Deaths</th>\n",
       "      <th>Recovered</th>\n",
       "      <th>Active</th>\n",
       "    </tr>\n",
       "  </thead>\n",
       "  <tbody>\n",
       "    <tr>\n",
       "      <td>0</td>\n",
       "      <td>02/01/2020</td>\n",
       "      <td>552</td>\n",
       "      <td>1.0</td>\n",
       "      <td>0.0</td>\n",
       "      <td>0.0</td>\n",
       "      <td>1.0</td>\n",
       "    </tr>\n",
       "    <tr>\n",
       "      <td>1</td>\n",
       "      <td>02/02/2020</td>\n",
       "      <td>619</td>\n",
       "      <td>1.0</td>\n",
       "      <td>0.0</td>\n",
       "      <td>0.0</td>\n",
       "      <td>1.0</td>\n",
       "    </tr>\n",
       "    <tr>\n",
       "      <td>2</td>\n",
       "      <td>02/03/2020</td>\n",
       "      <td>688</td>\n",
       "      <td>1.0</td>\n",
       "      <td>0.0</td>\n",
       "      <td>0.0</td>\n",
       "      <td>1.0</td>\n",
       "    </tr>\n",
       "    <tr>\n",
       "      <td>3</td>\n",
       "      <td>02/04/2020</td>\n",
       "      <td>758</td>\n",
       "      <td>1.0</td>\n",
       "      <td>0.0</td>\n",
       "      <td>0.0</td>\n",
       "      <td>1.0</td>\n",
       "    </tr>\n",
       "    <tr>\n",
       "      <td>4</td>\n",
       "      <td>02/05/2020</td>\n",
       "      <td>828</td>\n",
       "      <td>1.0</td>\n",
       "      <td>0.0</td>\n",
       "      <td>0.0</td>\n",
       "      <td>1.0</td>\n",
       "    </tr>\n",
       "  </tbody>\n",
       "</table>\n",
       "</div>"
      ],
      "text/plain": [
       "  ObservationDate  SNo  Confirmed  Deaths  Recovered  Active\n",
       "0      02/01/2020  552        1.0     0.0        0.0     1.0\n",
       "1      02/02/2020  619        1.0     0.0        0.0     1.0\n",
       "2      02/03/2020  688        1.0     0.0        0.0     1.0\n",
       "3      02/04/2020  758        1.0     0.0        0.0     1.0\n",
       "4      02/05/2020  828        1.0     0.0        0.0     1.0"
      ]
     },
     "execution_count": 50,
     "metadata": {},
     "output_type": "execute_result"
    }
   ],
   "source": [
    "df_Spain = df2[df2['Country/Region'] == 'Spain']\n",
    "print(f\"Number of records in Spain are {df_Spain.shape}\")\n",
    "df_Spain = df_Spain.groupby(['ObservationDate']).sum().reset_index()\n",
    "#df_italy['Week'] = pd.to_datetime(df_italy['ObservationDate'],errors = 'coerce').dt.week\n",
    "print(f\"Grouped by Observation Date\")\n",
    "df_Spain.head()"
   ]
  },
  {
   "cell_type": "code",
   "execution_count": 52,
   "metadata": {},
   "outputs": [
    {
     "data": {
      "image/png": "[encoded data removed]",
      "text/plain": [
       "<Figure size 432x288 with 1 Axes>"
      ]
     },
     "metadata": {
      "needs_background": "light"
     },
     "output_type": "display_data"
    }
   ],
   "source": [
    "df_Spain.plot(kind='line',x='ObservationDate',\n",
    "              y=['Confirmed','Deaths','Recovered','Active'],\n",
    "              color = ['blue','black','green','red'])\n",
    "plt.title('Coronavirus - Trend in Spain')\n",
    "plt.ylabel('Number of Observations')\n",
    "plt.show()"
   ]
  },
  {
   "cell_type": "code",
   "execution_count": 51,
   "metadata": {},
   "outputs": [
    {
     "name": "stdout",
     "output_type": "stream",
     "text": [
      "In Spain, since 02/21/20, Active Cases and Recovery Percentage is 91.73%, 5.77% respectively and Death Rate is 2.5%.\n"
     ]
    }
   ],
   "source": [
    "# Calculating Death, Active, and Recovery Percentage in the Spain\n",
    "df_Spain = df_Spain[df_Spain['ObservationDate']>= '01/31/2020']\n",
    "active_percentage = round((df_Spain['Active'].sum())/(df_Spain['Confirmed'].sum())* 100,2)\n",
    "recovery_percentage = round((df_Spain['Recovered'].sum())/(df_Spain['Confirmed'].sum())* 100,2)\n",
    "death_percentage = round((df_Spain['Deaths'].sum())/(df_Spain['Confirmed'].sum())* 100,2)\n",
    "print(f\"In Spain, since 02/21/20, Active Cases and Recovery Percentage is {active_percentage}%, {recovery_percentage}% respectively and Death Rate is {death_percentage}%.\")"
   ]
  },
  {
   "cell_type": "markdown",
   "metadata": {},
   "source": [
    "##### Keys Takeaway:\n",
    "* There is a straight up surge in confirmed and active cases in Spain beginging on 3/12/20\n",
    "* Confirmed cases and active cases are almost the same, meaning much less recovered cases\n",
    "* Deaths rate and recovered rate both increase at the beginning of the second week in March"
   ]
  },
  {
   "cell_type": "code",
   "execution_count": null,
   "metadata": {},
   "outputs": [],
   "source": [
    "df3 = pd.read_csv('time_series_covid_19_confirmed.csv')\n",
    "df3.head(2)"
   ]
  },
  {
   "cell_type": "code",
   "execution_count": null,
   "metadata": {},
   "outputs": [],
   "source": [
    "df4 = pd.read_csv('time_series_covid_19_deaths.csv')\n",
    "df4.head(2)"
   ]
  },
  {
   "cell_type": "code",
   "execution_count": null,
   "metadata": {},
   "outputs": [],
   "source": [
    "df5 = pd.read_csv('time_series_covid_19_recovered.csv')\n",
    "df5.head(2)"
   ]
  },
  {
   "cell_type": "code",
   "execution_count": null,
   "metadata": {},
   "outputs": [],
   "source": []
  }
 ],
 "metadata": {
  "kernelspec": {
   "display_name": "Python 3",
   "language": "python",
   "name": "python3"
  },
  "language_info": {
   "codemirror_mode": {
    "name": "ipython",
    "version": 3
   },
   "file_extension": ".py",
   "mimetype": "text/x-python",
   "name": "python",
   "nbconvert_exporter": "python",
   "pygments_lexer": "ipython3",
   "version": "3.7.4"
  }
 },
 "nbformat": 4,
 "nbformat_minor": 2
}
