{
 "cells": [
  {
   "cell_type": "markdown",
   "metadata": {},
   "source": [
    "##### Objective:\n",
    "* COVID-19 has profound disruptive effects on the global ecconmy.It reduces number of workers in the workforce,and therefore reduces the global supply of goods. Travel was banned. Schools have been closed. Stock market has been cracked. People are panic. \n",
    "\n",
    "* This study uses datasets from Kaggal, working in hope it can shed light into answer some questions. How it starts; when it happened, who are affected. Which country got worse, which age groups are vulnerable to the disease. Who are suceptible to the disease: men or women?...etc, its trending on China, and other countries such as Italy, South Korea, Spain, and the USA."
   ]
  },
  {
   "cell_type": "markdown",
   "metadata": {},
   "source": [
    "##### Import library packages and upload the files"
   ]
  },
  {
   "cell_type": "code",
   "execution_count": 1,
   "metadata": {},
   "outputs": [],
   "source": [
    "import pandas as pd\n",
    "import numpy as np\n",
    "import matplotlib.pyplot as plt\n",
    "%matplotlib inline\n",
    "import seaborn as sns\n",
    "sns.set(style='darkgrid')"
   ]
  },
  {
   "cell_type": "markdown",
   "metadata": {},
   "source": [
    "##### Upload files + verify columns + clean data"
   ]
  },
  {
   "cell_type": "code",
   "execution_count": 2,
   "metadata": {
    "scrolled": true
   },
   "outputs": [
    {
     "data": {
      "text/html": [
       "<div>\n",
       "<style scoped>\n",
       "    .dataframe tbody tr th:only-of-type {\n",
       "        vertical-align: middle;\n",
       "    }\n",
       "\n",
       "    .dataframe tbody tr th {\n",
       "        vertical-align: top;\n",
       "    }\n",
       "\n",
       "    .dataframe thead th {\n",
       "        text-align: right;\n",
       "    }\n",
       "</style>\n",
       "<table border=\"1\" class=\"dataframe\">\n",
       "  <thead>\n",
       "    <tr style=\"text-align: right;\">\n",
       "      <th></th>\n",
       "      <th>id</th>\n",
       "      <th>case_in_country</th>\n",
       "      <th>reporting date</th>\n",
       "      <th>Unnamed: 3</th>\n",
       "      <th>summary</th>\n",
       "      <th>location</th>\n",
       "      <th>country</th>\n",
       "      <th>gender</th>\n",
       "      <th>age</th>\n",
       "      <th>symptom_onset</th>\n",
       "      <th>...</th>\n",
       "      <th>recovered</th>\n",
       "      <th>symptom</th>\n",
       "      <th>source</th>\n",
       "      <th>link</th>\n",
       "      <th>Unnamed: 21</th>\n",
       "      <th>Unnamed: 22</th>\n",
       "      <th>Unnamed: 23</th>\n",
       "      <th>Unnamed: 24</th>\n",
       "      <th>Unnamed: 25</th>\n",
       "      <th>Unnamed: 26</th>\n",
       "    </tr>\n",
       "  </thead>\n",
       "  <tbody>\n",
       "    <tr>\n",
       "      <td>0</td>\n",
       "      <td>1</td>\n",
       "      <td>NaN</td>\n",
       "      <td>1/20/2020</td>\n",
       "      <td>NaN</td>\n",
       "      <td>First confirmed imported COVID-19 pneumonia pa...</td>\n",
       "      <td>Shenzhen, Guangdong</td>\n",
       "      <td>China</td>\n",
       "      <td>male</td>\n",
       "      <td>66.0</td>\n",
       "      <td>01/03/20</td>\n",
       "      <td>...</td>\n",
       "      <td>0</td>\n",
       "      <td>NaN</td>\n",
       "      <td>Shenzhen Municipal Health Commission</td>\n",
       "      <td>http://wjw.sz.gov.cn/wzx/202001/t20200120_1898...</td>\n",
       "      <td>NaN</td>\n",
       "      <td>NaN</td>\n",
       "      <td>NaN</td>\n",
       "      <td>NaN</td>\n",
       "      <td>NaN</td>\n",
       "      <td>NaN</td>\n",
       "    </tr>\n",
       "    <tr>\n",
       "      <td>1</td>\n",
       "      <td>2</td>\n",
       "      <td>NaN</td>\n",
       "      <td>1/20/2020</td>\n",
       "      <td>NaN</td>\n",
       "      <td>First confirmed imported COVID-19 pneumonia pa...</td>\n",
       "      <td>Shanghai</td>\n",
       "      <td>China</td>\n",
       "      <td>female</td>\n",
       "      <td>56.0</td>\n",
       "      <td>1/15/2020</td>\n",
       "      <td>...</td>\n",
       "      <td>0</td>\n",
       "      <td>NaN</td>\n",
       "      <td>Official Weibo of Shanghai Municipal Health Co...</td>\n",
       "      <td>https://www.weibo.com/2372649470/IqogQhgfa?fro...</td>\n",
       "      <td>NaN</td>\n",
       "      <td>NaN</td>\n",
       "      <td>NaN</td>\n",
       "      <td>NaN</td>\n",
       "      <td>NaN</td>\n",
       "      <td>NaN</td>\n",
       "    </tr>\n",
       "  </tbody>\n",
       "</table>\n",
       "<p>2 rows × 27 columns</p>\n",
       "</div>"
      ],
      "text/plain": [
       "   id  case_in_country reporting date  Unnamed: 3  \\\n",
       "0   1              NaN      1/20/2020         NaN   \n",
       "1   2              NaN      1/20/2020         NaN   \n",
       "\n",
       "                                             summary             location  \\\n",
       "0  First confirmed imported COVID-19 pneumonia pa...  Shenzhen, Guangdong   \n",
       "1  First confirmed imported COVID-19 pneumonia pa...             Shanghai   \n",
       "\n",
       "  country  gender   age symptom_onset  ...  recovered symptom  \\\n",
       "0   China    male  66.0      01/03/20  ...          0     NaN   \n",
       "1   China  female  56.0     1/15/2020  ...          0     NaN   \n",
       "\n",
       "                                              source  \\\n",
       "0               Shenzhen Municipal Health Commission   \n",
       "1  Official Weibo of Shanghai Municipal Health Co...   \n",
       "\n",
       "                                                link  Unnamed: 21  \\\n",
       "0  http://wjw.sz.gov.cn/wzx/202001/t20200120_1898...          NaN   \n",
       "1  https://www.weibo.com/2372649470/IqogQhgfa?fro...          NaN   \n",
       "\n",
       "   Unnamed: 22 Unnamed: 23 Unnamed: 24 Unnamed: 25 Unnamed: 26  \n",
       "0          NaN         NaN         NaN         NaN         NaN  \n",
       "1          NaN         NaN         NaN         NaN         NaN  \n",
       "\n",
       "[2 rows x 27 columns]"
      ]
     },
     "execution_count": 2,
     "metadata": {},
     "output_type": "execute_result"
    }
   ],
   "source": [
    "df = pd.read_csv('COVID19_line_list_data.csv')\n",
    "df.head(2)"
   ]
  },
  {
   "cell_type": "code",
   "execution_count": 3,
   "metadata": {},
   "outputs": [],
   "source": [
    "# Drop meaningless/unneeded columns\n",
    "df.drop(['Unnamed: 3','Unnamed: 21','Unnamed: 22','Unnamed: 23', \n",
    "                 'Unnamed: 24','Unnamed: 25','Unnamed: 26'], axis=1,inplace = True)"
   ]
  },
  {
   "cell_type": "code",
   "execution_count": 4,
   "metadata": {
    "scrolled": true
   },
   "outputs": [
    {
     "data": {
      "text/html": [
       "<div>\n",
       "<style scoped>\n",
       "    .dataframe tbody tr th:only-of-type {\n",
       "        vertical-align: middle;\n",
       "    }\n",
       "\n",
       "    .dataframe tbody tr th {\n",
       "        vertical-align: top;\n",
       "    }\n",
       "\n",
       "    .dataframe thead th {\n",
       "        text-align: right;\n",
       "    }\n",
       "</style>\n",
       "<table border=\"1\" class=\"dataframe\">\n",
       "  <thead>\n",
       "    <tr style=\"text-align: right;\">\n",
       "      <th></th>\n",
       "      <th>id</th>\n",
       "      <th>case_in_country</th>\n",
       "      <th>reporting date</th>\n",
       "      <th>summary</th>\n",
       "      <th>location</th>\n",
       "      <th>country</th>\n",
       "      <th>gender</th>\n",
       "      <th>age</th>\n",
       "      <th>symptom_onset</th>\n",
       "      <th>If_onset_approximated</th>\n",
       "      <th>hosp_visit_date</th>\n",
       "      <th>exposure_start</th>\n",
       "      <th>exposure_end</th>\n",
       "      <th>visiting Wuhan</th>\n",
       "      <th>from Wuhan</th>\n",
       "      <th>death</th>\n",
       "      <th>recovered</th>\n",
       "      <th>symptom</th>\n",
       "      <th>source</th>\n",
       "      <th>link</th>\n",
       "    </tr>\n",
       "  </thead>\n",
       "  <tbody>\n",
       "    <tr>\n",
       "      <td>0</td>\n",
       "      <td>1</td>\n",
       "      <td>NaN</td>\n",
       "      <td>1/20/2020</td>\n",
       "      <td>First confirmed imported COVID-19 pneumonia pa...</td>\n",
       "      <td>Shenzhen, Guangdong</td>\n",
       "      <td>China</td>\n",
       "      <td>male</td>\n",
       "      <td>66.0</td>\n",
       "      <td>01/03/20</td>\n",
       "      <td>0.0</td>\n",
       "      <td>01/11/20</td>\n",
       "      <td>12/29/2019</td>\n",
       "      <td>01/04/20</td>\n",
       "      <td>1</td>\n",
       "      <td>0.0</td>\n",
       "      <td>0</td>\n",
       "      <td>0</td>\n",
       "      <td>NaN</td>\n",
       "      <td>Shenzhen Municipal Health Commission</td>\n",
       "      <td>http://wjw.sz.gov.cn/wzx/202001/t20200120_1898...</td>\n",
       "    </tr>\n",
       "    <tr>\n",
       "      <td>1</td>\n",
       "      <td>2</td>\n",
       "      <td>NaN</td>\n",
       "      <td>1/20/2020</td>\n",
       "      <td>First confirmed imported COVID-19 pneumonia pa...</td>\n",
       "      <td>Shanghai</td>\n",
       "      <td>China</td>\n",
       "      <td>female</td>\n",
       "      <td>56.0</td>\n",
       "      <td>1/15/2020</td>\n",
       "      <td>0.0</td>\n",
       "      <td>1/15/2020</td>\n",
       "      <td>NaN</td>\n",
       "      <td>01/12/20</td>\n",
       "      <td>0</td>\n",
       "      <td>1.0</td>\n",
       "      <td>0</td>\n",
       "      <td>0</td>\n",
       "      <td>NaN</td>\n",
       "      <td>Official Weibo of Shanghai Municipal Health Co...</td>\n",
       "      <td>https://www.weibo.com/2372649470/IqogQhgfa?fro...</td>\n",
       "    </tr>\n",
       "  </tbody>\n",
       "</table>\n",
       "</div>"
      ],
      "text/plain": [
       "   id  case_in_country reporting date  \\\n",
       "0   1              NaN      1/20/2020   \n",
       "1   2              NaN      1/20/2020   \n",
       "\n",
       "                                             summary             location  \\\n",
       "0  First confirmed imported COVID-19 pneumonia pa...  Shenzhen, Guangdong   \n",
       "1  First confirmed imported COVID-19 pneumonia pa...             Shanghai   \n",
       "\n",
       "  country  gender   age symptom_onset  If_onset_approximated hosp_visit_date  \\\n",
       "0   China    male  66.0      01/03/20                    0.0        01/11/20   \n",
       "1   China  female  56.0     1/15/2020                    0.0       1/15/2020   \n",
       "\n",
       "  exposure_start exposure_end  visiting Wuhan  from Wuhan death recovered  \\\n",
       "0     12/29/2019     01/04/20               1         0.0     0         0   \n",
       "1            NaN     01/12/20               0         1.0     0         0   \n",
       "\n",
       "  symptom                                             source  \\\n",
       "0     NaN               Shenzhen Municipal Health Commission   \n",
       "1     NaN  Official Weibo of Shanghai Municipal Health Co...   \n",
       "\n",
       "                                                link  \n",
       "0  http://wjw.sz.gov.cn/wzx/202001/t20200120_1898...  \n",
       "1  https://www.weibo.com/2372649470/IqogQhgfa?fro...  "
      ]
     },
     "execution_count": 4,
     "metadata": {},
     "output_type": "execute_result"
    }
   ],
   "source": [
    "df.head(2)"
   ]
  },
  {
   "cell_type": "code",
   "execution_count": 5,
   "metadata": {},
   "outputs": [
    {
     "data": {
      "text/html": [
       "<div>\n",
       "<style scoped>\n",
       "    .dataframe tbody tr th:only-of-type {\n",
       "        vertical-align: middle;\n",
       "    }\n",
       "\n",
       "    .dataframe tbody tr th {\n",
       "        vertical-align: top;\n",
       "    }\n",
       "\n",
       "    .dataframe thead th {\n",
       "        text-align: right;\n",
       "    }\n",
       "</style>\n",
       "<table border=\"1\" class=\"dataframe\">\n",
       "  <thead>\n",
       "    <tr style=\"text-align: right;\">\n",
       "      <th></th>\n",
       "      <th>id</th>\n",
       "      <th>case_in_country</th>\n",
       "      <th>reporting date</th>\n",
       "      <th>summary</th>\n",
       "      <th>location</th>\n",
       "      <th>country</th>\n",
       "      <th>gender</th>\n",
       "      <th>age</th>\n",
       "      <th>symptom_onset</th>\n",
       "      <th>If_onset_approximated</th>\n",
       "      <th>hosp_visit_date</th>\n",
       "      <th>exposure_start</th>\n",
       "      <th>exposure_end</th>\n",
       "      <th>visiting Wuhan</th>\n",
       "      <th>from Wuhan</th>\n",
       "      <th>death</th>\n",
       "      <th>recovered</th>\n",
       "      <th>symptom</th>\n",
       "      <th>source</th>\n",
       "      <th>link</th>\n",
       "    </tr>\n",
       "  </thead>\n",
       "  <tbody>\n",
       "    <tr>\n",
       "      <td>241</td>\n",
       "      <td>242</td>\n",
       "      <td>6.0</td>\n",
       "      <td>1/28/2020</td>\n",
       "      <td>new confirmed COVID-19 patient in Japan: 1/28-...</td>\n",
       "      <td>Nara Prefecture</td>\n",
       "      <td>Japan</td>\n",
       "      <td>male</td>\n",
       "      <td>65.0</td>\n",
       "      <td>1/14/2020</td>\n",
       "      <td>0.0</td>\n",
       "      <td>1/17/2020</td>\n",
       "      <td>01/08/20</td>\n",
       "      <td>1/16/2020</td>\n",
       "      <td>0</td>\n",
       "      <td>0.0</td>\n",
       "      <td>0</td>\n",
       "      <td>0</td>\n",
       "      <td>cough, chills, joint pain</td>\n",
       "      <td>Kyodo News</td>\n",
       "      <td>https://english.kyodonews.net/news/2020/01/e8f...</td>\n",
       "    </tr>\n",
       "    <tr>\n",
       "      <td>243</td>\n",
       "      <td>244</td>\n",
       "      <td>8.0</td>\n",
       "      <td>1/29/2020</td>\n",
       "      <td>new confirmed COVID-19 patient in Japan: femal...</td>\n",
       "      <td>Osaka Prefecture</td>\n",
       "      <td>Japan</td>\n",
       "      <td>female</td>\n",
       "      <td>45.0</td>\n",
       "      <td>1/20/2020</td>\n",
       "      <td>0.0</td>\n",
       "      <td>1/20/2020</td>\n",
       "      <td>01/12/20</td>\n",
       "      <td>1/17/2020</td>\n",
       "      <td>0</td>\n",
       "      <td>0.0</td>\n",
       "      <td>0</td>\n",
       "      <td>0</td>\n",
       "      <td>fever, cough</td>\n",
       "      <td>NHK World-Japan</td>\n",
       "      <td>https://www3.nhk.or.jp/nhkworld/en/news/202001...</td>\n",
       "    </tr>\n",
       "  </tbody>\n",
       "</table>\n",
       "</div>"
      ],
      "text/plain": [
       "      id  case_in_country reporting date  \\\n",
       "241  242              6.0      1/28/2020   \n",
       "243  244              8.0      1/29/2020   \n",
       "\n",
       "                                               summary          location  \\\n",
       "241  new confirmed COVID-19 patient in Japan: 1/28-...   Nara Prefecture   \n",
       "243  new confirmed COVID-19 patient in Japan: femal...  Osaka Prefecture   \n",
       "\n",
       "    country  gender   age symptom_onset  If_onset_approximated  \\\n",
       "241   Japan    male  65.0     1/14/2020                    0.0   \n",
       "243   Japan  female  45.0     1/20/2020                    0.0   \n",
       "\n",
       "    hosp_visit_date exposure_start exposure_end  visiting Wuhan  from Wuhan  \\\n",
       "241       1/17/2020       01/08/20    1/16/2020               0         0.0   \n",
       "243       1/20/2020       01/12/20    1/17/2020               0         0.0   \n",
       "\n",
       "    death recovered                    symptom           source  \\\n",
       "241     0         0  cough, chills, joint pain       Kyodo News   \n",
       "243     0         0               fever, cough  NHK World-Japan   \n",
       "\n",
       "                                                  link  \n",
       "241  https://english.kyodonews.net/news/2020/01/e8f...  \n",
       "243  https://www3.nhk.or.jp/nhkworld/en/news/202001...  "
      ]
     },
     "execution_count": 5,
     "metadata": {},
     "output_type": "execute_result"
    }
   ],
   "source": [
    "df.dropna().head(2)"
   ]
  },
  {
   "cell_type": "code",
   "execution_count": 6,
   "metadata": {
    "scrolled": true
   },
   "outputs": [
    {
     "data": {
      "text/plain": [
       "Text(0.5, 1.0, 'Age Distribution in Covid-19 Patients')"
      ]
     },
     "execution_count": 6,
     "metadata": {},
     "output_type": "execute_result"
    },
    {
     "data": {
      "image/png": "[encoded data removed]",
      "text/plain": [
       "<Figure size 432x288 with 1 Axes>"
      ]
     },
     "metadata": {
      "needs_background": "light"
     },
     "output_type": "display_data"
    }
   ],
   "source": [
    "# Plot age distribution in patients with coronavirus\n",
    "df['age'].hist(bins=100)\n",
    "plt.xlabel('Age')\n",
    "plt.ylabel('Counts')\n",
    "plt.title('Age Distribution in Covid-19 Patients')"
   ]
  },
  {
   "cell_type": "code",
   "execution_count": 7,
   "metadata": {
    "scrolled": true
   },
   "outputs": [
    {
     "name": "stdout",
     "output_type": "stream",
     "text": [
      " The average age of patients with Coronavirus is 49 years old\n",
      " The median age of patients with Coronavirus is 51 years old\n",
      " The youngest  patients with Coronavirus is 0 years old\n",
      " The oldest patients with Coronavirus is 96 years old\n"
     ]
    }
   ],
   "source": [
    "print(f\" The average age of patients with Coronavirus is {round(df['age'].mean())} years old\")\n",
    "print(f\" The median age of patients with Coronavirus is {round(df['age'].median())} years old\")\n",
    "print(f\" The youngest  patients with Coronavirus is {round(df['age'].min())} years old\")\n",
    "print(f\" The oldest patients with Coronavirus is {round(df['age'].max())} years old\")"
   ]
  },
  {
   "cell_type": "markdown",
   "metadata": {},
   "source": [
    "##### Key Takeaways:\n",
    "* The average age of patients with Coronavirus is 49 years old.\n",
    "\n",
    "* The youngest patient(s) with Coronavirus are infant(s) - o years old\n",
    "\n",
    "* The oldest patient(s) are 96 years old"
   ]
  },
  {
   "cell_type": "code",
   "execution_count": 8,
   "metadata": {},
   "outputs": [
    {
     "data": {
      "text/plain": [
       "Text(0.5, 1.0, 'Gender vs Covid-19')"
      ]
     },
     "execution_count": 8,
     "metadata": {},
     "output_type": "execute_result"
    },
    {
     "data": {
      "image/png": "[encoded data removed]",
      "text/plain": [
       "<Figure size 432x288 with 1 Axes>"
      ]
     },
     "metadata": {
      "needs_background": "light"
     },
     "output_type": "display_data"
    }
   ],
   "source": [
    "# plot gender distribution between gender\n",
    "df['gender'].value_counts().plot(kind='bar')\n",
    "plt.xlabel('Gender')\n",
    "plt.ylabel('Counts')\n",
    "plt.title('Gender vs Covid-19')"
   ]
  },
  {
   "cell_type": "markdown",
   "metadata": {},
   "source": [
    "##### Note: Men are more succeptible to Covid-19 than women"
   ]
  },
  {
   "cell_type": "code",
   "execution_count": 9,
   "metadata": {},
   "outputs": [
    {
     "data": {
      "image/png": "[encoded data removed]",
      "text/plain": [
       "<Figure size 720x432 with 1 Axes>"
      ]
     },
     "metadata": {
      "needs_background": "light"
     },
     "output_type": "display_data"
    }
   ],
   "source": [
    "from os import path\n",
    "import matplotlib.pyplot as plt\n",
    "from wordcloud import WordCloud\n",
    "\n",
    "text = df['symptom'].value_counts() \n",
    "plt.figure(figsize=(10,6))\n",
    "wordcloud=WordCloud(background_color='black',mode=\"RGB\", width=600 , height=300).generate(str(text))\n",
    "plt.title(\"Covid-19 Symptom\")\n",
    "plt.imshow(wordcloud)\n",
    "plt.axis(\"off\")\n",
    "plt.show()"
   ]
  },
  {
   "cell_type": "markdown",
   "metadata": {},
   "source": [
    "##### Coronavirus Symptom:\n",
    "    * Cough\n",
    "    * Fever\n",
    "    * Sore throat\n",
    "    * Vomiting\n",
    "    * Diarrhea\n",
    "    * Chills\n",
    "    * Fatigue\n",
    "    * Sputum\n",
    "    * Myalgias Muscle\n",
    "    * Pain"
   ]
  },
  {
   "cell_type": "code",
   "execution_count": 10,
   "metadata": {},
   "outputs": [
    {
     "data": {
      "image/png": "[encoded data removed]",
      "text/plain": [
       "<Figure size 720x576 with 1 Axes>"
      ]
     },
     "metadata": {
      "needs_background": "light"
     },
     "output_type": "display_data"
    }
   ],
   "source": [
    "# Plot number of Coronavirus cases vs Countries\n",
    "fig = plt.figure(figsize=(10,8))\n",
    "df['country'].value_counts().sort_values().plot.barh(color='midnightblue')\n",
    "\n",
    "plt.title('Covid-19 Ranked by Country')\n",
    "plt.xlabel('Number of Coronavirus Cases')\n",
    "plt.ylabel('country')\n",
    "plt.show()"
   ]
  },
  {
   "cell_type": "code",
   "execution_count": 11,
   "metadata": {
    "scrolled": true
   },
   "outputs": [
    {
     "data": {
      "text/html": [
       "<div>\n",
       "<style scoped>\n",
       "    .dataframe tbody tr th:only-of-type {\n",
       "        vertical-align: middle;\n",
       "    }\n",
       "\n",
       "    .dataframe tbody tr th {\n",
       "        vertical-align: top;\n",
       "    }\n",
       "\n",
       "    .dataframe thead th {\n",
       "        text-align: right;\n",
       "    }\n",
       "</style>\n",
       "<table border=\"1\" class=\"dataframe\">\n",
       "  <thead>\n",
       "    <tr style=\"text-align: right;\">\n",
       "      <th></th>\n",
       "      <th>SNo</th>\n",
       "      <th>ObservationDate</th>\n",
       "      <th>Province/State</th>\n",
       "      <th>Country/Region</th>\n",
       "      <th>Last Update</th>\n",
       "      <th>Confirmed</th>\n",
       "      <th>Deaths</th>\n",
       "      <th>Recovered</th>\n",
       "    </tr>\n",
       "  </thead>\n",
       "  <tbody>\n",
       "    <tr>\n",
       "      <td>0</td>\n",
       "      <td>1</td>\n",
       "      <td>01/22/2020</td>\n",
       "      <td>Anhui</td>\n",
       "      <td>Mainland China</td>\n",
       "      <td>1/22/2020 17:00</td>\n",
       "      <td>1.0</td>\n",
       "      <td>0.0</td>\n",
       "      <td>0.0</td>\n",
       "    </tr>\n",
       "    <tr>\n",
       "      <td>1</td>\n",
       "      <td>2</td>\n",
       "      <td>01/22/2020</td>\n",
       "      <td>Beijing</td>\n",
       "      <td>Mainland China</td>\n",
       "      <td>1/22/2020 17:00</td>\n",
       "      <td>14.0</td>\n",
       "      <td>0.0</td>\n",
       "      <td>0.0</td>\n",
       "    </tr>\n",
       "  </tbody>\n",
       "</table>\n",
       "</div>"
      ],
      "text/plain": [
       "   SNo ObservationDate Province/State  Country/Region      Last Update  \\\n",
       "0    1      01/22/2020          Anhui  Mainland China  1/22/2020 17:00   \n",
       "1    2      01/22/2020        Beijing  Mainland China  1/22/2020 17:00   \n",
       "\n",
       "   Confirmed  Deaths  Recovered  \n",
       "0        1.0     0.0        0.0  \n",
       "1       14.0     0.0        0.0  "
      ]
     },
     "execution_count": 11,
     "metadata": {},
     "output_type": "execute_result"
    }
   ],
   "source": [
    "df2 = pd.read_csv('covid_19_data.csv')\n",
    "df2.head(2)"
   ]
  },
  {
   "cell_type": "code",
   "execution_count": 12,
   "metadata": {
    "scrolled": false
   },
   "outputs": [
    {
     "data": {
      "text/html": [
       "<div>\n",
       "<style scoped>\n",
       "    .dataframe tbody tr th:only-of-type {\n",
       "        vertical-align: middle;\n",
       "    }\n",
       "\n",
       "    .dataframe tbody tr th {\n",
       "        vertical-align: top;\n",
       "    }\n",
       "\n",
       "    .dataframe thead th {\n",
       "        text-align: right;\n",
       "    }\n",
       "</style>\n",
       "<table border=\"1\" class=\"dataframe\">\n",
       "  <thead>\n",
       "    <tr style=\"text-align: right;\">\n",
       "      <th></th>\n",
       "      <th>SNo</th>\n",
       "      <th>ObservationDate</th>\n",
       "      <th>Province/State</th>\n",
       "      <th>Country/Region</th>\n",
       "      <th>Last Update</th>\n",
       "      <th>Confirmed</th>\n",
       "      <th>Deaths</th>\n",
       "      <th>Recovered</th>\n",
       "      <th>Active</th>\n",
       "    </tr>\n",
       "  </thead>\n",
       "  <tbody>\n",
       "    <tr>\n",
       "      <td>0</td>\n",
       "      <td>1</td>\n",
       "      <td>01/22/2020</td>\n",
       "      <td>Anhui</td>\n",
       "      <td>Mainland China</td>\n",
       "      <td>1/22/2020 17:00</td>\n",
       "      <td>1.0</td>\n",
       "      <td>0.0</td>\n",
       "      <td>0.0</td>\n",
       "      <td>1.0</td>\n",
       "    </tr>\n",
       "    <tr>\n",
       "      <td>1</td>\n",
       "      <td>2</td>\n",
       "      <td>01/22/2020</td>\n",
       "      <td>Beijing</td>\n",
       "      <td>Mainland China</td>\n",
       "      <td>1/22/2020 17:00</td>\n",
       "      <td>14.0</td>\n",
       "      <td>0.0</td>\n",
       "      <td>0.0</td>\n",
       "      <td>14.0</td>\n",
       "    </tr>\n",
       "  </tbody>\n",
       "</table>\n",
       "</div>"
      ],
      "text/plain": [
       "   SNo ObservationDate Province/State  Country/Region      Last Update  \\\n",
       "0    1      01/22/2020          Anhui  Mainland China  1/22/2020 17:00   \n",
       "1    2      01/22/2020        Beijing  Mainland China  1/22/2020 17:00   \n",
       "\n",
       "   Confirmed  Deaths  Recovered  Active  \n",
       "0        1.0     0.0        0.0     1.0  \n",
       "1       14.0     0.0        0.0    14.0  "
      ]
     },
     "execution_count": 12,
     "metadata": {},
     "output_type": "execute_result"
    }
   ],
   "source": [
    "### Create 'Active' column by subtract 'Deaths' and 'Recovered' from 'Confirmed'\n",
    "df2['Active'] = df2['Confirmed'] - df2['Deaths'] - df2['Recovered']\n",
    "df2.head(2)"
   ]
  },
  {
   "cell_type": "code",
   "execution_count": 38,
   "metadata": {},
   "outputs": [
    {
     "data": {
      "text/html": [
       "        <script type=\"text/javascript\">\n",
       "        window.PlotlyConfig = {MathJaxConfig: 'local'};\n",
       "        if (window.MathJax) {MathJax.Hub.Config({SVG: {font: \"STIX-Web\"}});}\n",
       "        if (typeof require !== 'undefined') {\n",
       "        require.undef(\"plotly\");\n",
       "        requirejs.config({\n",
       "            paths: {\n",
       "                'plotly': ['https://cdn.plot.ly/plotly-latest.min']\n",
       "            }\n",
       "        });\n",
       "        require(['plotly'], function(Plotly) {\n",
       "            window._Plotly = Plotly;\n",
       "        });\n",
       "        }\n",
       "        </script>\n",
       "        "
      ]
     },
     "metadata": {},
     "output_type": "display_data"
    },
    {
     "data": {
      "application/vnd.plotly.v1+json": {
       "config": {
        "linkText": "Export to plot.ly",
        "plotlyServerURL": "https://plot.ly",
        "showLink": false
       },
       "data": [
        {
         "colorbar": {
          "autotick": false,
          "tickprefix": "",
          "title": "Number of Cases"
         },
         "colorscale": [
          [
           0,
           "rgb(255, 120, 120)"
          ],
          [
           1,
           "rgb(255, 180, 240)"
          ]
         ],
         "locationmode": "country names",
         "locations": [
          "Mainland China",
          "Italy",
          "South Korea",
          "Iran",
          "Spain",
          "France",
          "Others",
          "Germany",
          "US",
          "Japan",
          "Switzerland",
          "UK",
          "Norway",
          "Netherlands",
          "Sweden",
          "Singapore",
          "Denmark",
          "Belgium",
          "Hong Kong",
          "Austria",
          "Malaysia",
          "Australia",
          "Thailand",
          "Bahrain",
          "Canada",
          "Taiwan",
          "Qatar",
          "Kuwait",
          "Greece",
          "United Arab Emirates",
          "Israel",
          "Iceland",
          "Iraq",
          "Vietnam",
          "Finland",
          "Czech Republic",
          "India",
          "Portugal",
          "Slovenia",
          "Egypt",
          "Lebanon",
          "San Marino",
          "Brazil",
          "Philippines",
          "Ireland",
          "Macau",
          "Romania",
          "Saudi Arabia",
          "Poland",
          "Indonesia",
          "Russia",
          "Estonia",
          "Algeria",
          "Oman",
          "Croatia",
          "Chile",
          "Ecuador",
          "Georgia",
          "Pakistan",
          "Argentina",
          "Luxembourg",
          "Belarus",
          "Mexico",
          "Serbia",
          "Albania",
          "Peru",
          "Slovakia",
          "Azerbaijan",
          "Hungary",
          "Costa Rica",
          "South Africa",
          "Brunei",
          "Bulgaria",
          "Palestine",
          "Latvia",
          "Panama",
          "North Macedonia",
          "Bosnia and Herzegovina",
          "Cambodia",
          "Sri Lanka",
          "Tunisia",
          "Colombia",
          "Senegal",
          "Afghanistan",
          "Cyprus",
          "Malta",
          "New Zealand",
          "Morocco",
          "Nepal",
          "Dominican Republic",
          "Maldives",
          "Armenia",
          "French Guiana",
          "Lithuania",
          "Moldova",
          "Martinique",
          "occupied Palestinian territory",
          "Paraguay",
          "Nigeria",
          "Bangladesh",
          "Republic of Ireland",
          "Jamaica",
          "Monaco",
          "Saint Barthelemy",
          "Bolivia",
          "Cameroon",
          "Ukraine",
          "Liechtenstein",
          "Andorra",
          "Reunion",
          "Jordan",
          "Turkey",
          "Cuba",
          "Kazakhstan",
          "Faroe Islands",
          "Bhutan",
          "Burkina Faso",
          "Togo",
          "Honduras",
          "Gibraltar",
          "Congo (Kinshasa)",
          "Ivory Coast",
          "Mongolia",
          "Holy See",
          "Uruguay",
          "Vatican City",
          "Aruba",
          "Guyana",
          "Ghana",
          "Kenya",
          "Antigua and Barbuda",
          "Namibia",
          "Seychelles",
          "Ethiopia",
          "St. Martin",
          "Jersey",
          "Sudan",
          "Cayman Islands",
          "Trinidad and Tobago",
          "Guinea",
          "Guadeloupe",
          "Venezuela",
          "('St. Martin',)",
          "Suriname",
          "Eswatini",
          "Mauritania",
          "Saint Vincent and the Grenadines",
          "Saint Lucia",
          "Rwanda",
          "North Ireland",
          "Channel Islands",
          "Guernsey",
          "Guatemala",
          "Curacao",
          "Gabon",
          " Azerbaijan"
         ],
         "marker": {
          "line": {
           "width": 0.7
          }
         },
         "reversescale": true,
         "text": [
          "Mainland China",
          "Italy",
          "South Korea",
          "Iran",
          "Spain",
          "France",
          "Others",
          "Germany",
          "US",
          "Japan",
          "Switzerland",
          "UK",
          "Norway",
          "Netherlands",
          "Sweden",
          "Singapore",
          "Denmark",
          "Belgium",
          "Hong Kong",
          "Austria",
          "Malaysia",
          "Australia",
          "Thailand",
          "Bahrain",
          "Canada",
          "Taiwan",
          "Qatar",
          "Kuwait",
          "Greece",
          "United Arab Emirates",
          "Israel",
          "Iceland",
          "Iraq",
          "Vietnam",
          "Finland",
          "Czech Republic",
          "India",
          "Portugal",
          "Slovenia",
          "Egypt",
          "Lebanon",
          "San Marino",
          "Brazil",
          "Philippines",
          "Ireland",
          "Macau",
          "Romania",
          "Saudi Arabia",
          "Poland",
          "Indonesia",
          "Russia",
          "Estonia",
          "Algeria",
          "Oman",
          "Croatia",
          "Chile",
          "Ecuador",
          "Georgia",
          "Pakistan",
          "Argentina",
          "Luxembourg",
          "Belarus",
          "Mexico",
          "Serbia",
          "Albania",
          "Peru",
          "Slovakia",
          "Azerbaijan",
          "Hungary",
          "Costa Rica",
          "South Africa",
          "Brunei",
          "Bulgaria",
          "Palestine",
          "Latvia",
          "Panama",
          "North Macedonia",
          "Bosnia and Herzegovina",
          "Cambodia",
          "Sri Lanka",
          "Tunisia",
          "Colombia",
          "Senegal",
          "Afghanistan",
          "Cyprus",
          "Malta",
          "New Zealand",
          "Morocco",
          "Nepal",
          "Dominican Republic",
          "Maldives",
          "Armenia",
          "French Guiana",
          "Lithuania",
          "Moldova",
          "Martinique",
          "occupied Palestinian territory",
          "Paraguay",
          "Nigeria",
          "Bangladesh",
          "Republic of Ireland",
          "Jamaica",
          "Monaco",
          "Saint Barthelemy",
          "Bolivia",
          "Cameroon",
          "Ukraine",
          "Liechtenstein",
          "Andorra",
          "Reunion",
          "Jordan",
          "Turkey",
          "Cuba",
          "Kazakhstan",
          "Faroe Islands",
          "Bhutan",
          "Burkina Faso",
          "Togo",
          "Honduras",
          "Gibraltar",
          "Congo (Kinshasa)",
          "Ivory Coast",
          "Mongolia",
          "Holy See",
          "Uruguay",
          "Vatican City",
          "Aruba",
          "Guyana",
          "Ghana",
          "Kenya",
          "Antigua and Barbuda",
          "Namibia",
          "Seychelles",
          "Ethiopia",
          "St. Martin",
          "Jersey",
          "Sudan",
          "Cayman Islands",
          "Trinidad and Tobago",
          "Guinea",
          "Guadeloupe",
          "Venezuela",
          "('St. Martin',)",
          "Suriname",
          "Eswatini",
          "Mauritania",
          "Saint Vincent and the Grenadines",
          "Saint Lucia",
          "Rwanda",
          "North Ireland",
          "Channel Islands",
          "Guernsey",
          "Guatemala",
          "Curacao",
          "Gabon",
          " Azerbaijan"
         ],
         "type": "choropleth",
         "z": [
          2797319,
          118103,
          104758,
          88374,
          21519,
          20119,
          19868,
          19195,
          12073,
          9153,
          5851,
          4778,
          4664,
          4233,
          4175,
          3895,
          3173,
          2982,
          2678,
          2400,
          2015,
          1833,
          1781,
          1643,
          1333,
          1304,
          1284,
          1094,
          1015,
          972,
          856,
          830,
          819,
          798,
          694,
          686,
          679,
          550,
          547,
          536,
          521,
          517,
          513,
          447,
          432,
          429,
          406,
          319,
          312,
          301,
          297,
          290,
          238,
          233,
          230,
          193,
          191,
          174,
          171,
          157,
          132,
          125,
          121,
          121,
          118,
          118,
          117,
          114,
          110,
          109,
          108,
          101,
          90,
          86,
          85,
          83,
          70,
          67,
          65,
          64,
          61,
          60,
          59,
          58,
          57,
          56,
          56,
          51,
          50,
          50,
          49,
          41,
          40,
          32,
          29,
          26,
          25,
          25,
          22,
          21,
          21,
          19,
          18,
          17,
          17,
          16,
          16,
          14,
          13,
          13,
          12,
          12,
          11,
          10,
          10,
          9,
          9,
          9,
          8,
          7,
          6,
          5,
          5,
          5,
          4,
          4,
          4,
          3,
          3,
          2,
          2,
          2,
          2,
          2,
          2,
          2,
          2,
          2,
          2,
          2,
          2,
          2,
          2,
          1,
          1,
          1,
          1,
          1,
          1,
          1,
          1,
          1,
          1,
          1,
          1,
          1
         ]
        }
       ],
       "layout": {
        "geo": {
         "projection": {
          "type": "Mercator"
         },
         "showcoastlines": true,
         "showframe": false
        },
        "margin": {
         "b": 30,
         "l": 10,
         "r": 10,
         "t": 50
        },
        "title": "Countries with COVID-19"
       }
      },
      "text/html": [
       "<div>\n",
       "        \n",
       "        \n",
       "            <div id=\"041ca347-08cd-4efe-807c-a21c617e8c64\" class=\"plotly-graph-div\" style=\"height:525px; width:100%;\"></div>\n",
       "            <script type=\"text/javascript\">\n",
       "                require([\"plotly\"], function(Plotly) {\n",
       "                    window.PLOTLYENV=window.PLOTLYENV || {};\n",
       "                    \n",
       "                if (document.getElementById(\"041ca347-08cd-4efe-807c-a21c617e8c64\")) {\n",
       "                    Plotly.newPlot(\n",
       "                        '041ca347-08cd-4efe-807c-a21c617e8c64',\n",
       "                        [{\"colorbar\": {\"autotick\": false, \"tickprefix\": \"\", \"title\": \"Number of Cases\"}, \"colorscale\": [[0, \"rgb(255, 120, 120)\"], [1, \"rgb(255, 180, 240)\"]], \"locationmode\": \"country names\", \"locations\": [\"Mainland China\", \"Italy\", \"South Korea\", \"Iran\", \"Spain\", \"France\", \"Others\", \"Germany\", \"US\", \"Japan\", \"Switzerland\", \"UK\", \"Norway\", \"Netherlands\", \"Sweden\", \"Singapore\", \"Denmark\", \"Belgium\", \"Hong Kong\", \"Austria\", \"Malaysia\", \"Australia\", \"Thailand\", \"Bahrain\", \"Canada\", \"Taiwan\", \"Qatar\", \"Kuwait\", \"Greece\", \"United Arab Emirates\", \"Israel\", \"Iceland\", \"Iraq\", \"Vietnam\", \"Finland\", \"Czech Republic\", \"India\", \"Portugal\", \"Slovenia\", \"Egypt\", \"Lebanon\", \"San Marino\", \"Brazil\", \"Philippines\", \"Ireland\", \"Macau\", \"Romania\", \"Saudi Arabia\", \"Poland\", \"Indonesia\", \"Russia\", \"Estonia\", \"Algeria\", \"Oman\", \"Croatia\", \"Chile\", \"Ecuador\", \"Georgia\", \"Pakistan\", \"Argentina\", \"Luxembourg\", \"Belarus\", \"Mexico\", \"Serbia\", \"Albania\", \"Peru\", \"Slovakia\", \"Azerbaijan\", \"Hungary\", \"Costa Rica\", \"South Africa\", \"Brunei\", \"Bulgaria\", \"Palestine\", \"Latvia\", \"Panama\", \"North Macedonia\", \"Bosnia and Herzegovina\", \"Cambodia\", \"Sri Lanka\", \"Tunisia\", \"Colombia\", \"Senegal\", \"Afghanistan\", \"Cyprus\", \"Malta\", \"New Zealand\", \"Morocco\", \"Nepal\", \"Dominican Republic\", \"Maldives\", \"Armenia\", \"French Guiana\", \"Lithuania\", \"Moldova\", \"Martinique\", \"occupied Palestinian territory\", \"Paraguay\", \"Nigeria\", \"Bangladesh\", \"Republic of Ireland\", \"Jamaica\", \"Monaco\", \"Saint Barthelemy\", \"Bolivia\", \"Cameroon\", \"Ukraine\", \"Liechtenstein\", \"Andorra\", \"Reunion\", \"Jordan\", \"Turkey\", \"Cuba\", \"Kazakhstan\", \"Faroe Islands\", \"Bhutan\", \"Burkina Faso\", \"Togo\", \"Honduras\", \"Gibraltar\", \"Congo (Kinshasa)\", \"Ivory Coast\", \"Mongolia\", \"Holy See\", \"Uruguay\", \"Vatican City\", \"Aruba\", \"Guyana\", \"Ghana\", \"Kenya\", \"Antigua and Barbuda\", \"Namibia\", \"Seychelles\", \"Ethiopia\", \"St. Martin\", \"Jersey\", \"Sudan\", \"Cayman Islands\", \"Trinidad and Tobago\", \"Guinea\", \"Guadeloupe\", \"Venezuela\", \"('St. Martin',)\", \"Suriname\", \"Eswatini\", \"Mauritania\", \"Saint Vincent and the Grenadines\", \"Saint Lucia\", \"Rwanda\", \"North Ireland\", \"Channel Islands\", \"Guernsey\", \"Guatemala\", \"Curacao\", \"Gabon\", \" Azerbaijan\"], \"marker\": {\"line\": {\"width\": 0.7}}, \"reversescale\": true, \"text\": [\"Mainland China\", \"Italy\", \"South Korea\", \"Iran\", \"Spain\", \"France\", \"Others\", \"Germany\", \"US\", \"Japan\", \"Switzerland\", \"UK\", \"Norway\", \"Netherlands\", \"Sweden\", \"Singapore\", \"Denmark\", \"Belgium\", \"Hong Kong\", \"Austria\", \"Malaysia\", \"Australia\", \"Thailand\", \"Bahrain\", \"Canada\", \"Taiwan\", \"Qatar\", \"Kuwait\", \"Greece\", \"United Arab Emirates\", \"Israel\", \"Iceland\", \"Iraq\", \"Vietnam\", \"Finland\", \"Czech Republic\", \"India\", \"Portugal\", \"Slovenia\", \"Egypt\", \"Lebanon\", \"San Marino\", \"Brazil\", \"Philippines\", \"Ireland\", \"Macau\", \"Romania\", \"Saudi Arabia\", \"Poland\", \"Indonesia\", \"Russia\", \"Estonia\", \"Algeria\", \"Oman\", \"Croatia\", \"Chile\", \"Ecuador\", \"Georgia\", \"Pakistan\", \"Argentina\", \"Luxembourg\", \"Belarus\", \"Mexico\", \"Serbia\", \"Albania\", \"Peru\", \"Slovakia\", \"Azerbaijan\", \"Hungary\", \"Costa Rica\", \"South Africa\", \"Brunei\", \"Bulgaria\", \"Palestine\", \"Latvia\", \"Panama\", \"North Macedonia\", \"Bosnia and Herzegovina\", \"Cambodia\", \"Sri Lanka\", \"Tunisia\", \"Colombia\", \"Senegal\", \"Afghanistan\", \"Cyprus\", \"Malta\", \"New Zealand\", \"Morocco\", \"Nepal\", \"Dominican Republic\", \"Maldives\", \"Armenia\", \"French Guiana\", \"Lithuania\", \"Moldova\", \"Martinique\", \"occupied Palestinian territory\", \"Paraguay\", \"Nigeria\", \"Bangladesh\", \"Republic of Ireland\", \"Jamaica\", \"Monaco\", \"Saint Barthelemy\", \"Bolivia\", \"Cameroon\", \"Ukraine\", \"Liechtenstein\", \"Andorra\", \"Reunion\", \"Jordan\", \"Turkey\", \"Cuba\", \"Kazakhstan\", \"Faroe Islands\", \"Bhutan\", \"Burkina Faso\", \"Togo\", \"Honduras\", \"Gibraltar\", \"Congo (Kinshasa)\", \"Ivory Coast\", \"Mongolia\", \"Holy See\", \"Uruguay\", \"Vatican City\", \"Aruba\", \"Guyana\", \"Ghana\", \"Kenya\", \"Antigua and Barbuda\", \"Namibia\", \"Seychelles\", \"Ethiopia\", \"St. Martin\", \"Jersey\", \"Sudan\", \"Cayman Islands\", \"Trinidad and Tobago\", \"Guinea\", \"Guadeloupe\", \"Venezuela\", \"('St. Martin',)\", \"Suriname\", \"Eswatini\", \"Mauritania\", \"Saint Vincent and the Grenadines\", \"Saint Lucia\", \"Rwanda\", \"North Ireland\", \"Channel Islands\", \"Guernsey\", \"Guatemala\", \"Curacao\", \"Gabon\", \" Azerbaijan\"], \"type\": \"choropleth\", \"z\": [2797319.0, 118103.0, 104758.0, 88374.0, 21519.0, 20119.0, 19868.0, 19195.0, 12073.0, 9153.0, 5851.0, 4778.0, 4664.0, 4233.0, 4175.0, 3895.0, 3173.0, 2982.0, 2678.0, 2400.0, 2015.0, 1833.0, 1781.0, 1643.0, 1333.0, 1304.0, 1284.0, 1094.0, 1015.0, 972.0, 856.0, 830.0, 819.0, 798.0, 694.0, 686.0, 679.0, 550.0, 547.0, 536.0, 521.0, 517.0, 513.0, 447.0, 432.0, 429.0, 406.0, 319.0, 312.0, 301.0, 297.0, 290.0, 238.0, 233.0, 230.0, 193.0, 191.0, 174.0, 171.0, 157.0, 132.0, 125.0, 121.0, 121.0, 118.0, 118.0, 117.0, 114.0, 110.0, 109.0, 108.0, 101.0, 90.0, 86.0, 85.0, 83.0, 70.0, 67.0, 65.0, 64.0, 61.0, 60.0, 59.0, 58.0, 57.0, 56.0, 56.0, 51.0, 50.0, 50.0, 49.0, 41.0, 40.0, 32.0, 29.0, 26.0, 25.0, 25.0, 22.0, 21.0, 21.0, 19.0, 18.0, 17.0, 17.0, 16.0, 16.0, 14.0, 13.0, 13.0, 12.0, 12.0, 11.0, 10.0, 10.0, 9.0, 9.0, 9.0, 8.0, 7.0, 6.0, 5.0, 5.0, 5.0, 4.0, 4.0, 4.0, 3.0, 3.0, 2.0, 2.0, 2.0, 2.0, 2.0, 2.0, 2.0, 2.0, 2.0, 2.0, 2.0, 2.0, 2.0, 2.0, 1.0, 1.0, 1.0, 1.0, 1.0, 1.0, 1.0, 1.0, 1.0, 1.0, 1.0, 1.0, 1.0]}],\n",
       "                        {\"geo\": {\"projection\": {\"type\": \"Mercator\"}, \"showcoastlines\": true, \"showframe\": false}, \"margin\": {\"b\": 30, \"l\": 10, \"r\": 10, \"t\": 50}, \"title\": \"Countries with COVID-19\"},\n",
       "                        {\"responsive\": true}\n",
       "                    ).then(function(){\n",
       "                            \n",
       "var gd = document.getElementById('041ca347-08cd-4efe-807c-a21c617e8c64');\n",
       "var x = new MutationObserver(function (mutations, observer) {{\n",
       "        var display = window.getComputedStyle(gd).display;\n",
       "        if (!display || display === 'none') {{\n",
       "            console.log([gd, 'removed!']);\n",
       "            Plotly.purge(gd);\n",
       "            observer.disconnect();\n",
       "        }}\n",
       "}});\n",
       "\n",
       "// Listen for the removal of the full notebook cells\n",
       "var notebookContainer = gd.closest('#notebook-container');\n",
       "if (notebookContainer) {{\n",
       "    x.observe(notebookContainer, {childList: true});\n",
       "}}\n",
       "\n",
       "// Listen for the clearing of the current output cell\n",
       "var outputEl = gd.closest('.output');\n",
       "if (outputEl) {{\n",
       "    x.observe(outputEl, {childList: true});\n",
       "}}\n",
       "\n",
       "                        })\n",
       "                };\n",
       "                });\n",
       "            </script>\n",
       "        </div>"
      ]
     },
     "metadata": {},
     "output_type": "display_data"
    }
   ],
   "source": [
    "import plotly.figure_factory as ff\n",
    "from plotly.offline import download_plotlyjs, init_notebook_mode, plot, iplot\n",
    "init_notebook_mode(connected=True)\n",
    "\n",
    "confirmed_country = df2.groupby('Country/Region').sum()['Confirmed'].sort_values(ascending = False)\n",
    "data = [dict(\n",
    "        type='choropleth',\n",
    "        locations= confirmed_country.index,\n",
    "        locationmode='country names',\n",
    "        z=confirmed_country.values,\n",
    "        text=confirmed_country.index,\n",
    "        colorscale = [[0,'rgb(255, 120, 120)'],[1,'rgb(255, 180, 240)']],\n",
    "        reversescale=True,\n",
    "        marker=dict(line=dict(width=0.7)),\n",
    "        colorbar=dict(autotick=False, tickprefix='', title='Number of Cases'),\n",
    ")]\n",
    "layout = dict(title = 'Countries with COVID-19', \n",
    "        geo = dict(\n",
    "            showframe = False, \n",
    "            showcoastlines = True, \n",
    "            projection = dict(type = 'Mercator')),\n",
    "            margin = dict(t=50, b=30, l=10, r=10))\n",
    "fig = dict(data=data, layout=layout)\n",
    "iplot(fig, validate=False, filename='Coronavirus-19')\n"
   ]
  },
  {
   "cell_type": "markdown",
   "metadata": {},
   "source": [
    "#### Look for a Trend in various situations: Confirmed, Deaths, Recovered, ActiveCases"
   ]
  },
  {
   "cell_type": "code",
   "execution_count": 39,
   "metadata": {},
   "outputs": [
    {
     "data": {
      "image/png": "[encoded data removed]",
      "text/plain": [
       "<Figure size 432x288 with 1 Axes>"
      ]
     },
     "metadata": {
      "needs_background": "light"
     },
     "output_type": "display_data"
    }
   ],
   "source": [
    "df2.plot(kind='line',x='ObservationDate',\n",
    "              y=['Confirmed','Deaths','Recovered','Active'],\n",
    "              color = ['blue','black','green','red'])\n",
    "plt.title('Covid-19 World Trends')\n",
    "plt.ylabel('Number of Observations')\n",
    "plt.show()"
   ]
  },
  {
   "cell_type": "code",
   "execution_count": 50,
   "metadata": {},
   "outputs": [
    {
     "data": {
      "text/plain": [
       "156"
      ]
     },
     "execution_count": 50,
     "metadata": {},
     "output_type": "execute_result"
    }
   ],
   "source": [
    "len(df2['Country/Region'].value_counts())"
   ]
  },
  {
   "cell_type": "code",
   "execution_count": 48,
   "metadata": {},
   "outputs": [
    {
     "name": "stdout",
     "output_type": "stream",
     "text": [
      "2020-01-22 00:00:00 is the beginning and 2020-03-14 00:00:00 is the latest date for this data set\n"
     ]
    }
   ],
   "source": [
    "start_date = df2.iloc[df2.first_valid_index()]['ObservationDate']\n",
    "end_date = df2.iloc[df2.last_valid_index()]['ObservationDate']\n",
    "print(f\"{start_date} is the beginning and {end_date} is the latest date for this data set\")"
   ]
  },
  {
   "cell_type": "markdown",
   "metadata": {},
   "source": [
    "##### Key Takeaways:\n",
    "* There are 156 countries that are affected by Covid-19\n",
    "* The start date and end date for this dataset are from 1/22/20 - 3/14/20 respectively (7 weeks)\n",
    "* Confirmed cases start very low at the beginning of Feb,and increase sharply thereafter. It levels off on the beginning of March\n",
    "* Active cases follow a bell shape with its peak on mid Feb suggesting an increasing in recovered cases from that date\n",
    "* Very few cases are recovered at the start, but the recovered rate increase steadily. Whatever solutions here work!\n",
    "* Death rate is increasing\n",
    "* Will analyze countries with the highest confirmation cases on the list\n"
   ]
  },
  {
   "cell_type": "code",
   "execution_count": 14,
   "metadata": {
    "scrolled": true
   },
   "outputs": [
    {
     "name": "stdout",
     "output_type": "stream",
     "text": [
      "Number of records for China are (1649, 9)\n"
     ]
    },
    {
     "data": {
      "text/html": [
       "<div>\n",
       "<style scoped>\n",
       "    .dataframe tbody tr th:only-of-type {\n",
       "        vertical-align: middle;\n",
       "    }\n",
       "\n",
       "    .dataframe tbody tr th {\n",
       "        vertical-align: top;\n",
       "    }\n",
       "\n",
       "    .dataframe thead th {\n",
       "        text-align: right;\n",
       "    }\n",
       "</style>\n",
       "<table border=\"1\" class=\"dataframe\">\n",
       "  <thead>\n",
       "    <tr style=\"text-align: right;\">\n",
       "      <th></th>\n",
       "      <th>ObservationDate</th>\n",
       "      <th>SNo</th>\n",
       "      <th>Confirmed</th>\n",
       "      <th>Deaths</th>\n",
       "      <th>Recovered</th>\n",
       "      <th>Active</th>\n",
       "    </tr>\n",
       "  </thead>\n",
       "  <tbody>\n",
       "    <tr>\n",
       "      <td>0</td>\n",
       "      <td>01/22/2020</td>\n",
       "      <td>535</td>\n",
       "      <td>547.0</td>\n",
       "      <td>17.0</td>\n",
       "      <td>28.0</td>\n",
       "      <td>502.0</td>\n",
       "    </tr>\n",
       "    <tr>\n",
       "      <td>1</td>\n",
       "      <td>01/23/2020</td>\n",
       "      <td>1713</td>\n",
       "      <td>639.0</td>\n",
       "      <td>18.0</td>\n",
       "      <td>30.0</td>\n",
       "      <td>591.0</td>\n",
       "    </tr>\n",
       "    <tr>\n",
       "      <td>2</td>\n",
       "      <td>01/24/2020</td>\n",
       "      <td>3004</td>\n",
       "      <td>916.0</td>\n",
       "      <td>26.0</td>\n",
       "      <td>36.0</td>\n",
       "      <td>854.0</td>\n",
       "    </tr>\n",
       "    <tr>\n",
       "      <td>3</td>\n",
       "      <td>01/25/2020</td>\n",
       "      <td>4224</td>\n",
       "      <td>1399.0</td>\n",
       "      <td>42.0</td>\n",
       "      <td>39.0</td>\n",
       "      <td>1318.0</td>\n",
       "    </tr>\n",
       "    <tr>\n",
       "      <td>4</td>\n",
       "      <td>01/26/2020</td>\n",
       "      <td>5548</td>\n",
       "      <td>2062.0</td>\n",
       "      <td>56.0</td>\n",
       "      <td>49.0</td>\n",
       "      <td>1957.0</td>\n",
       "    </tr>\n",
       "  </tbody>\n",
       "</table>\n",
       "</div>"
      ],
      "text/plain": [
       "  ObservationDate   SNo  Confirmed  Deaths  Recovered  Active\n",
       "0      01/22/2020   535      547.0    17.0       28.0   502.0\n",
       "1      01/23/2020  1713      639.0    18.0       30.0   591.0\n",
       "2      01/24/2020  3004      916.0    26.0       36.0   854.0\n",
       "3      01/25/2020  4224     1399.0    42.0       39.0  1318.0\n",
       "4      01/26/2020  5548     2062.0    56.0       49.0  1957.0"
      ]
     },
     "execution_count": 14,
     "metadata": {},
     "output_type": "execute_result"
    }
   ],
   "source": [
    "df_china = df2[df2['Country/Region'] == 'Mainland China']\n",
    "print(f\"Number of records for China are {df_china.shape}\")\n",
    "df_china = df_china.groupby(['ObservationDate']).sum().reset_index()\n",
    "df_china.head()"
   ]
  },
  {
   "cell_type": "code",
   "execution_count": 16,
   "metadata": {},
   "outputs": [
    {
     "data": {
      "image/png": "[encoded data removed]",
      "text/plain": [
       "<Figure size 432x288 with 1 Axes>"
      ]
     },
     "metadata": {
      "needs_background": "light"
     },
     "output_type": "display_data"
    }
   ],
   "source": [
    "df_china.plot(kind='line',x='ObservationDate',\n",
    "              y=['Confirmed','Deaths','Recovered','Active'],\n",
    "              color = ['blue','black','green','red'])\n",
    "\n",
    "plt.title('Covid-19 Trend in China')\n",
    "plt.ylabel('Number of Observations')\n",
    "plt.show()"
   ]
  },
  {
   "cell_type": "code",
   "execution_count": 17,
   "metadata": {
    "scrolled": true
   },
   "outputs": [
    {
     "name": "stdout",
     "output_type": "stream",
     "text": [
      "In China, since 03/05/20, Active Cases and Recovery Percentage is 22.82%, 73.32% respectively and Death Rate is 3.86%.\n"
     ]
    }
   ],
   "source": [
    "# Calculating Death, Active, and Recovery Percentage for China\n",
    "df_china = df_china[df_china['ObservationDate']>= '03/05/2020']\n",
    "active_percentage = round((df_china['Active'].sum())/(df_china['Confirmed'].sum())* 100,2)\n",
    "recovery_percentage = round((df_china['Recovered'].sum())/(df_china['Confirmed'].sum())* 100,2)\n",
    "death_percentage = round((df_china['Deaths'].sum())/(df_china['Confirmed'].sum())* 100,2)\n",
    "print(f\"In China, since 03/05/20, Active Cases and Recovery Percentage is {active_percentage}%, {recovery_percentage}% respectively and Death Rate is {death_percentage}%.\")"
   ]
  },
  {
   "cell_type": "markdown",
   "metadata": {},
   "source": [
    "##### Key Takeaways:\n",
    "*  Number of confirmed cases continues to grow sharply from 01/22/20 to the end for Feburary.It then starts    level off the first week of March\n",
    "*  Number of Deaths are steadily increasing from 1/22/20 - 3/14/20. It continues increading even when the confirmed cases are stablized. It can be inferred that the previous confirmed cases were not be able to recovered.\n",
    "*  The recovery rate in the first 10 days is zero.But after that it increase sharply, and continue to grow. China did very well in fighting the virus\n",
    "*  Active cases went down sharply from 2/21 - 3/05/20.This is very easy to explain. Since the confirmed cases are stable, the recovery rate is increase sharply; therefore active cases drop dramatically.\n",
    "* China did very good job in handling the pandemic. Since the first week of March, confirmed cases are stablized, recovered rate are shot up, active cases drop sharply. The other countries should learn the ways China handles the crisis."
   ]
  },
  {
   "cell_type": "code",
   "execution_count": 18,
   "metadata": {},
   "outputs": [
    {
     "name": "stdout",
     "output_type": "stream",
     "text": [
      "Number of records for South Korea are (53, 9)\n"
     ]
    },
    {
     "data": {
      "text/html": [
       "<div>\n",
       "<style scoped>\n",
       "    .dataframe tbody tr th:only-of-type {\n",
       "        vertical-align: middle;\n",
       "    }\n",
       "\n",
       "    .dataframe tbody tr th {\n",
       "        vertical-align: top;\n",
       "    }\n",
       "\n",
       "    .dataframe thead th {\n",
       "        text-align: right;\n",
       "    }\n",
       "</style>\n",
       "<table border=\"1\" class=\"dataframe\">\n",
       "  <thead>\n",
       "    <tr style=\"text-align: right;\">\n",
       "      <th></th>\n",
       "      <th>ObservationDate</th>\n",
       "      <th>SNo</th>\n",
       "      <th>Confirmed</th>\n",
       "      <th>Deaths</th>\n",
       "      <th>Recovered</th>\n",
       "      <th>Active</th>\n",
       "    </tr>\n",
       "  </thead>\n",
       "  <tbody>\n",
       "    <tr>\n",
       "      <td>0</td>\n",
       "      <td>01/22/2020</td>\n",
       "      <td>38</td>\n",
       "      <td>1.0</td>\n",
       "      <td>0.0</td>\n",
       "      <td>0.0</td>\n",
       "      <td>1.0</td>\n",
       "    </tr>\n",
       "    <tr>\n",
       "      <td>1</td>\n",
       "      <td>01/23/2020</td>\n",
       "      <td>76</td>\n",
       "      <td>1.0</td>\n",
       "      <td>0.0</td>\n",
       "      <td>0.0</td>\n",
       "      <td>1.0</td>\n",
       "    </tr>\n",
       "    <tr>\n",
       "      <td>2</td>\n",
       "      <td>01/24/2020</td>\n",
       "      <td>122</td>\n",
       "      <td>2.0</td>\n",
       "      <td>0.0</td>\n",
       "      <td>0.0</td>\n",
       "      <td>2.0</td>\n",
       "    </tr>\n",
       "    <tr>\n",
       "      <td>3</td>\n",
       "      <td>01/25/2020</td>\n",
       "      <td>163</td>\n",
       "      <td>2.0</td>\n",
       "      <td>0.0</td>\n",
       "      <td>0.0</td>\n",
       "      <td>2.0</td>\n",
       "    </tr>\n",
       "    <tr>\n",
       "      <td>4</td>\n",
       "      <td>01/26/2020</td>\n",
       "      <td>209</td>\n",
       "      <td>3.0</td>\n",
       "      <td>0.0</td>\n",
       "      <td>0.0</td>\n",
       "      <td>3.0</td>\n",
       "    </tr>\n",
       "  </tbody>\n",
       "</table>\n",
       "</div>"
      ],
      "text/plain": [
       "  ObservationDate  SNo  Confirmed  Deaths  Recovered  Active\n",
       "0      01/22/2020   38        1.0     0.0        0.0     1.0\n",
       "1      01/23/2020   76        1.0     0.0        0.0     1.0\n",
       "2      01/24/2020  122        2.0     0.0        0.0     2.0\n",
       "3      01/25/2020  163        2.0     0.0        0.0     2.0\n",
       "4      01/26/2020  209        3.0     0.0        0.0     3.0"
      ]
     },
     "execution_count": 18,
     "metadata": {},
     "output_type": "execute_result"
    }
   ],
   "source": [
    "df_sKorea = df2[df2['Country/Region'] == 'South Korea']\n",
    "print(f\"Number of records for South Korea are {df_sKorea.shape}\")\n",
    "df_sKorea = df_sKorea.groupby(['ObservationDate']).sum().reset_index()\n",
    "#df_italy['Week'] = pd.to_datetime(df_italy['ObservationDate'],errors = 'coerce').dt.week\n",
    "df_sKorea.head()"
   ]
  },
  {
   "cell_type": "code",
   "execution_count": 19,
   "metadata": {},
   "outputs": [
    {
     "data": {
      "image/png": "[encoded data removed]",
      "text/plain": [
       "<Figure size 432x288 with 1 Axes>"
      ]
     },
     "metadata": {
      "needs_background": "light"
     },
     "output_type": "display_data"
    }
   ],
   "source": [
    "df_sKorea.plot(kind='line',x='ObservationDate',\n",
    "              y=['Confirmed','Deaths','Recovered','Active'],\n",
    "              color = ['blue','black','green','red'])\n",
    "plt.title('Covid-19 Trend in South Korea')\n",
    "plt.ylabel('Number of Observations')\n",
    "plt.show()"
   ]
  },
  {
   "cell_type": "code",
   "execution_count": 20,
   "metadata": {},
   "outputs": [
    {
     "name": "stdout",
     "output_type": "stream",
     "text": [
      "In South Korea Active Cases and Recovery Percentage is 96.58%, 2.72% respectively and Death Rate is 0.7%.\n"
     ]
    }
   ],
   "source": [
    "# Calculating Death, Active, and Recovery Percentage in South Korea\n",
    "df_sKorea = df_sKorea[df_sKorea['ObservationDate']>= '01/31/2020']\n",
    "active_percentage = round((df_sKorea['Active'].sum())/(df_sKorea['Confirmed'].sum())* 100,2)\n",
    "recovery_percentage = round((df_sKorea['Recovered'].sum())/(df_sKorea['Confirmed'].sum())* 100,2)\n",
    "death_percentage = round((df_sKorea['Deaths'].sum())/(df_sKorea['Confirmed'].sum())* 100,2)\n",
    "print(f\"In South Korea Active Cases and Recovery Percentage is {active_percentage}%, {recovery_percentage}% respectively and Death Rate is {death_percentage}%.\")"
   ]
  },
  {
   "cell_type": "markdown",
   "metadata": {},
   "source": [
    "##### Key Takeaways:\n",
    "* There is a sudden surge in confirmed and active cases starts on 2/21/20 in South Korea\n",
    "* The confirmed and active cases are almost identical\n",
    "* However, death and recovered rate are flat - zero\n",
    "* Death rate is 0.7 % compares to 3.86% in China\n",
    "* South Korea has been well prepared for the pandemic !"
   ]
  },
  {
   "cell_type": "code",
   "execution_count": 21,
   "metadata": {},
   "outputs": [
    {
     "name": "stdout",
     "output_type": "stream",
     "text": [
      "Number of records for Italy are (44, 9)\n"
     ]
    },
    {
     "data": {
      "text/html": [
       "<div>\n",
       "<style scoped>\n",
       "    .dataframe tbody tr th:only-of-type {\n",
       "        vertical-align: middle;\n",
       "    }\n",
       "\n",
       "    .dataframe tbody tr th {\n",
       "        vertical-align: top;\n",
       "    }\n",
       "\n",
       "    .dataframe thead th {\n",
       "        text-align: right;\n",
       "    }\n",
       "</style>\n",
       "<table border=\"1\" class=\"dataframe\">\n",
       "  <thead>\n",
       "    <tr style=\"text-align: right;\">\n",
       "      <th></th>\n",
       "      <th>ObservationDate</th>\n",
       "      <th>SNo</th>\n",
       "      <th>Confirmed</th>\n",
       "      <th>Deaths</th>\n",
       "      <th>Recovered</th>\n",
       "      <th>Active</th>\n",
       "    </tr>\n",
       "  </thead>\n",
       "  <tbody>\n",
       "    <tr>\n",
       "      <td>0</td>\n",
       "      <td>01/31/2020</td>\n",
       "      <td>481</td>\n",
       "      <td>2.0</td>\n",
       "      <td>0.0</td>\n",
       "      <td>0.0</td>\n",
       "      <td>2.0</td>\n",
       "    </tr>\n",
       "    <tr>\n",
       "      <td>1</td>\n",
       "      <td>02/01/2020</td>\n",
       "      <td>540</td>\n",
       "      <td>2.0</td>\n",
       "      <td>0.0</td>\n",
       "      <td>0.0</td>\n",
       "      <td>2.0</td>\n",
       "    </tr>\n",
       "    <tr>\n",
       "      <td>2</td>\n",
       "      <td>02/02/2020</td>\n",
       "      <td>609</td>\n",
       "      <td>2.0</td>\n",
       "      <td>0.0</td>\n",
       "      <td>0.0</td>\n",
       "      <td>2.0</td>\n",
       "    </tr>\n",
       "    <tr>\n",
       "      <td>3</td>\n",
       "      <td>02/03/2020</td>\n",
       "      <td>676</td>\n",
       "      <td>2.0</td>\n",
       "      <td>0.0</td>\n",
       "      <td>0.0</td>\n",
       "      <td>2.0</td>\n",
       "    </tr>\n",
       "    <tr>\n",
       "      <td>4</td>\n",
       "      <td>02/04/2020</td>\n",
       "      <td>744</td>\n",
       "      <td>2.0</td>\n",
       "      <td>0.0</td>\n",
       "      <td>0.0</td>\n",
       "      <td>2.0</td>\n",
       "    </tr>\n",
       "  </tbody>\n",
       "</table>\n",
       "</div>"
      ],
      "text/plain": [
       "  ObservationDate  SNo  Confirmed  Deaths  Recovered  Active\n",
       "0      01/31/2020  481        2.0     0.0        0.0     2.0\n",
       "1      02/01/2020  540        2.0     0.0        0.0     2.0\n",
       "2      02/02/2020  609        2.0     0.0        0.0     2.0\n",
       "3      02/03/2020  676        2.0     0.0        0.0     2.0\n",
       "4      02/04/2020  744        2.0     0.0        0.0     2.0"
      ]
     },
     "execution_count": 21,
     "metadata": {},
     "output_type": "execute_result"
    }
   ],
   "source": [
    "df_italy = df2[df2['Country/Region'] == 'Italy']\n",
    "print(f\"Number of records for Italy are {df_italy.shape}\")\n",
    "df_italy = df_italy.groupby(['ObservationDate']).sum().reset_index()\n",
    "#df_italy['Week'] = pd.to_datetime(df_italy['ObservationDate'],errors = 'coerce').dt.week\n",
    "df_italy.head()"
   ]
  },
  {
   "cell_type": "code",
   "execution_count": 22,
   "metadata": {},
   "outputs": [
    {
     "data": {
      "image/png": "[encoded data removed]",
      "text/plain": [
       "<Figure size 432x288 with 1 Axes>"
      ]
     },
     "metadata": {
      "needs_background": "light"
     },
     "output_type": "display_data"
    }
   ],
   "source": [
    "df_italy.plot(kind='line',x='ObservationDate',\n",
    "              y=['Confirmed','Deaths','Recovered','Active'],\n",
    "              color = ['blue','black','green','red'])\n",
    "plt.title('Covid-19 Trend in Italy')\n",
    "plt.ylabel('Number of Observations')\n",
    "plt.show()"
   ]
  },
  {
   "cell_type": "code",
   "execution_count": 23,
   "metadata": {},
   "outputs": [
    {
     "name": "stdout",
     "output_type": "stream",
     "text": [
      "In Italy, Active Cases and Recovery Percentage is 85.88%, 8.39% respectively and Death Rate is 5.73%.\n"
     ]
    }
   ],
   "source": [
    "# Calculating Death, Active, and Recovery Percentage in Italy\n",
    "df_italy = df_italy[df_italy['ObservationDate']>= '01/31/2020']\n",
    "active_percentage = round((df_italy['Active'].sum())/(df_italy['Confirmed'].sum())* 100,2)\n",
    "recovery_percentage = round((df_italy['Recovered'].sum())/(df_italy['Confirmed'].sum())* 100,2)\n",
    "death_percentage = round((df_italy['Deaths'].sum())/(df_italy['Confirmed'].sum())* 100,2)\n",
    "print(f\"In Italy, Active Cases and Recovery Percentage is {active_percentage}%, {recovery_percentage}% respectively and Death Rate is {death_percentage}%.\")"
   ]
  },
  {
   "cell_type": "markdown",
   "metadata": {},
   "source": [
    "##### Key Takeaways:\n",
    "* In Italy,there isn't any report cases from 1/31/20 to 2/15/20\n",
    "* There is a sudden surge for all status: confirmed,active deatth and recovery cases\n",
    "* Death rate and recovery rate are almost identical: 6.11% & 8.67% respectively. An alarming rate !\n",
    "* Trending is different than China"
   ]
  },
  {
   "cell_type": "code",
   "execution_count": 24,
   "metadata": {},
   "outputs": [
    {
     "name": "stdout",
     "output_type": "stream",
     "text": [
      "Number of records for USA are (1162, 9)\n"
     ]
    },
    {
     "data": {
      "text/html": [
       "<div>\n",
       "<style scoped>\n",
       "    .dataframe tbody tr th:only-of-type {\n",
       "        vertical-align: middle;\n",
       "    }\n",
       "\n",
       "    .dataframe tbody tr th {\n",
       "        vertical-align: top;\n",
       "    }\n",
       "\n",
       "    .dataframe thead th {\n",
       "        text-align: right;\n",
       "    }\n",
       "</style>\n",
       "<table border=\"1\" class=\"dataframe\">\n",
       "  <thead>\n",
       "    <tr style=\"text-align: right;\">\n",
       "      <th></th>\n",
       "      <th>ObservationDate</th>\n",
       "      <th>SNo</th>\n",
       "      <th>Confirmed</th>\n",
       "      <th>Deaths</th>\n",
       "      <th>Recovered</th>\n",
       "      <th>Active</th>\n",
       "    </tr>\n",
       "  </thead>\n",
       "  <tbody>\n",
       "    <tr>\n",
       "      <td>0</td>\n",
       "      <td>01/22/2020</td>\n",
       "      <td>32</td>\n",
       "      <td>1.0</td>\n",
       "      <td>0.0</td>\n",
       "      <td>0.0</td>\n",
       "      <td>1.0</td>\n",
       "    </tr>\n",
       "    <tr>\n",
       "      <td>1</td>\n",
       "      <td>01/23/2020</td>\n",
       "      <td>70</td>\n",
       "      <td>1.0</td>\n",
       "      <td>0.0</td>\n",
       "      <td>0.0</td>\n",
       "      <td>1.0</td>\n",
       "    </tr>\n",
       "    <tr>\n",
       "      <td>2</td>\n",
       "      <td>01/24/2020</td>\n",
       "      <td>237</td>\n",
       "      <td>2.0</td>\n",
       "      <td>0.0</td>\n",
       "      <td>0.0</td>\n",
       "      <td>2.0</td>\n",
       "    </tr>\n",
       "    <tr>\n",
       "      <td>3</td>\n",
       "      <td>01/25/2020</td>\n",
       "      <td>319</td>\n",
       "      <td>2.0</td>\n",
       "      <td>0.0</td>\n",
       "      <td>0.0</td>\n",
       "      <td>2.0</td>\n",
       "    </tr>\n",
       "    <tr>\n",
       "      <td>4</td>\n",
       "      <td>01/26/2020</td>\n",
       "      <td>818</td>\n",
       "      <td>5.0</td>\n",
       "      <td>0.0</td>\n",
       "      <td>0.0</td>\n",
       "      <td>5.0</td>\n",
       "    </tr>\n",
       "  </tbody>\n",
       "</table>\n",
       "</div>"
      ],
      "text/plain": [
       "  ObservationDate  SNo  Confirmed  Deaths  Recovered  Active\n",
       "0      01/22/2020   32        1.0     0.0        0.0     1.0\n",
       "1      01/23/2020   70        1.0     0.0        0.0     1.0\n",
       "2      01/24/2020  237        2.0     0.0        0.0     2.0\n",
       "3      01/25/2020  319        2.0     0.0        0.0     2.0\n",
       "4      01/26/2020  818        5.0     0.0        0.0     5.0"
      ]
     },
     "execution_count": 24,
     "metadata": {},
     "output_type": "execute_result"
    }
   ],
   "source": [
    "df_USA = df2[df2['Country/Region'] == 'US']\n",
    "print(f\"Number of records for USA are {df_USA.shape}\")\n",
    "df_USA = df_USA.groupby(['ObservationDate']).sum().reset_index()\n",
    "df_USA.head()"
   ]
  },
  {
   "cell_type": "code",
   "execution_count": 25,
   "metadata": {},
   "outputs": [
    {
     "data": {
      "image/png": "[encoded data removed]",
      "text/plain": [
       "<Figure size 432x288 with 1 Axes>"
      ]
     },
     "metadata": {
      "needs_background": "light"
     },
     "output_type": "display_data"
    }
   ],
   "source": [
    "df_USA.plot(kind='line',x='ObservationDate',\n",
    "              y=['Confirmed','Deaths','Recovered','Active'],\n",
    "              color = ['blue','black','green','red'])\n",
    "plt.title('Covid-19 Trend in USA')\n",
    "plt.ylabel('Number of Observations')\n",
    "plt.show()"
   ]
  },
  {
   "cell_type": "code",
   "execution_count": 26,
   "metadata": {},
   "outputs": [
    {
     "name": "stdout",
     "output_type": "stream",
     "text": [
      "In the USA, since 02/21/20, Active Cases and Recovery Percentage is 95.62%, 1.74% respectively and Death Rate is 2.63%.\n"
     ]
    }
   ],
   "source": [
    "# Calculating Death, Active, and Recovery Percentage in the USA\n",
    "df_USA = df_USA[df_USA['ObservationDate']>= '01/31/2020']\n",
    "active_percentage = round((df_USA['Active'].sum())/(df_USA['Confirmed'].sum())* 100,2)\n",
    "recovery_percentage = round((df_USA['Recovered'].sum())/(df_USA['Confirmed'].sum())* 100,2)\n",
    "death_percentage = round((df_USA['Deaths'].sum())/(df_USA['Confirmed'].sum())* 100,2)\n",
    "print(f\"In the USA, since 02/21/20, Active Cases and Recovery Percentage is {active_percentage}%, {recovery_percentage}% respectively and Death Rate is {death_percentage}%.\")"
   ]
  },
  {
   "cell_type": "markdown",
   "metadata": {},
   "source": [
    "##### Key Takeaways:\n",
    "* There aren't any report about the outbreak until 2/21/20\n",
    "* There is a huge surge in confirmed cases and active cases starting at the beginning of March\n",
    "* Confirmed and active cases are almost identical\n",
    "* There is a subtle increase in death rate compare to recovered rate on 3/12/20\n",
    "* Actice cases are huge, recovered less than deaths. USA must do something to control the situation"
   ]
  },
  {
   "cell_type": "code",
   "execution_count": 27,
   "metadata": {},
   "outputs": [
    {
     "name": "stdout",
     "output_type": "stream",
     "text": [
      "Number of records in Spain are (43, 9)\n"
     ]
    },
    {
     "data": {
      "text/html": [
       "<div>\n",
       "<style scoped>\n",
       "    .dataframe tbody tr th:only-of-type {\n",
       "        vertical-align: middle;\n",
       "    }\n",
       "\n",
       "    .dataframe tbody tr th {\n",
       "        vertical-align: top;\n",
       "    }\n",
       "\n",
       "    .dataframe thead th {\n",
       "        text-align: right;\n",
       "    }\n",
       "</style>\n",
       "<table border=\"1\" class=\"dataframe\">\n",
       "  <thead>\n",
       "    <tr style=\"text-align: right;\">\n",
       "      <th></th>\n",
       "      <th>ObservationDate</th>\n",
       "      <th>SNo</th>\n",
       "      <th>Confirmed</th>\n",
       "      <th>Deaths</th>\n",
       "      <th>Recovered</th>\n",
       "      <th>Active</th>\n",
       "    </tr>\n",
       "  </thead>\n",
       "  <tbody>\n",
       "    <tr>\n",
       "      <td>0</td>\n",
       "      <td>02/01/2020</td>\n",
       "      <td>552</td>\n",
       "      <td>1.0</td>\n",
       "      <td>0.0</td>\n",
       "      <td>0.0</td>\n",
       "      <td>1.0</td>\n",
       "    </tr>\n",
       "    <tr>\n",
       "      <td>1</td>\n",
       "      <td>02/02/2020</td>\n",
       "      <td>619</td>\n",
       "      <td>1.0</td>\n",
       "      <td>0.0</td>\n",
       "      <td>0.0</td>\n",
       "      <td>1.0</td>\n",
       "    </tr>\n",
       "    <tr>\n",
       "      <td>2</td>\n",
       "      <td>02/03/2020</td>\n",
       "      <td>688</td>\n",
       "      <td>1.0</td>\n",
       "      <td>0.0</td>\n",
       "      <td>0.0</td>\n",
       "      <td>1.0</td>\n",
       "    </tr>\n",
       "    <tr>\n",
       "      <td>3</td>\n",
       "      <td>02/04/2020</td>\n",
       "      <td>758</td>\n",
       "      <td>1.0</td>\n",
       "      <td>0.0</td>\n",
       "      <td>0.0</td>\n",
       "      <td>1.0</td>\n",
       "    </tr>\n",
       "    <tr>\n",
       "      <td>4</td>\n",
       "      <td>02/05/2020</td>\n",
       "      <td>828</td>\n",
       "      <td>1.0</td>\n",
       "      <td>0.0</td>\n",
       "      <td>0.0</td>\n",
       "      <td>1.0</td>\n",
       "    </tr>\n",
       "  </tbody>\n",
       "</table>\n",
       "</div>"
      ],
      "text/plain": [
       "  ObservationDate  SNo  Confirmed  Deaths  Recovered  Active\n",
       "0      02/01/2020  552        1.0     0.0        0.0     1.0\n",
       "1      02/02/2020  619        1.0     0.0        0.0     1.0\n",
       "2      02/03/2020  688        1.0     0.0        0.0     1.0\n",
       "3      02/04/2020  758        1.0     0.0        0.0     1.0\n",
       "4      02/05/2020  828        1.0     0.0        0.0     1.0"
      ]
     },
     "execution_count": 27,
     "metadata": {},
     "output_type": "execute_result"
    }
   ],
   "source": [
    "df_Spain = df2[df2['Country/Region'] == 'Spain']\n",
    "print(f\"Number of records in Spain are {df_Spain.shape}\")\n",
    "df_Spain = df_Spain.groupby(['ObservationDate']).sum().reset_index()\n",
    "#df_italy['Week'] = pd.to_datetime(df_italy['ObservationDate'],errors = 'coerce').dt.week\n",
    "df_Spain.head()"
   ]
  },
  {
   "cell_type": "code",
   "execution_count": 28,
   "metadata": {
    "scrolled": true
   },
   "outputs": [
    {
     "data": {
      "image/png": "[encoded data removed]",
      "text/plain": [
       "<Figure size 432x288 with 1 Axes>"
      ]
     },
     "metadata": {
      "needs_background": "light"
     },
     "output_type": "display_data"
    }
   ],
   "source": [
    "df_Spain.plot(kind='line',x='ObservationDate',\n",
    "              y=['Confirmed','Deaths','Recovered','Active'],\n",
    "              color = ['blue','black','green','red'])\n",
    "plt.title('Covid-19 Trend in Spain')\n",
    "plt.ylabel('Number of Observations')\n",
    "plt.show()"
   ]
  },
  {
   "cell_type": "code",
   "execution_count": 29,
   "metadata": {},
   "outputs": [
    {
     "data": {
      "text/html": [
       "<div>\n",
       "<style scoped>\n",
       "    .dataframe tbody tr th:only-of-type {\n",
       "        vertical-align: middle;\n",
       "    }\n",
       "\n",
       "    .dataframe tbody tr th {\n",
       "        vertical-align: top;\n",
       "    }\n",
       "\n",
       "    .dataframe thead th {\n",
       "        text-align: right;\n",
       "    }\n",
       "</style>\n",
       "<table border=\"1\" class=\"dataframe\">\n",
       "  <thead>\n",
       "    <tr style=\"text-align: right;\">\n",
       "      <th></th>\n",
       "      <th>Numbers</th>\n",
       "      <th>Status</th>\n",
       "    </tr>\n",
       "  </thead>\n",
       "  <tbody>\n",
       "    <tr>\n",
       "      <td>0</td>\n",
       "      <td>42    6391.0\n",
       "Name: Confirmed, dtype: float64</td>\n",
       "      <td>Confirmed</td>\n",
       "    </tr>\n",
       "    <tr>\n",
       "      <td>1</td>\n",
       "      <td>42    5679.0\n",
       "Name: Active, dtype: float64</td>\n",
       "      <td>Active</td>\n",
       "    </tr>\n",
       "    <tr>\n",
       "      <td>2</td>\n",
       "      <td>42    195.0\n",
       "Name: Deaths, dtype: float64</td>\n",
       "      <td>Deaths</td>\n",
       "    </tr>\n",
       "    <tr>\n",
       "      <td>3</td>\n",
       "      <td>42    517.0\n",
       "Name: Recovered, dtype: float64</td>\n",
       "      <td>Recovered</td>\n",
       "    </tr>\n",
       "  </tbody>\n",
       "</table>\n",
       "</div>"
      ],
      "text/plain": [
       "                                        Numbers     Status\n",
       "0  42    6391.0\n",
       "Name: Confirmed, dtype: float64  Confirmed\n",
       "1     42    5679.0\n",
       "Name: Active, dtype: float64     Active\n",
       "2      42    195.0\n",
       "Name: Deaths, dtype: float64     Deaths\n",
       "3   42    517.0\n",
       "Name: Recovered, dtype: float64  Recovered"
      ]
     },
     "execution_count": 29,
     "metadata": {},
     "output_type": "execute_result"
    }
   ],
   "source": [
    "latest_date = df2.iloc[df2.last_valid_index()]['ObservationDate']\n",
    "\n",
    "df_Spain_lately=df_Spain[df_Spain['ObservationDate'] == latest_date]\n",
    "df_Spain_status = pd.DataFrame(columns=['Numbers','Status'])\n",
    "df_Spain_status=df_Spain_status.append({'Numbers':df_Spain_lately['Confirmed'],\n",
    "                                        'Status':'Confirmed'},ignore_index=True)\n",
    "df_Spain_status=df_Spain_status.append({'Numbers':df_Spain_lately['Active'],\n",
    "                                        'Status':'Active'},ignore_index=True)\n",
    "df_Spain_status=df_Spain_status.append({'Numbers':df_Spain_lately['Deaths'],\n",
    "                                        'Status':'Deaths'},ignore_index=True)\n",
    "df_Spain_status=df_Spain_status.append({'Numbers':df_Spain_lately['Recovered'],\n",
    "                                        'Status':'Recovered'},ignore_index=True)\n",
    "df_Spain_status\n",
    "#fig = px.bar(df_Spain_status,x ='Status',y='Numbers',\n",
    "                     #title = 'Current Status In Spain', color ='Numbers')\n",
    "#fig.show()\n"
   ]
  },
  {
   "cell_type": "code",
   "execution_count": 30,
   "metadata": {},
   "outputs": [
    {
     "name": "stdout",
     "output_type": "stream",
     "text": [
      "In Spain, since 02/21/20, Active Cases and Recovery Percentage is 91.73%, 5.77% respectively and Death Rate is 2.5%.\n"
     ]
    }
   ],
   "source": [
    "# Calculating Death, Active, and Recovery Percentage in the Spain\n",
    "df_Spain = df_Spain[df_Spain['ObservationDate']>= '01/31/2020']\n",
    "active_percentage = round((df_Spain['Active'].sum())/(df_Spain['Confirmed'].sum())* 100,2)\n",
    "recovery_percentage = round((df_Spain['Recovered'].sum())/(df_Spain['Confirmed'].sum())* 100,2)\n",
    "death_percentage = round((df_Spain['Deaths'].sum())/(df_Spain['Confirmed'].sum())* 100,2)\n",
    "print(f\"In Spain, since 02/21/20, Active Cases and Recovery Percentage is {active_percentage}%, {recovery_percentage}% respectively and Death Rate is {death_percentage}%.\")"
   ]
  },
  {
   "cell_type": "markdown",
   "metadata": {},
   "source": [
    "##### Key Takeaways:\n",
    "* There is a straight up surge in confirmed and active cases in Spain beginging on 3/12/20\n",
    "* Confirmed cases and active cases are almost the same, meaning much less recovered cases\n",
    "* Deaths rate and recovered rate both increase at the beginning of the second week in March"
   ]
  },
  {
   "cell_type": "code",
   "execution_count": 31,
   "metadata": {},
   "outputs": [],
   "source": [
    "df2['ObservationDate'] = pd.to_datetime(df2['ObservationDate'],format='%m/%d/%Y')"
   ]
  },
  {
   "cell_type": "code",
   "execution_count": 33,
   "metadata": {
    "scrolled": true
   },
   "outputs": [
    {
     "data": {
      "text/html": [
       "<div>\n",
       "<style scoped>\n",
       "    .dataframe tbody tr th:only-of-type {\n",
       "        vertical-align: middle;\n",
       "    }\n",
       "\n",
       "    .dataframe tbody tr th {\n",
       "        vertical-align: top;\n",
       "    }\n",
       "\n",
       "    .dataframe thead th {\n",
       "        text-align: right;\n",
       "    }\n",
       "</style>\n",
       "<table border=\"1\" class=\"dataframe\">\n",
       "  <thead>\n",
       "    <tr style=\"text-align: right;\">\n",
       "      <th></th>\n",
       "      <th>Country/Region</th>\n",
       "      <th>Confirmed</th>\n",
       "      <th>SNo</th>\n",
       "      <th>Deaths</th>\n",
       "      <th>Recovered</th>\n",
       "      <th>Active</th>\n",
       "    </tr>\n",
       "  </thead>\n",
       "  <tbody>\n",
       "    <tr>\n",
       "      <td>0</td>\n",
       "      <td>Azerbaijan</td>\n",
       "      <td>1.0</td>\n",
       "      <td>2664</td>\n",
       "      <td>0.0</td>\n",
       "      <td>0.0</td>\n",
       "      <td>1.0</td>\n",
       "    </tr>\n",
       "    <tr>\n",
       "      <td>1</td>\n",
       "      <td>('St. Martin',)</td>\n",
       "      <td>2.0</td>\n",
       "      <td>4675</td>\n",
       "      <td>0.0</td>\n",
       "      <td>0.0</td>\n",
       "      <td>2.0</td>\n",
       "    </tr>\n",
       "    <tr>\n",
       "      <td>2</td>\n",
       "      <td>Afghanistan</td>\n",
       "      <td>1.0</td>\n",
       "      <td>38707</td>\n",
       "      <td>0.0</td>\n",
       "      <td>0.0</td>\n",
       "      <td>13.0</td>\n",
       "    </tr>\n",
       "    <tr>\n",
       "      <td>3</td>\n",
       "      <td>Afghanistan</td>\n",
       "      <td>4.0</td>\n",
       "      <td>8490</td>\n",
       "      <td>0.0</td>\n",
       "      <td>0.0</td>\n",
       "      <td>8.0</td>\n",
       "    </tr>\n",
       "    <tr>\n",
       "      <td>4</td>\n",
       "      <td>Afghanistan</td>\n",
       "      <td>5.0</td>\n",
       "      <td>4644</td>\n",
       "      <td>0.0</td>\n",
       "      <td>0.0</td>\n",
       "      <td>5.0</td>\n",
       "    </tr>\n",
       "  </tbody>\n",
       "</table>\n",
       "</div>"
      ],
      "text/plain": [
       "    Country/Region  Confirmed    SNo  Deaths  Recovered  Active\n",
       "0       Azerbaijan        1.0   2664     0.0        0.0     1.0\n",
       "1  ('St. Martin',)        2.0   4675     0.0        0.0     2.0\n",
       "2      Afghanistan        1.0  38707     0.0        0.0    13.0\n",
       "3      Afghanistan        4.0   8490     0.0        0.0     8.0\n",
       "4      Afghanistan        5.0   4644     0.0        0.0     5.0"
      ]
     },
     "execution_count": 33,
     "metadata": {},
     "output_type": "execute_result"
    }
   ],
   "source": [
    "df2_confirmed = df2.groupby(['Country/Region','Confirmed']).sum().reset_index()#.groupby('Country/Region')[[0]].max()\n",
    "df2_confirmed.head()"
   ]
  },
  {
   "cell_type": "code",
   "execution_count": 34,
   "metadata": {
    "scrolled": true
   },
   "outputs": [
    {
     "data": {
      "text/html": [
       "<div>\n",
       "<style scoped>\n",
       "    .dataframe tbody tr th:only-of-type {\n",
       "        vertical-align: middle;\n",
       "    }\n",
       "\n",
       "    .dataframe tbody tr th {\n",
       "        vertical-align: top;\n",
       "    }\n",
       "\n",
       "    .dataframe thead th {\n",
       "        text-align: right;\n",
       "    }\n",
       "</style>\n",
       "<table border=\"1\" class=\"dataframe\">\n",
       "  <thead>\n",
       "    <tr style=\"text-align: right;\">\n",
       "      <th></th>\n",
       "      <th>Province/State</th>\n",
       "      <th>Country/Region</th>\n",
       "      <th>Lat</th>\n",
       "      <th>Long</th>\n",
       "      <th>1/22/20</th>\n",
       "      <th>1/23/20</th>\n",
       "      <th>1/24/20</th>\n",
       "      <th>1/25/20</th>\n",
       "      <th>1/26/20</th>\n",
       "      <th>1/27/20</th>\n",
       "      <th>...</th>\n",
       "      <th>3/5/20</th>\n",
       "      <th>3/6/20</th>\n",
       "      <th>3/7/20</th>\n",
       "      <th>3/8/20</th>\n",
       "      <th>3/9/20</th>\n",
       "      <th>3/10/20</th>\n",
       "      <th>3/11/20</th>\n",
       "      <th>3/12/20</th>\n",
       "      <th>3/13/20</th>\n",
       "      <th>3/14/20</th>\n",
       "    </tr>\n",
       "  </thead>\n",
       "  <tbody>\n",
       "    <tr>\n",
       "      <td>0</td>\n",
       "      <td>NaN</td>\n",
       "      <td>Thailand</td>\n",
       "      <td>15.0</td>\n",
       "      <td>101.0</td>\n",
       "      <td>2</td>\n",
       "      <td>3</td>\n",
       "      <td>5</td>\n",
       "      <td>7</td>\n",
       "      <td>8</td>\n",
       "      <td>8</td>\n",
       "      <td>...</td>\n",
       "      <td>47</td>\n",
       "      <td>48</td>\n",
       "      <td>50</td>\n",
       "      <td>50</td>\n",
       "      <td>50</td>\n",
       "      <td>53</td>\n",
       "      <td>59</td>\n",
       "      <td>70</td>\n",
       "      <td>75</td>\n",
       "      <td>82</td>\n",
       "    </tr>\n",
       "    <tr>\n",
       "      <td>1</td>\n",
       "      <td>NaN</td>\n",
       "      <td>Japan</td>\n",
       "      <td>36.0</td>\n",
       "      <td>138.0</td>\n",
       "      <td>2</td>\n",
       "      <td>1</td>\n",
       "      <td>2</td>\n",
       "      <td>2</td>\n",
       "      <td>4</td>\n",
       "      <td>4</td>\n",
       "      <td>...</td>\n",
       "      <td>360</td>\n",
       "      <td>420</td>\n",
       "      <td>461</td>\n",
       "      <td>502</td>\n",
       "      <td>511</td>\n",
       "      <td>581</td>\n",
       "      <td>639</td>\n",
       "      <td>639</td>\n",
       "      <td>701</td>\n",
       "      <td>773</td>\n",
       "    </tr>\n",
       "  </tbody>\n",
       "</table>\n",
       "<p>2 rows × 57 columns</p>\n",
       "</div>"
      ],
      "text/plain": [
       "  Province/State Country/Region   Lat   Long  1/22/20  1/23/20  1/24/20  \\\n",
       "0            NaN       Thailand  15.0  101.0        2        3        5   \n",
       "1            NaN          Japan  36.0  138.0        2        1        2   \n",
       "\n",
       "   1/25/20  1/26/20  1/27/20  ...  3/5/20  3/6/20  3/7/20  3/8/20  3/9/20  \\\n",
       "0        7        8        8  ...      47      48      50      50      50   \n",
       "1        2        4        4  ...     360     420     461     502     511   \n",
       "\n",
       "   3/10/20  3/11/20  3/12/20  3/13/20  3/14/20  \n",
       "0       53       59       70       75       82  \n",
       "1      581      639      639      701      773  \n",
       "\n",
       "[2 rows x 57 columns]"
      ]
     },
     "execution_count": 34,
     "metadata": {},
     "output_type": "execute_result"
    }
   ],
   "source": [
    "df3 = pd.read_csv('time_series_covid_19_confirmed.csv')\n",
    "df3.head(2)"
   ]
  },
  {
   "cell_type": "code",
   "execution_count": 35,
   "metadata": {
    "scrolled": true
   },
   "outputs": [
    {
     "data": {
      "text/plain": [
       "US           246\n",
       "China         33\n",
       "Australia      9\n",
       "Canada         8\n",
       "France         5\n",
       "Name: Country/Region, dtype: int64"
      ]
     },
     "execution_count": 35,
     "metadata": {},
     "output_type": "execute_result"
    }
   ],
   "source": [
    "df3['Country/Region'].value_counts().head()"
   ]
  },
  {
   "cell_type": "code",
   "execution_count": 36,
   "metadata": {},
   "outputs": [
    {
     "data": {
      "text/html": [
       "<div>\n",
       "<style scoped>\n",
       "    .dataframe tbody tr th:only-of-type {\n",
       "        vertical-align: middle;\n",
       "    }\n",
       "\n",
       "    .dataframe tbody tr th {\n",
       "        vertical-align: top;\n",
       "    }\n",
       "\n",
       "    .dataframe thead th {\n",
       "        text-align: right;\n",
       "    }\n",
       "</style>\n",
       "<table border=\"1\" class=\"dataframe\">\n",
       "  <thead>\n",
       "    <tr style=\"text-align: right;\">\n",
       "      <th></th>\n",
       "      <th>Province/State</th>\n",
       "      <th>Country/Region</th>\n",
       "      <th>Lat</th>\n",
       "      <th>Long</th>\n",
       "      <th>1/22/20</th>\n",
       "      <th>1/23/20</th>\n",
       "      <th>1/24/20</th>\n",
       "      <th>1/25/20</th>\n",
       "      <th>1/26/20</th>\n",
       "      <th>1/27/20</th>\n",
       "      <th>...</th>\n",
       "      <th>3/5/20</th>\n",
       "      <th>3/6/20</th>\n",
       "      <th>3/7/20</th>\n",
       "      <th>3/8/20</th>\n",
       "      <th>3/9/20</th>\n",
       "      <th>3/10/20</th>\n",
       "      <th>3/11/20</th>\n",
       "      <th>3/12/20</th>\n",
       "      <th>3/13/20</th>\n",
       "      <th>3/14/20</th>\n",
       "    </tr>\n",
       "  </thead>\n",
       "  <tbody>\n",
       "    <tr>\n",
       "      <td>0</td>\n",
       "      <td>NaN</td>\n",
       "      <td>Thailand</td>\n",
       "      <td>15.0</td>\n",
       "      <td>101.0</td>\n",
       "      <td>0</td>\n",
       "      <td>0</td>\n",
       "      <td>0</td>\n",
       "      <td>0</td>\n",
       "      <td>0</td>\n",
       "      <td>0</td>\n",
       "      <td>...</td>\n",
       "      <td>1</td>\n",
       "      <td>1</td>\n",
       "      <td>1</td>\n",
       "      <td>1</td>\n",
       "      <td>1</td>\n",
       "      <td>1</td>\n",
       "      <td>1</td>\n",
       "      <td>1</td>\n",
       "      <td>1</td>\n",
       "      <td>1</td>\n",
       "    </tr>\n",
       "    <tr>\n",
       "      <td>1</td>\n",
       "      <td>NaN</td>\n",
       "      <td>Japan</td>\n",
       "      <td>36.0</td>\n",
       "      <td>138.0</td>\n",
       "      <td>0</td>\n",
       "      <td>0</td>\n",
       "      <td>0</td>\n",
       "      <td>0</td>\n",
       "      <td>0</td>\n",
       "      <td>0</td>\n",
       "      <td>...</td>\n",
       "      <td>6</td>\n",
       "      <td>6</td>\n",
       "      <td>6</td>\n",
       "      <td>6</td>\n",
       "      <td>10</td>\n",
       "      <td>10</td>\n",
       "      <td>15</td>\n",
       "      <td>16</td>\n",
       "      <td>19</td>\n",
       "      <td>22</td>\n",
       "    </tr>\n",
       "  </tbody>\n",
       "</table>\n",
       "<p>2 rows × 57 columns</p>\n",
       "</div>"
      ],
      "text/plain": [
       "  Province/State Country/Region   Lat   Long  1/22/20  1/23/20  1/24/20  \\\n",
       "0            NaN       Thailand  15.0  101.0        0        0        0   \n",
       "1            NaN          Japan  36.0  138.0        0        0        0   \n",
       "\n",
       "   1/25/20  1/26/20  1/27/20  ...  3/5/20  3/6/20  3/7/20  3/8/20  3/9/20  \\\n",
       "0        0        0        0  ...       1       1       1       1       1   \n",
       "1        0        0        0  ...       6       6       6       6      10   \n",
       "\n",
       "   3/10/20  3/11/20  3/12/20  3/13/20  3/14/20  \n",
       "0        1        1        1        1        1  \n",
       "1       10       15       16       19       22  \n",
       "\n",
       "[2 rows x 57 columns]"
      ]
     },
     "execution_count": 36,
     "metadata": {},
     "output_type": "execute_result"
    }
   ],
   "source": [
    "df4 = pd.read_csv('time_series_covid_19_deaths.csv')\n",
    "df4.head(2)"
   ]
  },
  {
   "cell_type": "code",
   "execution_count": 37,
   "metadata": {},
   "outputs": [
    {
     "data": {
      "text/html": [
       "<div>\n",
       "<style scoped>\n",
       "    .dataframe tbody tr th:only-of-type {\n",
       "        vertical-align: middle;\n",
       "    }\n",
       "\n",
       "    .dataframe tbody tr th {\n",
       "        vertical-align: top;\n",
       "    }\n",
       "\n",
       "    .dataframe thead th {\n",
       "        text-align: right;\n",
       "    }\n",
       "</style>\n",
       "<table border=\"1\" class=\"dataframe\">\n",
       "  <thead>\n",
       "    <tr style=\"text-align: right;\">\n",
       "      <th></th>\n",
       "      <th>Province/State</th>\n",
       "      <th>Country/Region</th>\n",
       "      <th>Lat</th>\n",
       "      <th>Long</th>\n",
       "      <th>1/22/20</th>\n",
       "      <th>1/23/20</th>\n",
       "      <th>1/24/20</th>\n",
       "      <th>1/25/20</th>\n",
       "      <th>1/26/20</th>\n",
       "      <th>1/27/20</th>\n",
       "      <th>...</th>\n",
       "      <th>3/5/20</th>\n",
       "      <th>3/6/20</th>\n",
       "      <th>3/7/20</th>\n",
       "      <th>3/8/20</th>\n",
       "      <th>3/9/20</th>\n",
       "      <th>3/10/20</th>\n",
       "      <th>3/11/20</th>\n",
       "      <th>3/12/20</th>\n",
       "      <th>3/13/20</th>\n",
       "      <th>3/14/20</th>\n",
       "    </tr>\n",
       "  </thead>\n",
       "  <tbody>\n",
       "    <tr>\n",
       "      <td>0</td>\n",
       "      <td>NaN</td>\n",
       "      <td>Thailand</td>\n",
       "      <td>15.0</td>\n",
       "      <td>101.0</td>\n",
       "      <td>0</td>\n",
       "      <td>0</td>\n",
       "      <td>0</td>\n",
       "      <td>0</td>\n",
       "      <td>2</td>\n",
       "      <td>2</td>\n",
       "      <td>...</td>\n",
       "      <td>31</td>\n",
       "      <td>31</td>\n",
       "      <td>31</td>\n",
       "      <td>31</td>\n",
       "      <td>31</td>\n",
       "      <td>33</td>\n",
       "      <td>34</td>\n",
       "      <td>34</td>\n",
       "      <td>35</td>\n",
       "      <td>35</td>\n",
       "    </tr>\n",
       "    <tr>\n",
       "      <td>1</td>\n",
       "      <td>NaN</td>\n",
       "      <td>Japan</td>\n",
       "      <td>36.0</td>\n",
       "      <td>138.0</td>\n",
       "      <td>0</td>\n",
       "      <td>0</td>\n",
       "      <td>0</td>\n",
       "      <td>0</td>\n",
       "      <td>1</td>\n",
       "      <td>1</td>\n",
       "      <td>...</td>\n",
       "      <td>43</td>\n",
       "      <td>46</td>\n",
       "      <td>76</td>\n",
       "      <td>76</td>\n",
       "      <td>76</td>\n",
       "      <td>101</td>\n",
       "      <td>118</td>\n",
       "      <td>118</td>\n",
       "      <td>118</td>\n",
       "      <td>118</td>\n",
       "    </tr>\n",
       "  </tbody>\n",
       "</table>\n",
       "<p>2 rows × 57 columns</p>\n",
       "</div>"
      ],
      "text/plain": [
       "  Province/State Country/Region   Lat   Long  1/22/20  1/23/20  1/24/20  \\\n",
       "0            NaN       Thailand  15.0  101.0        0        0        0   \n",
       "1            NaN          Japan  36.0  138.0        0        0        0   \n",
       "\n",
       "   1/25/20  1/26/20  1/27/20  ...  3/5/20  3/6/20  3/7/20  3/8/20  3/9/20  \\\n",
       "0        0        2        2  ...      31      31      31      31      31   \n",
       "1        0        1        1  ...      43      46      76      76      76   \n",
       "\n",
       "   3/10/20  3/11/20  3/12/20  3/13/20  3/14/20  \n",
       "0       33       34       34       35       35  \n",
       "1      101      118      118      118      118  \n",
       "\n",
       "[2 rows x 57 columns]"
      ]
     },
     "execution_count": 37,
     "metadata": {},
     "output_type": "execute_result"
    }
   ],
   "source": [
    "df5 = pd.read_csv('time_series_covid_19_recovered.csv')\n",
    "df5.head(2)"
   ]
  },
  {
   "cell_type": "code",
   "execution_count": null,
   "metadata": {},
   "outputs": [],
   "source": []
  }
 ],
 "metadata": {
  "kernelspec": {
   "display_name": "Python 3",
   "language": "python",
   "name": "python3"
  },
  "language_info": {
   "codemirror_mode": {
    "name": "ipython",
    "version": 3
   },
   "file_extension": ".py",
   "mimetype": "text/x-python",
   "name": "python",
   "nbconvert_exporter": "python",
   "pygments_lexer": "ipython3",
   "version": "3.7.4"
  }
 },
 "nbformat": 4,
 "nbformat_minor": 2
}
